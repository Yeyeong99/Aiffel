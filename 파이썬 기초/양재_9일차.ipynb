{
  "nbformat": 4,
  "nbformat_minor": 0,
  "metadata": {
    "colab": {
      "name": "양재 9일차.ipynb",
      "provenance": [],
      "authorship_tag": "ABX9TyPlTKK6S2IX2NyX0mTq0Os5",
      "include_colab_link": true
    },
    "kernelspec": {
      "name": "python3",
      "display_name": "Python 3"
    },
    "language_info": {
      "name": "python"
    }
  },
  "cells": [
    {
      "cell_type": "markdown",
      "metadata": {
        "id": "view-in-github",
        "colab_type": "text"
      },
      "source": [
        "<a href=\"https://colab.research.google.com/github/Yeyeong99/Aiffel/blob/main/%ED%8C%8C%EC%9D%B4%EC%8D%AC%20%EA%B8%B0%EC%B4%88/%EC%96%91%EC%9E%AC_9%EC%9D%BC%EC%B0%A8.ipynb\" target=\"_parent\"><img src=\"https://colab.research.google.com/assets/colab-badge.svg\" alt=\"Open In Colab\"/></a>"
      ]
    },
    {
      "cell_type": "markdown",
      "source": [
        "### 이터레이터\n",
        "\n",
        "[코딩도장](https://dojang.io/mod/page/view.php?id=2410)"
      ],
      "metadata": {
        "id": "X2dy0a7cCOfO"
      }
    },
    {
      "cell_type": "code",
      "execution_count": 8,
      "metadata": {
        "colab": {
          "base_uri": "https://localhost:8080/"
        },
        "id": "IS9YTq0uCKyv",
        "outputId": "d48d08f7-90a6-481a-fc38-fb1b3cb9e794"
      },
      "outputs": [
        {
          "output_type": "stream",
          "name": "stdout",
          "text": [
            "<class 'int'>\n",
            "2\n",
            "3\n"
          ]
        }
      ],
      "source": [
        "it = [1, 2, 3].__iter__()\n",
        "print(type(it.__next__()))\n",
        "print(it.__next__())\n",
        "print(it.__next__())\n"
      ]
    },
    {
      "cell_type": "code",
      "source": [
        "class MultipleIterator:\n",
        "    def __init__(self, stop, multiple):\n",
        "        self.stop = stop\n",
        "        self.multiple = multiple           \n",
        "        self.current = 0\n",
        "\n",
        "    def __iter__(self):\n",
        "        return self\n",
        " \n",
        "    def __next__(self):\n",
        "        self.current += 1\n",
        "        if self.current * self.multiple < self.stop:\n",
        "          return self.current * self.multiple\n",
        "        else:\n",
        "          raise StopIteration\n",
        "                                                     \n",
        " \n",
        "for i in MultipleIterator(20, 3):\n",
        "    print(i, end=' ')\n",
        " \n",
        "print()\n",
        "for i in MultipleIterator(30, 5):\n",
        "    print(i, end=' ')"
      ],
      "metadata": {
        "colab": {
          "base_uri": "https://localhost:8080/"
        },
        "id": "D9TXVqQPCWRz",
        "outputId": "7dc743f8-bc96-471d-ab1b-a70fd0b019b0"
      },
      "execution_count": 9,
      "outputs": [
        {
          "output_type": "stream",
          "name": "stdout",
          "text": [
            "3 6 9 12 15 18 \n",
            "5 10 15 20 25 "
          ]
        }
      ]
    },
    {
      "cell_type": "code",
      "source": [
        "class TimeIterator:\n",
        "  def __init__(self, start, stop):\n",
        "    self.start = start\n",
        "    self.stop = stop\n",
        "\n",
        "  def __getitem__(self, index):\n",
        "    hour = (self.start + index) // 60 // 60 % 24\n",
        "    min = (self.start + index) // 60 % 60\n",
        "    sec = (self.start + index) % 60\n",
        "    if index < self.stop - self.start:\n",
        "      return '{0:02d}:{1:02d}:{2:02d}'.format(hour, min, sec)\n",
        "    else:\n",
        "      raise IndexError"
      ],
      "metadata": {
        "id": "4SUl6atsKDde"
      },
      "execution_count": null,
      "outputs": []
    },
    {
      "cell_type": "markdown",
      "source": [
        "### 제너레이터\n",
        "- [코딩도장](https://dojang.io/mod/quiz/review.php?attempt=1648306&cmid=2417)\n",
        "\n",
        "- [답 출처](https://freedeveloper.tistory.com/330)"
      ],
      "metadata": {
        "id": "gidPaANgP8An"
      }
    },
    {
      "cell_type": "code",
      "source": [
        "def prime_number_generator(start, stop):\n",
        "  for n in range(start, stop):\n",
        "    # 소수여부 확인용 변수 생성\n",
        "    is_prime = True\n",
        "    # start 부터 stop의 모든 수에 대해 소수여부 확인\n",
        "    for i in range(2, n):\n",
        "      # 만약 소수가 아니면 소수여부 False 처리\n",
        "      if n % i == 0:\n",
        "        is_prime = False\n",
        "    # 소수여부 확인된 값만 전달\n",
        "    if is_prime:\n",
        "      yield n"
      ],
      "metadata": {
        "id": "G6jBgGVkQAsb"
      },
      "execution_count": null,
      "outputs": []
    }
  ]
}