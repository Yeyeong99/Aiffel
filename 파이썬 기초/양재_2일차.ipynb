{
  "nbformat": 4,
  "nbformat_minor": 0,
  "metadata": {
    "colab": {
      "name": "양재 2일차.ipynb",
      "provenance": [],
      "authorship_tag": "ABX9TyOYGkspTZZUmtI0NY0BVPPm",
      "include_colab_link": true
    },
    "kernelspec": {
      "name": "python3",
      "display_name": "Python 3"
    },
    "language_info": {
      "name": "python"
    }
  },
  "cells": [
    {
      "cell_type": "markdown",
      "metadata": {
        "id": "view-in-github",
        "colab_type": "text"
      },
      "source": [
        "<a href=\"https://colab.research.google.com/github/Yeyeong99/Aiffel/blob/main/%EC%96%91%EC%9E%AC_2%EC%9D%BC%EC%B0%A8.ipynb\" target=\"_parent\"><img src=\"https://colab.research.google.com/assets/colab-badge.svg\" alt=\"Open In Colab\"/></a>"
      ]
    },
    {
      "cell_type": "code",
      "execution_count": null,
      "metadata": {
        "id": "2OctKVbLF0H9"
      },
      "outputs": [],
      "source": [
        "score = int(input())\n",
        "\n",
        "if score >= 90:\n",
        "  print('A')\n",
        "elif score >= 70:\n",
        "  print('B')\n",
        "elif score >= 40:\n",
        "  print('C')\n",
        "else:\n",
        "  print('D')"
      ]
    },
    {
      "cell_type": "code",
      "source": [
        "number = int(input())\n",
        "\n",
        "while number !=0:\n",
        "    print(number)\n",
        "    number -= 1"
      ],
      "metadata": {
        "id": "pPoLaPEhG3jS"
      },
      "execution_count": null,
      "outputs": []
    },
    {
      "cell_type": "code",
      "source": [
        "while True:\n",
        "    a, b = map(int,  input().split())\n",
        "    if a == 0 and b ==0:\n",
        "        break\n",
        "    print(a+b)\n",
        "    "
      ],
      "metadata": {
        "colab": {
          "base_uri": "https://localhost:8080/"
        },
        "id": "gtnaZSEHG38S",
        "outputId": "af0e8d32-b581-49d8-d72a-15a24a1e999c"
      },
      "execution_count": null,
      "outputs": [
        {
          "name": "stdout",
          "output_type": "stream",
          "text": [
            "1 2\n",
            "3\n",
            "0 0\n"
          ]
        }
      ]
    }
  ]
}
