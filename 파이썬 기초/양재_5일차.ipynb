{
  "nbformat": 4,
  "nbformat_minor": 0,
  "metadata": {
    "colab": {
      "name": "양재 5일차.ipynb",
      "provenance": [],
      "authorship_tag": "ABX9TyMCOPk5QLktIf5M53xRrxOE",
      "include_colab_link": true
    },
    "kernelspec": {
      "name": "python3",
      "display_name": "Python 3"
    },
    "language_info": {
      "name": "python"
    }
  },
  "cells": [
    {
      "cell_type": "markdown",
      "metadata": {
        "id": "view-in-github",
        "colab_type": "text"
      },
      "source": [
        "<a href=\"https://colab.research.google.com/github/Yeyeong99/Aiffel/blob/main/%EC%96%91%EC%9E%AC_5%EC%9D%BC%EC%B0%A8.ipynb\" target=\"_parent\"><img src=\"https://colab.research.google.com/assets/colab-badge.svg\" alt=\"Open In Colab\"/></a>"
      ]
    },
    {
      "cell_type": "markdown",
      "source": [
        "### 코딩도장 34"
      ],
      "metadata": {
        "id": "LcqNl9oVWjfS"
      }
    },
    {
      "cell_type": "code",
      "execution_count": 1,
      "metadata": {
        "colab": {
          "base_uri": "https://localhost:8080/"
        },
        "id": "0B3hN2rMVv1h",
        "outputId": "5d8427b1-5efe-4cc4-8df7-419b705252e2"
      },
      "outputs": [
        {
          "output_type": "stream",
          "name": "stdout",
          "text": [
            "542.4 210.3 38\n",
            "베기\n"
          ]
        }
      ],
      "source": [
        "class Knight:\n",
        "  def __init__(self, health, mana, armor):\n",
        "    self.health = health\n",
        "    self.mana = mana\n",
        "    self.armor = armor\n",
        "  def slash(self):\n",
        "    print('베기')\n",
        "\n",
        "x = Knight(health=542.4, mana=210.3, armor=38)\n",
        "print(x.health, x.mana, x.armor)\n",
        "x.slash()"
      ]
    },
    {
      "cell_type": "code",
      "source": [
        "class Annie:\n",
        "  def __init__(self, health, mana, ability_power):\n",
        "    self.health = health\n",
        "    self.mana = mana\n",
        "    self.ability_power = ability_power\n",
        "  def tibbers(self):\n",
        "    print('티버: 피해량', self.ability_power * 0.65 + 400)\n",
        "\n",
        "health, mana, ability_power = map(float, input().split())\n",
        "x = Annie(health=health, mana=mana, ability_power=ability_power)\n",
        "x.tibbers()"
      ],
      "metadata": {
        "colab": {
          "base_uri": "https://localhost:8080/"
        },
        "id": "Ycjb0URHWXER",
        "outputId": "b4258eb0-4a4b-4a05-b92b-7be1cb7412e5"
      },
      "execution_count": 3,
      "outputs": [
        {
          "output_type": "stream",
          "name": "stdout",
          "text": [
            "122 112 122\n",
            "티버: 피해량 479.3\n"
          ]
        }
      ]
    },
    {
      "cell_type": "markdown",
      "source": [
        "### 코딩도장 35"
      ],
      "metadata": {
        "id": "sqSKfijAasHg"
      }
    },
    {
      "cell_type": "code",
      "source": [
        "class Date:\n",
        "  @staticmethod\n",
        "  def is_date_valid(date_str):\n",
        "    year, month, day = map(int, date_str.split('-'))\n",
        "    return month <= 12 and day <= 31\n",
        "\n",
        "if Date.is_date_valid('2000-10-31'):\n",
        "    print('올바른 날짜 형식입니다.')\n",
        "else:\n",
        "    print('잘못된 날짜 형식입니다.')"
      ],
      "metadata": {
        "colab": {
          "base_uri": "https://localhost:8080/"
        },
        "id": "Smzxb88PXidm",
        "outputId": "26194488-2e0d-40c3-f3d8-3d5429af82a5"
      },
      "execution_count": 4,
      "outputs": [
        {
          "output_type": "stream",
          "name": "stdout",
          "text": [
            "올바른 날짜 형식입니다.\n"
          ]
        }
      ]
    },
    {
      "cell_type": "code",
      "source": [
        "class Time:\n",
        "    def __init__(self, hour, minute, second):\n",
        "        self.hour = hour\n",
        "        self.minute = minute\n",
        "        self.second = second\n",
        "\n",
        "    @classmethod\n",
        "    def from_string(cls, time_str):\n",
        "      hour, minute, second = map(int, time_str.split(':'))\n",
        "      time = cls(hour, minute, second)\n",
        "      return time\n",
        "\n",
        "    @staticmethod\n",
        "    def is_time_valid(time_str):\n",
        "      hour, minute, second = map(int, time_str.split(':'))\n",
        "      return hour <= 24 and minute <= 59 and second <= 60\n",
        "\n",
        "time_string = input()\n",
        " \n",
        "if Time.is_time_valid(time_string):\n",
        "    t = Time.from_string(time_string)\n",
        "    print(t.hour, t.minute, t.second)\n",
        "else:\n",
        "    print('잘못된 시간 형식입니다.')"
      ],
      "metadata": {
        "colab": {
          "base_uri": "https://localhost:8080/"
        },
        "id": "JOJqJC3obT4J",
        "outputId": "72299ec5-31f8-41d2-ae0c-c4ca81414a5b"
      },
      "execution_count": 5,
      "outputs": [
        {
          "output_type": "stream",
          "name": "stdout",
          "text": [
            "12:22:852\n",
            "잘못된 시간 형식입니다.\n"
          ]
        }
      ]
    },
    {
      "cell_type": "markdown",
      "source": [
        "### 팩토리얼\n",
        "[링크](https://www.acmicpc.net/problem/10872)"
      ],
      "metadata": {
        "id": "zPr0fMhYkYFa"
      }
    },
    {
      "cell_type": "code",
      "source": [
        "def factorial(n):\n",
        "  if n <= 1:\n",
        "    return 1\n",
        "  else:\n",
        "    return n * factorial(n-1)\n",
        "\n",
        "num = int(input())\n",
        "print(factorial(num))"
      ],
      "metadata": {
        "colab": {
          "base_uri": "https://localhost:8080/"
        },
        "id": "AP3qrku5eIww",
        "outputId": "7cb8af78-7339-4e45-e60a-306a0a3dd33c"
      },
      "execution_count": 6,
      "outputs": [
        {
          "output_type": "stream",
          "name": "stdout",
          "text": [
            "10\n",
            "3628800\n"
          ]
        }
      ]
    },
    {
      "cell_type": "markdown",
      "source": [
        "### 소수 구하기\n",
        "[링크](https://programmers.co.kr/learn/courses/30/lessons/12921?language=python3)\n",
        "\n",
        "[에라토스테네스의 체](https://wikidocs.net/21638)"
      ],
      "metadata": {
        "id": "7Oj6PwlElEBU"
      }
    },
    {
      "cell_type": "code",
      "source": [
        "def solution(n):\n",
        "    return len(list(filter(lambda x: x/x==1 and x != 1, list(range(1, n+1)))))\n",
        "\n",
        "solution(10)"
      ],
      "metadata": {
        "colab": {
          "base_uri": "https://localhost:8080/"
        },
        "id": "RFjxJFLDk2Ap",
        "outputId": "3fb367a0-a68e-459f-f457-8ac278f5bbdb"
      },
      "execution_count": 7,
      "outputs": [
        {
          "output_type": "execute_result",
          "data": {
            "text/plain": [
              "9"
            ]
          },
          "metadata": {},
          "execution_count": 7
        }
      ]
    },
    {
      "cell_type": "code",
      "source": [
        "def solution(n): \n",
        "  num_list = list(range(1, n+1))\n",
        "  answer = []\n",
        "  for i in num_list:\n",
        "    result = []\n",
        "    for j in range(1, i+1):\n",
        "      if i % j == 0:\n",
        "        result.append(j)\n",
        "    if len(result) == 2:\n",
        "      answer.append(i)\n",
        "  return len(answer)\n",
        "\n",
        "solution(10)"
      ],
      "metadata": {
        "colab": {
          "base_uri": "https://localhost:8080/"
        },
        "id": "laYMaTBVm1My",
        "outputId": "d4de7923-17bf-495b-e879-01c75d9d3df3"
      },
      "execution_count": 8,
      "outputs": [
        {
          "output_type": "execute_result",
          "data": {
            "text/plain": [
              "4"
            ]
          },
          "metadata": {},
          "execution_count": 8
        }
      ]
    },
    {
      "cell_type": "code",
      "source": [
        "# 에라토스테네스의 체\n",
        "def solution(n):\n",
        "    num=set(range(2,n+1))\n",
        "\n",
        "    for i in range(2,n+1):\n",
        "        if i in num:\n",
        "            num-=set(range(2*i,n+1,i))\n",
        "    return len(num)"
      ],
      "metadata": {
        "id": "zoEZ8LCwnsiY"
      },
      "execution_count": 9,
      "outputs": []
    },
    {
      "cell_type": "markdown",
      "source": [
        "### 좌표 정렬하기\n",
        "[링크](https://www.acmicpc.net/problem/11650)\n",
        "\n",
        "> input 이용 시 시간초과"
      ],
      "metadata": {
        "id": "TpI9XkVEpMi_"
      }
    },
    {
      "cell_type": "code",
      "source": [
        "import sys\n",
        "n = int(sys.stdin.readline())\n",
        "\n",
        "spot = [list(map(int, sys.stdin.readline().split())) for i in range(n)]\n",
        "spot.sort()\n",
        "for x,y in spot:\n",
        "  print(x, y)"
      ],
      "metadata": {
        "id": "8B7jpbz-pR4R"
      },
      "execution_count": null,
      "outputs": []
    }
  ]
}
