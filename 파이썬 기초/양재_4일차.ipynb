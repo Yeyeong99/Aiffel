{
  "nbformat": 4,
  "nbformat_minor": 0,
  "metadata": {
    "colab": {
      "name": "양재 4일차.ipynb",
      "provenance": [],
      "collapsed_sections": [],
      "authorship_tag": "ABX9TyOR+FNvQ7T9Ma1qDCvEhPAZ",
      "include_colab_link": true
    },
    "kernelspec": {
      "name": "python3",
      "display_name": "Python 3"
    },
    "language_info": {
      "name": "python"
    }
  },
  "cells": [
    {
      "cell_type": "markdown",
      "metadata": {
        "id": "view-in-github",
        "colab_type": "text"
      },
      "source": [
        "<a href=\"https://colab.research.google.com/github/Yeyeong99/Aiffel/blob/main/%EC%96%91%EC%9E%AC_4%EC%9D%BC%EC%B0%A8.ipynb\" target=\"_parent\"><img src=\"https://colab.research.google.com/assets/colab-badge.svg\" alt=\"Open In Colab\"/></a>"
      ]
    },
    {
      "cell_type": "markdown",
      "source": [
        "### LMS"
      ],
      "metadata": {
        "id": "nmVW025VBMhF"
      }
    },
    {
      "cell_type": "code",
      "execution_count": null,
      "metadata": {
        "colab": {
          "base_uri": "https://localhost:8080/"
        },
        "id": "Gh1qg01rE3bX",
        "outputId": "7056affa-73a4-44d4-adb8-fd890f3da031"
      },
      "outputs": [
        {
          "output_type": "stream",
          "name": "stdout",
          "text": [
            "2\n",
            "3\n",
            "5\n",
            " \n",
            "숫자를 입력해주세요\n",
            "\n",
            "average:  3.3333333333333335\n",
            "10 3\n"
          ]
        }
      ],
      "source": [
        "total = 0\n",
        "count = 0\n",
        "\n",
        "\n",
        "while True:\n",
        "  num = input()\n",
        "  if num == \"\":\n",
        "    break\n",
        "  else:\n",
        "    try:\n",
        "      total += int(num)\n",
        "      count += 1\n",
        "    except ValueError: \n",
        "      #Value error 일 때도 count += 1이 실행됨.. \n",
        "      # => count를 total보다 위에 써서 count 가 먼저 실행되고 total이 실행됨 \n",
        "      # 그 시점에서 except가 걸리기 때문에 count는 올라가고 total은 실행되지 않음!\n",
        "      print(\"숫자를 입력해주세요\")\n",
        "print(\"average: \", total/count)\n",
        "print(total, count)\n"
      ]
    },
    {
      "cell_type": "code",
      "source": [
        "n = list(map(int, input().split()))\n",
        "n.sort()\n",
        "if len(n) % 2 == 1:\n",
        "  md_index = len(n) // 2\n",
        "  md = n[md_index]\n",
        "else:\n",
        "  md = (n[len(n)/2] + n[len(n)/2 + 1]) / 2\n",
        "\n",
        "print(md)"
      ],
      "metadata": {
        "id": "wGSmFTM5FpoG",
        "colab": {
          "base_uri": "https://localhost:8080/"
        },
        "outputId": "21dcce99-a2aa-4532-bc70-ab088a7eb79a"
      },
      "execution_count": null,
      "outputs": [
        {
          "output_type": "stream",
          "name": "stdout",
          "text": [
            "1 2 3\n",
            "2\n"
          ]
        }
      ]
    },
    {
      "cell_type": "markdown",
      "source": [
        "### 코딩도장"
      ],
      "metadata": {
        "id": "cczQwK5LBRLT"
      }
    },
    {
      "cell_type": "code",
      "source": [
        "def get(*args):\n",
        "  return args\n",
        "type(get(1,2,3))"
      ],
      "metadata": {
        "id": "RWXNaO9YIvcE",
        "colab": {
          "base_uri": "https://localhost:8080/"
        },
        "outputId": "67858ad6-011e-4347-b12f-6bcea1c3b9b3"
      },
      "execution_count": null,
      "outputs": [
        {
          "output_type": "execute_result",
          "data": {
            "text/plain": [
              "tuple"
            ]
          },
          "metadata": {},
          "execution_count": 2
        }
      ]
    },
    {
      "cell_type": "code",
      "source": [
        "def fib(n):\n",
        "    if n <= 1:\n",
        "        return n\n",
        "    elif n == 2:\n",
        "        return 1\n",
        "    else:\n",
        "        return fib(n-2) + fib(n-1)\n",
        "fib(20)"
      ],
      "metadata": {
        "colab": {
          "base_uri": "https://localhost:8080/"
        },
        "id": "FSSr39JV5rIV",
        "outputId": "9a7b81c9-2a4d-41a0-d79b-a626f5e60766"
      },
      "execution_count": null,
      "outputs": [
        {
          "output_type": "execute_result",
          "data": {
            "text/plain": [
              "6765"
            ]
          },
          "metadata": {},
          "execution_count": 13
        }
      ]
    },
    {
      "cell_type": "code",
      "source": [
        "files = ['font', '1.png', '10.jpg', '11.gif', '2.jpg', '3.png', 'table.xslx', 'spec.docx']\n",
        "print(list(filter(lambda i: i.endswith('jpg') or i.endswith('png'), files)))\n"
      ],
      "metadata": {
        "colab": {
          "base_uri": "https://localhost:8080/"
        },
        "id": "tGmUDwwc82Ru",
        "outputId": "07741e9c-5fe6-46e1-a84b-5b683074a855"
      },
      "execution_count": null,
      "outputs": [
        {
          "output_type": "stream",
          "name": "stdout",
          "text": [
            "['1.png', '10.jpg', '2.jpg', '3.png']\n"
          ]
        }
      ]
    },
    {
      "cell_type": "code",
      "source": [
        "files = input().split()\n",
        "# 문자열 포매팅 사용 안함\n",
        "print(list(map(lambda x: '0'*(3-len(x.split('.')[0]))+str(x.split('.')[0])+'.'+x.split('.')[1] , files)))\n",
        "# 문자열 포매팅 사용\n",
        "print(list (map(lambda x : '{0:03d}.{1}'.format(int(x.split('.')[0]), x.split('.')[1]), files) ))"
      ],
      "metadata": {
        "colab": {
          "base_uri": "https://localhost:8080/"
        },
        "id": "cN7iusSlAqr3",
        "outputId": "7a21bf68-36c0-47a0-fcfa-826d6811db7a"
      },
      "execution_count": null,
      "outputs": [
        {
          "output_type": "stream",
          "name": "stdout",
          "text": [
            "1.jpg 10.png 11.png 2.jpg 3.png\n",
            "['001.jpg', '010.png', '011.png', '002.jpg', '003.png']\n",
            "['001.jpg', '010.png', '011.png', '002.jpg', '003.png']\n"
          ]
        }
      ]
    },
    {
      "cell_type": "code",
      "source": [
        "x = [1,2,3]\n",
        "list(map(lambda x: x+1, x))"
      ],
      "metadata": {
        "colab": {
          "base_uri": "https://localhost:8080/"
        },
        "id": "cStE06P9CMVO",
        "outputId": "5030a931-9b6f-4cac-dcc1-e6fe6f6864e4"
      },
      "execution_count": null,
      "outputs": [
        {
          "output_type": "execute_result",
          "data": {
            "text/plain": [
              "[2, 3, 4]"
            ]
          },
          "metadata": {},
          "execution_count": 36
        }
      ]
    },
    {
      "cell_type": "markdown",
      "source": [
        "[코드업](https://codeup.kr/status.php?user_id=helloworld1)"
      ],
      "metadata": {
        "id": "9hGs7f49WjN9"
      }
    },
    {
      "cell_type": "code",
      "source": [
        "n = int(input())\n",
        "result = 0\n",
        "i = 1\n",
        "while True:\n",
        "  result += i\n",
        "  if result >= n:\n",
        "    print(result)\n",
        "    break\n",
        "\n",
        "  i += 1"
      ],
      "metadata": {
        "colab": {
          "base_uri": "https://localhost:8080/"
        },
        "id": "7ofwq5UaRufn",
        "outputId": "ea9c1cef-94ab-4635-eb9b-a95c745506e0"
      },
      "execution_count": null,
      "outputs": [
        {
          "output_type": "stream",
          "name": "stdout",
          "text": [
            "1\n",
            "1\n"
          ]
        }
      ]
    },
    {
      "cell_type": "markdown",
      "source": [
        ""
      ],
      "metadata": {
        "id": "vYPAqWGzWtGy"
      }
    },
    {
      "cell_type": "code",
      "source": [
        "int('-232')"
      ],
      "metadata": {
        "colab": {
          "base_uri": "https://localhost:8080/"
        },
        "id": "hVHE0fArWH7B",
        "outputId": "c16e2e01-6fb5-458f-e667-1f6dffc5f9f9"
      },
      "execution_count": null,
      "outputs": [
        {
          "output_type": "execute_result",
          "data": {
            "text/plain": [
              "-232"
            ]
          },
          "metadata": {},
          "execution_count": 37
        }
      ]
    },
    {
      "cell_type": "code",
      "source": [
        "def strToInt(string):\n",
        "    result = 0\n",
        "\n",
        "    for idx, number in enumerate(string[::-1]):\n",
        "        if number == '-':\n",
        "            result *= -1\n",
        "        else:\n",
        "            result += int(number) * (10 ** idx)\n",
        "\n",
        "    return result\n",
        "\n",
        "\n",
        "# 아래는 테스트로 출력해 보기 위한 코드입니다.\n",
        "print(strToInt(\"-1234\"));"
      ],
      "metadata": {
        "colab": {
          "base_uri": "https://localhost:8080/"
        },
        "id": "Y_8fghMPXWj9",
        "outputId": "c2a598b4-802f-40f8-8886-36f4c12b755d"
      },
      "execution_count": null,
      "outputs": [
        {
          "output_type": "stream",
          "name": "stdout",
          "text": [
            "4321-\n",
            "-1234\n"
          ]
        }
      ]
    },
    {
      "cell_type": "markdown",
      "source": [
        "[프로그래머스1](https://programmers.co.kr/learn/courses/30/lessons/12919)\n",
        "\n",
        "[프로그래머스2](https://programmers.co.kr/learn/courses/30/lessons/12903)"
      ],
      "metadata": {
        "id": "TI2t1pNCZbXG"
      }
    },
    {
      "cell_type": "code",
      "source": [
        "def findKim(seoul):\n",
        "    return \"김서방은 {}에 있다\".format(seoul.index('Kim'))"
      ],
      "metadata": {
        "id": "ByIws3WZX71l"
      },
      "execution_count": null,
      "outputs": []
    },
    {
      "cell_type": "code",
      "source": [
        "def solution(s):\n",
        "    return s[len(s)//2] if len(s) % 2 == 1 else s[len(s)//2-1:len(s)//2+1]"
      ],
      "metadata": {
        "id": "ln8Xt6pYat3U"
      },
      "execution_count": null,
      "outputs": []
    },
    {
      "cell_type": "code",
      "source": [
        "a = [1,2,3]\n",
        "list(filter(lambda x: x%2,a))"
      ],
      "metadata": {
        "colab": {
          "base_uri": "https://localhost:8080/"
        },
        "id": "uuUR2Hf4lKk8",
        "outputId": "0ce79551-c576-439b-d86b-05b0eecef8d4"
      },
      "execution_count": null,
      "outputs": [
        {
          "output_type": "execute_result",
          "data": {
            "text/plain": [
              "[1, 3]"
            ]
          },
          "metadata": {},
          "execution_count": 43
        }
      ]
    },
    {
      "cell_type": "code",
      "source": [
        ""
      ],
      "metadata": {
        "id": "nvp00lCtlYWH"
      },
      "execution_count": null,
      "outputs": []
    }
  ]
}
