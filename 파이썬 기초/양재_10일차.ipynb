{
  "nbformat": 4,
  "nbformat_minor": 0,
  "metadata": {
    "colab": {
      "name": "양재 10일차.ipynb",
      "provenance": [],
      "authorship_tag": "ABX9TyMevgcidPpEjnHjMqxb7dSG",
      "include_colab_link": true
    },
    "kernelspec": {
      "name": "python3",
      "display_name": "Python 3"
    },
    "language_info": {
      "name": "python"
    }
  },
  "cells": [
    {
      "cell_type": "markdown",
      "metadata": {
        "id": "view-in-github",
        "colab_type": "text"
      },
      "source": [
        "<a href=\"https://colab.research.google.com/github/Yeyeong99/Aiffel/blob/main/%ED%8C%8C%EC%9D%B4%EC%8D%AC%20%EA%B8%B0%EC%B4%88/%EC%96%91%EC%9E%AC_10%EC%9D%BC%EC%B0%A8.ipynb\" target=\"_parent\"><img src=\"https://colab.research.google.com/assets/colab-badge.svg\" alt=\"Open In Colab\"/></a>"
      ]
    },
    {
      "cell_type": "markdown",
      "source": [
        "## n면체 주사위 만들기"
      ],
      "metadata": {
        "id": "r_vJy1-V3CSP"
      }
    },
    {
      "cell_type": "code",
      "execution_count": 4,
      "metadata": {
        "colab": {
          "base_uri": "https://localhost:8080/"
        },
        "id": "tXLhIqfE24db",
        "outputId": "f469ab82-99bb-4f37-bf01-a25bc44c8fd1"
      },
      "outputs": [
        {
          "output_type": "stream",
          "name": "stdout",
          "text": [
            "5\n",
            "행운의 숫자는? 4\n"
          ]
        }
      ],
      "source": [
        "from random import randrange\n",
        "\n",
        "class FunnyDice:\n",
        "    def __init__(self, n=6):\n",
        "            self.n = int(n)\n",
        "            self.val = randrange(1, self.n+1)\n",
        "    \n",
        "    def throw(self):\n",
        "        self.val = randrange(1, self.n+1)\n",
        "    \n",
        "    def getval(self):\n",
        "        return self.val\n",
        "\n",
        "    def setval(self, val: int):\n",
        "        if val <= self.n:\n",
        "          self.val = val\n",
        "        else:\n",
        "          msg = \"주사위 숫자 범위를 벗어났습니다.\"\n",
        "          raise ValueError(msg)\n",
        "\n",
        "def main():\n",
        "    n = int(input())\n",
        "    mydice = FunnyDice(n)\n",
        "    mydice.throw()\n",
        "    print(\"행운의 숫자는? {}\".format(mydice.getval()))\n",
        "\n",
        "main()"
      ]
    }
  ]
}