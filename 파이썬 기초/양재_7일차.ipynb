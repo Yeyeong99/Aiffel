{
  "nbformat": 4,
  "nbformat_minor": 0,
  "metadata": {
    "colab": {
      "name": "양재 7일차.ipynb",
      "provenance": [],
      "collapsed_sections": [],
      "authorship_tag": "ABX9TyMmdVwIby7Oqha12+OJP+Jb",
      "include_colab_link": true
    },
    "kernelspec": {
      "name": "python3",
      "display_name": "Python 3"
    },
    "language_info": {
      "name": "python"
    }
  },
  "cells": [
    {
      "cell_type": "markdown",
      "metadata": {
        "id": "view-in-github",
        "colab_type": "text"
      },
      "source": [
        "<a href=\"https://colab.research.google.com/github/Yeyeong99/Aiffel/blob/main/%ED%8C%8C%EC%9D%B4%EC%8D%AC%20%EA%B8%B0%EC%B4%88/%EC%96%91%EC%9E%AC_7%EC%9D%BC%EC%B0%A8.ipynb\" target=\"_parent\"><img src=\"https://colab.research.google.com/assets/colab-badge.svg\" alt=\"Open In Colab\"/></a>"
      ]
    },
    {
      "cell_type": "code",
      "execution_count": 5,
      "metadata": {
        "colab": {
          "base_uri": "https://localhost:8080/"
        },
        "id": "BeP4uQ_qoAiA",
        "outputId": "9985cfb3-359b-4ee7-d4be-56193d215f10"
      },
      "outputs": [
        {
          "output_type": "stream",
          "name": "stdout",
          "text": [
            "[1, 100, 3, 1, 2, 3, 1, 2, 3]\n"
          ]
        }
      ],
      "source": [
        "class AdvancedList:\n",
        "  def __init__(self, list_):\n",
        "    self = self\n",
        "    self.list_ = list_\n",
        "\n",
        "  def replace(self, index, value):\n",
        "    self.list_[index] = value\n",
        "x = AdvancedList([1, 2, 3, 1, 2, 3, 1, 2, 3])\n",
        "x.replace(1, 100)\n",
        "print(x.list_)"
      ]
    },
    {
      "cell_type": "code",
      "source": [
        "class AdvancedList(list):\n",
        "  def replace(self, old, new):\n",
        "    while old in self:\n",
        "      self[self.index(old)] = new"
      ],
      "metadata": {
        "id": "4cvLTpOjooCR"
      },
      "execution_count": 6,
      "outputs": []
    },
    {
      "cell_type": "code",
      "source": [
        "x = AdvancedList([1, 2, 3, 1, 2, 3, 1, 2, 3])\n",
        "x.replace(1, 100)\n",
        "print(x)"
      ],
      "metadata": {
        "colab": {
          "base_uri": "https://localhost:8080/"
        },
        "id": "Z0habnPKpdfP",
        "outputId": "8ce17c1e-7de0-4940-fb50-f196c509b7f6"
      },
      "execution_count": 8,
      "outputs": [
        {
          "output_type": "stream",
          "name": "stdout",
          "text": [
            "[100, 2, 3, 100, 2, 3, 100, 2, 3]\n"
          ]
        }
      ]
    },
    {
      "cell_type": "code",
      "source": [
        "class Animal:\n",
        "    def eat(self):\n",
        "        print('먹다')\n",
        " \n",
        "class Wing:\n",
        "    def flap(self):\n",
        "        print('파닥거리다')\n",
        "\n",
        "class Bird(Animal, Wing):\n",
        "    def eat(self):\n",
        "      super().eat()\n",
        "    \n",
        "    def flap(self):\n",
        "      super().flap()\n",
        "\n",
        "    def fly(self):\n",
        "      print('날다')\n",
        "  \n",
        "b = Bird()\n",
        "b.eat()\n",
        "b.flap()\n",
        "b.fly()\n",
        "print(issubclass(Bird, Animal))\n",
        "print(issubclass(Bird, Wing))"
      ],
      "metadata": {
        "colab": {
          "base_uri": "https://localhost:8080/"
        },
        "id": "W1RyAfDppf4V",
        "outputId": "7ada40dd-cc9d-432f-8381-d2a7bbfa127c"
      },
      "execution_count": 11,
      "outputs": [
        {
          "output_type": "stream",
          "name": "stdout",
          "text": [
            "먹다\n",
            "파닥거리다\n",
            "날다\n",
            "True\n",
            "True\n"
          ]
        }
      ]
    },
    {
      "cell_type": "code",
      "source": [
        "from math import pi\n",
        "n = int(input())\n",
        "print(n * n * pi)"
      ],
      "metadata": {
        "colab": {
          "base_uri": "https://localhost:8080/"
        },
        "id": "UORnoZTGqCVa",
        "outputId": "8530e959-44f5-4fc8-db9f-e3cf29845cd5"
      },
      "execution_count": 12,
      "outputs": [
        {
          "output_type": "stream",
          "name": "stdout",
          "text": [
            "10\n",
            "314.1592653589793\n"
          ]
        }
      ]
    },
    {
      "cell_type": "markdown",
      "source": [
        "[백준 11720](https://www.acmicpc.net/problem/11720)"
      ],
      "metadata": {
        "id": "qYUArqGYugcg"
      }
    },
    {
      "cell_type": "code",
      "source": [
        "num = int(input())\n",
        "n = list(input())\n",
        "\n",
        "result = 0\n",
        "for i in n:\n",
        "  result += int(i)\n",
        "print(result)"
      ],
      "metadata": {
        "colab": {
          "base_uri": "https://localhost:8080/"
        },
        "id": "b-aiH8iFufRX",
        "outputId": "719d50e4-8daa-4de4-b2ac-1d5f653da77c"
      },
      "execution_count": 15,
      "outputs": [
        {
          "output_type": "stream",
          "name": "stdout",
          "text": [
            "5\n",
            "54321\n",
            "15\n"
          ]
        }
      ]
    },
    {
      "cell_type": "code",
      "source": [
        "number = int(input())\n",
        "n = list(input())\n",
        "\n",
        "print(sum(list(map(int, n))))"
      ],
      "metadata": {
        "colab": {
          "base_uri": "https://localhost:8080/"
        },
        "id": "CvxUUT9Wwo9a",
        "outputId": "51b1ec25-c2fa-4249-cc30-df3c650bbf5e"
      },
      "execution_count": 17,
      "outputs": [
        {
          "output_type": "stream",
          "name": "stdout",
          "text": [
            "5\n",
            "54321\n",
            "15\n"
          ]
        }
      ]
    },
    {
      "cell_type": "markdown",
      "source": [
        "[백준 11653](https://www.acmicpc.net/problem/11653)"
      ],
      "metadata": {
        "id": "uZvQvboAxigF"
      }
    },
    {
      "cell_type": "code",
      "source": [
        "n = int(input())\n",
        "while n != 0:\n",
        "  if n % 2 == 0:\n",
        "    n //= 2\n",
        "    print(2)\n",
        "  else:\n",
        "    n //= 3\n",
        "    print(3)\n",
        "  if n == 1:\n",
        "    break"
      ],
      "metadata": {
        "colab": {
          "base_uri": "https://localhost:8080/"
        },
        "id": "ALbERZSXxYpI",
        "outputId": "c881e0b5-2eee-40d4-c0d2-4fb6102a4325"
      },
      "execution_count": 24,
      "outputs": [
        {
          "output_type": "stream",
          "name": "stdout",
          "text": [
            "6\n",
            "2\n",
            "3\n"
          ]
        }
      ]
    },
    {
      "cell_type": "code",
      "source": [
        "N = int(input()) \n",
        "m = 2 \n",
        "while N!=1: # N과m을 나눴을때 몫이 1이 되면 멈춤. \n",
        "  if N%m==0: \n",
        "    print(m) \n",
        "    N = N//m \n",
        "  else: \n",
        "    m += 1\n"
      ],
      "metadata": {
        "colab": {
          "base_uri": "https://localhost:8080/"
        },
        "id": "qatKlCSByZiJ",
        "outputId": "597e11f8-7b57-46aa-dbbf-68884de36297"
      },
      "execution_count": 28,
      "outputs": [
        {
          "output_type": "stream",
          "name": "stdout",
          "text": [
            "91\n",
            "7\n",
            "13\n"
          ]
        }
      ]
    }
  ]
}