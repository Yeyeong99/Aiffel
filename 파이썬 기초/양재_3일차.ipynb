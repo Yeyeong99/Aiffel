{
  "nbformat": 4,
  "nbformat_minor": 0,
  "metadata": {
    "colab": {
      "name": "양재 3일차.ipynb",
      "provenance": [],
      "authorship_tag": "ABX9TyOqNxzaB69Z8JSlwpUTdj92",
      "include_colab_link": true
    },
    "kernelspec": {
      "name": "python3",
      "display_name": "Python 3"
    },
    "language_info": {
      "name": "python"
    }
  },
  "cells": [
    {
      "cell_type": "markdown",
      "metadata": {
        "id": "view-in-github",
        "colab_type": "text"
      },
      "source": [
        "<a href=\"https://colab.research.google.com/github/Yeyeong99/Aiffel/blob/main/%EC%96%91%EC%9E%AC_3%EC%9D%BC%EC%B0%A8.ipynb\" target=\"_parent\"><img src=\"https://colab.research.google.com/assets/colab-badge.svg\" alt=\"Open In Colab\"/></a>"
      ]
    },
    {
      "cell_type": "code",
      "execution_count": null,
      "metadata": {
        "colab": {
          "base_uri": "https://localhost:8080/"
        },
        "id": "XaTDi77pJsW8",
        "outputId": "dda1a8b1-0430-49bd-b357-c9e1b2bd9245"
      },
      "outputs": [
        {
          "output_type": "stream",
          "name": "stdout",
          "text": [
            "<built-in method items of dict object at 0x7fdc7971d320>\n"
          ]
        }
      ],
      "source": [
        "keys = [1, 2, 3]\n",
        "dict.fromkeys(keys).items\n"
      ]
    },
    {
      "cell_type": "code",
      "source": [
        "di = {[1]: 12}\n",
        "di"
      ],
      "metadata": {
        "colab": {
          "base_uri": "https://localhost:8080/",
          "height": 190
        },
        "id": "znTeYI_RJ2cc",
        "outputId": "9ce2b64c-726c-440c-9187-fb75b123e8e8"
      },
      "execution_count": null,
      "outputs": [
        {
          "output_type": "error",
          "ename": "TypeError",
          "evalue": "ignored",
          "traceback": [
            "\u001b[0;31m---------------------------------------------------------------------------\u001b[0m",
            "\u001b[0;31mTypeError\u001b[0m                                 Traceback (most recent call last)",
            "\u001b[0;32m<ipython-input-5-029a62e1d38d>\u001b[0m in \u001b[0;36m<module>\u001b[0;34m()\u001b[0m\n\u001b[0;32m----> 1\u001b[0;31m \u001b[0mdi\u001b[0m \u001b[0;34m=\u001b[0m \u001b[0;34m{\u001b[0m\u001b[0;34m[\u001b[0m\u001b[0;36m1\u001b[0m\u001b[0;34m]\u001b[0m\u001b[0;34m:\u001b[0m \u001b[0;36m12\u001b[0m\u001b[0;34m}\u001b[0m\u001b[0;34m\u001b[0m\u001b[0;34m\u001b[0m\u001b[0m\n\u001b[0m\u001b[1;32m      2\u001b[0m \u001b[0mdi\u001b[0m\u001b[0;34m\u001b[0m\u001b[0;34m\u001b[0m\u001b[0m\n",
            "\u001b[0;31mTypeError\u001b[0m: unhashable type: 'list'"
          ]
        }
      ]
    },
    {
      "cell_type": "code",
      "source": [
        "n = int(input())\n",
        "num_list = input().split()\n",
        "num_list = list(map(int, num_list))\n",
        "num_list.reverse()\n",
        "\n",
        "for i in num_list:\n",
        "  print(i, end=\" \")\n",
        "\n"
      ],
      "metadata": {
        "id": "OALeUDERQk0K",
        "colab": {
          "base_uri": "https://localhost:8080/"
        },
        "outputId": "cd241602-5fb6-40cf-8607-3077edb99c84"
      },
      "execution_count": null,
      "outputs": [
        {
          "output_type": "stream",
          "name": "stdout",
          "text": [
            "3\n",
            "1 2 3\n",
            "3 2 1 "
          ]
        }
      ]
    },
    {
      "cell_type": "code",
      "source": [
        "num = list(input())\n",
        "num = list(map(int, num))\n",
        "num.sort(reverse=True)\n",
        "for i in num:\n",
        "  print(i, end=\"\")"
      ],
      "metadata": {
        "colab": {
          "base_uri": "https://localhost:8080/"
        },
        "id": "gpuZnUHKRlyg",
        "outputId": "0d00bc31-29e6-4344-a0f1-beda9eabd5a8"
      },
      "execution_count": null,
      "outputs": [
        {
          "output_type": "stream",
          "name": "stdout",
          "text": [
            "123\n",
            "321"
          ]
        }
      ]
    },
    {
      "cell_type": "code",
      "source": [
        "def solution(s):\n",
        "    s_list = list(s)\n",
        "    s_list.reverse()\n",
        "    answer = ''.join(s_list)\n",
        "    return answer\n",
        "\n",
        "solution('egdsgZEQ')"
      ],
      "metadata": {
        "colab": {
          "base_uri": "https://localhost:8080/",
          "height": 35
        },
        "id": "tGijqicIWcHg",
        "outputId": "9efe86d9-4664-4095-9ac6-6a8c67acf6c6"
      },
      "execution_count": null,
      "outputs": [
        {
          "output_type": "execute_result",
          "data": {
            "application/vnd.google.colaboratory.intrinsic+json": {
              "type": "string"
            },
            "text/plain": [
              "'QEZgsdge'"
            ]
          },
          "metadata": {},
          "execution_count": 28
        }
      ]
    },
    {
      "cell_type": "code",
      "source": [
        ""
      ],
      "metadata": {
        "id": "apoqJUPJW40e"
      },
      "execution_count": null,
      "outputs": []
    }
  ]
}
