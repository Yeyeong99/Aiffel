{
  "nbformat": 4,
  "nbformat_minor": 0,
  "metadata": {
    "colab": {
      "name": "양재 15일차ipynb",
      "provenance": [],
      "collapsed_sections": [],
      "authorship_tag": "ABX9TyPHAByPy/5bqb34HAfohHgZ",
      "include_colab_link": true
    },
    "kernelspec": {
      "name": "python3",
      "display_name": "Python 3"
    },
    "language_info": {
      "name": "python"
    }
  },
  "cells": [
    {
      "cell_type": "markdown",
      "metadata": {
        "id": "view-in-github",
        "colab_type": "text"
      },
      "source": [
        "<a href=\"https://colab.research.google.com/github/Yeyeong99/Aiffel/blob/main/%EC%95%8C%EA%B3%A0%EB%A6%AC%EC%A6%98%20%EC%97%B0%EC%8A%B5/%EC%96%91%EC%9E%AC_15%EC%9D%BC%EC%B0%A8ipynb.ipynb\" target=\"_parent\"><img src=\"https://colab.research.google.com/assets/colab-badge.svg\" alt=\"Open In Colab\"/></a>"
      ]
    },
    {
      "cell_type": "markdown",
      "source": [
        "[평균구하기](https://programmers.co.kr/learn/courses/30/lessons/12944)"
      ],
      "metadata": {
        "id": "iXH3DyrBTsEf"
      }
    },
    {
      "cell_type": "code",
      "source": [
        "def solution(arr):\n",
        "    return sum(arr)/len(arr)"
      ],
      "metadata": {
        "id": "hBf-CZAKTVcJ"
      },
      "execution_count": null,
      "outputs": []
    },
    {
      "cell_type": "markdown",
      "source": [
        "[행렬의 덧셈](https://programmers.co.kr/learn/courses/30/lessons/12950#)"
      ],
      "metadata": {
        "id": "XpmoytlSThZw"
      }
    },
    {
      "cell_type": "code",
      "execution_count": null,
      "metadata": {
        "id": "Wd8si1B1TMy4"
      },
      "outputs": [],
      "source": [
        "import numpy as np\n",
        "def solution(arr1, arr2):\n",
        "    return (np.array(arr1) + np.array(arr2)).tolist()"
      ]
    },
    {
      "cell_type": "markdown",
      "source": [
        "[수박수박수박수박수](https://programmers.co.kr/learn/courses/30/lessons/12922)"
      ],
      "metadata": {
        "id": "Hcr2ysHiTkkK"
      }
    },
    {
      "cell_type": "code",
      "source": [
        "def solution(n):\n",
        "    wm = \"수박\"*5000\n",
        "    answer = wm[:n]\n",
        "    return answer"
      ],
      "metadata": {
        "id": "oGlSkBD_TdGR"
      },
      "execution_count": null,
      "outputs": []
    },
    {
      "cell_type": "markdown",
      "source": [
        "[완주하지 못한 선수](https://programmers.co.kr/learn/courses/30/lessons/42576)"
      ],
      "metadata": {
        "id": "C-Hmx_zzT_UE"
      }
    },
    {
      "cell_type": "code",
      "source": [
        "import collections\n",
        "def solution(participant, completion):\n",
        "    answer = collections.Counter(participant) - collections.Counter(completion)\n",
        "    return list(answer.keys())[0]"
      ],
      "metadata": {
        "id": "BglzFQ8pUDiY"
      },
      "execution_count": null,
      "outputs": []
    }
  ]
}