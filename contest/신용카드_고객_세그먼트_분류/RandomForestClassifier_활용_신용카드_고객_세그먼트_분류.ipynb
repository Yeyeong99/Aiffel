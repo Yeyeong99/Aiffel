{
  "cells": [
    {
      "cell_type": "markdown",
      "metadata": {
        "id": "view-in-github",
        "colab_type": "text"
      },
      "source": [
        "<a href=\"https://colab.research.google.com/github/Yeyeong99/Aiffel/blob/main/contest/%EC%8B%A0%EC%9A%A9%EC%B9%B4%EB%93%9C_%EA%B3%A0%EA%B0%9D_%EC%84%B8%EA%B7%B8%EB%A8%BC%ED%8A%B8_%EB%B6%84%EB%A5%98/RandomForestClassifier_%ED%99%9C%EC%9A%A9_%EC%8B%A0%EC%9A%A9%EC%B9%B4%EB%93%9C_%EA%B3%A0%EA%B0%9D_%EC%84%B8%EA%B7%B8%EB%A8%BC%ED%8A%B8_%EB%B6%84%EB%A5%98.ipynb\" target=\"_parent\"><img src=\"https://colab.research.google.com/assets/colab-badge.svg\" alt=\"Open In Colab\"/></a>"
      ]
    },
    {
      "cell_type": "markdown",
      "metadata": {
        "id": "7iEoXiGPcCrE"
      },
      "source": [
        "### Import"
      ]
    },
    {
      "cell_type": "code",
      "execution_count": 1,
      "metadata": {
        "id": "ZCTTNMKqcCrF"
      },
      "outputs": [],
      "source": [
        "import pandas as pd\n",
        "import numpy as np\n",
        "import gc\n",
        "\n",
        "from sklearn.preprocessing import LabelEncoder"
      ]
    },
    {
      "cell_type": "markdown",
      "metadata": {
        "id": "YQUicBRXcCrF"
      },
      "source": [
        "### Data Load"
      ]
    },
    {
      "cell_type": "code",
      "source": [
        "from google.colab import drive\n",
        "drive.mount('/content/drive')"
      ],
      "metadata": {
        "colab": {
          "base_uri": "https://localhost:8080/"
        },
        "id": "6y3NF58ocZD5",
        "outputId": "bf039090-5bee-484f-b90c-5eae5a847cd2"
      },
      "execution_count": 2,
      "outputs": [
        {
          "output_type": "stream",
          "name": "stdout",
          "text": [
            "Mounted at /content/drive\n"
          ]
        }
      ]
    },
    {
      "cell_type": "code",
      "execution_count": 3,
      "metadata": {
        "colab": {
          "base_uri": "https://localhost:8080/"
        },
        "id": "NetxR_ZKcCrG",
        "outputId": "ade264bb-12ac-4684-c250-993565a440eb"
      },
      "outputs": [
        {
          "output_type": "stream",
          "name": "stdout",
          "text": [
            "customer_train_07 is loaded from /content/drive/MyDrive/train/1.회원정보/201807_train_회원정보.parquet\n",
            "customer_train_08 is loaded from /content/drive/MyDrive/train/1.회원정보/201808_train_회원정보.parquet\n",
            "customer_train_09 is loaded from /content/drive/MyDrive/train/1.회원정보/201809_train_회원정보.parquet\n",
            "customer_train_10 is loaded from /content/drive/MyDrive/train/1.회원정보/201810_train_회원정보.parquet\n",
            "customer_train_11 is loaded from /content/drive/MyDrive/train/1.회원정보/201811_train_회원정보.parquet\n",
            "customer_train_12 is loaded from /content/drive/MyDrive/train/1.회원정보/201812_train_회원정보.parquet\n",
            "credit_train_07 is loaded from /content/drive/MyDrive/train/2.신용정보/201807_train_신용정보.parquet\n",
            "credit_train_08 is loaded from /content/drive/MyDrive/train/2.신용정보/201808_train_신용정보.parquet\n",
            "credit_train_09 is loaded from /content/drive/MyDrive/train/2.신용정보/201809_train_신용정보.parquet\n",
            "credit_train_10 is loaded from /content/drive/MyDrive/train/2.신용정보/201810_train_신용정보.parquet\n",
            "credit_train_11 is loaded from /content/drive/MyDrive/train/2.신용정보/201811_train_신용정보.parquet\n",
            "credit_train_12 is loaded from /content/drive/MyDrive/train/2.신용정보/201812_train_신용정보.parquet\n",
            "sales_train_07 is loaded from /content/drive/MyDrive/train/3.승인매출정보/201807_train_승인매출정보.parquet\n",
            "sales_train_08 is loaded from /content/drive/MyDrive/train/3.승인매출정보/201808_train_승인매출정보.parquet\n",
            "sales_train_09 is loaded from /content/drive/MyDrive/train/3.승인매출정보/201809_train_승인매출정보.parquet\n",
            "sales_train_10 is loaded from /content/drive/MyDrive/train/3.승인매출정보/201810_train_승인매출정보.parquet\n",
            "sales_train_11 is loaded from /content/drive/MyDrive/train/3.승인매출정보/201811_train_승인매출정보.parquet\n",
            "sales_train_12 is loaded from /content/drive/MyDrive/train/3.승인매출정보/201812_train_승인매출정보.parquet\n",
            "billing_train_07 is loaded from /content/drive/MyDrive/train/4.청구입금정보/201807_train_청구정보.parquet\n",
            "billing_train_08 is loaded from /content/drive/MyDrive/train/4.청구입금정보/201808_train_청구정보.parquet\n",
            "billing_train_09 is loaded from /content/drive/MyDrive/train/4.청구입금정보/201809_train_청구정보.parquet\n",
            "billing_train_10 is loaded from /content/drive/MyDrive/train/4.청구입금정보/201810_train_청구정보.parquet\n",
            "billing_train_11 is loaded from /content/drive/MyDrive/train/4.청구입금정보/201811_train_청구정보.parquet\n",
            "billing_train_12 is loaded from /content/drive/MyDrive/train/4.청구입금정보/201812_train_청구정보.parquet\n",
            "balance_train_07 is loaded from /content/drive/MyDrive/train/5.잔액정보/201807_train_잔액정보.parquet\n",
            "balance_train_08 is loaded from /content/drive/MyDrive/train/5.잔액정보/201808_train_잔액정보.parquet\n",
            "balance_train_09 is loaded from /content/drive/MyDrive/train/5.잔액정보/201809_train_잔액정보.parquet\n",
            "balance_train_10 is loaded from /content/drive/MyDrive/train/5.잔액정보/201810_train_잔액정보.parquet\n",
            "balance_train_11 is loaded from /content/drive/MyDrive/train/5.잔액정보/201811_train_잔액정보.parquet\n",
            "balance_train_12 is loaded from /content/drive/MyDrive/train/5.잔액정보/201812_train_잔액정보.parquet\n",
            "channel_train_07 is loaded from /content/drive/MyDrive/train/6.채널정보/201807_train_채널정보.parquet\n",
            "channel_train_08 is loaded from /content/drive/MyDrive/train/6.채널정보/201808_train_채널정보.parquet\n",
            "channel_train_09 is loaded from /content/drive/MyDrive/train/6.채널정보/201809_train_채널정보.parquet\n",
            "channel_train_10 is loaded from /content/drive/MyDrive/train/6.채널정보/201810_train_채널정보.parquet\n",
            "channel_train_11 is loaded from /content/drive/MyDrive/train/6.채널정보/201811_train_채널정보.parquet\n",
            "channel_train_12 is loaded from /content/drive/MyDrive/train/6.채널정보/201812_train_채널정보.parquet\n",
            "marketing_train_07 is loaded from /content/drive/MyDrive/train/7.마케팅정보/201807_train_마케팅정보.parquet\n",
            "marketing_train_08 is loaded from /content/drive/MyDrive/train/7.마케팅정보/201808_train_마케팅정보.parquet\n",
            "marketing_train_09 is loaded from /content/drive/MyDrive/train/7.마케팅정보/201809_train_마케팅정보.parquet\n",
            "marketing_train_10 is loaded from /content/drive/MyDrive/train/7.마케팅정보/201810_train_마케팅정보.parquet\n",
            "marketing_train_11 is loaded from /content/drive/MyDrive/train/7.마케팅정보/201811_train_마케팅정보.parquet\n",
            "marketing_train_12 is loaded from /content/drive/MyDrive/train/7.마케팅정보/201812_train_마케팅정보.parquet\n",
            "performance_train_07 is loaded from /content/drive/MyDrive/train/8.성과정보/201807_train_성과정보.parquet\n",
            "performance_train_08 is loaded from /content/drive/MyDrive/train/8.성과정보/201808_train_성과정보.parquet\n",
            "performance_train_09 is loaded from /content/drive/MyDrive/train/8.성과정보/201809_train_성과정보.parquet\n",
            "performance_train_10 is loaded from /content/drive/MyDrive/train/8.성과정보/201810_train_성과정보.parquet\n",
            "performance_train_11 is loaded from /content/drive/MyDrive/train/8.성과정보/201811_train_성과정보.parquet\n",
            "performance_train_12 is loaded from /content/drive/MyDrive/train/8.성과정보/201812_train_성과정보.parquet\n",
            "customer_test_07 is loaded from /content/drive/MyDrive/test/1.회원정보/201807_test_회원정보.parquet\n",
            "customer_test_08 is loaded from /content/drive/MyDrive/test/1.회원정보/201808_test_회원정보.parquet\n",
            "customer_test_09 is loaded from /content/drive/MyDrive/test/1.회원정보/201809_test_회원정보.parquet\n",
            "customer_test_10 is loaded from /content/drive/MyDrive/test/1.회원정보/201810_test_회원정보.parquet\n",
            "customer_test_11 is loaded from /content/drive/MyDrive/test/1.회원정보/201811_test_회원정보.parquet\n",
            "customer_test_12 is loaded from /content/drive/MyDrive/test/1.회원정보/201812_test_회원정보.parquet\n",
            "credit_test_07 is loaded from /content/drive/MyDrive/test/2.신용정보/201807_test_신용정보.parquet\n",
            "credit_test_08 is loaded from /content/drive/MyDrive/test/2.신용정보/201808_test_신용정보.parquet\n",
            "credit_test_09 is loaded from /content/drive/MyDrive/test/2.신용정보/201809_test_신용정보.parquet\n",
            "credit_test_10 is loaded from /content/drive/MyDrive/test/2.신용정보/201810_test_신용정보.parquet\n",
            "credit_test_11 is loaded from /content/drive/MyDrive/test/2.신용정보/201811_test_신용정보.parquet\n",
            "credit_test_12 is loaded from /content/drive/MyDrive/test/2.신용정보/201812_test_신용정보.parquet\n",
            "sales_test_07 is loaded from /content/drive/MyDrive/test/3.승인매출정보/201807_test_승인매출정보.parquet\n",
            "sales_test_08 is loaded from /content/drive/MyDrive/test/3.승인매출정보/201808_test_승인매출정보.parquet\n",
            "sales_test_09 is loaded from /content/drive/MyDrive/test/3.승인매출정보/201809_test_승인매출정보.parquet\n",
            "sales_test_10 is loaded from /content/drive/MyDrive/test/3.승인매출정보/201810_test_승인매출정보.parquet\n",
            "sales_test_11 is loaded from /content/drive/MyDrive/test/3.승인매출정보/201811_test_승인매출정보.parquet\n",
            "sales_test_12 is loaded from /content/drive/MyDrive/test/3.승인매출정보/201812_test_승인매출정보.parquet\n",
            "billing_test_07 is loaded from /content/drive/MyDrive/test/4.청구입금정보/201807_test_청구정보.parquet\n",
            "billing_test_08 is loaded from /content/drive/MyDrive/test/4.청구입금정보/201808_test_청구정보.parquet\n",
            "billing_test_09 is loaded from /content/drive/MyDrive/test/4.청구입금정보/201809_test_청구정보.parquet\n",
            "billing_test_10 is loaded from /content/drive/MyDrive/test/4.청구입금정보/201810_test_청구정보.parquet\n",
            "billing_test_11 is loaded from /content/drive/MyDrive/test/4.청구입금정보/201811_test_청구정보.parquet\n",
            "billing_test_12 is loaded from /content/drive/MyDrive/test/4.청구입금정보/201812_test_청구정보.parquet\n",
            "balance_test_07 is loaded from /content/drive/MyDrive/test/5.잔액정보/201807_test_잔액정보.parquet\n",
            "balance_test_08 is loaded from /content/drive/MyDrive/test/5.잔액정보/201808_test_잔액정보.parquet\n",
            "balance_test_09 is loaded from /content/drive/MyDrive/test/5.잔액정보/201809_test_잔액정보.parquet\n",
            "balance_test_10 is loaded from /content/drive/MyDrive/test/5.잔액정보/201810_test_잔액정보.parquet\n",
            "balance_test_11 is loaded from /content/drive/MyDrive/test/5.잔액정보/201811_test_잔액정보.parquet\n",
            "balance_test_12 is loaded from /content/drive/MyDrive/test/5.잔액정보/201812_test_잔액정보.parquet\n",
            "channel_test_07 is loaded from /content/drive/MyDrive/test/6.채널정보/201807_test_채널정보.parquet\n",
            "channel_test_08 is loaded from /content/drive/MyDrive/test/6.채널정보/201808_test_채널정보.parquet\n",
            "channel_test_09 is loaded from /content/drive/MyDrive/test/6.채널정보/201809_test_채널정보.parquet\n",
            "channel_test_10 is loaded from /content/drive/MyDrive/test/6.채널정보/201810_test_채널정보.parquet\n",
            "channel_test_11 is loaded from /content/drive/MyDrive/test/6.채널정보/201811_test_채널정보.parquet\n",
            "channel_test_12 is loaded from /content/drive/MyDrive/test/6.채널정보/201812_test_채널정보.parquet\n",
            "marketing_test_07 is loaded from /content/drive/MyDrive/test/7.마케팅정보/201807_test_마케팅정보.parquet\n",
            "marketing_test_08 is loaded from /content/drive/MyDrive/test/7.마케팅정보/201808_test_마케팅정보.parquet\n",
            "marketing_test_09 is loaded from /content/drive/MyDrive/test/7.마케팅정보/201809_test_마케팅정보.parquet\n",
            "marketing_test_10 is loaded from /content/drive/MyDrive/test/7.마케팅정보/201810_test_마케팅정보.parquet\n",
            "marketing_test_11 is loaded from /content/drive/MyDrive/test/7.마케팅정보/201811_test_마케팅정보.parquet\n",
            "marketing_test_12 is loaded from /content/drive/MyDrive/test/7.마케팅정보/201812_test_마케팅정보.parquet\n",
            "performance_test_07 is loaded from /content/drive/MyDrive/test/8.성과정보/201807_test_성과정보.parquet\n",
            "performance_test_08 is loaded from /content/drive/MyDrive/test/8.성과정보/201808_test_성과정보.parquet\n",
            "performance_test_09 is loaded from /content/drive/MyDrive/test/8.성과정보/201809_test_성과정보.parquet\n",
            "performance_test_10 is loaded from /content/drive/MyDrive/test/8.성과정보/201810_test_성과정보.parquet\n",
            "performance_test_11 is loaded from /content/drive/MyDrive/test/8.성과정보/201811_test_성과정보.parquet\n",
            "performance_test_12 is loaded from /content/drive/MyDrive/test/8.성과정보/201812_test_성과정보.parquet\n"
          ]
        },
        {
          "output_type": "execute_result",
          "data": {
            "text/plain": [
              "0"
            ]
          },
          "metadata": {},
          "execution_count": 3
        }
      ],
      "source": [
        "# 데이터 분할(폴더) 구분\n",
        "data_splits = [\"train\", \"test\"]\n",
        "\n",
        "# 각 데이터 유형별 폴더명, 파일 접미사, 변수 접두어 설정\n",
        "data_categories = {\n",
        "    \"회원정보\": {\"folder\": \"1.회원정보\", \"suffix\": \"회원정보\", \"var_prefix\": \"customer\"},\n",
        "    \"신용정보\": {\"folder\": \"2.신용정보\", \"suffix\": \"신용정보\", \"var_prefix\": \"credit\"},\n",
        "    \"승인매출정보\": {\"folder\": \"3.승인매출정보\", \"suffix\": \"승인매출정보\", \"var_prefix\": \"sales\"},\n",
        "    \"청구정보\": {\"folder\": \"4.청구입금정보\", \"suffix\": \"청구정보\", \"var_prefix\": \"billing\"},\n",
        "    \"잔액정보\": {\"folder\": \"5.잔액정보\", \"suffix\": \"잔액정보\", \"var_prefix\": \"balance\"},\n",
        "    \"채널정보\": {\"folder\": \"6.채널정보\", \"suffix\": \"채널정보\", \"var_prefix\": \"channel\"},\n",
        "    \"마케팅정보\": {\"folder\": \"7.마케팅정보\", \"suffix\": \"마케팅정보\", \"var_prefix\": \"marketing\"},\n",
        "    \"성과정보\": {\"folder\": \"8.성과정보\", \"suffix\": \"성과정보\", \"var_prefix\": \"performance\"}\n",
        "}\n",
        "\n",
        "# 2018년 7월부터 12월까지의 월 리스트\n",
        "months = ['07', '08', '09', '10', '11', '12']\n",
        "\n",
        "for split in data_splits:\n",
        "    for category, info in data_categories.items():\n",
        "        folder = info[\"folder\"]\n",
        "        suffix = info[\"suffix\"]\n",
        "        var_prefix = info[\"var_prefix\"]\n",
        "\n",
        "        for month in months:\n",
        "            #\n",
        "            # 파일명 형식: /content/drive/MyDrive/{split}/2018{month}_{split}_{suffix}.parquet\n",
        "            file_path = f\"/content/drive/MyDrive/{split}/{folder}/2018{month}_{split}_{suffix}.parquet\"\n",
        "            # 변수명 형식: {var_prefix}_{split}_{month}\n",
        "            variable_name = f\"{var_prefix}_{split}_{month}\"\n",
        "            globals()[variable_name] = pd.read_parquet(file_path)\n",
        "            print(f\"{variable_name} is loaded from {file_path}\")\n",
        "\n",
        "gc.collect()"
      ]
    },
    {
      "cell_type": "markdown",
      "metadata": {
        "id": "NTeKwylxcCrG"
      },
      "source": [
        "### Data Preprocessing(1) : Concat & Merge"
      ]
    },
    {
      "cell_type": "code",
      "execution_count": 4,
      "metadata": {
        "id": "cx_-W4hGcCrG"
      },
      "outputs": [],
      "source": [
        "# 데이터 유형별 설정\n",
        "info_categories = [\"customer\", \"credit\", \"sales\", \"billing\", \"balance\", \"channel\", \"marketing\", \"performance\"]\n",
        "\n",
        "# 월 설정\n",
        "months = ['07', '08', '09', '10', '11', '12']"
      ]
    },
    {
      "cell_type": "code",
      "execution_count": 5,
      "metadata": {
        "id": "IZ2itTH2cCrH",
        "colab": {
          "base_uri": "https://localhost:8080/"
        },
        "outputId": "3bf77052-8665-45c7-b89f-a880f5f33bfc"
      },
      "outputs": [
        {
          "output_type": "stream",
          "name": "stdout",
          "text": [
            "customer_train_df is created with shape: (2400000, 78)\n",
            "credit_train_df is created with shape: (2400000, 42)\n",
            "sales_train_df is created with shape: (2400000, 406)\n",
            "billing_train_df is created with shape: (2400000, 46)\n",
            "balance_train_df is created with shape: (2400000, 82)\n",
            "channel_train_df is created with shape: (2400000, 105)\n",
            "marketing_train_df is created with shape: (2400000, 64)\n",
            "performance_train_df is created with shape: (2400000, 49)\n"
          ]
        },
        {
          "output_type": "execute_result",
          "data": {
            "text/plain": [
              "0"
            ]
          },
          "metadata": {},
          "execution_count": 5
        }
      ],
      "source": [
        "#### Train ####\n",
        "\n",
        "# 각 유형별로 월별 데이터를 합쳐서 새로운 변수에 저장\n",
        "train_dfs = {}\n",
        "\n",
        "for prefix in info_categories:\n",
        "    # globals()에서 동적 변수명으로 데이터프레임들을 가져와 리스트에 저장\n",
        "    df_list = [globals()[f\"{prefix}_train_{month}\"] for month in months]\n",
        "    train_dfs[f\"{prefix}_train_df\"] = pd.concat(df_list, axis=0)\n",
        "    gc.collect()\n",
        "    print(f\"{prefix}_train_df is created with shape: {train_dfs[f'{prefix}_train_df'].shape}\")\n",
        "\n",
        "\n",
        "customer_train_df = train_dfs[\"customer_train_df\"]\n",
        "credit_train_df   = train_dfs[\"credit_train_df\"]\n",
        "sales_train_df    = train_dfs[\"sales_train_df\"]\n",
        "billing_train_df  = train_dfs[\"billing_train_df\"]\n",
        "balance_train_df  = train_dfs[\"balance_train_df\"]\n",
        "channel_train_df  = train_dfs[\"channel_train_df\"]\n",
        "marketing_train_df= train_dfs[\"marketing_train_df\"]\n",
        "performance_train_df = train_dfs[\"performance_train_df\"]\n",
        "\n",
        "gc.collect()"
      ]
    },
    {
      "cell_type": "code",
      "execution_count": 6,
      "metadata": {
        "id": "JngAJ5NwcCrH",
        "colab": {
          "base_uri": "https://localhost:8080/"
        },
        "outputId": "8c3cf962-bc2f-4d2d-a8dc-20bd4d48ec5a"
      },
      "outputs": [
        {
          "output_type": "stream",
          "name": "stdout",
          "text": [
            "customer_test_df is created with shape: (600000, 77)\n",
            "credit_test_df is created with shape: (600000, 42)\n",
            "sales_test_df is created with shape: (600000, 406)\n",
            "billing_test_df is created with shape: (600000, 46)\n",
            "balance_test_df is created with shape: (600000, 82)\n",
            "channel_test_df is created with shape: (600000, 105)\n",
            "marketing_test_df is created with shape: (600000, 64)\n",
            "performance_test_df is created with shape: (600000, 49)\n"
          ]
        },
        {
          "output_type": "execute_result",
          "data": {
            "text/plain": [
              "0"
            ]
          },
          "metadata": {},
          "execution_count": 6
        }
      ],
      "source": [
        "#### Test ####\n",
        "\n",
        "# test 데이터에 대해 train과 동일한 방법 적용\n",
        "test_dfs = {}\n",
        "\n",
        "for prefix in info_categories:\n",
        "    df_list = [globals()[f\"{prefix}_test_{month}\"] for month in months]\n",
        "    test_dfs[f\"{prefix}_test_df\"] = pd.concat(df_list, axis=0)\n",
        "    gc.collect()\n",
        "    print(f\"{prefix}_test_df is created with shape: {test_dfs[f'{prefix}_test_df'].shape}\")\n",
        "\n",
        "\n",
        "customer_test_df = test_dfs[\"customer_test_df\"]\n",
        "credit_test_df   = test_dfs[\"credit_test_df\"]\n",
        "sales_test_df    = test_dfs[\"sales_test_df\"]\n",
        "billing_test_df  = test_dfs[\"billing_test_df\"]\n",
        "balance_test_df  = test_dfs[\"balance_test_df\"]\n",
        "channel_test_df  = test_dfs[\"channel_test_df\"]\n",
        "marketing_test_df= test_dfs[\"marketing_test_df\"]\n",
        "performance_test_df = test_dfs[\"performance_test_df\"]\n",
        "\n",
        "gc.collect()"
      ]
    },
    {
      "cell_type": "code",
      "execution_count": 7,
      "metadata": {
        "id": "lA91P_7VcCrH",
        "colab": {
          "base_uri": "https://localhost:8080/"
        },
        "outputId": "9dd94976-07ac-4b57-ab61-b185563d0843"
      },
      "outputs": [
        {
          "output_type": "stream",
          "name": "stdout",
          "text": [
            "Step1 저장 완료: train_step1, shape: (2400000, 118)\n",
            "Step2 저장 완료: train_Step2, shape: (2400000, 522)\n",
            "Step3 저장 완료: train_Step3, shape: (2400000, 566)\n",
            "Step4 저장 완료: train_Step4, shape: (2400000, 646)\n",
            "Step5 저장 완료: train_Step5, shape: (2400000, 749)\n",
            "Step6 저장 완료: train_Step6, shape: (2400000, 811)\n",
            "최종 저장 완료: train_최종, shape: (2400000, 858)\n"
          ]
        }
      ],
      "source": [
        "#### Train ####\n",
        "\n",
        "train_df = customer_train_df.merge(credit_train_df, on=['기준년월', 'ID'], how='left')\n",
        "print(\"Step1 저장 완료: train_step1, shape:\", train_df.shape)\n",
        "del customer_train_df, credit_train_df\n",
        "gc.collect()\n",
        "\n",
        "# 이후 merge할 데이터프레임 이름과 단계 정보를 리스트에 저장\n",
        "merge_list = [\n",
        "    (\"sales_train_df\",    \"Step2\"),\n",
        "    (\"billing_train_df\",  \"Step3\"),\n",
        "    (\"balance_train_df\",  \"Step4\"),\n",
        "    (\"channel_train_df\",  \"Step5\"),\n",
        "    (\"marketing_train_df\",\"Step6\"),\n",
        "    (\"performance_train_df\", \"최종\")\n",
        "]\n",
        "\n",
        "# 나머지 단계 merge\n",
        "for df_name, step in merge_list:\n",
        "    # globals()로 동적 변수 접근하여 merge 수행\n",
        "    train_df = train_df.merge(globals()[df_name], on=['기준년월', 'ID'], how='left')\n",
        "    print(f\"{step} 저장 완료: train_{step}, shape:\", train_df.shape)\n",
        "    # 사용한 변수는 메모리 해제를 위해 삭제\n",
        "    del globals()[df_name]\n",
        "    gc.collect()"
      ]
    },
    {
      "cell_type": "code",
      "execution_count": 8,
      "metadata": {
        "id": "Aiwp5ZHBcCrH",
        "colab": {
          "base_uri": "https://localhost:8080/"
        },
        "outputId": "496a9143-69df-4762-cb22-2a7aabc14c21"
      },
      "outputs": [
        {
          "output_type": "stream",
          "name": "stdout",
          "text": [
            "Step1 저장 완료: test_step1, shape: (600000, 117)\n",
            "Step2 저장 완료: test_Step2, shape: (600000, 521)\n",
            "Step3 저장 완료: test_Step3, shape: (600000, 565)\n",
            "Step4 저장 완료: test_Step4, shape: (600000, 645)\n",
            "Step5 저장 완료: test_Step5, shape: (600000, 748)\n",
            "Step6 저장 완료: test_Step6, shape: (600000, 810)\n",
            "최종 저장 완료: test_최종, shape: (600000, 857)\n"
          ]
        }
      ],
      "source": [
        "#### Test ####\n",
        "\n",
        "test_df = customer_test_df.merge(credit_test_df, on=['기준년월', 'ID'], how='left')\n",
        "print(\"Step1 저장 완료: test_step1, shape:\", test_df.shape)\n",
        "del customer_test_df, credit_test_df\n",
        "gc.collect()\n",
        "\n",
        "# 이후 merge할 데이터프레임 이름과 단계 정보를 리스트에 저장\n",
        "merge_list = [\n",
        "    (\"sales_test_df\",    \"Step2\"),\n",
        "    (\"billing_test_df\",  \"Step3\"),\n",
        "    (\"balance_test_df\",  \"Step4\"),\n",
        "    (\"channel_test_df\",  \"Step5\"),\n",
        "    (\"marketing_test_df\",\"Step6\"),\n",
        "    (\"performance_test_df\", \"최종\")\n",
        "]\n",
        "\n",
        "# 나머지 단계 merge\n",
        "for df_name, step in merge_list:\n",
        "    # globals()로 동적 변수 접근하여 merge 수행\n",
        "    test_df = test_df.merge(globals()[df_name], on=['기준년월', 'ID'], how='left')\n",
        "    print(f\"{step} 저장 완료: test_{step}, shape:\", test_df.shape)\n",
        "    # 사용한 변수는 메모리 해제를 위해 삭제\n",
        "    del globals()[df_name]\n",
        "    gc.collect()"
      ]
    },
    {
      "cell_type": "markdown",
      "metadata": {
        "id": "DAr30RwecCrH"
      },
      "source": [
        "### Data Preprocessing(2) : Encoding"
      ]
    },
    {
      "cell_type": "code",
      "execution_count": 9,
      "metadata": {
        "id": "8FPStL9acCrI"
      },
      "outputs": [],
      "source": [
        "feature_cols = [col for col in train_df.columns if col not in [\"ID\", \"Segment\"]]\n",
        "\n",
        "X = train_df[feature_cols].copy()\n",
        "y = train_df[\"Segment\"].copy()\n",
        "\n",
        "# 타깃 라벨 인코딩\n",
        "le_target = LabelEncoder()\n",
        "y_encoded = le_target.fit_transform(y)"
      ]
    },
    {
      "cell_type": "code",
      "execution_count": 10,
      "metadata": {
        "id": "PSbzbQ_hcCrI"
      },
      "outputs": [],
      "source": [
        "categorical_features = X.select_dtypes(include=['object']).columns.tolist()\n",
        "\n",
        "X_test = test_df.copy()\n",
        "\n",
        "encoders = {}  # 각 컬럼별 encoder 저장\n",
        "\n",
        "for col in categorical_features:\n",
        "    le_train = LabelEncoder()\n",
        "    X[col] = le_train.fit_transform(X[col])\n",
        "    encoders[col] = le_train\n",
        "    unseen_labels_val = set(X_test[col]) - set(le_train.classes_)\n",
        "    if unseen_labels_val:\n",
        "        le_train.classes_ = np.append(le_train.classes_, list(unseen_labels_val))\n",
        "    X_test[col] = le_train.transform(X_test[col])"
      ]
    },
    {
      "cell_type": "code",
      "execution_count": 11,
      "metadata": {
        "id": "5vJT5ltQcCrI",
        "colab": {
          "base_uri": "https://localhost:8080/"
        },
        "outputId": "55331f8c-f527-45db-f932-68afa8005729"
      },
      "outputs": [
        {
          "output_type": "execute_result",
          "data": {
            "text/plain": [
              "0"
            ]
          },
          "metadata": {},
          "execution_count": 11
        }
      ],
      "source": [
        "gc.collect()"
      ]
    },
    {
      "cell_type": "markdown",
      "source": [
        "### Train / Validation Split"
      ],
      "metadata": {
        "id": "rgZAQ_shxAqJ"
      }
    },
    {
      "cell_type": "code",
      "source": [
        "from sklearn.model_selection import train_test_split"
      ],
      "metadata": {
        "id": "z49wtF3pxI2T"
      },
      "execution_count": 12,
      "outputs": []
    },
    {
      "cell_type": "code",
      "source": [
        "X_train, X_val, y_train, y_val = train_test_split(\n",
        "    X,\n",
        "    y_encoded,\n",
        "    test_size=0.2,\n",
        "    random_state=42\n",
        ")"
      ],
      "metadata": {
        "id": "Z_S-Vn4WxFL1"
      },
      "execution_count": 13,
      "outputs": []
    },
    {
      "cell_type": "markdown",
      "metadata": {
        "id": "GrylvcYNcCrI"
      },
      "source": [
        "### Train"
      ]
    },
    {
      "cell_type": "code",
      "source": [
        "pip install catboost"
      ],
      "metadata": {
        "id": "akWIhCCjc63s",
        "colab": {
          "base_uri": "https://localhost:8080/"
        },
        "outputId": "cae0dae0-6191-4c66-d88a-f240c6083e08"
      },
      "execution_count": 14,
      "outputs": [
        {
          "output_type": "stream",
          "name": "stdout",
          "text": [
            "Collecting catboost\n",
            "  Downloading catboost-1.2.7-cp311-cp311-manylinux2014_x86_64.whl.metadata (1.2 kB)\n",
            "Collecting graphviz (from catboost)\n",
            "  Downloading graphviz-0.20.3-py3-none-any.whl.metadata (12 kB)\n",
            "Requirement already satisfied: matplotlib in /usr/local/lib/python3.11/dist-packages (from catboost) (3.10.0)\n",
            "Requirement already satisfied: numpy<2.0,>=1.16.0 in /usr/local/lib/python3.11/dist-packages (from catboost) (1.26.4)\n",
            "Requirement already satisfied: pandas>=0.24 in /usr/local/lib/python3.11/dist-packages (from catboost) (2.2.2)\n",
            "Requirement already satisfied: scipy in /usr/local/lib/python3.11/dist-packages (from catboost) (1.14.1)\n",
            "Requirement already satisfied: plotly in /usr/local/lib/python3.11/dist-packages (from catboost) (5.24.1)\n",
            "Requirement already satisfied: six in /usr/local/lib/python3.11/dist-packages (from catboost) (1.17.0)\n",
            "Requirement already satisfied: python-dateutil>=2.8.2 in /usr/local/lib/python3.11/dist-packages (from pandas>=0.24->catboost) (2.9.0.post0)\n",
            "Requirement already satisfied: pytz>=2020.1 in /usr/local/lib/python3.11/dist-packages (from pandas>=0.24->catboost) (2025.1)\n",
            "Requirement already satisfied: tzdata>=2022.7 in /usr/local/lib/python3.11/dist-packages (from pandas>=0.24->catboost) (2025.1)\n",
            "Requirement already satisfied: contourpy>=1.0.1 in /usr/local/lib/python3.11/dist-packages (from matplotlib->catboost) (1.3.1)\n",
            "Requirement already satisfied: cycler>=0.10 in /usr/local/lib/python3.11/dist-packages (from matplotlib->catboost) (0.12.1)\n",
            "Requirement already satisfied: fonttools>=4.22.0 in /usr/local/lib/python3.11/dist-packages (from matplotlib->catboost) (4.56.0)\n",
            "Requirement already satisfied: kiwisolver>=1.3.1 in /usr/local/lib/python3.11/dist-packages (from matplotlib->catboost) (1.4.8)\n",
            "Requirement already satisfied: packaging>=20.0 in /usr/local/lib/python3.11/dist-packages (from matplotlib->catboost) (24.2)\n",
            "Requirement already satisfied: pillow>=8 in /usr/local/lib/python3.11/dist-packages (from matplotlib->catboost) (11.1.0)\n",
            "Requirement already satisfied: pyparsing>=2.3.1 in /usr/local/lib/python3.11/dist-packages (from matplotlib->catboost) (3.2.1)\n",
            "Requirement already satisfied: tenacity>=6.2.0 in /usr/local/lib/python3.11/dist-packages (from plotly->catboost) (9.0.0)\n",
            "Downloading catboost-1.2.7-cp311-cp311-manylinux2014_x86_64.whl (98.7 MB)\n",
            "\u001b[2K   \u001b[90m━━━━━━━━━━━━━━━━━━━━━━━━━━━━━━━━━━━━━━━━\u001b[0m \u001b[32m98.7/98.7 MB\u001b[0m \u001b[31m11.6 MB/s\u001b[0m eta \u001b[36m0:00:00\u001b[0m\n",
            "\u001b[?25hDownloading graphviz-0.20.3-py3-none-any.whl (47 kB)\n",
            "\u001b[2K   \u001b[90m━━━━━━━━━━━━━━━━━━━━━━━━━━━━━━━━━━━━━━━━\u001b[0m \u001b[32m47.1/47.1 kB\u001b[0m \u001b[31m4.3 MB/s\u001b[0m eta \u001b[36m0:00:00\u001b[0m\n",
            "\u001b[?25hInstalling collected packages: graphviz, catboost\n",
            "Successfully installed catboost-1.2.7 graphviz-0.20.3\n"
          ]
        }
      ]
    },
    {
      "cell_type": "code",
      "source": [
        "from catboost import CatBoostClassifier\n",
        "cat_model = CatBoostClassifier(iterations=1200,  # 최대 반복 횟수\n",
        "                           learning_rate=0.05,\n",
        "                           depth=6,\n",
        "                           early_stopping_rounds=50,  # 50번 동안 개선 없으면 조기 종료\n",
        "                           verbose=50)"
      ],
      "metadata": {
        "id": "oViYcWpGjb4w"
      },
      "execution_count": 15,
      "outputs": []
    },
    {
      "cell_type": "code",
      "source": [
        "cat_model.fit(X_train, y_train,\n",
        "          eval_set=[(X_val, y_val)],\n",
        "          early_stopping_rounds=50,\n",
        "          use_best_model=True)"
      ],
      "metadata": {
        "colab": {
          "base_uri": "https://localhost:8080/"
        },
        "id": "N6nMiJjPv7TM",
        "outputId": "37cd5fa8-62df-4814-bbc0-47b0bbdf1db6"
      },
      "execution_count": 16,
      "outputs": [
        {
          "output_type": "stream",
          "name": "stdout",
          "text": [
            "0:\tlearn: 1.4636473\ttest: 1.4636336\tbest: 1.4636336 (0)\ttotal: 6.65s\tremaining: 2h 12m 55s\n",
            "50:\tlearn: 0.3611986\ttest: 0.3614936\tbest: 0.3614936 (50)\ttotal: 6m 10s\tremaining: 2h 19m 6s\n",
            "100:\tlearn: 0.2973065\ttest: 0.2979440\tbest: 0.2979440 (100)\ttotal: 12m 34s\tremaining: 2h 16m 52s\n",
            "150:\tlearn: 0.2796076\ttest: 0.2804217\tbest: 0.2804217 (150)\ttotal: 18m 43s\tremaining: 2h 10m 1s\n",
            "200:\tlearn: 0.2689582\ttest: 0.2699051\tbest: 0.2699051 (200)\ttotal: 24m 47s\tremaining: 2h 3m 14s\n",
            "250:\tlearn: 0.2615276\ttest: 0.2625858\tbest: 0.2625858 (250)\ttotal: 30m 33s\tremaining: 1h 55m 30s\n",
            "300:\tlearn: 0.2552170\ttest: 0.2563578\tbest: 0.2563578 (300)\ttotal: 36m 25s\tremaining: 1h 48m 48s\n",
            "350:\tlearn: 0.2499338\ttest: 0.2511541\tbest: 0.2511541 (350)\ttotal: 42m 13s\tremaining: 1h 42m 7s\n",
            "400:\tlearn: 0.2454740\ttest: 0.2468354\tbest: 0.2468354 (400)\ttotal: 47m 54s\tremaining: 1h 35m 26s\n",
            "450:\tlearn: 0.2417180\ttest: 0.2431831\tbest: 0.2431831 (450)\ttotal: 53m 30s\tremaining: 1h 28m 52s\n",
            "500:\tlearn: 0.2383319\ttest: 0.2399533\tbest: 0.2399533 (500)\ttotal: 59m 11s\tremaining: 1h 22m 35s\n",
            "550:\tlearn: 0.2355299\ttest: 0.2373312\tbest: 0.2373312 (550)\ttotal: 1h 4m 43s\tremaining: 1h 16m 13s\n",
            "600:\tlearn: 0.2330066\ttest: 0.2349401\tbest: 0.2349401 (600)\ttotal: 1h 10m 11s\tremaining: 1h 9m 57s\n",
            "650:\tlearn: 0.2306907\ttest: 0.2327531\tbest: 0.2327531 (650)\ttotal: 1h 15m 32s\tremaining: 1h 3m 42s\n",
            "700:\tlearn: 0.2285283\ttest: 0.2307327\tbest: 0.2307327 (700)\ttotal: 1h 21m 3s\tremaining: 57m 41s\n",
            "750:\tlearn: 0.2264010\ttest: 0.2287297\tbest: 0.2287297 (750)\ttotal: 1h 26m 22s\tremaining: 51m 38s\n",
            "800:\tlearn: 0.2244946\ttest: 0.2269536\tbest: 0.2269536 (800)\ttotal: 1h 31m 50s\tremaining: 45m 44s\n",
            "850:\tlearn: 0.2225701\ttest: 0.2251470\tbest: 0.2251470 (850)\ttotal: 1h 37m 14s\tremaining: 39m 52s\n",
            "900:\tlearn: 0.2208497\ttest: 0.2235759\tbest: 0.2235759 (900)\ttotal: 1h 42m 39s\tremaining: 34m 4s\n",
            "950:\tlearn: 0.2191470\ttest: 0.2219938\tbest: 0.2219938 (950)\ttotal: 1h 48m 3s\tremaining: 28m 17s\n",
            "1000:\tlearn: 0.2174670\ttest: 0.2204617\tbest: 0.2204617 (1000)\ttotal: 1h 53m 48s\tremaining: 22m 37s\n",
            "1050:\tlearn: 0.2161739\ttest: 0.2193096\tbest: 0.2193096 (1050)\ttotal: 1h 59m 3s\tremaining: 16m 52s\n",
            "1100:\tlearn: 0.2148343\ttest: 0.2180822\tbest: 0.2180822 (1100)\ttotal: 2h 4m 17s\tremaining: 11m 10s\n",
            "1150:\tlearn: 0.2135679\ttest: 0.2169633\tbest: 0.2169633 (1150)\ttotal: 2h 9m 42s\tremaining: 5m 31s\n",
            "1199:\tlearn: 0.2123096\ttest: 0.2158278\tbest: 0.2158278 (1199)\ttotal: 2h 15m 6s\tremaining: 0us\n",
            "\n",
            "bestTest = 0.2158278407\n",
            "bestIteration = 1199\n",
            "\n"
          ]
        },
        {
          "output_type": "execute_result",
          "data": {
            "text/plain": [
              "<catboost.core.CatBoostClassifier at 0x79de86953850>"
            ]
          },
          "metadata": {},
          "execution_count": 16
        }
      ]
    },
    {
      "cell_type": "markdown",
      "metadata": {
        "id": "Ni9kH9uIcCrJ"
      },
      "source": [
        "### Predict"
      ]
    },
    {
      "cell_type": "code",
      "source": [
        "cat_model.save_model(\"/content/drive/MyDrive/cat_model.cbm\")"
      ],
      "metadata": {
        "id": "ajP-xzpiIgz0"
      },
      "execution_count": 17,
      "outputs": []
    },
    {
      "cell_type": "code",
      "execution_count": 18,
      "metadata": {
        "id": "I3LLU0K8cCrJ"
      },
      "outputs": [],
      "source": [
        "X_test.drop(columns=['ID'],inplace=True)"
      ]
    },
    {
      "cell_type": "code",
      "execution_count": 19,
      "metadata": {
        "id": "1vd_7UFocCrJ"
      },
      "outputs": [],
      "source": [
        "# row-level 예측 수행\n",
        "y_test_pred = cat_model.predict(X_test)"
      ]
    },
    {
      "cell_type": "code",
      "source": [
        "# 예측 결과를 변환\n",
        "y_test_pred_labels = le_target.inverse_transform(y_test_pred)\n",
        "\n",
        "# row 단위 예측 결과를 test_data에 추가\n",
        "test_data = test_df.copy()  # 원본 유지\n",
        "test_data.info()"
      ],
      "metadata": {
        "id": "XAClDYpkATdC",
        "colab": {
          "base_uri": "https://localhost:8080/"
        },
        "outputId": "0bb6df31-3707-4394-8cb3-c4ff4d5687b6"
      },
      "execution_count": 20,
      "outputs": [
        {
          "output_type": "stream",
          "name": "stderr",
          "text": [
            "/usr/local/lib/python3.11/dist-packages/sklearn/preprocessing/_label.py:151: DataConversionWarning: A column-vector y was passed when a 1d array was expected. Please change the shape of y to (n_samples, ), for example using ravel().\n",
            "  y = column_or_1d(y, warn=True)\n"
          ]
        },
        {
          "output_type": "stream",
          "name": "stdout",
          "text": [
            "<class 'pandas.core.frame.DataFrame'>\n",
            "RangeIndex: 600000 entries, 0 to 599999\n",
            "Columns: 857 entries, 기준년월 to 혜택수혜율_B0M\n",
            "dtypes: float64(61), int64(747), object(49)\n",
            "memory usage: 3.8+ GB\n"
          ]
        }
      ]
    },
    {
      "cell_type": "code",
      "source": [
        "test_data[\"pred_label\"] = y_test_pred_labels"
      ],
      "metadata": {
        "id": "wd17rNs6AosA"
      },
      "execution_count": 24,
      "outputs": []
    },
    {
      "cell_type": "markdown",
      "metadata": {
        "id": "uSPpB55QcCrJ"
      },
      "source": [
        "### Submission"
      ]
    },
    {
      "cell_type": "code",
      "execution_count": 25,
      "metadata": {
        "id": "YJv8rA-BcCrJ"
      },
      "outputs": [],
      "source": [
        "submission = test_data.groupby(\"ID\")[\"pred_label\"] \\\n",
        "    .agg(lambda x: x.value_counts().idxmax()) \\\n",
        "    .reset_index()\n",
        "\n",
        "submission.columns = [\"ID\", \"Segment\"]"
      ]
    },
    {
      "cell_type": "code",
      "execution_count": 26,
      "metadata": {
        "id": "KwJXGZsucCrJ"
      },
      "outputs": [],
      "source": [
        "submission.to_csv('/content/drive/MyDrive/creditcard_catboost_label_encoding.csv',index=False)"
      ]
    },
    {
      "cell_type": "code",
      "execution_count": 27,
      "metadata": {
        "id": "PZ-CzWwycCrJ"
      },
      "outputs": [],
      "source": [
        "from sklearn.ensemble import RandomForestClassifier"
      ]
    },
    {
      "cell_type": "code",
      "source": [
        "rf_model = RandomForestClassifier(\n",
        "    n_estimators=50,\n",
        "    max_depth=10,\n",
        "    n_jobs=-1,\n",
        "    max_features=\"sqrt\",\n",
        "    random_state=42,\n",
        ")"
      ],
      "metadata": {
        "id": "Vq0Qo4izYUvk"
      },
      "execution_count": 30,
      "outputs": []
    },
    {
      "cell_type": "code",
      "source": [
        "rf_model.fit(X_train, y_train)"
      ],
      "metadata": {
        "colab": {
          "base_uri": "https://localhost:8080/",
          "height": 98
        },
        "id": "jbSNq7mCYka-",
        "outputId": "dcdb3467-4f76-4e76-e0f6-42a694bb0d88"
      },
      "execution_count": 31,
      "outputs": [
        {
          "output_type": "execute_result",
          "data": {
            "text/plain": [
              "RandomForestClassifier(max_depth=10, n_estimators=50, n_jobs=-1,\n",
              "                       random_state=42)"
            ],
            "text/html": [
              "<style>#sk-container-id-1 {\n",
              "  /* Definition of color scheme common for light and dark mode */\n",
              "  --sklearn-color-text: #000;\n",
              "  --sklearn-color-text-muted: #666;\n",
              "  --sklearn-color-line: gray;\n",
              "  /* Definition of color scheme for unfitted estimators */\n",
              "  --sklearn-color-unfitted-level-0: #fff5e6;\n",
              "  --sklearn-color-unfitted-level-1: #f6e4d2;\n",
              "  --sklearn-color-unfitted-level-2: #ffe0b3;\n",
              "  --sklearn-color-unfitted-level-3: chocolate;\n",
              "  /* Definition of color scheme for fitted estimators */\n",
              "  --sklearn-color-fitted-level-0: #f0f8ff;\n",
              "  --sklearn-color-fitted-level-1: #d4ebff;\n",
              "  --sklearn-color-fitted-level-2: #b3dbfd;\n",
              "  --sklearn-color-fitted-level-3: cornflowerblue;\n",
              "\n",
              "  /* Specific color for light theme */\n",
              "  --sklearn-color-text-on-default-background: var(--sg-text-color, var(--theme-code-foreground, var(--jp-content-font-color1, black)));\n",
              "  --sklearn-color-background: var(--sg-background-color, var(--theme-background, var(--jp-layout-color0, white)));\n",
              "  --sklearn-color-border-box: var(--sg-text-color, var(--theme-code-foreground, var(--jp-content-font-color1, black)));\n",
              "  --sklearn-color-icon: #696969;\n",
              "\n",
              "  @media (prefers-color-scheme: dark) {\n",
              "    /* Redefinition of color scheme for dark theme */\n",
              "    --sklearn-color-text-on-default-background: var(--sg-text-color, var(--theme-code-foreground, var(--jp-content-font-color1, white)));\n",
              "    --sklearn-color-background: var(--sg-background-color, var(--theme-background, var(--jp-layout-color0, #111)));\n",
              "    --sklearn-color-border-box: var(--sg-text-color, var(--theme-code-foreground, var(--jp-content-font-color1, white)));\n",
              "    --sklearn-color-icon: #878787;\n",
              "  }\n",
              "}\n",
              "\n",
              "#sk-container-id-1 {\n",
              "  color: var(--sklearn-color-text);\n",
              "}\n",
              "\n",
              "#sk-container-id-1 pre {\n",
              "  padding: 0;\n",
              "}\n",
              "\n",
              "#sk-container-id-1 input.sk-hidden--visually {\n",
              "  border: 0;\n",
              "  clip: rect(1px 1px 1px 1px);\n",
              "  clip: rect(1px, 1px, 1px, 1px);\n",
              "  height: 1px;\n",
              "  margin: -1px;\n",
              "  overflow: hidden;\n",
              "  padding: 0;\n",
              "  position: absolute;\n",
              "  width: 1px;\n",
              "}\n",
              "\n",
              "#sk-container-id-1 div.sk-dashed-wrapped {\n",
              "  border: 1px dashed var(--sklearn-color-line);\n",
              "  margin: 0 0.4em 0.5em 0.4em;\n",
              "  box-sizing: border-box;\n",
              "  padding-bottom: 0.4em;\n",
              "  background-color: var(--sklearn-color-background);\n",
              "}\n",
              "\n",
              "#sk-container-id-1 div.sk-container {\n",
              "  /* jupyter's `normalize.less` sets `[hidden] { display: none; }`\n",
              "     but bootstrap.min.css set `[hidden] { display: none !important; }`\n",
              "     so we also need the `!important` here to be able to override the\n",
              "     default hidden behavior on the sphinx rendered scikit-learn.org.\n",
              "     See: https://github.com/scikit-learn/scikit-learn/issues/21755 */\n",
              "  display: inline-block !important;\n",
              "  position: relative;\n",
              "}\n",
              "\n",
              "#sk-container-id-1 div.sk-text-repr-fallback {\n",
              "  display: none;\n",
              "}\n",
              "\n",
              "div.sk-parallel-item,\n",
              "div.sk-serial,\n",
              "div.sk-item {\n",
              "  /* draw centered vertical line to link estimators */\n",
              "  background-image: linear-gradient(var(--sklearn-color-text-on-default-background), var(--sklearn-color-text-on-default-background));\n",
              "  background-size: 2px 100%;\n",
              "  background-repeat: no-repeat;\n",
              "  background-position: center center;\n",
              "}\n",
              "\n",
              "/* Parallel-specific style estimator block */\n",
              "\n",
              "#sk-container-id-1 div.sk-parallel-item::after {\n",
              "  content: \"\";\n",
              "  width: 100%;\n",
              "  border-bottom: 2px solid var(--sklearn-color-text-on-default-background);\n",
              "  flex-grow: 1;\n",
              "}\n",
              "\n",
              "#sk-container-id-1 div.sk-parallel {\n",
              "  display: flex;\n",
              "  align-items: stretch;\n",
              "  justify-content: center;\n",
              "  background-color: var(--sklearn-color-background);\n",
              "  position: relative;\n",
              "}\n",
              "\n",
              "#sk-container-id-1 div.sk-parallel-item {\n",
              "  display: flex;\n",
              "  flex-direction: column;\n",
              "}\n",
              "\n",
              "#sk-container-id-1 div.sk-parallel-item:first-child::after {\n",
              "  align-self: flex-end;\n",
              "  width: 50%;\n",
              "}\n",
              "\n",
              "#sk-container-id-1 div.sk-parallel-item:last-child::after {\n",
              "  align-self: flex-start;\n",
              "  width: 50%;\n",
              "}\n",
              "\n",
              "#sk-container-id-1 div.sk-parallel-item:only-child::after {\n",
              "  width: 0;\n",
              "}\n",
              "\n",
              "/* Serial-specific style estimator block */\n",
              "\n",
              "#sk-container-id-1 div.sk-serial {\n",
              "  display: flex;\n",
              "  flex-direction: column;\n",
              "  align-items: center;\n",
              "  background-color: var(--sklearn-color-background);\n",
              "  padding-right: 1em;\n",
              "  padding-left: 1em;\n",
              "}\n",
              "\n",
              "\n",
              "/* Toggleable style: style used for estimator/Pipeline/ColumnTransformer box that is\n",
              "clickable and can be expanded/collapsed.\n",
              "- Pipeline and ColumnTransformer use this feature and define the default style\n",
              "- Estimators will overwrite some part of the style using the `sk-estimator` class\n",
              "*/\n",
              "\n",
              "/* Pipeline and ColumnTransformer style (default) */\n",
              "\n",
              "#sk-container-id-1 div.sk-toggleable {\n",
              "  /* Default theme specific background. It is overwritten whether we have a\n",
              "  specific estimator or a Pipeline/ColumnTransformer */\n",
              "  background-color: var(--sklearn-color-background);\n",
              "}\n",
              "\n",
              "/* Toggleable label */\n",
              "#sk-container-id-1 label.sk-toggleable__label {\n",
              "  cursor: pointer;\n",
              "  display: flex;\n",
              "  width: 100%;\n",
              "  margin-bottom: 0;\n",
              "  padding: 0.5em;\n",
              "  box-sizing: border-box;\n",
              "  text-align: center;\n",
              "  align-items: start;\n",
              "  justify-content: space-between;\n",
              "  gap: 0.5em;\n",
              "}\n",
              "\n",
              "#sk-container-id-1 label.sk-toggleable__label .caption {\n",
              "  font-size: 0.6rem;\n",
              "  font-weight: lighter;\n",
              "  color: var(--sklearn-color-text-muted);\n",
              "}\n",
              "\n",
              "#sk-container-id-1 label.sk-toggleable__label-arrow:before {\n",
              "  /* Arrow on the left of the label */\n",
              "  content: \"▸\";\n",
              "  float: left;\n",
              "  margin-right: 0.25em;\n",
              "  color: var(--sklearn-color-icon);\n",
              "}\n",
              "\n",
              "#sk-container-id-1 label.sk-toggleable__label-arrow:hover:before {\n",
              "  color: var(--sklearn-color-text);\n",
              "}\n",
              "\n",
              "/* Toggleable content - dropdown */\n",
              "\n",
              "#sk-container-id-1 div.sk-toggleable__content {\n",
              "  max-height: 0;\n",
              "  max-width: 0;\n",
              "  overflow: hidden;\n",
              "  text-align: left;\n",
              "  /* unfitted */\n",
              "  background-color: var(--sklearn-color-unfitted-level-0);\n",
              "}\n",
              "\n",
              "#sk-container-id-1 div.sk-toggleable__content.fitted {\n",
              "  /* fitted */\n",
              "  background-color: var(--sklearn-color-fitted-level-0);\n",
              "}\n",
              "\n",
              "#sk-container-id-1 div.sk-toggleable__content pre {\n",
              "  margin: 0.2em;\n",
              "  border-radius: 0.25em;\n",
              "  color: var(--sklearn-color-text);\n",
              "  /* unfitted */\n",
              "  background-color: var(--sklearn-color-unfitted-level-0);\n",
              "}\n",
              "\n",
              "#sk-container-id-1 div.sk-toggleable__content.fitted pre {\n",
              "  /* unfitted */\n",
              "  background-color: var(--sklearn-color-fitted-level-0);\n",
              "}\n",
              "\n",
              "#sk-container-id-1 input.sk-toggleable__control:checked~div.sk-toggleable__content {\n",
              "  /* Expand drop-down */\n",
              "  max-height: 200px;\n",
              "  max-width: 100%;\n",
              "  overflow: auto;\n",
              "}\n",
              "\n",
              "#sk-container-id-1 input.sk-toggleable__control:checked~label.sk-toggleable__label-arrow:before {\n",
              "  content: \"▾\";\n",
              "}\n",
              "\n",
              "/* Pipeline/ColumnTransformer-specific style */\n",
              "\n",
              "#sk-container-id-1 div.sk-label input.sk-toggleable__control:checked~label.sk-toggleable__label {\n",
              "  color: var(--sklearn-color-text);\n",
              "  background-color: var(--sklearn-color-unfitted-level-2);\n",
              "}\n",
              "\n",
              "#sk-container-id-1 div.sk-label.fitted input.sk-toggleable__control:checked~label.sk-toggleable__label {\n",
              "  background-color: var(--sklearn-color-fitted-level-2);\n",
              "}\n",
              "\n",
              "/* Estimator-specific style */\n",
              "\n",
              "/* Colorize estimator box */\n",
              "#sk-container-id-1 div.sk-estimator input.sk-toggleable__control:checked~label.sk-toggleable__label {\n",
              "  /* unfitted */\n",
              "  background-color: var(--sklearn-color-unfitted-level-2);\n",
              "}\n",
              "\n",
              "#sk-container-id-1 div.sk-estimator.fitted input.sk-toggleable__control:checked~label.sk-toggleable__label {\n",
              "  /* fitted */\n",
              "  background-color: var(--sklearn-color-fitted-level-2);\n",
              "}\n",
              "\n",
              "#sk-container-id-1 div.sk-label label.sk-toggleable__label,\n",
              "#sk-container-id-1 div.sk-label label {\n",
              "  /* The background is the default theme color */\n",
              "  color: var(--sklearn-color-text-on-default-background);\n",
              "}\n",
              "\n",
              "/* On hover, darken the color of the background */\n",
              "#sk-container-id-1 div.sk-label:hover label.sk-toggleable__label {\n",
              "  color: var(--sklearn-color-text);\n",
              "  background-color: var(--sklearn-color-unfitted-level-2);\n",
              "}\n",
              "\n",
              "/* Label box, darken color on hover, fitted */\n",
              "#sk-container-id-1 div.sk-label.fitted:hover label.sk-toggleable__label.fitted {\n",
              "  color: var(--sklearn-color-text);\n",
              "  background-color: var(--sklearn-color-fitted-level-2);\n",
              "}\n",
              "\n",
              "/* Estimator label */\n",
              "\n",
              "#sk-container-id-1 div.sk-label label {\n",
              "  font-family: monospace;\n",
              "  font-weight: bold;\n",
              "  display: inline-block;\n",
              "  line-height: 1.2em;\n",
              "}\n",
              "\n",
              "#sk-container-id-1 div.sk-label-container {\n",
              "  text-align: center;\n",
              "}\n",
              "\n",
              "/* Estimator-specific */\n",
              "#sk-container-id-1 div.sk-estimator {\n",
              "  font-family: monospace;\n",
              "  border: 1px dotted var(--sklearn-color-border-box);\n",
              "  border-radius: 0.25em;\n",
              "  box-sizing: border-box;\n",
              "  margin-bottom: 0.5em;\n",
              "  /* unfitted */\n",
              "  background-color: var(--sklearn-color-unfitted-level-0);\n",
              "}\n",
              "\n",
              "#sk-container-id-1 div.sk-estimator.fitted {\n",
              "  /* fitted */\n",
              "  background-color: var(--sklearn-color-fitted-level-0);\n",
              "}\n",
              "\n",
              "/* on hover */\n",
              "#sk-container-id-1 div.sk-estimator:hover {\n",
              "  /* unfitted */\n",
              "  background-color: var(--sklearn-color-unfitted-level-2);\n",
              "}\n",
              "\n",
              "#sk-container-id-1 div.sk-estimator.fitted:hover {\n",
              "  /* fitted */\n",
              "  background-color: var(--sklearn-color-fitted-level-2);\n",
              "}\n",
              "\n",
              "/* Specification for estimator info (e.g. \"i\" and \"?\") */\n",
              "\n",
              "/* Common style for \"i\" and \"?\" */\n",
              "\n",
              ".sk-estimator-doc-link,\n",
              "a:link.sk-estimator-doc-link,\n",
              "a:visited.sk-estimator-doc-link {\n",
              "  float: right;\n",
              "  font-size: smaller;\n",
              "  line-height: 1em;\n",
              "  font-family: monospace;\n",
              "  background-color: var(--sklearn-color-background);\n",
              "  border-radius: 1em;\n",
              "  height: 1em;\n",
              "  width: 1em;\n",
              "  text-decoration: none !important;\n",
              "  margin-left: 0.5em;\n",
              "  text-align: center;\n",
              "  /* unfitted */\n",
              "  border: var(--sklearn-color-unfitted-level-1) 1pt solid;\n",
              "  color: var(--sklearn-color-unfitted-level-1);\n",
              "}\n",
              "\n",
              ".sk-estimator-doc-link.fitted,\n",
              "a:link.sk-estimator-doc-link.fitted,\n",
              "a:visited.sk-estimator-doc-link.fitted {\n",
              "  /* fitted */\n",
              "  border: var(--sklearn-color-fitted-level-1) 1pt solid;\n",
              "  color: var(--sklearn-color-fitted-level-1);\n",
              "}\n",
              "\n",
              "/* On hover */\n",
              "div.sk-estimator:hover .sk-estimator-doc-link:hover,\n",
              ".sk-estimator-doc-link:hover,\n",
              "div.sk-label-container:hover .sk-estimator-doc-link:hover,\n",
              ".sk-estimator-doc-link:hover {\n",
              "  /* unfitted */\n",
              "  background-color: var(--sklearn-color-unfitted-level-3);\n",
              "  color: var(--sklearn-color-background);\n",
              "  text-decoration: none;\n",
              "}\n",
              "\n",
              "div.sk-estimator.fitted:hover .sk-estimator-doc-link.fitted:hover,\n",
              ".sk-estimator-doc-link.fitted:hover,\n",
              "div.sk-label-container:hover .sk-estimator-doc-link.fitted:hover,\n",
              ".sk-estimator-doc-link.fitted:hover {\n",
              "  /* fitted */\n",
              "  background-color: var(--sklearn-color-fitted-level-3);\n",
              "  color: var(--sklearn-color-background);\n",
              "  text-decoration: none;\n",
              "}\n",
              "\n",
              "/* Span, style for the box shown on hovering the info icon */\n",
              ".sk-estimator-doc-link span {\n",
              "  display: none;\n",
              "  z-index: 9999;\n",
              "  position: relative;\n",
              "  font-weight: normal;\n",
              "  right: .2ex;\n",
              "  padding: .5ex;\n",
              "  margin: .5ex;\n",
              "  width: min-content;\n",
              "  min-width: 20ex;\n",
              "  max-width: 50ex;\n",
              "  color: var(--sklearn-color-text);\n",
              "  box-shadow: 2pt 2pt 4pt #999;\n",
              "  /* unfitted */\n",
              "  background: var(--sklearn-color-unfitted-level-0);\n",
              "  border: .5pt solid var(--sklearn-color-unfitted-level-3);\n",
              "}\n",
              "\n",
              ".sk-estimator-doc-link.fitted span {\n",
              "  /* fitted */\n",
              "  background: var(--sklearn-color-fitted-level-0);\n",
              "  border: var(--sklearn-color-fitted-level-3);\n",
              "}\n",
              "\n",
              ".sk-estimator-doc-link:hover span {\n",
              "  display: block;\n",
              "}\n",
              "\n",
              "/* \"?\"-specific style due to the `<a>` HTML tag */\n",
              "\n",
              "#sk-container-id-1 a.estimator_doc_link {\n",
              "  float: right;\n",
              "  font-size: 1rem;\n",
              "  line-height: 1em;\n",
              "  font-family: monospace;\n",
              "  background-color: var(--sklearn-color-background);\n",
              "  border-radius: 1rem;\n",
              "  height: 1rem;\n",
              "  width: 1rem;\n",
              "  text-decoration: none;\n",
              "  /* unfitted */\n",
              "  color: var(--sklearn-color-unfitted-level-1);\n",
              "  border: var(--sklearn-color-unfitted-level-1) 1pt solid;\n",
              "}\n",
              "\n",
              "#sk-container-id-1 a.estimator_doc_link.fitted {\n",
              "  /* fitted */\n",
              "  border: var(--sklearn-color-fitted-level-1) 1pt solid;\n",
              "  color: var(--sklearn-color-fitted-level-1);\n",
              "}\n",
              "\n",
              "/* On hover */\n",
              "#sk-container-id-1 a.estimator_doc_link:hover {\n",
              "  /* unfitted */\n",
              "  background-color: var(--sklearn-color-unfitted-level-3);\n",
              "  color: var(--sklearn-color-background);\n",
              "  text-decoration: none;\n",
              "}\n",
              "\n",
              "#sk-container-id-1 a.estimator_doc_link.fitted:hover {\n",
              "  /* fitted */\n",
              "  background-color: var(--sklearn-color-fitted-level-3);\n",
              "}\n",
              "</style><div id=\"sk-container-id-1\" class=\"sk-top-container\"><div class=\"sk-text-repr-fallback\"><pre>RandomForestClassifier(max_depth=10, n_estimators=50, n_jobs=-1,\n",
              "                       random_state=42)</pre><b>In a Jupyter environment, please rerun this cell to show the HTML representation or trust the notebook. <br />On GitHub, the HTML representation is unable to render, please try loading this page with nbviewer.org.</b></div><div class=\"sk-container\" hidden><div class=\"sk-item\"><div class=\"sk-estimator fitted sk-toggleable\"><input class=\"sk-toggleable__control sk-hidden--visually\" id=\"sk-estimator-id-1\" type=\"checkbox\" checked><label for=\"sk-estimator-id-1\" class=\"sk-toggleable__label fitted sk-toggleable__label-arrow\"><div><div>RandomForestClassifier</div></div><div><a class=\"sk-estimator-doc-link fitted\" rel=\"noreferrer\" target=\"_blank\" href=\"https://scikit-learn.org/1.6/modules/generated/sklearn.ensemble.RandomForestClassifier.html\">?<span>Documentation for RandomForestClassifier</span></a><span class=\"sk-estimator-doc-link fitted\">i<span>Fitted</span></span></div></label><div class=\"sk-toggleable__content fitted\"><pre>RandomForestClassifier(max_depth=10, n_estimators=50, n_jobs=-1,\n",
              "                       random_state=42)</pre></div> </div></div></div></div>"
            ]
          },
          "metadata": {},
          "execution_count": 31
        }
      ]
    },
    {
      "cell_type": "code",
      "source": [
        "y_test_pred_rf = rf_model.predict(X_test)\n",
        "y_test_pred_rf_labels = le_target.inverse_transform(y_test_pred_rf)\n"
      ],
      "metadata": {
        "id": "Ms82vJ0IZT6M"
      },
      "execution_count": 32,
      "outputs": []
    },
    {
      "cell_type": "code",
      "source": [
        "test_data_rf = test_df.copy()  # 원본 유지"
      ],
      "metadata": {
        "id": "WJqtUauWZe7_"
      },
      "execution_count": 33,
      "outputs": []
    },
    {
      "cell_type": "code",
      "source": [
        "test_data_rf[\"pred_label\"] = y_test_pred_rf_labels"
      ],
      "metadata": {
        "id": "oE0iJ-8uZiwy"
      },
      "execution_count": 34,
      "outputs": []
    },
    {
      "cell_type": "code",
      "source": [
        "submission = test_data_rf.groupby(\"ID\")[\"pred_label\"] \\\n",
        "    .agg(lambda x: x.value_counts().idxmax()) \\\n",
        "    .reset_index()\n",
        "\n",
        "submission.columns = [\"ID\", \"Segment\"]\n",
        "\n",
        "submission.to_csv('/content/drive/MyDrive/creditcard_randomforest_label_encoding.csv',index=False)"
      ],
      "metadata": {
        "id": "69MgCFR0cznx"
      },
      "execution_count": 36,
      "outputs": []
    }
  ],
  "metadata": {
    "kernelspec": {
      "display_name": "Python 3",
      "name": "python3"
    },
    "language_info": {
      "codemirror_mode": {
        "name": "ipython",
        "version": 3
      },
      "file_extension": ".py",
      "mimetype": "text/x-python",
      "name": "python",
      "nbconvert_exporter": "python",
      "pygments_lexer": "ipython3",
      "version": "3.8.13"
    },
    "colab": {
      "provenance": [],
      "gpuType": "V28",
      "include_colab_link": true
    },
    "accelerator": "TPU"
  },
  "nbformat": 4,
  "nbformat_minor": 0
}