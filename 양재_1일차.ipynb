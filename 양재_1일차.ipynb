{
  "nbformat": 4,
  "nbformat_minor": 0,
  "metadata": {
    "colab": {
      "name": "양재 1일차.ipynb",
      "provenance": [],
      "authorship_tag": "ABX9TyPTlpDtvdZHaU8PRYtBEwzi",
      "include_colab_link": true
    },
    "kernelspec": {
      "name": "python3",
      "display_name": "Python 3"
    },
    "language_info": {
      "name": "python"
    }
  },
  "cells": [
    {
      "cell_type": "markdown",
      "metadata": {
        "id": "view-in-github",
        "colab_type": "text"
      },
      "source": [
        "<a href=\"https://colab.research.google.com/github/Yeyeong99/Aiffel/blob/main/%EC%96%91%EC%9E%AC_1%EC%9D%BC%EC%B0%A8.ipynb\" target=\"_parent\"><img src=\"https://colab.research.google.com/assets/colab-badge.svg\" alt=\"Open In Colab\"/></a>"
      ]
    },
    {
      "cell_type": "markdown",
      "source": [
        "### argument 설정"
      ],
      "metadata": {
        "id": "whIP_zq1IzkB"
      }
    },
    {
      "cell_type": "code",
      "execution_count": null,
      "metadata": {
        "id": "pHbw-Qc14Yt3"
      },
      "outputs": [],
      "source": [
        "def say_hi_couple_default(name1, name2='nobody'):\n",
        "  print(name1 + ', ' + name2 + ' 안녕!')\n"
      ]
    },
    {
      "cell_type": "code",
      "source": [
        "def say_hi_couple_default_wrong(name1='nobody', name2):\n",
        "    print(name1 + ', ' + name2 + ' 안녕!')\n"
      ],
      "metadata": {
        "colab": {
          "base_uri": "https://localhost:8080/",
          "height": 136
        },
        "id": "TbjH8uJ84fkO",
        "outputId": "1c34cf81-36ce-4fd8-c508-861a61d21d85"
      },
      "execution_count": null,
      "outputs": [
        {
          "output_type": "error",
          "ename": "SyntaxError",
          "evalue": "ignored",
          "traceback": [
            "\u001b[0;36m  File \u001b[0;32m\"<ipython-input-2-81cc47e47273>\"\u001b[0;36m, line \u001b[0;32m1\u001b[0m\n\u001b[0;31m    def say_hi_couple_default_wrong(name1='nobody', name2):\u001b[0m\n\u001b[0m                                   ^\u001b[0m\n\u001b[0;31mSyntaxError\u001b[0m\u001b[0;31m:\u001b[0m non-default argument follows default argument\n"
          ]
        }
      ]
    },
    {
      "cell_type": "code",
      "source": [
        "say_hi_couple_default('ㅁ')"
      ],
      "metadata": {
        "colab": {
          "base_uri": "https://localhost:8080/"
        },
        "id": "Pz3m13OM4lHS",
        "outputId": "a9fe9275-fbed-41d9-ae1e-225f56aadf37"
      },
      "execution_count": null,
      "outputs": [
        {
          "output_type": "stream",
          "name": "stdout",
          "text": [
            "ㅁ, nobody 안녕!\n"
          ]
        }
      ]
    },
    {
      "cell_type": "code",
      "source": [
        ""
      ],
      "metadata": {
        "id": "OZAVIfeq4qYK"
      },
      "execution_count": null,
      "outputs": []
    }
  ]
}