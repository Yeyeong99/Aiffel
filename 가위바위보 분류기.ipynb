{
 "cells": [
  {
   "cell_type": "markdown",
   "id": "198ed637",
   "metadata": {},
   "source": [
    "## 가위바위보 분류기 제작\n",
    "### 순서\n",
    "1. 이미지 크기 조절\n",
    "2. load_data() 함수 이용해 학습용 데이터 생성\n",
    "3. 딥러닝 네트워크 설계\n",
    "4. 딥러닝 네트워크 학습시키기\n",
    "5. 테스트"
   ]
  },
  {
   "cell_type": "markdown",
   "id": "61157868",
   "metadata": {},
   "source": [
    "### 1. 이미지 크기 조절"
   ]
  },
  {
   "cell_type": "code",
   "execution_count": 95,
   "id": "b8005a06",
   "metadata": {},
   "outputs": [
    {
     "name": "stdout",
     "output_type": "stream",
     "text": [
      "PIL 라이브러리 import 완료!\n"
     ]
    }
   ],
   "source": [
    "# 이미지 크기 조절을 위해 PIL import\n",
    "\n",
    "from PIL import Image\n",
    "import glob\n",
    "import os\n",
    "import matplotlib.pyplot as plt\n",
    "import numpy as np\n",
    "\n",
    "print(\"PIL 라이브러리 import 완료!\")"
   ]
  },
  {
   "cell_type": "code",
   "execution_count": 96,
   "id": "81b517b3",
   "metadata": {},
   "outputs": [],
   "source": [
    "# 이미지 크기 조절을 위한 함수\n",
    "\n",
    "def resize_images(img_path):\n",
    "    images=glob.glob(img_path + \"/*.jpg\")  \n",
    "    \n",
    "    print(len(images), \" images to be resized.\")\n",
    "\n",
    "    # 파일마다 모두 28x28 사이즈로 바꾸어 저장합니다.\n",
    "    target_size=(28,28)\n",
    "    for img in images:\n",
    "        old_img=Image.open(img)\n",
    "        new_img=old_img.resize(target_size,Image.ANTIALIAS)\n",
    "        new_img.save(img, \"JPEG\")\n",
    "    \n",
    "    print(len(images), \" images resized.\")\n"
   ]
  },
  {
   "cell_type": "code",
   "execution_count": 97,
   "id": "55dd4c81",
   "metadata": {},
   "outputs": [
    {
     "name": "stdout",
     "output_type": "stream",
     "text": [
      "500  images to be resized.\n",
      "500  images resized.\n",
      "가위 이미지 resize 완료!\n"
     ]
    }
   ],
   "source": [
    "# 가위 이미지 크기 조정\n",
    "image_dir_scissor = os.getenv(\"HOME\") + \"/aiffel/rock_scissor_paper/scissor\"\n",
    "resize_images(image_dir_scissor)\n",
    "\n",
    "print(\"가위 이미지 resize 완료!\")"
   ]
  },
  {
   "cell_type": "code",
   "execution_count": 98,
   "id": "bd65a021",
   "metadata": {},
   "outputs": [
    {
     "name": "stdout",
     "output_type": "stream",
     "text": [
      "500  images to be resized.\n",
      "500  images resized.\n",
      "바위 이미지 resize 완료!\n"
     ]
    }
   ],
   "source": [
    "# 바위 이미지 크기 조정\n",
    "image_dir_rock = os.getenv(\"HOME\") + \"/aiffel/rock_scissor_paper/rock\"\n",
    "resize_images(image_dir_rock)\n",
    "print(\"바위 이미지 resize 완료!\")"
   ]
  },
  {
   "cell_type": "code",
   "execution_count": 99,
   "id": "33155907",
   "metadata": {},
   "outputs": [
    {
     "name": "stdout",
     "output_type": "stream",
     "text": [
      "500  images to be resized.\n",
      "500  images resized.\n",
      "보 이미지 resize 완료!\n"
     ]
    }
   ],
   "source": [
    "# 보 이미지 크기 조정\n",
    "image_dir_paper = os.getenv(\"HOME\") + \"/aiffel/rock_scissor_paper/paper\"\n",
    "resize_images(image_dir_paper)\n",
    "print(\"보 이미지 resize 완료!\")"
   ]
  },
  {
   "cell_type": "markdown",
   "id": "6df7aebb",
   "metadata": {},
   "source": [
    "### 2. load_data() 함수 이용해 학습용 데이터 생성"
   ]
  },
  {
   "cell_type": "code",
   "execution_count": 100,
   "id": "0f89da51",
   "metadata": {},
   "outputs": [],
   "source": [
    "# 폴더 위치를 넘겨 받아 가위, 바위, 보를 각각 0, 1, 2로 라벨링 해주는 함수\n",
    "def load_data(img_path, number_of_data=1500):  # 가위바위보 이미지 개수 총합에 주의하세요.\n",
    "    # 가위 : 0, 바위 : 1, 보 : 2\n",
    "    img_size=28\n",
    "    color=3\n",
    "    #이미지 데이터와 라벨(가위 : 0, 바위 : 1, 보 : 2) 데이터를 담을 행렬(matrix) 영역을 생성합니다.\n",
    "    imgs=np.zeros(number_of_data*img_size*img_size*color,dtype=np.int32).reshape(number_of_data,img_size,img_size,color)\n",
    "    labels=np.zeros(number_of_data,dtype=np.int32)\n",
    "\n",
    "    idx=0\n",
    "    for file in glob.iglob(img_path+'/scissor/*.jpg'):\n",
    "        img = np.array(Image.open(file),dtype=np.int32)\n",
    "        imgs[idx,:,:,:]=img    # 데이터 영역에 이미지 행렬을 복사\n",
    "        labels[idx]=0   # 가위 : 0\n",
    "        idx=idx+1\n",
    "\n",
    "    for file in glob.iglob(img_path+'/rock/*.jpg'):\n",
    "        img = np.array(Image.open(file),dtype=np.int32)\n",
    "        imgs[idx,:,:,:]=img    # 데이터 영역에 이미지 행렬을 복사\n",
    "        labels[idx]=1   # 바위 : 1\n",
    "        idx=idx+1  \n",
    "    \n",
    "    for file in glob.iglob(img_path+'/paper/*.jpg'):\n",
    "        img = np.array(Image.open(file),dtype=np.int32)\n",
    "        imgs[idx,:,:,:]=img    # 데이터 영역에 이미지 행렬을 복사\n",
    "        labels[idx]=2   # 보 : 2\n",
    "        idx=idx+1\n",
    "        \n",
    "    print(\"데이터의 이미지 개수는\", idx,\"입니다.\")\n",
    "    return imgs, labels"
   ]
  },
  {
   "cell_type": "code",
   "execution_count": 101,
   "id": "c1ddf830",
   "metadata": {},
   "outputs": [
    {
     "name": "stdout",
     "output_type": "stream",
     "text": [
      "데이터의 이미지 개수는 1500 입니다.\n",
      "x_train shape: (1500, 28, 28, 3)\n",
      "y_train shape: (1500,)\n"
     ]
    }
   ],
   "source": [
    "image_dir_path = os.getenv(\"HOME\") + \"/aiffel/rock_scissor_paper\"\n",
    "(x_train, y_train)=load_data(image_dir_path)\n",
    "x_train_norm = x_train/255.0   # 입력은 0~1 사이의 값으로 정규화\n",
    "\n",
    "print(\"x_train shape: {}\".format(x_train.shape))\n",
    "print(\"y_train shape: {}\".format(y_train.shape))"
   ]
  },
  {
   "cell_type": "code",
   "execution_count": 102,
   "id": "90291a06",
   "metadata": {},
   "outputs": [
    {
     "name": "stdout",
     "output_type": "stream",
     "text": [
      "라벨:  0\n"
     ]
    },
    {
     "data": {
      "image/png": "[encoded data removed]",
      "text/plain": [
       "<Figure size 432x288 with 1 Axes>"
      ]
     },
     "metadata": {
      "needs_background": "light"
     },
     "output_type": "display_data"
    }
   ],
   "source": [
    "# 이미지 확인\n",
    "plt.imshow(x_train_norm[0])\n",
    "print('라벨: ', y_train[0])"
   ]
  },
  {
   "cell_type": "markdown",
   "id": "b70083d6",
   "metadata": {},
   "source": [
    "### 3. 딥러닝 네트워크 설계하기"
   ]
  },
  {
   "cell_type": "code",
   "execution_count": 103,
   "id": "e6304ffd",
   "metadata": {},
   "outputs": [
    {
     "name": "stdout",
     "output_type": "stream",
     "text": [
      "Model에 추가된 Layer 개수:  7\n",
      "Model: \"sequential_8\"\n",
      "_________________________________________________________________\n",
      "Layer (type)                 Output Shape              Param #   \n",
      "=================================================================\n",
      "conv2d_16 (Conv2D)           (None, 26, 26, 32)        896       \n",
      "_________________________________________________________________\n",
      "max_pooling2d_16 (MaxPooling (None, 13, 13, 32)        0         \n",
      "_________________________________________________________________\n",
      "conv2d_17 (Conv2D)           (None, 11, 11, 32)        9248      \n",
      "_________________________________________________________________\n",
      "max_pooling2d_17 (MaxPooling (None, 5, 5, 32)          0         \n",
      "_________________________________________________________________\n",
      "flatten_8 (Flatten)          (None, 800)               0         \n",
      "_________________________________________________________________\n",
      "dense_16 (Dense)             (None, 32)                25632     \n",
      "_________________________________________________________________\n",
      "dense_17 (Dense)             (None, 3)                 99        \n",
      "=================================================================\n",
      "Total params: 35,875\n",
      "Trainable params: 35,875\n",
      "Non-trainable params: 0\n",
      "_________________________________________________________________\n"
     ]
    }
   ],
   "source": [
    "import tensorflow as tf\n",
    "from tensorflow import keras\n",
    "import numpy as np\n",
    "\n",
    "n_channel_1=32\n",
    "n_channel_2=32\n",
    "n_dense=32\n",
    "n_train_epoch=10\n",
    "\n",
    "model=keras.models.Sequential()\n",
    "model.add(keras.layers.Conv2D(n_channel_1, (3,3), activation='relu', input_shape=(28,28,3)))\n",
    "model.add(keras.layers.MaxPool2D(2,2))\n",
    "model.add(keras.layers.Conv2D(n_channel_2, (3,3), activation='relu'))\n",
    "model.add(keras.layers.MaxPooling2D((2,2)))\n",
    "model.add(keras.layers.Flatten())\n",
    "model.add(keras.layers.Dense(n_dense, activation='relu'))\n",
    "model.add(keras.layers.Dense(3, activation='softmax'))\n",
    "\n",
    "print('Model에 추가된 Layer 개수: ', len(model.layers))\n",
    "model.summary()"
   ]
  },
  {
   "cell_type": "markdown",
   "id": "56475508",
   "metadata": {},
   "source": [
    "### 4. 딥러닝 네트워크 학습시키기"
   ]
  },
  {
   "cell_type": "code",
   "execution_count": 104,
   "id": "e56d8482",
   "metadata": {},
   "outputs": [
    {
     "name": "stdout",
     "output_type": "stream",
     "text": [
      "Epoch 1/20\n",
      "47/47 [==============================] - 0s 3ms/step - loss: 1.0824 - accuracy: 0.3827\n",
      "Epoch 2/20\n",
      "47/47 [==============================] - 0s 3ms/step - loss: 1.0070 - accuracy: 0.4440\n",
      "Epoch 3/20\n",
      "47/47 [==============================] - 0s 3ms/step - loss: 0.9427 - accuracy: 0.5033\n",
      "Epoch 4/20\n",
      "47/47 [==============================] - 0s 3ms/step - loss: 0.8806 - accuracy: 0.5700\n",
      "Epoch 5/20\n",
      "47/47 [==============================] - 0s 3ms/step - loss: 0.8040 - accuracy: 0.6440\n",
      "Epoch 6/20\n",
      "47/47 [==============================] - 0s 3ms/step - loss: 0.7468 - accuracy: 0.6827\n",
      "Epoch 7/20\n",
      "47/47 [==============================] - 0s 3ms/step - loss: 0.6690 - accuracy: 0.7407\n",
      "Epoch 8/20\n",
      "47/47 [==============================] - 0s 3ms/step - loss: 0.5794 - accuracy: 0.7820\n",
      "Epoch 9/20\n",
      "47/47 [==============================] - 0s 3ms/step - loss: 0.5289 - accuracy: 0.8040\n",
      "Epoch 10/20\n",
      "47/47 [==============================] - 0s 3ms/step - loss: 0.4850 - accuracy: 0.8187\n",
      "Epoch 11/20\n",
      "47/47 [==============================] - 0s 3ms/step - loss: 0.4201 - accuracy: 0.8593\n",
      "Epoch 12/20\n",
      "47/47 [==============================] - 0s 3ms/step - loss: 0.3906 - accuracy: 0.8527\n",
      "Epoch 13/20\n",
      "47/47 [==============================] - 0s 3ms/step - loss: 0.3703 - accuracy: 0.8687\n",
      "Epoch 14/20\n",
      "47/47 [==============================] - 0s 3ms/step - loss: 0.3072 - accuracy: 0.8967\n",
      "Epoch 15/20\n",
      "47/47 [==============================] - 0s 3ms/step - loss: 0.2720 - accuracy: 0.9140\n",
      "Epoch 16/20\n",
      "47/47 [==============================] - 0s 3ms/step - loss: 0.2575 - accuracy: 0.9060\n",
      "Epoch 17/20\n",
      "47/47 [==============================] - 0s 3ms/step - loss: 0.2185 - accuracy: 0.9293\n",
      "Epoch 18/20\n",
      "47/47 [==============================] - 0s 3ms/step - loss: 0.2081 - accuracy: 0.9327\n",
      "Epoch 19/20\n",
      "47/47 [==============================] - 0s 3ms/step - loss: 0.1725 - accuracy: 0.9440\n",
      "Epoch 20/20\n",
      "47/47 [==============================] - 0s 3ms/step - loss: 0.1681 - accuracy: 0.9460\n"
     ]
    },
    {
     "data": {
      "text/plain": [
       "<keras.callbacks.History at 0x7fa0734718e0>"
      ]
     },
     "execution_count": 104,
     "metadata": {},
     "output_type": "execute_result"
    }
   ],
   "source": [
    "model.compile(optimizer='adam',\n",
    "             loss='sparse_categorical_crossentropy',\n",
    "             metrics=['accuracy'])\n",
    "\n",
    "model.fit(x_train_norm, y_train, epochs=20)"
   ]
  },
  {
   "cell_type": "markdown",
   "id": "e1148b94",
   "metadata": {},
   "source": [
    "### 5. 테스트"
   ]
  },
  {
   "cell_type": "code",
   "execution_count": 105,
   "id": "216f8577",
   "metadata": {},
   "outputs": [
    {
     "name": "stdout",
     "output_type": "stream",
     "text": [
      "100  images to be resized.\n",
      "100  images resized.\n",
      "100  images to be resized.\n",
      "100  images resized.\n",
      "100  images to be resized.\n",
      "100  images resized.\n",
      "데이터의 이미지 개수는 300 입니다.\n",
      "x_test shape: (1500, 28, 28, 3)\n",
      "y_test shape: (1500,)\n"
     ]
    }
   ],
   "source": [
    "# test 용 데이터 생성\n",
    "image_dir_s_test = os.getenv(\"HOME\") + \"/aiffel/rock_scissor_paper/test/scissor\"\n",
    "resize_images(image_dir_s_test)\n",
    "\n",
    "image_dir_r_test = os.getenv(\"HOME\") + \"/aiffel/rock_scissor_paper/test/rock\"\n",
    "resize_images(image_dir_r_test)\n",
    "\n",
    "image_dir_p_test = os.getenv(\"HOME\") + \"/aiffel/rock_scissor_paper/test/paper\"\n",
    "resize_images(image_dir_p_test)\n",
    "\n",
    "image_dir_test = os.getenv(\"HOME\") + \"/aiffel/rock_scissor_paper/test\"\n",
    "(x_test, y_test)=load_data(image_dir_test)\n",
    "x_test_norm = x_test/255.0   # 입력은 0~1 사이의 값으로 정규화\n",
    "\n",
    "print(\"x_test shape: {}\".format(x_test_norm.shape))\n",
    "print(\"y_test shape: {}\".format(y_test.shape))"
   ]
  },
  {
   "cell_type": "code",
   "execution_count": 106,
   "id": "e0d62dfe",
   "metadata": {},
   "outputs": [
    {
     "name": "stdout",
     "output_type": "stream",
     "text": [
      "47/47 - 0s - loss: 1.1231 - accuracy: 0.8973\n",
      "test_loss: 1.1231224536895752 \n",
      "test_accuracy: 0.8973333239555359\n"
     ]
    }
   ],
   "source": [
    "# test accuracy 측정\n",
    "test_loss, test_accuracy = model.evaluate(x_test_norm,y_test, verbose=2)\n",
    "print(\"test_loss: {} \".format(test_loss))\n",
    "print(\"test_accuracy: {}\".format(test_accuracy))"
   ]
  },
  {
   "cell_type": "markdown",
   "id": "fd2f8f39",
   "metadata": {},
   "source": [
    "### 결과 정리\n",
    "\n",
    "1. 처음 주어진 300개의 데이터로만 학습했을 때는 test accuracy가 대략 33%\n",
    "2. 네트워크 설계 단계에서 하이퍼파라미터를 변경해봤지만 성능이 크게 향상되지 않음\n",
    "3. 데이터의 수를 1500으로 늘리고 epoch를 10으로 설정한 후 시도 했을 때 대략 90퍼센트 내외의 정확도가 나옴.\n",
    "4. 데이터 수를 1500으로 고정한 뒤 학습을 시킬 때 epochs를 20으로 조정해 테스트를 시도하니 약 90퍼센트의 정확도까지 도달함."
   ]
  }
 ],
 "metadata": {
  "kernelspec": {
   "display_name": "Python 3 (ipykernel)",
   "language": "python",
   "name": "python3"
  },
  "language_info": {
   "codemirror_mode": {
    "name": "ipython",
    "version": 3
   },
   "file_extension": ".py",
   "mimetype": "text/x-python",
   "name": "python",
   "nbconvert_exporter": "python",
   "pygments_lexer": "ipython3",
   "version": "3.9.7"
  }
 },
 "nbformat": 4,
 "nbformat_minor": 5
}
