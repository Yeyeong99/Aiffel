{
  "nbformat": 4,
  "nbformat_minor": 0,
  "metadata": {
    "colab": {
      "name": "Breast_cancer.ipynb",
      "provenance": [],
      "collapsed_sections": [],
      "authorship_tag": "ABX9TyPZNdtWnGvg5sbg2Egfh1Ar",
      "include_colab_link": true
    },
    "kernelspec": {
      "name": "python3",
      "display_name": "Python 3"
    },
    "language_info": {
      "name": "python"
    }
  },
  "cells": [
    {
      "cell_type": "markdown",
      "metadata": {
        "id": "view-in-github",
        "colab_type": "text"
      },
      "source": [
        "<a href=\"https://colab.research.google.com/github/Yeyeong99/Aiffel/blob/main/%EB%A8%B8%EC%8B%A0%EB%9F%AC%EB%8B%9D%20%EC%8B%A4%EC%8A%B5/%EC%96%91%EC%9E%AC%208%EC%9D%BC%EC%B0%A8/Breast_cancer.ipynb\" target=\"_parent\"><img src=\"https://colab.research.google.com/assets/colab-badge.svg\" alt=\"Open In Colab\"/></a>"
      ]
    },
    {
      "cell_type": "markdown",
      "source": [
        "## 유방암 양성 / 음성 판단\n",
        "\n",
        "### 순서\n",
        "1. import module\n",
        "2. 데이터 준비\n",
        "3. 데이터 확인\n",
        "4. train, test 데이터 셋 분리\n",
        "5. 다양한 모델로 학습\n",
        "6. 모델 평가"
      ],
      "metadata": {
        "id": "kGlYN3cXaXeG"
      }
    },
    {
      "cell_type": "markdown",
      "source": [
        "### 1. module import"
      ],
      "metadata": {
        "id": "gPgUrAiSbjIj"
      }
    },
    {
      "cell_type": "code",
      "execution_count": 1,
      "metadata": {
        "id": "24MRmyfAZgkE"
      },
      "outputs": [],
      "source": [
        "from sklearn.datasets import load_breast_cancer\n",
        "from sklearn.model_selection import train_test_split\n",
        "from sklearn.metrics import classification_report, accuracy_score, recall_score\n",
        "from sklearn.tree import DecisionTreeClassifier\n",
        "from sklearn.ensemble import RandomForestClassifier\n",
        "from sklearn import svm\n",
        "from sklearn.linear_model import SGDClassifier\n",
        "from sklearn.linear_model import LogisticRegression\n",
        "\n",
        "import pandas as pd"
      ]
    },
    {
      "cell_type": "markdown",
      "source": [
        "### 2. 데이터 준비"
      ],
      "metadata": {
        "id": "1CENdUqhbLlS"
      }
    },
    {
      "cell_type": "code",
      "source": [
        "bc = load_breast_cancer()"
      ],
      "metadata": {
        "id": "Hjh9f3mQaVKJ"
      },
      "execution_count": 2,
      "outputs": []
    },
    {
      "cell_type": "markdown",
      "source": [
        "### 3. 데이터 확인"
      ],
      "metadata": {
        "id": "iAd1tKIyba20"
      }
    },
    {
      "cell_type": "code",
      "source": [
        "bc_data = bc.data\n",
        "bc_feature = bc.feature_names\n",
        "bc_label = bc.target\n",
        "\n",
        "bc_df = pd.DataFrame(data=bc_data, columns=bc_feature)\n",
        "bc_df['label'] = bc.target\n",
        "print(\"Breast Cancer labels:\", bc_label)\n",
        "print()\n",
        "print(bc_df)\n",
        "print()\n",
        "print(bc_df.describe())"
      ],
      "metadata": {
        "colab": {
          "base_uri": "https://localhost:8080/"
        },
        "id": "n5JOGDwAa4ig",
        "outputId": "f0c4512d-6802-4777-9a1d-949267c51613"
      },
      "execution_count": 3,
      "outputs": [
        {
          "output_type": "stream",
          "name": "stdout",
          "text": [
            "Breast Cancer labels: [0 0 0 0 0 0 0 0 0 0 0 0 0 0 0 0 0 0 0 1 1 1 0 0 0 0 0 0 0 0 0 0 0 0 0 0 0\n",
            " 1 0 0 0 0 0 0 0 0 1 0 1 1 1 1 1 0 0 1 0 0 1 1 1 1 0 1 0 0 1 1 1 1 0 1 0 0\n",
            " 1 0 1 0 0 1 1 1 0 0 1 0 0 0 1 1 1 0 1 1 0 0 1 1 1 0 0 1 1 1 1 0 1 1 0 1 1\n",
            " 1 1 1 1 1 1 0 0 0 1 0 0 1 1 1 0 0 1 0 1 0 0 1 0 0 1 1 0 1 1 0 1 1 1 1 0 1\n",
            " 1 1 1 1 1 1 1 1 0 1 1 1 1 0 0 1 0 1 1 0 0 1 1 0 0 1 1 1 1 0 1 1 0 0 0 1 0\n",
            " 1 0 1 1 1 0 1 1 0 0 1 0 0 0 0 1 0 0 0 1 0 1 0 1 1 0 1 0 0 0 0 1 1 0 0 1 1\n",
            " 1 0 1 1 1 1 1 0 0 1 1 0 1 1 0 0 1 0 1 1 1 1 0 1 1 1 1 1 0 1 0 0 0 0 0 0 0\n",
            " 0 0 0 0 0 0 0 1 1 1 1 1 1 0 1 0 1 1 0 1 1 0 1 0 0 1 1 1 1 1 1 1 1 1 1 1 1\n",
            " 1 0 1 1 0 1 0 1 1 1 1 1 1 1 1 1 1 1 1 1 1 0 1 1 1 0 1 0 1 1 1 1 0 0 0 1 1\n",
            " 1 1 0 1 0 1 0 1 1 1 0 1 1 1 1 1 1 1 0 0 0 1 1 1 1 1 1 1 1 1 1 1 0 0 1 0 0\n",
            " 0 1 0 0 1 1 1 1 1 0 1 1 1 1 1 0 1 1 1 0 1 1 0 0 1 1 1 1 1 1 0 1 1 1 1 1 1\n",
            " 1 0 1 1 1 1 1 0 1 1 0 1 1 1 1 1 1 1 1 1 1 1 1 0 1 0 0 1 0 1 1 1 1 1 0 1 1\n",
            " 0 1 0 1 1 0 1 0 1 1 1 1 1 1 1 1 0 0 1 1 1 1 1 1 0 1 1 1 1 1 1 1 1 1 1 0 1\n",
            " 1 1 1 1 1 1 0 1 0 1 1 0 1 1 1 1 1 0 0 1 0 1 0 1 1 1 1 1 0 1 1 0 1 0 1 0 0\n",
            " 1 1 1 0 1 1 1 1 1 1 1 1 1 1 1 0 1 0 0 1 1 1 1 1 1 1 1 1 1 1 1 1 1 1 1 1 1\n",
            " 1 1 1 1 1 1 1 0 0 0 0 0 0 1]\n",
            "\n",
            "     mean radius  mean texture  ...  worst fractal dimension  label\n",
            "0          17.99         10.38  ...                  0.11890      0\n",
            "1          20.57         17.77  ...                  0.08902      0\n",
            "2          19.69         21.25  ...                  0.08758      0\n",
            "3          11.42         20.38  ...                  0.17300      0\n",
            "4          20.29         14.34  ...                  0.07678      0\n",
            "..           ...           ...  ...                      ...    ...\n",
            "564        21.56         22.39  ...                  0.07115      0\n",
            "565        20.13         28.25  ...                  0.06637      0\n",
            "566        16.60         28.08  ...                  0.07820      0\n",
            "567        20.60         29.33  ...                  0.12400      0\n",
            "568         7.76         24.54  ...                  0.07039      1\n",
            "\n",
            "[569 rows x 31 columns]\n",
            "\n",
            "       mean radius  mean texture  ...  worst fractal dimension       label\n",
            "count   569.000000    569.000000  ...               569.000000  569.000000\n",
            "mean     14.127292     19.289649  ...                 0.083946    0.627417\n",
            "std       3.524049      4.301036  ...                 0.018061    0.483918\n",
            "min       6.981000      9.710000  ...                 0.055040    0.000000\n",
            "25%      11.700000     16.170000  ...                 0.071460    0.000000\n",
            "50%      13.370000     18.840000  ...                 0.080040    1.000000\n",
            "75%      15.780000     21.800000  ...                 0.092080    1.000000\n",
            "max      28.110000     39.280000  ...                 0.207500    1.000000\n",
            "\n",
            "[8 rows x 31 columns]\n"
          ]
        }
      ]
    },
    {
      "cell_type": "markdown",
      "source": [
        "### 4. train, test 데이터 분리"
      ],
      "metadata": {
        "id": "6XAaOOUwd0RD"
      }
    },
    {
      "cell_type": "code",
      "source": [
        "X_train, X_test, y_train, y_test = train_test_split(bc_data, bc_label, test_size=0.1, random_state=7)\n",
        "print('X_train 개수: ', len(X_train),', X_test 개수: ', len(X_test))"
      ],
      "metadata": {
        "colab": {
          "base_uri": "https://localhost:8080/"
        },
        "id": "7B7KqlgncHwQ",
        "outputId": "444e171b-c6e7-4e10-fcd1-7e6cc70d6ed9"
      },
      "execution_count": 4,
      "outputs": [
        {
          "output_type": "stream",
          "name": "stdout",
          "text": [
            "X_train 개수:  512 , X_test 개수:  57\n"
          ]
        }
      ]
    },
    {
      "cell_type": "markdown",
      "source": [
        "### 5. 다양한 모델로 학습\n",
        "##### 1) Decision Tree"
      ],
      "metadata": {
        "id": "sBh9UHLeeNM2"
      }
    },
    {
      "cell_type": "code",
      "source": [
        "decision_tree = DecisionTreeClassifier(random_state=32, max_depth=3)\n",
        "decision_tree.fit(X_train, y_train)\n",
        "dt_y_pred = decision_tree.predict(X_test)"
      ],
      "metadata": {
        "id": "rCLb_XO1eC1n"
      },
      "execution_count": 5,
      "outputs": []
    },
    {
      "cell_type": "markdown",
      "source": [
        "2) Random Forest"
      ],
      "metadata": {
        "id": "uDszkqDBfUrc"
      }
    },
    {
      "cell_type": "code",
      "source": [
        "random_forest = RandomForestClassifier(random_state=32, n_estimators=30)\n",
        "random_forest.fit(X_train, y_train)\n",
        "r_y_pred = random_forest.predict(X_test)"
      ],
      "metadata": {
        "id": "7HhlsozLfa5T"
      },
      "execution_count": 6,
      "outputs": []
    },
    {
      "cell_type": "markdown",
      "source": [
        "3) SVM"
      ],
      "metadata": {
        "id": "bvv076A9gSPn"
      }
    },
    {
      "cell_type": "code",
      "source": [
        "svm_model = svm.SVC()\n",
        "svm_model.fit(X_train, y_train)\n",
        "svm_y_pred = svm_model.predict(X_test)"
      ],
      "metadata": {
        "id": "7NNDU2tigXUp"
      },
      "execution_count": 7,
      "outputs": []
    },
    {
      "cell_type": "markdown",
      "source": [
        "4) SGD Classifier"
      ],
      "metadata": {
        "id": "qn8Um49-gXnI"
      }
    },
    {
      "cell_type": "code",
      "source": [
        "sgd_model = SGDClassifier()\n",
        "sgd_model.fit(X_train, y_train)\n",
        "sgd_y_pred = random_forest.predict(X_test)"
      ],
      "metadata": {
        "id": "Vu7xJuLQgX2T"
      },
      "execution_count": 8,
      "outputs": []
    },
    {
      "cell_type": "markdown",
      "source": [
        "5) Logistic Regression"
      ],
      "metadata": {
        "id": "qQQRdwQDgYKe"
      }
    },
    {
      "cell_type": "code",
      "source": [
        "logistic_model = LogisticRegression(max_iter=500)\n",
        "logistic_model.fit(X_train, y_train)\n",
        "l_y_pred = logistic_model.predict(X_test)"
      ],
      "metadata": {
        "id": "lpSb4LJrgYYQ",
        "colab": {
          "base_uri": "https://localhost:8080/"
        },
        "outputId": "9e5f8571-41de-4c15-cf95-bdbb2cff314f"
      },
      "execution_count": 9,
      "outputs": [
        {
          "output_type": "stream",
          "name": "stderr",
          "text": [
            "/usr/local/lib/python3.7/dist-packages/sklearn/linear_model/_logistic.py:818: ConvergenceWarning: lbfgs failed to converge (status=1):\n",
            "STOP: TOTAL NO. of ITERATIONS REACHED LIMIT.\n",
            "\n",
            "Increase the number of iterations (max_iter) or scale the data as shown in:\n",
            "    https://scikit-learn.org/stable/modules/preprocessing.html\n",
            "Please also refer to the documentation for alternative solver options:\n",
            "    https://scikit-learn.org/stable/modules/linear_model.html#logistic-regression\n",
            "  extra_warning_msg=_LOGISTIC_SOLVER_CONVERGENCE_MSG,\n"
          ]
        }
      ]
    },
    {
      "cell_type": "markdown",
      "source": [
        "### 6. 모델 평가"
      ],
      "metadata": {
        "id": "KZ-GNqduhQZE"
      }
    },
    {
      "cell_type": "markdown",
      "source": [
        "1) Decision Tree"
      ],
      "metadata": {
        "id": "u44_1_sAiJFg"
      }
    },
    {
      "cell_type": "code",
      "source": [
        "print(\"classification_report\")\n",
        "print(classification_report(y_test, dt_y_pred))"
      ],
      "metadata": {
        "colab": {
          "base_uri": "https://localhost:8080/"
        },
        "id": "K1qe0N8bgAxN",
        "outputId": "02750021-7894-4a06-8f13-7058a258907b"
      },
      "execution_count": 10,
      "outputs": [
        {
          "output_type": "stream",
          "name": "stdout",
          "text": [
            "classification_report\n",
            "              precision    recall  f1-score   support\n",
            "\n",
            "           0       0.94      0.74      0.83        23\n",
            "           1       0.85      0.97      0.90        34\n",
            "\n",
            "    accuracy                           0.88        57\n",
            "   macro avg       0.90      0.85      0.87        57\n",
            "weighted avg       0.89      0.88      0.87        57\n",
            "\n"
          ]
        }
      ]
    },
    {
      "cell_type": "markdown",
      "source": [
        "2) Random Forest"
      ],
      "metadata": {
        "id": "iNMRmWb4iOB9"
      }
    },
    {
      "cell_type": "code",
      "source": [
        "print(\"classification_report\")\n",
        "print(classification_report(y_test, r_y_pred))"
      ],
      "metadata": {
        "colab": {
          "base_uri": "https://localhost:8080/"
        },
        "id": "Tmm7HmBriRAX",
        "outputId": "6968ec23-b97d-43b8-8ea6-76fbb916976e"
      },
      "execution_count": 11,
      "outputs": [
        {
          "output_type": "stream",
          "name": "stdout",
          "text": [
            "classification_report\n",
            "              precision    recall  f1-score   support\n",
            "\n",
            "           0       1.00      0.96      0.98        23\n",
            "           1       0.97      1.00      0.99        34\n",
            "\n",
            "    accuracy                           0.98        57\n",
            "   macro avg       0.99      0.98      0.98        57\n",
            "weighted avg       0.98      0.98      0.98        57\n",
            "\n"
          ]
        }
      ]
    },
    {
      "cell_type": "markdown",
      "source": [
        "3) SVM"
      ],
      "metadata": {
        "id": "fbuTQbRIhQcr"
      }
    },
    {
      "cell_type": "code",
      "source": [
        "print(\"classification_report\")\n",
        "print(classification_report(y_test, svm_y_pred))"
      ],
      "metadata": {
        "colab": {
          "base_uri": "https://localhost:8080/"
        },
        "id": "AE3VsHQYiTSE",
        "outputId": "692ec535-5fe0-43f1-d5b9-9596e914b64b"
      },
      "execution_count": 12,
      "outputs": [
        {
          "output_type": "stream",
          "name": "stdout",
          "text": [
            "classification_report\n",
            "              precision    recall  f1-score   support\n",
            "\n",
            "           0       1.00      0.65      0.79        23\n",
            "           1       0.81      1.00      0.89        34\n",
            "\n",
            "    accuracy                           0.86        57\n",
            "   macro avg       0.90      0.83      0.84        57\n",
            "weighted avg       0.89      0.86      0.85        57\n",
            "\n"
          ]
        }
      ]
    },
    {
      "cell_type": "markdown",
      "source": [
        "4) SGD Classifier"
      ],
      "metadata": {
        "id": "ZD0nqouQiURN"
      }
    },
    {
      "cell_type": "code",
      "source": [
        "print(\"classification_report\")\n",
        "print(classification_report(y_test, sgd_y_pred))"
      ],
      "metadata": {
        "colab": {
          "base_uri": "https://localhost:8080/"
        },
        "id": "DQU0wL2diWOU",
        "outputId": "d6ed2238-fca2-4de9-fbd4-19cbef6d5296"
      },
      "execution_count": 13,
      "outputs": [
        {
          "output_type": "stream",
          "name": "stdout",
          "text": [
            "classification_report\n",
            "              precision    recall  f1-score   support\n",
            "\n",
            "           0       1.00      0.96      0.98        23\n",
            "           1       0.97      1.00      0.99        34\n",
            "\n",
            "    accuracy                           0.98        57\n",
            "   macro avg       0.99      0.98      0.98        57\n",
            "weighted avg       0.98      0.98      0.98        57\n",
            "\n"
          ]
        }
      ]
    },
    {
      "cell_type": "markdown",
      "source": [
        "5) Logistic Regression"
      ],
      "metadata": {
        "id": "8FOlqfSdiW3A"
      }
    },
    {
      "cell_type": "code",
      "source": [
        "print(\"classification_report\")\n",
        "print(classification_report(y_test, l_y_pred))"
      ],
      "metadata": {
        "colab": {
          "base_uri": "https://localhost:8080/"
        },
        "id": "a6A-fGiSiYoX",
        "outputId": "a628a28c-6f00-4277-8e74-4419cded0b6b"
      },
      "execution_count": 14,
      "outputs": [
        {
          "output_type": "stream",
          "name": "stdout",
          "text": [
            "classification_report\n",
            "              precision    recall  f1-score   support\n",
            "\n",
            "           0       1.00      0.78      0.88        23\n",
            "           1       0.87      1.00      0.93        34\n",
            "\n",
            "    accuracy                           0.91        57\n",
            "   macro avg       0.94      0.89      0.90        57\n",
            "weighted avg       0.92      0.91      0.91        57\n",
            "\n"
          ]
        }
      ]
    },
    {
      "cell_type": "markdown",
      "source": [
        "6) 분석\n",
        "\n",
        "암의 양성, 음성 여부를 판단하는 데 있어선 암을 양성인데 음성으로 판단할 경우를 최대한 배제해야한다. 따라서 positive를 negative로 판단하는 경우인 FN에 대한 판단이 반영되는 Recall을 기준으로 성능을 비교할 것이다."
      ],
      "metadata": {
        "id": "MWiRfUMFyGXk"
      }
    },
    {
      "cell_type": "markdown",
      "source": [
        "> 모델 별 recall 순위"
      ],
      "metadata": {
        "id": "xeJZ9EAQyK4k"
      }
    },
    {
      "cell_type": "code",
      "source": [
        "recall_dict = {'decision_tree': recall_score(y_test, dt_y_pred), \n",
        "                 'random_forest': recall_score(y_test, r_y_pred), \n",
        "                 'svm': recall_score(y_test, svm_y_pred), \n",
        "                 'sgd': recall_score(y_test, sgd_y_pred), \n",
        "                 'logistic_regression': recall_score(y_test, l_y_pred)}\n",
        "recall_dict_items = recall_dict.items()\n",
        "recall_dict_items = sorted(recall_dict_items, key=lambda x:x[1], reverse=True)\n",
        "recall_dict_items"
      ],
      "metadata": {
        "colab": {
          "base_uri": "https://localhost:8080/"
        },
        "id": "DzxcmUdryIvr",
        "outputId": "4e201a1b-0844-452f-b0cb-12d1feb4efa5"
      },
      "execution_count": 15,
      "outputs": [
        {
          "output_type": "execute_result",
          "data": {
            "text/plain": [
              "[('random_forest', 1.0),\n",
              " ('svm', 1.0),\n",
              " ('sgd', 1.0),\n",
              " ('logistic_regression', 1.0),\n",
              " ('decision_tree', 0.9705882352941176)]"
            ]
          },
          "metadata": {},
          "execution_count": 15
        }
      ]
    },
    {
      "cell_type": "markdown",
      "source": [
        "유방암의 양성, 음성 여부를 판단하는데 있어서 여러 모델의 차이가 크지 않음을 확인했다."
      ],
      "metadata": {
        "id": "F6snTTLY60By"
      }
    }
  ]
}