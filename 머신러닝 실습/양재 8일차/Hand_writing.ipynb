{
  "nbformat": 4,
  "nbformat_minor": 0,
  "metadata": {
    "colab": {
      "name": "Hand_writing.ipynb",
      "provenance": [],
      "collapsed_sections": [],
      "authorship_tag": "ABX9TyPu2G1I93EUwBHtEd/yNKsd",
      "include_colab_link": true
    },
    "kernelspec": {
      "name": "python3",
      "display_name": "Python 3"
    },
    "language_info": {
      "name": "python"
    }
  },
  "cells": [
    {
      "cell_type": "markdown",
      "metadata": {
        "id": "view-in-github",
        "colab_type": "text"
      },
      "source": [
        "<a href=\"https://colab.research.google.com/github/Yeyeong99/Aiffel/blob/main/%EB%A8%B8%EC%8B%A0%EB%9F%AC%EB%8B%9D%20%EC%8B%A4%EC%8A%B5/%EC%96%91%EC%9E%AC%208%EC%9D%BC%EC%B0%A8/Hand_writing.ipynb\" target=\"_parent\"><img src=\"https://colab.research.google.com/assets/colab-badge.svg\" alt=\"Open In Colab\"/></a>"
      ]
    },
    {
      "cell_type": "markdown",
      "source": [
        "## 손글씨 분류\n",
        "\n",
        "### 순서\n",
        "1. import module\n",
        "2. 데이터 준비\n",
        "3. 데이터 확인\n",
        "4. train, test 데이터 셋 분리\n",
        "5. 다양한 모델로 학습\n",
        "6. 모델 평가"
      ],
      "metadata": {
        "id": "kGlYN3cXaXeG"
      }
    },
    {
      "cell_type": "markdown",
      "source": [
        "### 1. module import"
      ],
      "metadata": {
        "id": "gPgUrAiSbjIj"
      }
    },
    {
      "cell_type": "code",
      "execution_count": 1,
      "metadata": {
        "id": "24MRmyfAZgkE"
      },
      "outputs": [],
      "source": [
        "from sklearn.datasets import load_digits\n",
        "from sklearn.model_selection import train_test_split\n",
        "from sklearn.metrics import classification_report, accuracy_score\n",
        "from sklearn.tree import DecisionTreeClassifier\n",
        "from sklearn.ensemble import RandomForestClassifier\n",
        "from sklearn import svm\n",
        "from sklearn.linear_model import SGDClassifier\n",
        "from sklearn.linear_model import LogisticRegression\n",
        "\n",
        "import pandas as pd"
      ]
    },
    {
      "cell_type": "markdown",
      "source": [
        "### 2. 데이터 준비"
      ],
      "metadata": {
        "id": "1CENdUqhbLlS"
      }
    },
    {
      "cell_type": "code",
      "source": [
        "digits = load_digits()"
      ],
      "metadata": {
        "id": "Hjh9f3mQaVKJ"
      },
      "execution_count": 2,
      "outputs": []
    },
    {
      "cell_type": "markdown",
      "source": [
        "### 3. 데이터 확인"
      ],
      "metadata": {
        "id": "iAd1tKIyba20"
      }
    },
    {
      "cell_type": "code",
      "source": [
        "digits_data = digits.data\n",
        "digits_feature = digits.feature_names\n",
        "digits_label = digits.target\n",
        "\n",
        "digits_df = pd.DataFrame(data=digits_data, columns=digits_feature)\n",
        "digits_df['label'] = digits.target\n",
        "print(\"Digits labels:\", digits_label)\n",
        "print()\n",
        "print(digits_df)\n",
        "print()\n",
        "print(digits_df.describe())"
      ],
      "metadata": {
        "colab": {
          "base_uri": "https://localhost:8080/"
        },
        "id": "n5JOGDwAa4ig",
        "outputId": "63560489-88bf-466a-e475-775f92559e89"
      },
      "execution_count": 3,
      "outputs": [
        {
          "output_type": "stream",
          "name": "stdout",
          "text": [
            "Digits labels: [0 1 2 ... 8 9 8]\n",
            "\n",
            "      pixel_0_0  pixel_0_1  pixel_0_2  ...  pixel_7_6  pixel_7_7  label\n",
            "0           0.0        0.0        5.0  ...        0.0        0.0      0\n",
            "1           0.0        0.0        0.0  ...        0.0        0.0      1\n",
            "2           0.0        0.0        0.0  ...        9.0        0.0      2\n",
            "3           0.0        0.0        7.0  ...        0.0        0.0      3\n",
            "4           0.0        0.0        0.0  ...        0.0        0.0      4\n",
            "...         ...        ...        ...  ...        ...        ...    ...\n",
            "1792        0.0        0.0        4.0  ...        0.0        0.0      9\n",
            "1793        0.0        0.0        6.0  ...        0.0        0.0      0\n",
            "1794        0.0        0.0        1.0  ...        0.0        0.0      8\n",
            "1795        0.0        0.0        2.0  ...        0.0        0.0      9\n",
            "1796        0.0        0.0       10.0  ...        1.0        0.0      8\n",
            "\n",
            "[1797 rows x 65 columns]\n",
            "\n",
            "       pixel_0_0    pixel_0_1  ...    pixel_7_7        label\n",
            "count     1797.0  1797.000000  ...  1797.000000  1797.000000\n",
            "mean         0.0     0.303840  ...     0.364496     4.490818\n",
            "std          0.0     0.907192  ...     1.860122     2.865304\n",
            "min          0.0     0.000000  ...     0.000000     0.000000\n",
            "25%          0.0     0.000000  ...     0.000000     2.000000\n",
            "50%          0.0     0.000000  ...     0.000000     4.000000\n",
            "75%          0.0     0.000000  ...     0.000000     7.000000\n",
            "max          0.0     8.000000  ...    16.000000     9.000000\n",
            "\n",
            "[8 rows x 65 columns]\n"
          ]
        }
      ]
    },
    {
      "cell_type": "markdown",
      "source": [
        "### 4. train, test 데이터 분리"
      ],
      "metadata": {
        "id": "6XAaOOUwd0RD"
      }
    },
    {
      "cell_type": "code",
      "source": [
        "X_train, X_test, y_train, y_test = train_test_split(digits_data, digits_label, test_size=0.2, random_state=7)\n",
        "print('X_train 개수: ', len(X_train),', X_test 개수: ', len(X_test))"
      ],
      "metadata": {
        "colab": {
          "base_uri": "https://localhost:8080/"
        },
        "id": "7B7KqlgncHwQ",
        "outputId": "ff8704c1-a820-4db5-aa72-13adb6ee867f"
      },
      "execution_count": 4,
      "outputs": [
        {
          "output_type": "stream",
          "name": "stdout",
          "text": [
            "X_train 개수:  1437 , X_test 개수:  360\n"
          ]
        }
      ]
    },
    {
      "cell_type": "markdown",
      "source": [
        "### 5. 다양한 모델로 학습\n",
        "##### 1) Decision Tree"
      ],
      "metadata": {
        "id": "sBh9UHLeeNM2"
      }
    },
    {
      "cell_type": "code",
      "source": [
        "decision_tree = DecisionTreeClassifier(random_state=32)\n",
        "decision_tree.fit(X_train, y_train)\n",
        "dt_y_pred = decision_tree.predict(X_test)"
      ],
      "metadata": {
        "id": "rCLb_XO1eC1n"
      },
      "execution_count": 5,
      "outputs": []
    },
    {
      "cell_type": "markdown",
      "source": [
        "2) Random Forest"
      ],
      "metadata": {
        "id": "uDszkqDBfUrc"
      }
    },
    {
      "cell_type": "code",
      "source": [
        "random_forest = RandomForestClassifier(random_state=32)\n",
        "random_forest.fit(X_train, y_train)\n",
        "r_y_pred = random_forest.predict(X_test)"
      ],
      "metadata": {
        "id": "7HhlsozLfa5T"
      },
      "execution_count": 6,
      "outputs": []
    },
    {
      "cell_type": "markdown",
      "source": [
        "3) SVM"
      ],
      "metadata": {
        "id": "bvv076A9gSPn"
      }
    },
    {
      "cell_type": "code",
      "source": [
        "svm_model = svm.SVC()\n",
        "svm_model.fit(X_train, y_train)\n",
        "svm_y_pred = svm_model.predict(X_test)"
      ],
      "metadata": {
        "id": "7NNDU2tigXUp"
      },
      "execution_count": 7,
      "outputs": []
    },
    {
      "cell_type": "markdown",
      "source": [
        "4) SGD Classifier"
      ],
      "metadata": {
        "id": "qn8Um49-gXnI"
      }
    },
    {
      "cell_type": "code",
      "source": [
        "sgd_model = SGDClassifier()\n",
        "sgd_model.fit(X_train, y_train)\n",
        "sgd_y_pred = sgd_model.predict(X_test)"
      ],
      "metadata": {
        "id": "Vu7xJuLQgX2T"
      },
      "execution_count": 8,
      "outputs": []
    },
    {
      "cell_type": "markdown",
      "source": [
        "5) Logistic Regression"
      ],
      "metadata": {
        "id": "qQQRdwQDgYKe"
      }
    },
    {
      "cell_type": "code",
      "source": [
        "logistic_model = LogisticRegression()\n",
        "logistic_model.fit(X_train, y_train)\n",
        "l_y_pred = logistic_model.predict(X_test)"
      ],
      "metadata": {
        "id": "lpSb4LJrgYYQ",
        "colab": {
          "base_uri": "https://localhost:8080/"
        },
        "outputId": "42055bff-a65f-45c3-bdbc-8a56e55faebb"
      },
      "execution_count": 9,
      "outputs": [
        {
          "output_type": "stream",
          "name": "stderr",
          "text": [
            "/usr/local/lib/python3.7/dist-packages/sklearn/linear_model/_logistic.py:818: ConvergenceWarning: lbfgs failed to converge (status=1):\n",
            "STOP: TOTAL NO. of ITERATIONS REACHED LIMIT.\n",
            "\n",
            "Increase the number of iterations (max_iter) or scale the data as shown in:\n",
            "    https://scikit-learn.org/stable/modules/preprocessing.html\n",
            "Please also refer to the documentation for alternative solver options:\n",
            "    https://scikit-learn.org/stable/modules/linear_model.html#logistic-regression\n",
            "  extra_warning_msg=_LOGISTIC_SOLVER_CONVERGENCE_MSG,\n"
          ]
        }
      ]
    },
    {
      "cell_type": "markdown",
      "source": [
        "### 6. 모델 평가"
      ],
      "metadata": {
        "id": "KZ-GNqduhQZE"
      }
    },
    {
      "cell_type": "markdown",
      "source": [
        "1) Decision Tree"
      ],
      "metadata": {
        "id": "u44_1_sAiJFg"
      }
    },
    {
      "cell_type": "code",
      "source": [
        "print(\"classification_report\")\n",
        "print(classification_report(y_test, dt_y_pred))\n",
        "print()\n",
        "dt_accuracy = accuracy_score(y_test, dt_y_pred)\n",
        "print(\"accuracy:\", dt_accuracy)"
      ],
      "metadata": {
        "colab": {
          "base_uri": "https://localhost:8080/"
        },
        "id": "K1qe0N8bgAxN",
        "outputId": "0f44d61b-7147-4ed9-b8e6-91d36da9a1e5"
      },
      "execution_count": 10,
      "outputs": [
        {
          "output_type": "stream",
          "name": "stdout",
          "text": [
            "classification_report\n",
            "              precision    recall  f1-score   support\n",
            "\n",
            "           0       1.00      0.98      0.99        43\n",
            "           1       0.81      0.81      0.81        42\n",
            "           2       0.79      0.82      0.80        40\n",
            "           3       0.79      0.91      0.85        34\n",
            "           4       0.83      0.95      0.89        37\n",
            "           5       0.90      0.96      0.93        28\n",
            "           6       0.84      0.93      0.88        28\n",
            "           7       0.96      0.82      0.89        33\n",
            "           8       0.88      0.65      0.75        43\n",
            "           9       0.78      0.78      0.78        32\n",
            "\n",
            "    accuracy                           0.86       360\n",
            "   macro avg       0.86      0.86      0.86       360\n",
            "weighted avg       0.86      0.86      0.85       360\n",
            "\n",
            "\n",
            "accuracy: 0.8555555555555555\n"
          ]
        }
      ]
    },
    {
      "cell_type": "markdown",
      "source": [
        "2) Random Forest"
      ],
      "metadata": {
        "id": "iNMRmWb4iOB9"
      }
    },
    {
      "cell_type": "code",
      "source": [
        "print(\"classification_report\")\n",
        "print(classification_report(y_test, r_y_pred))\n",
        "print()\n",
        "rf_accuracy = accuracy_score(y_test, r_y_pred)\n",
        "print(\"accuracy:\", rf_accuracy)"
      ],
      "metadata": {
        "colab": {
          "base_uri": "https://localhost:8080/"
        },
        "id": "Tmm7HmBriRAX",
        "outputId": "73f342ff-0fc1-4f5d-a00e-76133c4cd57e"
      },
      "execution_count": 11,
      "outputs": [
        {
          "output_type": "stream",
          "name": "stdout",
          "text": [
            "classification_report\n",
            "              precision    recall  f1-score   support\n",
            "\n",
            "           0       1.00      0.98      0.99        43\n",
            "           1       0.93      1.00      0.97        42\n",
            "           2       1.00      1.00      1.00        40\n",
            "           3       1.00      1.00      1.00        34\n",
            "           4       0.93      1.00      0.96        37\n",
            "           5       0.90      0.96      0.93        28\n",
            "           6       1.00      0.96      0.98        28\n",
            "           7       0.94      0.97      0.96        33\n",
            "           8       1.00      0.84      0.91        43\n",
            "           9       0.94      0.94      0.94        32\n",
            "\n",
            "    accuracy                           0.96       360\n",
            "   macro avg       0.96      0.96      0.96       360\n",
            "weighted avg       0.97      0.96      0.96       360\n",
            "\n",
            "\n",
            "accuracy: 0.9638888888888889\n"
          ]
        }
      ]
    },
    {
      "cell_type": "markdown",
      "source": [
        "3) SVM"
      ],
      "metadata": {
        "id": "fbuTQbRIhQcr"
      }
    },
    {
      "cell_type": "code",
      "source": [
        "print(\"classification_report\")\n",
        "print(classification_report(y_test, svm_y_pred))\n",
        "print()\n",
        "svm_accuracy = accuracy_score(y_test, svm_y_pred)\n",
        "print(\"accuracy:\", svm_accuracy)"
      ],
      "metadata": {
        "colab": {
          "base_uri": "https://localhost:8080/"
        },
        "id": "AE3VsHQYiTSE",
        "outputId": "bdf27aa6-bec0-41dd-fd0e-a70c448d1e9c"
      },
      "execution_count": 12,
      "outputs": [
        {
          "output_type": "stream",
          "name": "stdout",
          "text": [
            "classification_report\n",
            "              precision    recall  f1-score   support\n",
            "\n",
            "           0       1.00      1.00      1.00        43\n",
            "           1       0.95      1.00      0.98        42\n",
            "           2       1.00      1.00      1.00        40\n",
            "           3       1.00      1.00      1.00        34\n",
            "           4       1.00      1.00      1.00        37\n",
            "           5       0.93      1.00      0.97        28\n",
            "           6       1.00      1.00      1.00        28\n",
            "           7       1.00      1.00      1.00        33\n",
            "           8       1.00      0.93      0.96        43\n",
            "           9       1.00      0.97      0.98        32\n",
            "\n",
            "    accuracy                           0.99       360\n",
            "   macro avg       0.99      0.99      0.99       360\n",
            "weighted avg       0.99      0.99      0.99       360\n",
            "\n",
            "\n",
            "accuracy: 0.9888888888888889\n"
          ]
        }
      ]
    },
    {
      "cell_type": "markdown",
      "source": [
        "4) SGD Classifier"
      ],
      "metadata": {
        "id": "ZD0nqouQiURN"
      }
    },
    {
      "cell_type": "code",
      "source": [
        "print(\"classification_report\")\n",
        "print(classification_report(y_test, sgd_y_pred))\n",
        "print()\n",
        "sgd_accuracy = accuracy_score(y_test, sgd_y_pred)\n",
        "print(\"accuracy:\", sgd_accuracy)"
      ],
      "metadata": {
        "colab": {
          "base_uri": "https://localhost:8080/"
        },
        "id": "DQU0wL2diWOU",
        "outputId": "eef40cd6-c619-48e6-b694-1d22c61daa17"
      },
      "execution_count": 13,
      "outputs": [
        {
          "output_type": "stream",
          "name": "stdout",
          "text": [
            "classification_report\n",
            "              precision    recall  f1-score   support\n",
            "\n",
            "           0       0.98      1.00      0.99        43\n",
            "           1       0.97      0.74      0.84        42\n",
            "           2       1.00      1.00      1.00        40\n",
            "           3       0.91      0.94      0.93        34\n",
            "           4       1.00      1.00      1.00        37\n",
            "           5       0.80      1.00      0.89        28\n",
            "           6       1.00      0.93      0.96        28\n",
            "           7       0.97      0.97      0.97        33\n",
            "           8       0.83      0.93      0.88        43\n",
            "           9       0.97      0.91      0.94        32\n",
            "\n",
            "    accuracy                           0.94       360\n",
            "   macro avg       0.94      0.94      0.94       360\n",
            "weighted avg       0.94      0.94      0.94       360\n",
            "\n",
            "\n",
            "accuracy: 0.9388888888888889\n"
          ]
        }
      ]
    },
    {
      "cell_type": "markdown",
      "source": [
        "5) Logistic Regression"
      ],
      "metadata": {
        "id": "8FOlqfSdiW3A"
      }
    },
    {
      "cell_type": "code",
      "source": [
        "print(\"classification_report\")\n",
        "print(classification_report(y_test, l_y_pred))\n",
        "print()\n",
        "lg_accuracy = accuracy_score(y_test, l_y_pred)\n",
        "print(\"accuracy:\", lg_accuracy)"
      ],
      "metadata": {
        "colab": {
          "base_uri": "https://localhost:8080/"
        },
        "id": "a6A-fGiSiYoX",
        "outputId": "c66580d8-dfe1-4bf3-e867-e7976e97a6f9"
      },
      "execution_count": 14,
      "outputs": [
        {
          "output_type": "stream",
          "name": "stdout",
          "text": [
            "classification_report\n",
            "              precision    recall  f1-score   support\n",
            "\n",
            "           0       1.00      1.00      1.00        43\n",
            "           1       0.95      0.95      0.95        42\n",
            "           2       0.98      1.00      0.99        40\n",
            "           3       0.94      0.97      0.96        34\n",
            "           4       0.97      1.00      0.99        37\n",
            "           5       0.82      0.96      0.89        28\n",
            "           6       1.00      0.96      0.98        28\n",
            "           7       0.97      0.97      0.97        33\n",
            "           8       0.92      0.81      0.86        43\n",
            "           9       0.97      0.91      0.94        32\n",
            "\n",
            "    accuracy                           0.95       360\n",
            "   macro avg       0.95      0.95      0.95       360\n",
            "weighted avg       0.95      0.95      0.95       360\n",
            "\n",
            "\n",
            "accuracy: 0.9527777777777777\n"
          ]
        }
      ]
    },
    {
      "cell_type": "markdown",
      "source": [
        "6) 분석\n",
        "\n",
        "분석을 위해 label의 분포를 먼저 알아본다."
      ],
      "metadata": {
        "id": "MWiRfUMFyGXk"
      }
    },
    {
      "cell_type": "code",
      "source": [
        "print(digits_df['label'].value_counts())"
      ],
      "metadata": {
        "colab": {
          "base_uri": "https://localhost:8080/"
        },
        "id": "5ARSC6GU6Ld6",
        "outputId": "5fabab6d-ca95-4337-df46-af20c5f48aee"
      },
      "execution_count": 15,
      "outputs": [
        {
          "output_type": "stream",
          "name": "stdout",
          "text": [
            "3    183\n",
            "5    182\n",
            "1    182\n",
            "6    181\n",
            "4    181\n",
            "9    180\n",
            "7    179\n",
            "0    178\n",
            "2    177\n",
            "8    174\n",
            "Name: label, dtype: int64\n"
          ]
        }
      ]
    },
    {
      "cell_type": "markdown",
      "source": [
        "위의 결과를 보면 label의 분포가 고르게 퍼져있음을 알 수 있다. 더불어 판단해야하는 값이 여러 개이므로, accuracy를 기준으로 모델의 성능을 평가할 것이다."
      ],
      "metadata": {
        "id": "PaRTinZD6aCJ"
      }
    },
    {
      "cell_type": "markdown",
      "source": [
        "> 모델 별 accuracy 순위"
      ],
      "metadata": {
        "id": "xeJZ9EAQyK4k"
      }
    },
    {
      "cell_type": "code",
      "source": [
        "accuracy_dict = {'decision_tree': dt_accuracy, \n",
        "                 'random_forest': rf_accuracy, \n",
        "                 'svm': svm_accuracy, \n",
        "                 'sgd': sgd_accuracy, \n",
        "                 'logistic_regression': lg_accuracy}\n",
        "acc_dict_items = accuracy_dict.items()\n",
        "acc_dict_items = sorted(acc_dict_items, key=lambda x:x[1], reverse=True)\n",
        "acc_dict_items"
      ],
      "metadata": {
        "colab": {
          "base_uri": "https://localhost:8080/"
        },
        "id": "DzxcmUdryIvr",
        "outputId": "2c376d84-6ce6-4a0f-a7b9-a6055da42e35"
      },
      "execution_count": 16,
      "outputs": [
        {
          "output_type": "execute_result",
          "data": {
            "text/plain": [
              "[('svm', 0.9888888888888889),\n",
              " ('random_forest', 0.9638888888888889),\n",
              " ('logistic_regression', 0.9527777777777777),\n",
              " ('sgd', 0.9388888888888889),\n",
              " ('decision_tree', 0.8555555555555555)]"
            ]
          },
          "metadata": {},
          "execution_count": 16
        }
      ]
    },
    {
      "cell_type": "code",
      "source": [
        "print('정확도가 가장 높은 모델: ',acc_dict_items[0][0])\n",
        "print('정확도가 가장 높은 모델의 정확도: ',acc_dict_items[0][1])\n",
        "print('정확도가 가장 낮은 모델: ',acc_dict_items[-1][0])\n",
        "print('정확도가 가장 낮은 모델의 정확도: ',acc_dict_items[-1][-1])"
      ],
      "metadata": {
        "colab": {
          "base_uri": "https://localhost:8080/"
        },
        "id": "Bj7JzAhqyiD3",
        "outputId": "e3f75bf5-d551-4719-88a9-1e29ea0a174f"
      },
      "execution_count": 17,
      "outputs": [
        {
          "output_type": "stream",
          "name": "stdout",
          "text": [
            "정확도가 가장 높은 모델:  svm\n",
            "정확도가 가장 높은 모델의 정확도:  0.9888888888888889\n",
            "정확도가 가장 낮은 모델:  decision_tree\n",
            "정확도가 가장 낮은 모델의 정확도:  0.8555555555555555\n"
          ]
        }
      ]
    },
    {
      "cell_type": "markdown",
      "source": [
        "따라서 손글씨 데이터를 분류하는데 있어 성능이 높은 모델은 순서대로 SVM, Random Forest, SGD classifier, Logistic regression, Decision Tree로 정리할 수 있다. \n"
      ],
      "metadata": {
        "id": "F6snTTLY60By"
      }
    }
  ]
}