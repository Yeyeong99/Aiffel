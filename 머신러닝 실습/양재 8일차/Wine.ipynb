{
  "nbformat": 4,
  "nbformat_minor": 0,
  "metadata": {
    "colab": {
      "name": "Wine.ipynb",
      "provenance": [],
      "collapsed_sections": [],
      "authorship_tag": "ABX9TyPWqzLKBy+G0uBwS/ptzHi6",
      "include_colab_link": true
    },
    "kernelspec": {
      "name": "python3",
      "display_name": "Python 3"
    },
    "language_info": {
      "name": "python"
    }
  },
  "cells": [
    {
      "cell_type": "markdown",
      "metadata": {
        "id": "view-in-github",
        "colab_type": "text"
      },
      "source": [
        "<a href=\"https://colab.research.google.com/github/Yeyeong99/Aiffel/blob/main/%EB%A8%B8%EC%8B%A0%EB%9F%AC%EB%8B%9D%20%EC%8B%A4%EC%8A%B5/%EC%96%91%EC%9E%AC%208%EC%9D%BC%EC%B0%A8/Wine.ipynb\" target=\"_parent\"><img src=\"https://colab.research.google.com/assets/colab-badge.svg\" alt=\"Open In Colab\"/></a>"
      ]
    },
    {
      "cell_type": "markdown",
      "source": [
        "## 와인 분류\n",
        "\n",
        "### 순서\n",
        "1. import module\n",
        "2. 데이터 준비\n",
        "3. 데이터 확인\n",
        "4. train, test 데이터 셋 분리\n",
        "5. 다양한 모델로 학습\n",
        "6. 모델 평가"
      ],
      "metadata": {
        "id": "kGlYN3cXaXeG"
      }
    },
    {
      "cell_type": "markdown",
      "source": [
        "### 1. module import"
      ],
      "metadata": {
        "id": "gPgUrAiSbjIj"
      }
    },
    {
      "cell_type": "code",
      "execution_count": 1,
      "metadata": {
        "id": "24MRmyfAZgkE"
      },
      "outputs": [],
      "source": [
        "from sklearn.datasets import load_wine\n",
        "from sklearn.model_selection import train_test_split\n",
        "from sklearn.metrics import classification_report, accuracy_score\n",
        "from sklearn.tree import DecisionTreeClassifier\n",
        "from sklearn.ensemble import RandomForestClassifier\n",
        "from sklearn import svm\n",
        "from sklearn.linear_model import SGDClassifier\n",
        "from sklearn.linear_model import LogisticRegression\n",
        "\n",
        "import pandas as pd"
      ]
    },
    {
      "cell_type": "markdown",
      "source": [
        "### 2. 데이터 준비"
      ],
      "metadata": {
        "id": "1CENdUqhbLlS"
      }
    },
    {
      "cell_type": "code",
      "source": [
        "wine = load_wine()"
      ],
      "metadata": {
        "id": "Hjh9f3mQaVKJ"
      },
      "execution_count": 2,
      "outputs": []
    },
    {
      "cell_type": "markdown",
      "source": [
        "### 3. 데이터 확인"
      ],
      "metadata": {
        "id": "iAd1tKIyba20"
      }
    },
    {
      "cell_type": "code",
      "source": [
        "wine_data = wine.data\n",
        "wine_feature = wine.feature_names\n",
        "wine_label = wine.target\n",
        "\n",
        "wine_df = pd.DataFrame(data=wine_data, columns=wine_feature)\n",
        "wine_df['label'] = wine.target\n",
        "print(\"Wine labels:\", wine_label)\n",
        "print()\n",
        "print(wine_df)\n",
        "print()\n",
        "print(wine_df.describe())"
      ],
      "metadata": {
        "colab": {
          "base_uri": "https://localhost:8080/"
        },
        "id": "n5JOGDwAa4ig",
        "outputId": "34fd1a99-ab5c-4964-f74b-58fbfb2a80a3"
      },
      "execution_count": 3,
      "outputs": [
        {
          "output_type": "stream",
          "name": "stdout",
          "text": [
            "Wine labels: [0 0 0 0 0 0 0 0 0 0 0 0 0 0 0 0 0 0 0 0 0 0 0 0 0 0 0 0 0 0 0 0 0 0 0 0 0\n",
            " 0 0 0 0 0 0 0 0 0 0 0 0 0 0 0 0 0 0 0 0 0 0 1 1 1 1 1 1 1 1 1 1 1 1 1 1 1\n",
            " 1 1 1 1 1 1 1 1 1 1 1 1 1 1 1 1 1 1 1 1 1 1 1 1 1 1 1 1 1 1 1 1 1 1 1 1 1\n",
            " 1 1 1 1 1 1 1 1 1 1 1 1 1 1 1 1 1 1 1 2 2 2 2 2 2 2 2 2 2 2 2 2 2 2 2 2 2\n",
            " 2 2 2 2 2 2 2 2 2 2 2 2 2 2 2 2 2 2 2 2 2 2 2 2 2 2 2 2 2 2]\n",
            "\n",
            "     alcohol  malic_acid   ash  ...  od280/od315_of_diluted_wines  proline  label\n",
            "0      14.23        1.71  2.43  ...                          3.92   1065.0      0\n",
            "1      13.20        1.78  2.14  ...                          3.40   1050.0      0\n",
            "2      13.16        2.36  2.67  ...                          3.17   1185.0      0\n",
            "3      14.37        1.95  2.50  ...                          3.45   1480.0      0\n",
            "4      13.24        2.59  2.87  ...                          2.93    735.0      0\n",
            "..       ...         ...   ...  ...                           ...      ...    ...\n",
            "173    13.71        5.65  2.45  ...                          1.74    740.0      2\n",
            "174    13.40        3.91  2.48  ...                          1.56    750.0      2\n",
            "175    13.27        4.28  2.26  ...                          1.56    835.0      2\n",
            "176    13.17        2.59  2.37  ...                          1.62    840.0      2\n",
            "177    14.13        4.10  2.74  ...                          1.60    560.0      2\n",
            "\n",
            "[178 rows x 14 columns]\n",
            "\n",
            "          alcohol  malic_acid  ...      proline       label\n",
            "count  178.000000  178.000000  ...   178.000000  178.000000\n",
            "mean    13.000618    2.336348  ...   746.893258    0.938202\n",
            "std      0.811827    1.117146  ...   314.907474    0.775035\n",
            "min     11.030000    0.740000  ...   278.000000    0.000000\n",
            "25%     12.362500    1.602500  ...   500.500000    0.000000\n",
            "50%     13.050000    1.865000  ...   673.500000    1.000000\n",
            "75%     13.677500    3.082500  ...   985.000000    2.000000\n",
            "max     14.830000    5.800000  ...  1680.000000    2.000000\n",
            "\n",
            "[8 rows x 14 columns]\n"
          ]
        }
      ]
    },
    {
      "cell_type": "markdown",
      "source": [
        "### 4. train, test 데이터 분리"
      ],
      "metadata": {
        "id": "6XAaOOUwd0RD"
      }
    },
    {
      "cell_type": "code",
      "source": [
        "X_train, X_test, y_train, y_test = train_test_split(wine_data, wine_label, test_size=0.2, random_state=7)\n",
        "print('X_train 개수: ', len(X_train),', X_test 개수: ', len(X_test))"
      ],
      "metadata": {
        "colab": {
          "base_uri": "https://localhost:8080/"
        },
        "id": "7B7KqlgncHwQ",
        "outputId": "bdf001f4-db2e-4442-d8b4-82cdcc33084e"
      },
      "execution_count": 4,
      "outputs": [
        {
          "output_type": "stream",
          "name": "stdout",
          "text": [
            "X_train 개수:  142 , X_test 개수:  36\n"
          ]
        }
      ]
    },
    {
      "cell_type": "markdown",
      "source": [
        "### 5. 다양한 모델로 학습\n",
        "##### 1) Decision Tree"
      ],
      "metadata": {
        "id": "sBh9UHLeeNM2"
      }
    },
    {
      "cell_type": "code",
      "source": [
        "decision_tree = DecisionTreeClassifier(random_state=32)\n",
        "decision_tree.fit(X_train, y_train)\n",
        "dt_y_pred = decision_tree.predict(X_test)"
      ],
      "metadata": {
        "id": "rCLb_XO1eC1n"
      },
      "execution_count": 5,
      "outputs": []
    },
    {
      "cell_type": "markdown",
      "source": [
        "2) Random Forest"
      ],
      "metadata": {
        "id": "uDszkqDBfUrc"
      }
    },
    {
      "cell_type": "code",
      "source": [
        "random_forest = RandomForestClassifier(random_state=32)\n",
        "random_forest.fit(X_train, y_train)\n",
        "r_y_pred = random_forest.predict(X_test)"
      ],
      "metadata": {
        "id": "7HhlsozLfa5T"
      },
      "execution_count": 6,
      "outputs": []
    },
    {
      "cell_type": "markdown",
      "source": [
        "3) SVM"
      ],
      "metadata": {
        "id": "bvv076A9gSPn"
      }
    },
    {
      "cell_type": "code",
      "source": [
        "svm_model = svm.SVC()\n",
        "svm_model.fit(X_train, y_train)\n",
        "svm_y_pred = svm_model.predict(X_test)"
      ],
      "metadata": {
        "id": "7NNDU2tigXUp"
      },
      "execution_count": 7,
      "outputs": []
    },
    {
      "cell_type": "markdown",
      "source": [
        "4) SGD Classifier"
      ],
      "metadata": {
        "id": "qn8Um49-gXnI"
      }
    },
    {
      "cell_type": "code",
      "source": [
        "sgd_model = SGDClassifier()\n",
        "sgd_model.fit(X_train, y_train)\n",
        "sgd_y_pred = random_forest.predict(X_test)"
      ],
      "metadata": {
        "id": "Vu7xJuLQgX2T"
      },
      "execution_count": 8,
      "outputs": []
    },
    {
      "cell_type": "markdown",
      "source": [
        "5) Logistic Regression"
      ],
      "metadata": {
        "id": "qQQRdwQDgYKe"
      }
    },
    {
      "cell_type": "code",
      "source": [
        "logistic_model = LogisticRegression()\n",
        "logistic_model.fit(X_train, y_train)\n",
        "l_y_pred = logistic_model.predict(X_test)"
      ],
      "metadata": {
        "id": "lpSb4LJrgYYQ",
        "colab": {
          "base_uri": "https://localhost:8080/"
        },
        "outputId": "fa6c0aff-a62d-4262-8805-a43a44ec0d05"
      },
      "execution_count": 9,
      "outputs": [
        {
          "output_type": "stream",
          "name": "stderr",
          "text": [
            "/usr/local/lib/python3.7/dist-packages/sklearn/linear_model/_logistic.py:818: ConvergenceWarning: lbfgs failed to converge (status=1):\n",
            "STOP: TOTAL NO. of ITERATIONS REACHED LIMIT.\n",
            "\n",
            "Increase the number of iterations (max_iter) or scale the data as shown in:\n",
            "    https://scikit-learn.org/stable/modules/preprocessing.html\n",
            "Please also refer to the documentation for alternative solver options:\n",
            "    https://scikit-learn.org/stable/modules/linear_model.html#logistic-regression\n",
            "  extra_warning_msg=_LOGISTIC_SOLVER_CONVERGENCE_MSG,\n"
          ]
        }
      ]
    },
    {
      "cell_type": "markdown",
      "source": [
        "### 6. 모델 평가"
      ],
      "metadata": {
        "id": "KZ-GNqduhQZE"
      }
    },
    {
      "cell_type": "markdown",
      "source": [
        "1) Decision Tree"
      ],
      "metadata": {
        "id": "u44_1_sAiJFg"
      }
    },
    {
      "cell_type": "code",
      "source": [
        "print(\"classification_report\")\n",
        "print(classification_report(y_test, dt_y_pred))\n",
        "print()\n",
        "dt_accuracy = accuracy_score(y_test, dt_y_pred)\n",
        "print(\"accuracy:\", dt_accuracy)"
      ],
      "metadata": {
        "colab": {
          "base_uri": "https://localhost:8080/"
        },
        "id": "K1qe0N8bgAxN",
        "outputId": "f7394be4-fcf7-4bfb-93ab-9c58b85443bf"
      },
      "execution_count": 10,
      "outputs": [
        {
          "output_type": "stream",
          "name": "stdout",
          "text": [
            "classification_report\n",
            "              precision    recall  f1-score   support\n",
            "\n",
            "           0       1.00      1.00      1.00         7\n",
            "           1       0.89      1.00      0.94        17\n",
            "           2       1.00      0.83      0.91        12\n",
            "\n",
            "    accuracy                           0.94        36\n",
            "   macro avg       0.96      0.94      0.95        36\n",
            "weighted avg       0.95      0.94      0.94        36\n",
            "\n",
            "\n",
            "accuracy: 0.9444444444444444\n"
          ]
        }
      ]
    },
    {
      "cell_type": "markdown",
      "source": [
        "2) Random Forest"
      ],
      "metadata": {
        "id": "iNMRmWb4iOB9"
      }
    },
    {
      "cell_type": "code",
      "source": [
        "print(\"classification_report\")\n",
        "print(classification_report(y_test, r_y_pred))\n",
        "print()\n",
        "rf_accuracy = accuracy_score(y_test, r_y_pred)\n",
        "print(\"accuracy:\", rf_accuracy)"
      ],
      "metadata": {
        "colab": {
          "base_uri": "https://localhost:8080/"
        },
        "id": "Tmm7HmBriRAX",
        "outputId": "343d9997-d5cb-41fd-c1ed-df1556238266"
      },
      "execution_count": 11,
      "outputs": [
        {
          "output_type": "stream",
          "name": "stdout",
          "text": [
            "classification_report\n",
            "              precision    recall  f1-score   support\n",
            "\n",
            "           0       1.00      1.00      1.00         7\n",
            "           1       1.00      1.00      1.00        17\n",
            "           2       1.00      1.00      1.00        12\n",
            "\n",
            "    accuracy                           1.00        36\n",
            "   macro avg       1.00      1.00      1.00        36\n",
            "weighted avg       1.00      1.00      1.00        36\n",
            "\n",
            "\n",
            "accuracy: 1.0\n"
          ]
        }
      ]
    },
    {
      "cell_type": "markdown",
      "source": [
        "3) SVM"
      ],
      "metadata": {
        "id": "fbuTQbRIhQcr"
      }
    },
    {
      "cell_type": "code",
      "source": [
        "print(\"classification_report\")\n",
        "print(classification_report(y_test, svm_y_pred))\n",
        "print()\n",
        "svm_accuracy = accuracy_score(y_test, svm_y_pred)\n",
        "print(\"accuracy:\", svm_accuracy)"
      ],
      "metadata": {
        "colab": {
          "base_uri": "https://localhost:8080/"
        },
        "id": "AE3VsHQYiTSE",
        "outputId": "70ec3274-951d-45d2-af52-6914ea15bbd7"
      },
      "execution_count": 12,
      "outputs": [
        {
          "output_type": "stream",
          "name": "stdout",
          "text": [
            "classification_report\n",
            "              precision    recall  f1-score   support\n",
            "\n",
            "           0       0.86      0.86      0.86         7\n",
            "           1       0.58      0.88      0.70        17\n",
            "           2       0.33      0.08      0.13        12\n",
            "\n",
            "    accuracy                           0.61        36\n",
            "   macro avg       0.59      0.61      0.56        36\n",
            "weighted avg       0.55      0.61      0.54        36\n",
            "\n",
            "\n",
            "accuracy: 0.6111111111111112\n"
          ]
        }
      ]
    },
    {
      "cell_type": "markdown",
      "source": [
        "4) SGD Classifier"
      ],
      "metadata": {
        "id": "ZD0nqouQiURN"
      }
    },
    {
      "cell_type": "code",
      "source": [
        "print(\"classification_report\")\n",
        "print(classification_report(y_test, sgd_y_pred))\n",
        "print()\n",
        "sgd_accuracy = accuracy_score(y_test, sgd_y_pred)\n",
        "print(\"accuracy:\", sgd_accuracy)"
      ],
      "metadata": {
        "colab": {
          "base_uri": "https://localhost:8080/"
        },
        "id": "DQU0wL2diWOU",
        "outputId": "191fd4e4-e60e-482a-98cc-d3bce9cefb51"
      },
      "execution_count": 13,
      "outputs": [
        {
          "output_type": "stream",
          "name": "stdout",
          "text": [
            "classification_report\n",
            "              precision    recall  f1-score   support\n",
            "\n",
            "           0       1.00      1.00      1.00         7\n",
            "           1       1.00      1.00      1.00        17\n",
            "           2       1.00      1.00      1.00        12\n",
            "\n",
            "    accuracy                           1.00        36\n",
            "   macro avg       1.00      1.00      1.00        36\n",
            "weighted avg       1.00      1.00      1.00        36\n",
            "\n",
            "\n",
            "accuracy: 1.0\n"
          ]
        }
      ]
    },
    {
      "cell_type": "markdown",
      "source": [
        "5) Logistic Regression"
      ],
      "metadata": {
        "id": "8FOlqfSdiW3A"
      }
    },
    {
      "cell_type": "code",
      "source": [
        "print(\"classification_report\")\n",
        "print(classification_report(y_test, l_y_pred))\n",
        "print()\n",
        "lg_accuracy = accuracy_score(y_test, l_y_pred)\n",
        "print(\"accuracy:\", lg_accuracy)"
      ],
      "metadata": {
        "colab": {
          "base_uri": "https://localhost:8080/"
        },
        "id": "a6A-fGiSiYoX",
        "outputId": "f42683d9-f5b9-4198-bce6-e563f7121097"
      },
      "execution_count": 14,
      "outputs": [
        {
          "output_type": "stream",
          "name": "stdout",
          "text": [
            "classification_report\n",
            "              precision    recall  f1-score   support\n",
            "\n",
            "           0       1.00      0.86      0.92         7\n",
            "           1       0.94      1.00      0.97        17\n",
            "           2       1.00      1.00      1.00        12\n",
            "\n",
            "    accuracy                           0.97        36\n",
            "   macro avg       0.98      0.95      0.96        36\n",
            "weighted avg       0.97      0.97      0.97        36\n",
            "\n",
            "\n",
            "accuracy: 0.9722222222222222\n"
          ]
        }
      ]
    },
    {
      "cell_type": "markdown",
      "source": [
        "6) 분석\n",
        "\n",
        "분석을 위해 label의 분포를 먼저 알아본다."
      ],
      "metadata": {
        "id": "MWiRfUMFyGXk"
      }
    },
    {
      "cell_type": "code",
      "source": [
        "print(wine_df['label'].value_counts())"
      ],
      "metadata": {
        "colab": {
          "base_uri": "https://localhost:8080/"
        },
        "id": "5ARSC6GU6Ld6",
        "outputId": "43c8d74f-656b-424a-fcf3-531ebc8b24fb"
      },
      "execution_count": 15,
      "outputs": [
        {
          "output_type": "stream",
          "name": "stdout",
          "text": [
            "1    71\n",
            "0    59\n",
            "2    48\n",
            "Name: label, dtype: int64\n"
          ]
        }
      ]
    },
    {
      "cell_type": "markdown",
      "source": [
        "위의 결과를 보면 label의 분포가 비교적 고르게 퍼져있다. 더불어 여러 class로 분류해야하므로, accuracy를 기준으로 모델의 성능을 평가할 것이다."
      ],
      "metadata": {
        "id": "PaRTinZD6aCJ"
      }
    },
    {
      "cell_type": "markdown",
      "source": [
        "> 모델 별 accuracy 순위"
      ],
      "metadata": {
        "id": "xeJZ9EAQyK4k"
      }
    },
    {
      "cell_type": "code",
      "source": [
        "accuracy_dict = {'decision_tree': dt_accuracy, \n",
        "                 'random_forest': rf_accuracy, \n",
        "                 'svm': svm_accuracy, \n",
        "                 'sgd': sgd_accuracy, \n",
        "                 'logistic_regression': lg_accuracy}\n",
        "acc_dict_items = accuracy_dict.items()\n",
        "acc_dict_items = sorted(acc_dict_items, key=lambda x:x[1], reverse=True)\n",
        "acc_dict_items"
      ],
      "metadata": {
        "colab": {
          "base_uri": "https://localhost:8080/"
        },
        "id": "DzxcmUdryIvr",
        "outputId": "175d39f1-3a9e-40c9-960c-1066fce00368"
      },
      "execution_count": 22,
      "outputs": [
        {
          "output_type": "execute_result",
          "data": {
            "text/plain": [
              "[('random_forest', 1.0),\n",
              " ('sgd', 1.0),\n",
              " ('logistic_regression', 0.9722222222222222),\n",
              " ('decision_tree', 0.9444444444444444),\n",
              " ('svm', 0.6111111111111112)]"
            ]
          },
          "metadata": {},
          "execution_count": 22
        }
      ]
    },
    {
      "cell_type": "code",
      "source": [
        "print('정확도가 가장 높은 모델: ', acc_dict_items[0][0], ',', acc_dict_items[1][0])\n",
        "print('정확도가 가장 높은 모델의 정확도: ', acc_dict_items[0][1], ',', acc_dict_items[1][1])\n",
        "print('정확도가 가장 낮은 모델: ', acc_dict_items[-1][0])\n",
        "print('정확도가 가장 낮은 모델의 정확도: ', acc_dict_items[-1][-1])"
      ],
      "metadata": {
        "colab": {
          "base_uri": "https://localhost:8080/"
        },
        "id": "Bj7JzAhqyiD3",
        "outputId": "c938e8b0-b5df-45c9-d222-9aecd3c036e8"
      },
      "execution_count": 26,
      "outputs": [
        {
          "output_type": "stream",
          "name": "stdout",
          "text": [
            "정확도가 가장 높은 모델:  random_forest , sgd\n",
            "정확도가 가장 높은 모델의 정확도:  1.0 , 1.0\n",
            "정확도가 가장 낮은 모델:  svm\n",
            "정확도가 가장 낮은 모델의 정확도:  0.6111111111111112\n"
          ]
        }
      ]
    },
    {
      "cell_type": "markdown",
      "source": [
        "위의 결과에 따르면 와인의 클래스를 분류하는데 있어 성능이 높은 모델은 순서대로 Random Forest, SGD classifier, Logistic regression, Decision Tree, SVM으로 정리할 수 있다. \n"
      ],
      "metadata": {
        "id": "F6snTTLY60By"
      }
    }
  ]
}