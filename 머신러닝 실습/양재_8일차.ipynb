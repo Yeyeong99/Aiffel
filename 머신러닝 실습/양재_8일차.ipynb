{
  "nbformat": 4,
  "nbformat_minor": 0,
  "metadata": {
    "colab": {
      "name": "양재 8일차.ipynb",
      "provenance": [],
      "collapsed_sections": [],
      "authorship_tag": "ABX9TyOEFtzXhWcWW7hN+GhCMEFj",
      "include_colab_link": true
    },
    "kernelspec": {
      "name": "python3",
      "display_name": "Python 3"
    },
    "language_info": {
      "name": "python"
    }
  },
  "cells": [
    {
      "cell_type": "markdown",
      "metadata": {
        "id": "view-in-github",
        "colab_type": "text"
      },
      "source": [
        "<a href=\"https://colab.research.google.com/github/Yeyeong99/Aiffel/blob/main/%EB%A8%B8%EC%8B%A0%EB%9F%AC%EB%8B%9D%20%EC%8B%A4%EC%8A%B5/%EC%96%91%EC%9E%AC_8%EC%9D%BC%EC%B0%A8.ipynb\" target=\"_parent\"><img src=\"https://colab.research.google.com/assets/colab-badge.svg\" alt=\"Open In Colab\"/></a>"
      ]
    },
    {
      "cell_type": "markdown",
      "source": [
        "### Iris Dataset 활용"
      ],
      "metadata": {
        "id": "VRxpPTNc-snR"
      }
    },
    {
      "cell_type": "code",
      "execution_count": 17,
      "metadata": {
        "colab": {
          "base_uri": "https://localhost:8080/"
        },
        "id": "WVNQEEbp-pRR",
        "outputId": "ed96926d-049a-4743-a79c-3cc99c73b393"
      },
      "outputs": [
        {
          "output_type": "stream",
          "name": "stdout",
          "text": [
            "dir: ['DESCR', 'data', 'data_module', 'feature_names', 'filename', 'frame', 'target', 'target_names']\n",
            "\n",
            "iris_data.shape:  (150, 4)\n",
            "\n",
            "X_train 개수:  120 , X_test 개수:  30\n",
            "\n",
            "type: classifier\n",
            "\n",
            "classification_report\n",
            "              precision    recall  f1-score   support\n",
            "\n",
            "           0       1.00      1.00      1.00         7\n",
            "           1       0.91      0.83      0.87        12\n",
            "           2       0.83      0.91      0.87        11\n",
            "\n",
            "    accuracy                           0.90        30\n",
            "   macro avg       0.91      0.91      0.91        30\n",
            "weighted avg       0.90      0.90      0.90        30\n",
            "\n",
            "\n",
            "y_pred:  [2 1 0 1 2 0 1 1 0 1 2 1 0 2 0 2 2 2 0 0 1 2 1 1 2 2 1 1 2 2]\n",
            "y_test:  [2 1 0 1 2 0 1 1 0 1 1 1 0 2 0 1 2 2 0 0 1 2 1 2 2 2 1 1 2 2]\n",
            "accuracy: 0.9\n"
          ]
        }
      ],
      "source": [
        "from sklearn.datasets import load_iris\n",
        "import pandas as pd\n",
        "from sklearn.model_selection import train_test_split\n",
        "from sklearn.tree import DecisionTreeClassifier\n",
        "from sklearn.metrics import accuracy_score\n",
        "from sklearn.metrics import classification_report\n",
        "\n",
        "iris = load_iris()\n",
        "\n",
        "print(\"dir:\", dir(iris))\n",
        "print()\n",
        "# dir()는 객체가 어떤 변수와 메서드를 가지고 있는지 나열함\n",
        "\n",
        "iris.keys()\n",
        "iris_data = iris.data\n",
        "\n",
        "print(\"iris_data.shape: \",iris_data.shape) \n",
        "print()\n",
        "#shape는 배열의 형상정보를 출력\n",
        "iris_label = iris.target\n",
        "\n",
        "######dataframe으로 변경\n",
        "iris_df = pd.DataFrame(data=iris_data, columns=iris.feature_names)\n",
        "iris_df[\"label\"] = iris.target\n",
        "\n",
        "X_train, X_test, y_train, y_test = train_test_split(iris_data, \n",
        "                                                    iris_label, \n",
        "                                                    test_size=0.2, \n",
        "                                                    random_state=7)\n",
        "\n",
        "print('X_train 개수: ', len(X_train),', X_test 개수: ', len(X_test))\n",
        "print()\n",
        "### Decision Tree 생성\n",
        "decision_tree = DecisionTreeClassifier(random_state=32)\n",
        "print(\"type:\", decision_tree._estimator_type)\n",
        "print()\n",
        "\n",
        "## fit\n",
        "decision_tree.fit(X_train, y_train)\n",
        "y_pred = decision_tree.predict(X_test)\n",
        "\n",
        "print(\"classification_report\")\n",
        "print(classification_report(y_test, y_pred))\n",
        "print()\n",
        "## 결과 확인\n",
        "y_pred = decision_tree.predict(X_test)\n",
        "print('y_pred: ', y_pred)\n",
        "print('y_test: ', y_test)\n",
        "\n",
        "## 정확도 확인\n",
        "accuracy = accuracy_score(y_test, y_pred)\n",
        "print(\"accuracy:\", accuracy)"
      ]
    }
  ]
}