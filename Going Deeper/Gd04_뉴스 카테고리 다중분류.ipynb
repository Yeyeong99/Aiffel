{
 "cells": [
  {
   "cell_type": "code",
   "execution_count": 1,
   "id": "18a0e5d7",
   "metadata": {},
   "outputs": [],
   "source": [
    "import tensorflow\n",
    "import numpy as np\n",
    "import pandas as pd\n",
    "import matplotlib.pyplot as plt\n",
    "import seaborn as sns\n",
    "import warnings\n",
    "\n",
    "from tensorflow.keras.datasets import reuters\n",
    "from sklearn.feature_extraction.text import CountVectorizer\n",
    "from sklearn.feature_extraction.text import TfidfTransformer\n",
    "from sklearn.naive_bayes import MultinomialNB #다항분포 나이브 베이즈 모델\n",
    "from sklearn.linear_model import LogisticRegression, SGDClassifier\n",
    "from sklearn.naive_bayes import ComplementNB\n",
    "from sklearn.tree import DecisionTreeClassifier\n",
    "from sklearn.ensemble import RandomForestClassifier\n",
    "from sklearn.ensemble import GradientBoostingClassifier\n",
    "from sklearn.ensemble import VotingClassifier\n",
    "from sklearn.svm import LinearSVC\n",
    "from sklearn.metrics import accuracy_score #정확도 계산\n",
    "from sklearn.metrics import classification_report\n",
    "from sklearn.metrics import confusion_matrix\n",
    "\n",
    "warnings.filterwarnings(action='ignore')"
   ]
  },
  {
   "cell_type": "markdown",
   "id": "4b414cda",
   "metadata": {},
   "source": [
    "## 데이터 로드"
   ]
  },
  {
   "cell_type": "code",
   "execution_count": 2,
   "id": "4198e841",
   "metadata": {},
   "outputs": [
    {
     "name": "stdout",
     "output_type": "stream",
     "text": [
      "Downloading data from https://storage.googleapis.com/tensorflow/tf-keras-datasets/reuters.npz\n",
      "2113536/2110848 [==============================] - 0s 0us/step\n",
      "2121728/2110848 [==============================] - 0s 0us/step\n"
     ]
    }
   ],
   "source": [
    "(x_train, y_train), (x_test, y_test) = reuters.load_data(num_words=10000, test_split=0.2)"
   ]
  },
  {
   "cell_type": "code",
   "execution_count": 3,
   "id": "9678e7dd",
   "metadata": {},
   "outputs": [
    {
     "name": "stdout",
     "output_type": "stream",
     "text": [
      "훈련 샘플의 수: 8982\n",
      "테스트 샘플의 수: 2246\n"
     ]
    }
   ],
   "source": [
    "print('훈련 샘플의 수: {}'.format(len(x_train)))\n",
    "print('테스트 샘플의 수: {}'.format(len(x_test)))"
   ]
  },
  {
   "cell_type": "code",
   "execution_count": 4,
   "id": "381033c2",
   "metadata": {},
   "outputs": [
    {
     "name": "stdout",
     "output_type": "stream",
     "text": [
      "[1, 2, 2, 8, 43, 10, 447, 5, 25, 207, 270, 5, 3095, 111, 16, 369, 186, 90, 67, 7, 89, 5, 19, 102, 6, 19, 124, 15, 90, 67, 84, 22, 482, 26, 7, 48, 4, 49, 8, 864, 39, 209, 154, 6, 151, 6, 83, 11, 15, 22, 155, 11, 15, 7, 48, 9, 4579, 1005, 504, 6, 258, 6, 272, 11, 15, 22, 134, 44, 11, 15, 16, 8, 197, 1245, 90, 67, 52, 29, 209, 30, 32, 132, 6, 109, 15, 17, 12]\n",
      "[1, 4, 1378, 2025, 9, 697, 4622, 111, 8, 25, 109, 29, 3650, 11, 150, 244, 364, 33, 30, 30, 1398, 333, 6, 2, 159, 9, 1084, 363, 13, 2, 71, 9, 2, 71, 117, 4, 225, 78, 206, 10, 9, 1214, 8, 4, 270, 5, 2, 7, 748, 48, 9, 2, 7, 207, 1451, 966, 1864, 793, 97, 133, 336, 7, 4, 493, 98, 273, 104, 284, 25, 39, 338, 22, 905, 220, 3465, 644, 59, 20, 6, 119, 61, 11, 15, 58, 579, 26, 10, 67, 7, 4, 738, 98, 43, 88, 333, 722, 12, 20, 6, 19, 746, 35, 15, 10, 9, 1214, 855, 129, 783, 21, 4, 2280, 244, 364, 51, 16, 299, 452, 16, 515, 4, 99, 29, 5, 4, 364, 281, 48, 10, 9, 1214, 23, 644, 47, 20, 324, 27, 56, 2, 2, 5, 192, 510, 17, 12]\n"
     ]
    }
   ],
   "source": [
    "print(x_train[0])\n",
    "print(x_test[0])"
   ]
  },
  {
   "cell_type": "code",
   "execution_count": 5,
   "id": "6cb24d1c",
   "metadata": {},
   "outputs": [
    {
     "name": "stdout",
     "output_type": "stream",
     "text": [
      "3\n",
      "3\n"
     ]
    }
   ],
   "source": [
    "print(y_train[0])\n",
    "print(y_test[0])"
   ]
  },
  {
   "cell_type": "code",
   "execution_count": 6,
   "id": "80d9ef99",
   "metadata": {},
   "outputs": [
    {
     "name": "stdout",
     "output_type": "stream",
     "text": [
      "클래스의 수 : 46\n"
     ]
    }
   ],
   "source": [
    "num_classes = max(y_train) + 1\n",
    "print('클래스의 수 : {}'.format(num_classes))"
   ]
  },
  {
   "cell_type": "code",
   "execution_count": 7,
   "id": "3fce4032",
   "metadata": {},
   "outputs": [
    {
     "name": "stdout",
     "output_type": "stream",
     "text": [
      "훈련용 뉴스의 최대 길이 :2376\n",
      "훈련용 뉴스의 평균 길이 :145.5398574927633\n"
     ]
    },
    {
     "data": {
      "image/png": "[encoded data removed]",
      "text/plain": [
       "<Figure size 432x288 with 1 Axes>"
      ]
     },
     "metadata": {
      "needs_background": "light"
     },
     "output_type": "display_data"
    }
   ],
   "source": [
    "print('훈련용 뉴스의 최대 길이 :{}'.format(max(len(l) for l in x_train)))\n",
    "print('훈련용 뉴스의 평균 길이 :{}'.format(sum(map(len, x_train))/len(x_train)))\n",
    "\n",
    "plt.hist([len(s) for s in x_train], bins=50)\n",
    "plt.xlabel('length of samples')\n",
    "plt.ylabel('number of samples')\n",
    "plt.show()"
   ]
  },
  {
   "cell_type": "code",
   "execution_count": 8,
   "id": "bfeee731",
   "metadata": {},
   "outputs": [
    {
     "name": "stdout",
     "output_type": "stream",
     "text": [
      "각 클래스 빈도수:\n",
      "[[   0    1    2    3    4    5    6    7    8    9   10   11   12   13\n",
      "    14   15   16   17   18   19   20   21   22   23   24   25   26   27\n",
      "    28   29   30   31   32   33   34   35   36   37   38   39   40   41\n",
      "    42   43   44   45]\n",
      " [  55  432   74 3159 1949   17   48   16  139  101  124  390   49  172\n",
      "    26   20  444   39   66  549  269  100   15   41   62   92   24   15\n",
      "    48   19   45   39   32   11   50   10   49   19   19   24   36   30\n",
      "    13   21   12   18]]\n"
     ]
    }
   ],
   "source": [
    "unique_elements, counts_elements = np.unique(y_train, return_counts=True)\n",
    "print(\"각 클래스 빈도수:\")\n",
    "print(np.asarray((unique_elements, counts_elements)))"
   ]
  },
  {
   "cell_type": "code",
   "execution_count": 9,
   "id": "a6caf049",
   "metadata": {},
   "outputs": [
    {
     "name": "stdout",
     "output_type": "stream",
     "text": [
      "Downloading data from https://storage.googleapis.com/tensorflow/tf-keras-datasets/reuters_word_index.json\n",
      "557056/550378 [==============================] - 0s 0us/step\n",
      "565248/550378 [==============================] - 0s 0us/step\n",
      "=3\n"
     ]
    }
   ],
   "source": [
    "word_index = reuters.get_word_index(path=\"reuters_word_index.json\")\n",
    "print('=3')"
   ]
  },
  {
   "cell_type": "code",
   "execution_count": 10,
   "id": "8d4f1b64",
   "metadata": {},
   "outputs": [
    {
     "data": {
      "text/plain": [
       "1"
      ]
     },
     "execution_count": 10,
     "metadata": {},
     "output_type": "execute_result"
    }
   ],
   "source": [
    "word_index['the']"
   ]
  },
  {
   "cell_type": "code",
   "execution_count": 11,
   "id": "2a0dba6e",
   "metadata": {},
   "outputs": [
    {
     "name": "stdout",
     "output_type": "stream",
     "text": [
      "=3\n"
     ]
    }
   ],
   "source": [
    "index_to_word = { index+3 : word for word, index in word_index.items() }\n",
    "print('=3')"
   ]
  },
  {
   "cell_type": "code",
   "execution_count": 12,
   "id": "34f04481",
   "metadata": {},
   "outputs": [
    {
     "name": "stdout",
     "output_type": "stream",
     "text": [
      "the\n",
      "it\n"
     ]
    }
   ],
   "source": [
    "print(index_to_word[4])\n",
    "print(index_to_word[16])"
   ]
  },
  {
   "cell_type": "code",
   "execution_count": 13,
   "id": "cd00cf71",
   "metadata": {},
   "outputs": [
    {
     "name": "stdout",
     "output_type": "stream",
     "text": [
      "=3\n"
     ]
    }
   ],
   "source": [
    "# index_to_word에 숫자 0은 <pad>, 숫자 1은 <sos>, 숫자 2는 <unk>를 넣어줍니다.\n",
    "for index, token in enumerate((\"<pad>\", \"<sos>\", \"<unk>\")):\n",
    "    index_to_word[index]=token\n",
    "print('=3')"
   ]
  },
  {
   "cell_type": "code",
   "execution_count": 14,
   "id": "a4fd3d86",
   "metadata": {},
   "outputs": [
    {
     "name": "stdout",
     "output_type": "stream",
     "text": [
      "<sos> <unk> <unk> said as a result of its december acquisition of space co it expects earnings per share in 1987 of 1 15 to 1 30 dlrs per share up from 70 cts in 1986 the company said pretax net should rise to nine to 10 mln dlrs from six mln dlrs in 1986 and rental operation revenues to 19 to 22 mln dlrs from 12 5 mln dlrs it said cash flow per share this year should be 2 50 to three dlrs reuter 3\n"
     ]
    }
   ],
   "source": [
    "print(' '.join([index_to_word[index] for index in x_train[0]]))"
   ]
  },
  {
   "cell_type": "code",
   "execution_count": 15,
   "id": "d3b717e7",
   "metadata": {},
   "outputs": [
    {
     "name": "stdout",
     "output_type": "stream",
     "text": [
      "8982\n"
     ]
    }
   ],
   "source": [
    "decoded = []\n",
    "for i in range(len(x_train)):\n",
    "    t = ' '.join([index_to_word[index] for index in x_train[i]])\n",
    "    decoded.append(t)\n",
    "\n",
    "x_train = decoded\n",
    "print(len(x_train))"
   ]
  },
  {
   "cell_type": "code",
   "execution_count": 16,
   "id": "db7992de",
   "metadata": {},
   "outputs": [
    {
     "name": "stdout",
     "output_type": "stream",
     "text": [
      "2246\n"
     ]
    }
   ],
   "source": [
    "decoded = []\n",
    "for i in range(len(x_test)):\n",
    "    t = ' '.join([index_to_word[index] for index in x_test[i]])\n",
    "    decoded.append(t)\n",
    "\n",
    "x_test = decoded\n",
    "print(len(x_test))"
   ]
  },
  {
   "cell_type": "code",
   "execution_count": 17,
   "id": "112a04f0",
   "metadata": {
    "scrolled": true
   },
   "outputs": [
    {
     "data": {
      "text/plain": [
       "['<sos> <unk> <unk> said as a result of its december acquisition of space co it expects earnings per share in 1987 of 1 15 to 1 30 dlrs per share up from 70 cts in 1986 the company said pretax net should rise to nine to 10 mln dlrs from six mln dlrs in 1986 and rental operation revenues to 19 to 22 mln dlrs from 12 5 mln dlrs it said cash flow per share this year should be 2 50 to three dlrs reuter 3',\n",
       " '<sos> generale de banque sa lt <unk> br and lt heller overseas corp of chicago have each taken 50 pct stakes in <unk> company sa <unk> factors generale de banque said in a statement it gave no financial details of the transaction sa <unk> <unk> turnover in 1986 was 17 5 billion belgian francs reuter 3',\n",
       " '<sos> shr 3 28 dlrs vs 22 cts shr diluted 2 99 dlrs vs 22 cts net 46 0 mln vs 3 328 000 avg shrs 14 0 mln vs 15 2 mln year shr 5 41 dlrs vs 1 56 dlrs shr diluted 4 94 dlrs vs 1 50 dlrs net 78 2 mln vs 25 9 mln avg shrs 14 5 mln vs 15 1 mln note earnings per share reflect the two for one split effective january 6 1987 per share amounts are calculated after preferred stock dividends loss continuing operations for the qtr 1986 includes gains of sale of investments in <unk> corp of 14 mln dlrs and associated companies of 4 189 000 less writedowns of investments in national <unk> inc of 11 8 mln and <unk> corp of 15 6 mln reuter 3',\n",
       " \"<sos> the farmers home administration the u s agriculture department's farm lending arm could lose about seven billion dlrs in outstanding principal on its severely <unk> borrowers or about one fourth of its farm loan portfolio the general accounting office gao said in remarks prepared for delivery to the senate agriculture committee brian crowley senior associate director of gao also said that a preliminary analysis of proposed changes in <unk> financial eligibility standards indicated as many as one half of <unk> borrowers who received new loans from the agency in 1986 would be <unk> under the proposed system the agency has proposed evaluating <unk> credit using a variety of financial ratios instead of relying solely on <unk> ability senate agriculture committee chairman patrick leahy d vt <unk> the proposed eligibility changes telling <unk> administrator <unk> clark at a hearing that they would mark a dramatic shift in the agency's purpose away from being farmers' lender of last resort toward becoming a big city bank but clark defended the new regulations saying the agency had a responsibility to <unk> its 70 billion dlr loan portfolio in a <unk> yet <unk> manner crowley of gao <unk> <unk> arm said the proposed credit <unk> system attempted to ensure that <unk> would make loans only to borrowers who had a reasonable change of repaying their debt reuter 3\",\n",
       " '<sos> seton co said its board has received a proposal from chairman and chief executive officer philip d <unk> to acquire seton for 15 75 dlrs per share in cash seton said the acquisition bid is subject to <unk> arranging the necessary financing it said he intends to ask other members of senior management to participate the company said <unk> owns 30 pct of seton stock and other management members another 7 5 pct seton said it has formed an independent board committee to consider the offer and has deferred the annual meeting it had scheduled for march 31 reuter 3']"
      ]
     },
     "execution_count": 17,
     "metadata": {},
     "output_type": "execute_result"
    }
   ],
   "source": [
    "x_train[:5]"
   ]
  },
  {
   "cell_type": "code",
   "execution_count": 18,
   "id": "67cfb423",
   "metadata": {},
   "outputs": [
    {
     "name": "stdout",
     "output_type": "stream",
     "text": [
      "(8982, 9670)\n"
     ]
    }
   ],
   "source": [
    "dtmvector = CountVectorizer()\n",
    "x_train_dtm = dtmvector.fit_transform(x_train)\n",
    "print(x_train_dtm.shape)"
   ]
  },
  {
   "cell_type": "code",
   "execution_count": 19,
   "id": "05a0cd5e",
   "metadata": {},
   "outputs": [
    {
     "name": "stdout",
     "output_type": "stream",
     "text": [
      "(8982, 9670)\n"
     ]
    }
   ],
   "source": [
    "tfidf_transformer = TfidfTransformer()\n",
    "tfidfv = tfidf_transformer.fit_transform(x_train_dtm)\n",
    "print(tfidfv.shape)"
   ]
  },
  {
   "cell_type": "code",
   "execution_count": 20,
   "id": "06e20c4c",
   "metadata": {},
   "outputs": [],
   "source": [
    "# 모델 별 정확도, f1_score 저장용\n",
    "accuracy_10000 = {}\n",
    "f1_10000 = {}"
   ]
  },
  {
   "cell_type": "code",
   "execution_count": 21,
   "id": "63f7b7c7",
   "metadata": {},
   "outputs": [
    {
     "data": {
      "text/plain": [
       "MultinomialNB()"
      ]
     },
     "execution_count": 21,
     "metadata": {},
     "output_type": "execute_result"
    }
   ],
   "source": [
    "model = MultinomialNB()\n",
    "model.fit(tfidfv, y_train)"
   ]
  },
  {
   "cell_type": "code",
   "execution_count": 22,
   "id": "6fb85cf2",
   "metadata": {},
   "outputs": [
    {
     "name": "stdout",
     "output_type": "stream",
     "text": [
      "정확도:, 0.6567230632235085\n",
      "F1-score: 0.5764467518778252\n"
     ]
    }
   ],
   "source": [
    "x_test_dtm = dtmvector.transform(x_test) #테스트 데이터를 DTM으로 변환\n",
    "tfidfv_test = tfidf_transformer.transform(x_test_dtm) #DTM을 TF-IDF 행렬로 변환\n",
    "\n",
    "predicted = model.predict(tfidfv_test) #테스트 데이터에 대한 예측\n",
    "accuracy_10000['Multinomial Naive Bayes Classifier'] = accuracy_score(y_test, predicted)\n",
    "report = classification_report(y_test, predicted, output_dict=True, zero_division=0)\n",
    "f1_10000['Multinomial Naive Bayes Classifier'] = report['weighted avg']['f1-score']\n",
    "print(f\"정확도:, {accuracy_10000['Multinomial Naive Bayes Classifier']}\\nF1-score: {f1_10000['Multinomial Naive Bayes Classifier']}\") #예측값과 실제값 비교"
   ]
  },
  {
   "cell_type": "code",
   "execution_count": 23,
   "id": "aad30c67",
   "metadata": {},
   "outputs": [
    {
     "data": {
      "image/png": "[encoded data removed]",
      "text/plain": [
       "<Figure size 792x360 with 1 Axes>"
      ]
     },
     "metadata": {
      "needs_background": "light"
     },
     "output_type": "display_data"
    }
   ],
   "source": [
    "probability_3 = model.predict_proba(tfidfv_test[3])[0]\n",
    "\n",
    "plt.rcParams[\"figure.figsize\"] = (11,5)\n",
    "plt.bar(model.classes_, probability_3)\n",
    "plt.xlim(-1, 21)\n",
    "plt.xticks(model.classes_)\n",
    "plt.xlabel(\"Class\")\n",
    "plt.ylabel(\"Probability\")\n",
    "plt.show()"
   ]
  },
  {
   "cell_type": "code",
   "execution_count": 24,
   "id": "4465bfdd",
   "metadata": {},
   "outputs": [
    {
     "data": {
      "text/plain": [
       "array([4])"
      ]
     },
     "execution_count": 24,
     "metadata": {},
     "output_type": "execute_result"
    }
   ],
   "source": [
    "model.predict(tfidfv_test[3])"
   ]
  },
  {
   "cell_type": "code",
   "execution_count": 25,
   "id": "ccdfb088",
   "metadata": {},
   "outputs": [
    {
     "name": "stdout",
     "output_type": "stream",
     "text": [
      "              precision    recall  f1-score   support\n",
      "\n",
      "           0       0.00      0.00      0.00        12\n",
      "           1       0.62      0.69      0.65       105\n",
      "           2       0.00      0.00      0.00        20\n",
      "           3       0.81      0.90      0.85       813\n",
      "           4       0.51      0.96      0.67       474\n",
      "           5       0.00      0.00      0.00         5\n",
      "           6       0.00      0.00      0.00        14\n",
      "           7       0.00      0.00      0.00         3\n",
      "           8       0.00      0.00      0.00        38\n",
      "           9       1.00      0.08      0.15        25\n",
      "          10       0.00      0.00      0.00        30\n",
      "          11       0.66      0.63      0.64        83\n",
      "          12       0.00      0.00      0.00        13\n",
      "          13       1.00      0.03      0.05        37\n",
      "          14       0.00      0.00      0.00         2\n",
      "          15       0.00      0.00      0.00         9\n",
      "          16       0.69      0.56      0.61        99\n",
      "          17       0.00      0.00      0.00        12\n",
      "          18       0.00      0.00      0.00        20\n",
      "          19       0.60      0.78      0.68       133\n",
      "          20       1.00      0.04      0.08        70\n",
      "          21       0.00      0.00      0.00        27\n",
      "          22       0.00      0.00      0.00         7\n",
      "          23       0.00      0.00      0.00        12\n",
      "          24       0.00      0.00      0.00        19\n",
      "          25       1.00      0.03      0.06        31\n",
      "          26       0.00      0.00      0.00         8\n",
      "          27       0.00      0.00      0.00         4\n",
      "          28       0.00      0.00      0.00        10\n",
      "          29       0.00      0.00      0.00         4\n",
      "          30       0.00      0.00      0.00        12\n",
      "          31       0.00      0.00      0.00        13\n",
      "          32       0.00      0.00      0.00        10\n",
      "          33       0.00      0.00      0.00         5\n",
      "          34       0.00      0.00      0.00         7\n",
      "          35       0.00      0.00      0.00         6\n",
      "          36       0.00      0.00      0.00        11\n",
      "          37       0.00      0.00      0.00         2\n",
      "          38       0.00      0.00      0.00         3\n",
      "          39       0.00      0.00      0.00         5\n",
      "          40       0.00      0.00      0.00        10\n",
      "          41       0.00      0.00      0.00         8\n",
      "          42       0.00      0.00      0.00         3\n",
      "          43       0.00      0.00      0.00         6\n",
      "          44       0.00      0.00      0.00         5\n",
      "          45       0.00      0.00      0.00         1\n",
      "\n",
      "    accuracy                           0.66      2246\n",
      "   macro avg       0.17      0.10      0.10      2246\n",
      "weighted avg       0.59      0.66      0.58      2246\n",
      "\n"
     ]
    }
   ],
   "source": [
    "print(classification_report(y_test, model.predict(tfidfv_test), zero_division=0))"
   ]
  },
  {
   "cell_type": "code",
   "execution_count": 26,
   "id": "2d8c5511",
   "metadata": {
    "scrolled": true
   },
   "outputs": [],
   "source": [
    "report = classification_report(y_test, model.predict(tfidfv_test), output_dict=True, zero_division=0)"
   ]
  },
  {
   "cell_type": "code",
   "execution_count": 27,
   "id": "87f840a9",
   "metadata": {},
   "outputs": [
    {
     "data": {
      "text/plain": [
       "0.5764467518778252"
      ]
     },
     "execution_count": 27,
     "metadata": {},
     "output_type": "execute_result"
    }
   ],
   "source": [
    "report['weighted avg']['f1-score']"
   ]
  },
  {
   "cell_type": "code",
   "execution_count": 28,
   "id": "3f5fdc8f",
   "metadata": {},
   "outputs": [
    {
     "name": "stdout",
     "output_type": "stream",
     "text": [
      "=3\n"
     ]
    }
   ],
   "source": [
    "def graph_confusion_matrix(model, x_test, y_test):#, classes_name):\n",
    "    df_cm = pd.DataFrame(confusion_matrix(y_test, model.predict(x_test)))#, index=classes_name, columns=classes_name)\n",
    "    fig = plt.figure(figsize=(12,12))\n",
    "    heatmap = sns.heatmap(df_cm, annot=True, fmt=\"d\")\n",
    "    heatmap.yaxis.set_ticklabels(heatmap.yaxis.get_ticklabels(), rotation=0, ha='right', fontsize=12)\n",
    "    heatmap.xaxis.set_ticklabels(heatmap.xaxis.get_ticklabels(), rotation=45, ha='right', fontsize=12)\n",
    "    plt.ylabel('label')\n",
    "    plt.xlabel('predicted value')\n",
    "\n",
    "print('=3')"
   ]
  },
  {
   "cell_type": "code",
   "execution_count": 29,
   "id": "cefe579e",
   "metadata": {
    "scrolled": true
   },
   "outputs": [
    {
     "data": {
      "image/png": "[encoded data removed]",
      "text/plain": [
       "<Figure size 864x864 with 2 Axes>"
      ]
     },
     "metadata": {
      "needs_background": "light"
     },
     "output_type": "display_data"
    }
   ],
   "source": [
    "graph_confusion_matrix(model, tfidfv_test, y_test)"
   ]
  },
  {
   "cell_type": "code",
   "execution_count": 30,
   "id": "cf2bd8ac",
   "metadata": {},
   "outputs": [
    {
     "data": {
      "text/plain": [
       "ComplementNB()"
      ]
     },
     "execution_count": 30,
     "metadata": {},
     "output_type": "execute_result"
    }
   ],
   "source": [
    "cb = ComplementNB()\n",
    "cb.fit(tfidfv, y_train)"
   ]
  },
  {
   "cell_type": "code",
   "execution_count": 31,
   "id": "a2300b38",
   "metadata": {
    "scrolled": true
   },
   "outputs": [
    {
     "name": "stdout",
     "output_type": "stream",
     "text": [
      "정확도:, 0.7707034728406055\n",
      "F1-score: 0.7456682614453047\n"
     ]
    }
   ],
   "source": [
    "predicted = cb.predict(tfidfv_test) #테스트 데이터에 대한 예측\n",
    "accuracy_10000['Complement Naive Bayes Classifier'] = accuracy_score(y_test, predicted)\n",
    "report = classification_report(y_test, predicted, output_dict=True, zero_division=0)\n",
    "f1_10000['Complement Naive Bayes Classifier'] = report['weighted avg']['f1-score']\n",
    "print(f\"정확도:, {accuracy_10000['Complement Naive Bayes Classifier']}\\nF1-score: {f1_10000['Complement Naive Bayes Classifier']}\") #예측값과 실제값 비교"
   ]
  },
  {
   "cell_type": "code",
   "execution_count": 32,
   "id": "95d52d8e",
   "metadata": {
    "scrolled": false
   },
   "outputs": [
    {
     "data": {
      "text/plain": [
       "LogisticRegression(C=10000)"
      ]
     },
     "execution_count": 32,
     "metadata": {},
     "output_type": "execute_result"
    }
   ],
   "source": [
    "lr = LogisticRegression(C=10000, penalty='l2')\n",
    "lr.fit(tfidfv, y_train)"
   ]
  },
  {
   "cell_type": "code",
   "execution_count": 33,
   "id": "143f3a8d",
   "metadata": {},
   "outputs": [
    {
     "name": "stdout",
     "output_type": "stream",
     "text": [
      "정확도:, 0.8076580587711487\n",
      "F1-score: 0.8014651882605348\n"
     ]
    }
   ],
   "source": [
    "predicted = lr.predict(tfidfv_test) #테스트 데이터에 대한 예측\n",
    "accuracy_10000['Logistic Regression'] = accuracy_score(y_test, predicted)\n",
    "report = classification_report(y_test, predicted, output_dict=True, zero_division=0)\n",
    "f1_10000['Logistic Regression'] = report['weighted avg']['f1-score']\n",
    "print(f\"정확도:, {accuracy_10000['Logistic Regression']}\\nF1-score: {f1_10000['Logistic Regression']}\") #예측값과 실제값 비교"
   ]
  },
  {
   "cell_type": "code",
   "execution_count": 34,
   "id": "3d50b16f",
   "metadata": {},
   "outputs": [
    {
     "data": {
      "text/plain": [
       "LinearSVC(C=1000, dual=False, max_iter=500, penalty='l1')"
      ]
     },
     "execution_count": 34,
     "metadata": {},
     "output_type": "execute_result"
    }
   ],
   "source": [
    "lsvc = LinearSVC(C=1000, penalty='l1', max_iter=500, dual=False)\n",
    "lsvc.fit(tfidfv, y_train)"
   ]
  },
  {
   "cell_type": "code",
   "execution_count": 35,
   "id": "594d2b92",
   "metadata": {},
   "outputs": [
    {
     "name": "stdout",
     "output_type": "stream",
     "text": [
      "정확도:, 0.7711487088156723\n",
      "F1-score: 0.7660242378020207\n"
     ]
    }
   ],
   "source": [
    "predicted = lsvc.predict(tfidfv_test) #테스트 데이터에 대한 예측\n",
    "accuracy_10000['Linear Support Vector Machine'] = accuracy_score(y_test, predicted)\n",
    "report = classification_report(y_test, predicted, output_dict=True, zero_division=0)\n",
    "f1_10000['Linear Support Vector Machine'] = report['weighted avg']['f1-score']\n",
    "print(f\"정확도:, {accuracy_10000['Linear Support Vector Machine']}\\nF1-score: {f1_10000['Linear Support Vector Machine']}\") #예측값과 실제값 비교"
   ]
  },
  {
   "cell_type": "code",
   "execution_count": 36,
   "id": "b09adb6a",
   "metadata": {},
   "outputs": [
    {
     "data": {
      "text/plain": [
       "DecisionTreeClassifier(max_depth=10, random_state=0)"
      ]
     },
     "execution_count": 36,
     "metadata": {},
     "output_type": "execute_result"
    }
   ],
   "source": [
    "tree = DecisionTreeClassifier(max_depth=10, random_state=0)\n",
    "tree.fit(tfidfv, y_train)"
   ]
  },
  {
   "cell_type": "code",
   "execution_count": 37,
   "id": "7a9a35c6",
   "metadata": {},
   "outputs": [
    {
     "name": "stdout",
     "output_type": "stream",
     "text": [
      "정확도:, 0.6202137132680321\n",
      "F1-score: 0.5776398779280149\n"
     ]
    }
   ],
   "source": [
    "predicted = tree.predict(tfidfv_test) #테스트 데이터에 대한 예측\n",
    "accuracy_10000['Decision Tree'] = accuracy_score(y_test, predicted)\n",
    "report = classification_report(y_test, predicted, output_dict=True, zero_division=0)\n",
    "f1_10000['Decision Tree'] = report['weighted avg']['f1-score']\n",
    "print(f\"정확도:, {accuracy_10000['Decision Tree']}\\nF1-score: {f1_10000['Decision Tree']}\") #예측값과 실제값 비교"
   ]
  },
  {
   "cell_type": "code",
   "execution_count": 38,
   "id": "9b63b6c1",
   "metadata": {},
   "outputs": [
    {
     "data": {
      "text/plain": [
       "RandomForestClassifier(n_estimators=5, random_state=0)"
      ]
     },
     "execution_count": 38,
     "metadata": {},
     "output_type": "execute_result"
    }
   ],
   "source": [
    "forest = RandomForestClassifier(n_estimators=5, random_state=0)\n",
    "forest.fit(tfidfv, y_train)"
   ]
  },
  {
   "cell_type": "code",
   "execution_count": 39,
   "id": "a56f8e84",
   "metadata": {},
   "outputs": [
    {
     "name": "stdout",
     "output_type": "stream",
     "text": [
      "정확도:, 0.674087266251113\n",
      "F1-score: 0.6429484177284822\n"
     ]
    }
   ],
   "source": [
    "predicted = forest.predict(tfidfv_test) #테스트 데이터에 대한 예측\n",
    "accuracy_10000['Random Forest'] = accuracy_score(y_test, predicted)\n",
    "report = classification_report(y_test, predicted, output_dict=True, zero_division=0)\n",
    "f1_10000['Random Forest'] = report['weighted avg']['f1-score']\n",
    "print(f\"정확도:, {accuracy_10000['Random Forest']}\\nF1-score: {f1_10000['Random Forest']}\")"
   ]
  },
  {
   "cell_type": "code",
   "execution_count": 40,
   "id": "ccdcf53c",
   "metadata": {
    "scrolled": true
   },
   "outputs": [
    {
     "data": {
      "text/plain": [
       "GradientBoostingClassifier(random_state=0)"
      ]
     },
     "execution_count": 40,
     "metadata": {},
     "output_type": "execute_result"
    }
   ],
   "source": [
    "grbt = GradientBoostingClassifier(random_state=0,)\n",
    "grbt.fit(tfidfv, y_train)"
   ]
  },
  {
   "cell_type": "code",
   "execution_count": 41,
   "id": "13da6b23",
   "metadata": {},
   "outputs": [
    {
     "name": "stdout",
     "output_type": "stream",
     "text": [
      "정확도:, 0.7662511130899377\n",
      "F1-score: 0.7622247724249729\n"
     ]
    }
   ],
   "source": [
    "predicted = grbt.predict(tfidfv_test) #테스트 데이터에 대한 예측\n",
    "accuracy_10000['GradientBoostingClassifier'] = accuracy_score(y_test, predicted)\n",
    "report = classification_report(y_test, predicted, output_dict=True, zero_division=0)\n",
    "f1_10000['GradientBoostingClassifier'] = report['weighted avg']['f1-score']\n",
    "print(f\"정확도:, {accuracy_10000['GradientBoostingClassifier']}\\nF1-score: {f1_10000['GradientBoostingClassifier']}\") #예측값과 실제값 비교"
   ]
  },
  {
   "cell_type": "code",
   "execution_count": 42,
   "id": "b47b5862",
   "metadata": {},
   "outputs": [
    {
     "name": "stderr",
     "output_type": "stream",
     "text": [
      "/opt/conda/lib/python3.9/site-packages/sklearn/linear_model/_logistic.py:814: ConvergenceWarning: lbfgs failed to converge (status=1):\n",
      "STOP: TOTAL NO. of ITERATIONS REACHED LIMIT.\n",
      "\n",
      "Increase the number of iterations (max_iter) or scale the data as shown in:\n",
      "    https://scikit-learn.org/stable/modules/preprocessing.html\n",
      "Please also refer to the documentation for alternative solver options:\n",
      "    https://scikit-learn.org/stable/modules/linear_model.html#logistic-regression\n",
      "  n_iter_i = _check_optimize_result(\n"
     ]
    },
    {
     "data": {
      "text/plain": [
       "VotingClassifier(estimators=[('lr', LogisticRegression(C=10000)),\n",
       "                             ('cb', ComplementNB()),\n",
       "                             ('grbt',\n",
       "                              GradientBoostingClassifier(random_state=0))],\n",
       "                 n_jobs=-1, voting='soft')"
      ]
     },
     "execution_count": 42,
     "metadata": {},
     "output_type": "execute_result"
    }
   ],
   "source": [
    "voting_classifier = VotingClassifier(estimators=[\n",
    "         ('lr', LogisticRegression(C=10000, penalty='l2')),\n",
    "        ('cb', ComplementNB()),\n",
    "        ('grbt', GradientBoostingClassifier(random_state=0))\n",
    "], voting='soft', n_jobs=-1)\n",
    "voting_classifier.fit(tfidfv, y_train)"
   ]
  },
  {
   "cell_type": "code",
   "execution_count": 44,
   "id": "478529d3",
   "metadata": {},
   "outputs": [
    {
     "name": "stdout",
     "output_type": "stream",
     "text": [
      "정확도:, 0.8116651825467498\n",
      "F1-score: 0.8082216149049796\n"
     ]
    }
   ],
   "source": [
    "predicted = voting_classifier.predict(tfidfv_test) #테스트 데이터에 대한 예측\n",
    "accuracy_10000['Voting'] = accuracy_score(y_test, predicted)\n",
    "report = classification_report(y_test, predicted, output_dict=True, zero_division=0)\n",
    "f1_10000['Voting'] = report['weighted avg']['f1-score']\n",
    "print(f\"정확도:, {accuracy_10000['Voting']}\\nF1-score: {f1_10000['Voting']}\") #예측값과 실제값 비교"
   ]
  },
  {
   "cell_type": "markdown",
   "id": "5b3bdafa",
   "metadata": {},
   "source": [
    "## 단어 수 변경하며 비교\n",
    "\n",
    "위에서 진행한 과정을 각각의 함수로 생성한 후, 단어의 수를 바꿔가며 성능의 변화를 파악한다."
   ]
  },
  {
   "cell_type": "markdown",
   "id": "ee6e4f7a",
   "metadata": {},
   "source": [
    "### 데이터 업로드, 복원 및 벡터화"
   ]
  },
  {
   "cell_type": "code",
   "execution_count": 45,
   "id": "67a24b17",
   "metadata": {},
   "outputs": [],
   "source": [
    "def set_train_test(num_words=10000, rate=0.2,):\n",
    "    (x_train, y_train), (x_test, y_test) = reuters.load_data(num_words=num_words, test_split=rate)\n",
    "    \n",
    "    return x_train, y_train, x_test, y_test\n",
    "\n",
    "def train_test_info(x_train, y_train, x_test, y_test):\n",
    "    print('훈련 샘플의 수: {}'.format(len(x_train)))\n",
    "    print('테스트 샘플의 수: {}'.format(len(x_test)))\n",
    "    num_classes = max(y_train) + 1\n",
    "    print('클래스의 수 : {}'.format(num_classes))\n",
    "    \n",
    "    print('훈련용 뉴스의 최대 길이 :{}'.format(max(len(l) for l in x_train)))\n",
    "    print('훈련용 뉴스의 평균 길이 :{}'.format(sum(map(len, x_train))/len(x_train)))\n",
    "\n",
    "    plt.hist([len(s) for s in x_train], bins=50)\n",
    "    plt.xlabel('length of samples')\n",
    "    plt.ylabel('number of samples')\n",
    "    plt.show()\n",
    "    \n",
    "    fig, axe = plt.subplots(ncols=1)\n",
    "    fig.set_size_inches(11,5)\n",
    "    sns.countplot(x=y_train)\n",
    "    plt.show()\n",
    "    \n",
    "    unique_elements, counts_elements = np.unique(y_train, return_counts=True)\n",
    "    print(\"각 클래스 빈도수:\")\n",
    "    print(np.asarray((unique_elements, counts_elements)))\n",
    "\n",
    "def return_data(x_train, x_test):\n",
    "    word_index = reuters.get_word_index(path=\"reuters_word_index.json\")\n",
    "    index_to_word = { index+3 : word for word, index in word_index.items() }\n",
    "    for index, token in enumerate((\"<pad>\", \"<sos>\", \"<unk>\")):\n",
    "        index_to_word[index]=token\n",
    "        \n",
    "    tr_decoded = []\n",
    "    for i in range(len(x_train)):\n",
    "        t = ' '.join([index_to_word[index] for index in x_train[i]])\n",
    "        tr_decoded.append(t)\n",
    "\n",
    "    x_train = tr_decoded\n",
    "    print(f\"x_train: {len(x_train)}\")\n",
    "    \n",
    "    ts_decoded = []\n",
    "    for i in range(len(x_test)):\n",
    "        t = ' '.join([index_to_word[index] for index in x_test[i]])\n",
    "        ts_decoded.append(t)\n",
    "\n",
    "    x_test = ts_decoded\n",
    "    print(f\"x_test: {len(x_test)}\")\n",
    "    \n",
    "    return x_train, x_test\n",
    "\n",
    "def dtm_tf_idf(x_train, x_test):\n",
    "    dtmvector = CountVectorizer()\n",
    "    x_train_dtm = dtmvector.fit_transform(x_train)\n",
    "    print(x_train_dtm.shape)\n",
    "    \n",
    "    tfidf_transformer = TfidfTransformer()\n",
    "    tfidfv = tfidf_transformer.fit_transform(x_train_dtm)\n",
    "    print(tfidfv.shape)\n",
    "    \n",
    "    return dtmvector, x_train_dtm, tfidf_transformer, tfidfv"
   ]
  },
  {
   "cell_type": "markdown",
   "id": "47a67f41",
   "metadata": {},
   "source": [
    "### 모델 학습"
   ]
  },
  {
   "cell_type": "code",
   "execution_count": 46,
   "id": "86db26c2",
   "metadata": {},
   "outputs": [],
   "source": [
    "def train_model(dtmvector, x_train_dtm, tfidf_transformer, tfidfv, x_test, y_train):\n",
    "    accuracy = {}\n",
    "    f1_score = {}\n",
    "    # 나이브 베이즈 분류기\n",
    "    naive = MultinomialNB()\n",
    "    naive.fit(tfidfv, y_train)\n",
    "    \n",
    "    x_test_dtm = dtmvector.transform(x_test) #테스트 데이터를 DTM으로 변환\n",
    "    tfidfv_test = tfidf_transformer.transform(x_test_dtm) #DTM을 TF-IDF 행렬로 변환\n",
    "\n",
    "    predicted = naive.predict(tfidfv_test) #테스트 데이터에 대한 예측\n",
    "    accuracy['Multinomial Naive Bayes Classifier'] = accuracy_score(y_test, predicted)\n",
    "    report = classification_report(y_test, predicted, output_dict=True, zero_division=0)\n",
    "    f1_score['Multinomial Naive Bayes Classifier'] = report['weighted avg']['f1-score']\n",
    "    print(\"Multinomial Naive Bayes Classifier Done\")\n",
    "    \n",
    "    # 컴플리먼트 나이브 베이즈 분류기\n",
    "\n",
    "    cb = ComplementNB()\n",
    "    cb.fit(tfidfv, y_train)\n",
    "    \n",
    "    predicted = cb.predict(tfidfv_test) #테스트 데이터에 대한 예측\n",
    "    accuracy['Complement Naive Bayes Classifier'] = accuracy_score(y_test, predicted)\n",
    "    report = classification_report(y_test, predicted, output_dict=True, zero_division=0)\n",
    "    f1_score['Complement Naive Bayes Classifier'] = report['weighted avg']['f1-score']\n",
    "    print(\"Complement Naive Bayes Classifier Done\")\n",
    "    \n",
    "    \n",
    "    # 로지스틱 회귀 \n",
    "    lr = LogisticRegression(C=10000, penalty='l2')\n",
    "    lr.fit(tfidfv, y_train)\n",
    "    \n",
    "    predicted = lr.predict(tfidfv_test) \n",
    "    accuracy['Logistic Regression'] = accuracy_score(y_test, predicted)\n",
    "    report = classification_report(y_test, predicted, output_dict=True, zero_division=0)\n",
    "    f1_score['Logistic Regression'] = report['weighted avg']['f1-score']\n",
    "    print(\"Logistic Regression Done\")\n",
    "    \n",
    "    # 서포트 벡터 머신\n",
    "    lsvc = LinearSVC(C=1000, penalty='l1', max_iter=500, dual=False)\n",
    "    lsvc.fit(tfidfv, y_train)\n",
    "    \n",
    "    predicted = lsvc.predict(tfidfv_test) \n",
    "    accuracy['Linear Support Vector Machine'] = accuracy_score(y_test, predicted)\n",
    "    report = classification_report(y_test, predicted, output_dict=True, zero_division=0)\n",
    "    f1_score['Linear Support Vector Machine'] = report['weighted avg']['f1-score']\n",
    "    print(\"Linear Support Vector Machine Done\")\n",
    "    \n",
    "    # 결정트리\n",
    "    tree = DecisionTreeClassifier(max_depth=10, random_state=0)\n",
    "    tree.fit(tfidfv, y_train)\n",
    "    \n",
    "    predicted = tree.predict(tfidfv_test) #테스트 데이터에 대한 예측\n",
    "    accuracy['Decision Tree'] = accuracy_score(y_test, predicted)\n",
    "    report = classification_report(y_test, predicted, output_dict=True, zero_division=0)\n",
    "    f1_score['Decision Tree'] = report['weighted avg']['f1-score']\n",
    "    print(\"Decision Tree Done\")\n",
    "    \n",
    "    # 랜덤 포레스트\n",
    "    forest = RandomForestClassifier(n_estimators=5, random_state=0)\n",
    "    forest.fit(tfidfv, y_train)\n",
    "    \n",
    "    predicted = forest.predict(tfidfv_test) #테스트 데이터에 대한 예측\n",
    "    accuracy['Random Forest'] = accuracy_score(y_test, predicted)\n",
    "    report = classification_report(y_test, predicted, output_dict=True, zero_division=0)\n",
    "    f1_score['Random Forest'] = report['weighted avg']['f1-score']\n",
    "    print(\"Random Forest Done\")\n",
    "    \n",
    "    # 그라디언트 부스팅\n",
    "    grbt = GradientBoostingClassifier(random_state=0) # verbose=3\n",
    "    grbt.fit(tfidfv, y_train)\n",
    "    \n",
    "    predicted = grbt.predict(tfidfv_test) #테스트 데이터에 대한 예측\n",
    "    accuracy['GradientBoostingClassifier'] = accuracy_score(y_test, predicted)\n",
    "    report = classification_report(y_test, predicted, output_dict=True, zero_division=0)\n",
    "    f1_score['GradientBoostingClassifier'] = report['weighted avg']['f1-score']\n",
    "    print(\"GradientBoostingClassifier Done\")\n",
    "    \n",
    "    # 보팅\n",
    "    voting_classifier = VotingClassifier(estimators=[\n",
    "             ('lr', LogisticRegression(C=10000, penalty='l2')),\n",
    "            ('cb', ComplementNB()),\n",
    "            ('grbt', GradientBoostingClassifier(random_state=0))\n",
    "    ], voting='soft', n_jobs=-1)\n",
    "    voting_classifier.fit(tfidfv, y_train)\n",
    "\n",
    "    predicted = voting_classifier.predict(tfidfv_test) #테스트 데이터에 대한 예측\n",
    "    accuracy['Voting'] = accuracy_score(y_test, predicted)\n",
    "    report = classification_report(y_test, predicted, output_dict=True, zero_division=0)\n",
    "    f1_score['Voting'] = report['weighted avg']['f1-score']\n",
    "    print(\"Voting Done\")\n",
    "    \n",
    "    return accuracy, f1_score"
   ]
  },
  {
   "cell_type": "markdown",
   "id": "833ef812",
   "metadata": {},
   "source": [
    "### Num_words = 5000"
   ]
  },
  {
   "cell_type": "code",
   "execution_count": 47,
   "id": "e2b1d73d",
   "metadata": {
    "scrolled": false
   },
   "outputs": [
    {
     "name": "stdout",
     "output_type": "stream",
     "text": [
      "훈련 샘플의 수: 8982\n",
      "테스트 샘플의 수: 2246\n",
      "클래스의 수 : 46\n",
      "훈련용 뉴스의 최대 길이 :2376\n",
      "훈련용 뉴스의 평균 길이 :145.5398574927633\n"
     ]
    },
    {
     "data": {
      "image/png": "[encoded data removed]",
      "text/plain": [
       "<Figure size 792x360 with 1 Axes>"
      ]
     },
     "metadata": {
      "needs_background": "light"
     },
     "output_type": "display_data"
    },
    {
     "data": {
      "image/png": "[encoded data removed]",
      "text/plain": [
       "<Figure size 792x360 with 1 Axes>"
      ]
     },
     "metadata": {
      "needs_background": "light"
     },
     "output_type": "display_data"
    },
    {
     "name": "stdout",
     "output_type": "stream",
     "text": [
      "각 클래스 빈도수:\n",
      "[[   0    1    2    3    4    5    6    7    8    9   10   11   12   13\n",
      "    14   15   16   17   18   19   20   21   22   23   24   25   26   27\n",
      "    28   29   30   31   32   33   34   35   36   37   38   39   40   41\n",
      "    42   43   44   45]\n",
      " [  55  432   74 3159 1949   17   48   16  139  101  124  390   49  172\n",
      "    26   20  444   39   66  549  269  100   15   41   62   92   24   15\n",
      "    48   19   45   39   32   11   50   10   49   19   19   24   36   30\n",
      "    13   21   12   18]]\n",
      "x_train: 8982\n",
      "x_test: 2246\n",
      "(8982, 4867)\n",
      "(8982, 4867)\n",
      "Multinomial Naive Bayes Classifier Done\n",
      "Complement Naive Bayes Classifier Done\n",
      "Logistic Regression Done\n",
      "Linear Support Vector Machine Done\n",
      "Decision Tree Done\n",
      "Random Forest Done\n",
      "GradientBoostingClassifier Done\n"
     ]
    },
    {
     "name": "stderr",
     "output_type": "stream",
     "text": [
      "/opt/conda/lib/python3.9/site-packages/sklearn/linear_model/_logistic.py:814: ConvergenceWarning: lbfgs failed to converge (status=1):\n",
      "STOP: TOTAL NO. of ITERATIONS REACHED LIMIT.\n",
      "\n",
      "Increase the number of iterations (max_iter) or scale the data as shown in:\n",
      "    https://scikit-learn.org/stable/modules/preprocessing.html\n",
      "Please also refer to the documentation for alternative solver options:\n",
      "    https://scikit-learn.org/stable/modules/linear_model.html#logistic-regression\n",
      "  n_iter_i = _check_optimize_result(\n"
     ]
    },
    {
     "name": "stdout",
     "output_type": "stream",
     "text": [
      "Voting Done\n"
     ]
    }
   ],
   "source": [
    "x_train, y_train, x_test, y_test = set_train_test(5000, 0.2)\n",
    "train_test_info(x_train, y_train, x_test, y_test)\n",
    "x_train, x_test = return_data(x_train, x_test)\n",
    "dtmvector, x_train_dtm, tfidf_transformer, tfidfv = dtm_tf_idf(x_train, x_test)\n",
    "\n",
    "accuracy_5000, f1_5000 = train_model(dtmvector, x_train_dtm, tfidf_transformer, tfidfv, x_test, y_train)"
   ]
  },
  {
   "cell_type": "markdown",
   "id": "c6e82940",
   "metadata": {},
   "source": [
    "### Num_words = None (모든 단어 사용)"
   ]
  },
  {
   "cell_type": "code",
   "execution_count": 48,
   "id": "d49029c4",
   "metadata": {},
   "outputs": [
    {
     "name": "stdout",
     "output_type": "stream",
     "text": [
      "훈련 샘플의 수: 8982\n",
      "테스트 샘플의 수: 2246\n",
      "클래스의 수 : 46\n",
      "훈련용 뉴스의 최대 길이 :2376\n",
      "훈련용 뉴스의 평균 길이 :145.5398574927633\n"
     ]
    },
    {
     "data": {
      "image/png": "[encoded data removed]",
      "text/plain": [
       "<Figure size 792x360 with 1 Axes>"
      ]
     },
     "metadata": {
      "needs_background": "light"
     },
     "output_type": "display_data"
    },
    {
     "data": {
      "image/png": "[encoded data removed]",
      "text/plain": [
       "<Figure size 792x360 with 1 Axes>"
      ]
     },
     "metadata": {
      "needs_background": "light"
     },
     "output_type": "display_data"
    },
    {
     "name": "stdout",
     "output_type": "stream",
     "text": [
      "각 클래스 빈도수:\n",
      "[[   0    1    2    3    4    5    6    7    8    9   10   11   12   13\n",
      "    14   15   16   17   18   19   20   21   22   23   24   25   26   27\n",
      "    28   29   30   31   32   33   34   35   36   37   38   39   40   41\n",
      "    42   43   44   45]\n",
      " [  55  432   74 3159 1949   17   48   16  139  101  124  390   49  172\n",
      "    26   20  444   39   66  549  269  100   15   41   62   92   24   15\n",
      "    48   19   45   39   32   11   50   10   49   19   19   24   36   30\n",
      "    13   21   12   18]]\n",
      "x_train: 8982\n",
      "x_test: 2246\n",
      "(8982, 26506)\n",
      "(8982, 26506)\n",
      "Multinomial Naive Bayes Classifier Done\n",
      "Complement Naive Bayes Classifier Done\n",
      "Logistic Regression Done\n",
      "Linear Support Vector Machine Done\n",
      "Decision Tree Done\n",
      "Random Forest Done\n",
      "GradientBoostingClassifier Done\n"
     ]
    },
    {
     "name": "stderr",
     "output_type": "stream",
     "text": [
      "/opt/conda/lib/python3.9/site-packages/sklearn/linear_model/_logistic.py:814: ConvergenceWarning: lbfgs failed to converge (status=1):\n",
      "STOP: TOTAL NO. of ITERATIONS REACHED LIMIT.\n",
      "\n",
      "Increase the number of iterations (max_iter) or scale the data as shown in:\n",
      "    https://scikit-learn.org/stable/modules/preprocessing.html\n",
      "Please also refer to the documentation for alternative solver options:\n",
      "    https://scikit-learn.org/stable/modules/linear_model.html#logistic-regression\n",
      "  n_iter_i = _check_optimize_result(\n"
     ]
    },
    {
     "name": "stdout",
     "output_type": "stream",
     "text": [
      "Voting Done\n"
     ]
    }
   ],
   "source": [
    "x_train, y_train, x_test, y_test = set_train_test(None, 0.2)\n",
    "train_test_info(x_train, y_train, x_test, y_test)\n",
    "x_train, x_test = return_data(x_train, x_test)\n",
    "dtmvector, x_train_dtm, tfidf_transformer, tfidfv = dtm_tf_idf(x_train, x_test)\n",
    "\n",
    "accuracy_none, f1_none = train_model(dtmvector, x_train_dtm, tfidf_transformer, tfidfv, x_test, y_train)"
   ]
  },
  {
   "cell_type": "markdown",
   "id": "eabbc376",
   "metadata": {},
   "source": [
    "## 딥러닝 모델과 비교"
   ]
  },
  {
   "cell_type": "code",
   "execution_count": 49,
   "id": "e92b9dcb",
   "metadata": {},
   "outputs": [],
   "source": [
    "x_train, y_train, x_test, y_test = set_train_test(10000, 0.2)"
   ]
  },
  {
   "cell_type": "code",
   "execution_count": 50,
   "id": "126b6e52",
   "metadata": {},
   "outputs": [
    {
     "name": "stdout",
     "output_type": "stream",
     "text": [
      "훈련 샘플의 수: 8982\n",
      "테스트 샘플의 수: 2246\n"
     ]
    }
   ],
   "source": [
    "print('훈련 샘플의 수: {}'.format(len(x_train)))\n",
    "print('테스트 샘플의 수: {}'.format(len(x_test)))"
   ]
  },
  {
   "cell_type": "code",
   "execution_count": 51,
   "id": "30e25ff9",
   "metadata": {},
   "outputs": [
    {
     "name": "stdout",
     "output_type": "stream",
     "text": [
      "<sos> <unk> <unk> said as a result of its december acquisition of space co it expects earnings per share in 1987 of 1 15 to 1 30 dlrs per share up from 70 cts in 1986 the company said pretax net should rise to nine to 10 mln dlrs from six mln dlrs in 1986 and rental operation revenues to 19 to 22 mln dlrs from 12 5 mln dlrs it said cash flow per share this year should be 2 50 to three dlrs reuter 3\n"
     ]
    }
   ],
   "source": [
    "word_index = reuters.get_word_index(path=\"reuters_word_index.json\")\n",
    "index_to_word = { index+3 : word for word, index in word_index.items() }\n",
    "for index, token in enumerate((\"<pad>\", \"<sos>\", \"<unk>\")):\n",
    "    index_to_word[index]=token\n",
    "    \n",
    "print(' '.join([index_to_word[index] for index in x_train[0]]))"
   ]
  },
  {
   "cell_type": "code",
   "execution_count": 52,
   "id": "c21e60a2",
   "metadata": {},
   "outputs": [],
   "source": [
    "x_train = tensorflow.keras.preprocessing.sequence.pad_sequences(x_train,\n",
    "                                                        value=0,\n",
    "                                                        padding='pre',\n",
    "                                                        maxlen=200)\n",
    "\n",
    "x_test = tensorflow.keras.preprocessing.sequence.pad_sequences(x_test,\n",
    "                                                        value=0,\n",
    "                                                        padding='pre',\n",
    "                                                        maxlen=200)"
   ]
  },
  {
   "cell_type": "code",
   "execution_count": 53,
   "id": "952c936b",
   "metadata": {},
   "outputs": [
    {
     "name": "stdout",
     "output_type": "stream",
     "text": [
      "X_train의 크기(shape) : (8982, 200)\n",
      "X_test의 크기(shape) : (2246, 200)\n"
     ]
    }
   ],
   "source": [
    "print('X_train의 크기(shape) :',x_train.shape)\n",
    "print('X_test의 크기(shape) :',x_test.shape)"
   ]
  },
  {
   "cell_type": "code",
   "execution_count": 54,
   "id": "ba1b233b",
   "metadata": {},
   "outputs": [
    {
     "data": {
      "text/plain": [
       "array([   0,    0,    0,    0,    0,    0,    0,    0,    0,    0,    0,\n",
       "          0,    0,    0,    0,    0,    0,    0,    0,    0,    0,    0,\n",
       "          0,    0,    0,    0,    0,    0,    0,    0,    0,    0,    0,\n",
       "          0,    0,    0,    0,    0,    0,    0,    0,    0,    0,    0,\n",
       "          0,    0,    0,    0,    0,    0,    0,    0,    0,    0,    0,\n",
       "          0,    0,    0,    0,    0,    0,    0,    0,    0,    0,    0,\n",
       "          0,    0,    0,    0,    0,    0,    0,    0,    0,    0,    0,\n",
       "          0,    0,    0,    0,    0,    0,    0,    0,    0,    0,    0,\n",
       "          0,    0,    0,    0,    0,    0,    0,    0,    0,    0,    0,\n",
       "          0,    0,    0,    0,    0,    0,    0,    0,    0,    0,    0,\n",
       "          0,    0,    0,    1,    2,    2,    8,   43,   10,  447,    5,\n",
       "         25,  207,  270,    5, 3095,  111,   16,  369,  186,   90,   67,\n",
       "          7,   89,    5,   19,  102,    6,   19,  124,   15,   90,   67,\n",
       "         84,   22,  482,   26,    7,   48,    4,   49,    8,  864,   39,\n",
       "        209,  154,    6,  151,    6,   83,   11,   15,   22,  155,   11,\n",
       "         15,    7,   48,    9, 4579, 1005,  504,    6,  258,    6,  272,\n",
       "         11,   15,   22,  134,   44,   11,   15,   16,    8,  197, 1245,\n",
       "         90,   67,   52,   29,  209,   30,   32,  132,    6,  109,   15,\n",
       "         17,   12], dtype=int32)"
      ]
     },
     "execution_count": 54,
     "metadata": {},
     "output_type": "execute_result"
    }
   ],
   "source": [
    "x_train[0]"
   ]
  },
  {
   "cell_type": "code",
   "execution_count": 55,
   "id": "65fbe4e9",
   "metadata": {},
   "outputs": [],
   "source": [
    "from tensorflow.keras.utils import to_categorical\n",
    "\n",
    "y_train = to_categorical(y_train)\n",
    "y_test = to_categorical(y_test)"
   ]
  },
  {
   "cell_type": "code",
   "execution_count": 56,
   "id": "ccf1be77",
   "metadata": {},
   "outputs": [
    {
     "data": {
      "text/plain": [
       "array([0., 0., 0., 1., 0., 0., 0., 0., 0., 0., 0., 0., 0., 0., 0., 0., 0.,\n",
       "       0., 0., 0., 0., 0., 0., 0., 0., 0., 0., 0., 0., 0., 0., 0., 0., 0.,\n",
       "       0., 0., 0., 0., 0., 0., 0., 0., 0., 0., 0., 0.], dtype=float32)"
      ]
     },
     "execution_count": 56,
     "metadata": {},
     "output_type": "execute_result"
    }
   ],
   "source": [
    "y_train[0]"
   ]
  },
  {
   "cell_type": "code",
   "execution_count": 57,
   "id": "ff4cce6e",
   "metadata": {},
   "outputs": [
    {
     "data": {
      "text/plain": [
       "(8982, 46)"
      ]
     },
     "execution_count": 57,
     "metadata": {},
     "output_type": "execute_result"
    }
   ],
   "source": [
    "y_train.shape"
   ]
  },
  {
   "cell_type": "code",
   "execution_count": 58,
   "id": "693e6223",
   "metadata": {},
   "outputs": [
    {
     "name": "stdout",
     "output_type": "stream",
     "text": [
      "Model: \"sequential\"\n",
      "_________________________________________________________________\n",
      "Layer (type)                 Output Shape              Param #   \n",
      "=================================================================\n",
      "embedding (Embedding)        (None, None, 200)         2000000   \n",
      "_________________________________________________________________\n",
      "lstm (LSTM)                  (None, 128)               168448    \n",
      "_________________________________________________________________\n",
      "dense (Dense)                (None, 64)                8256      \n",
      "_________________________________________________________________\n",
      "dense_1 (Dense)              (None, 46)                2990      \n",
      "=================================================================\n",
      "Total params: 2,179,694\n",
      "Trainable params: 2,179,694\n",
      "Non-trainable params: 0\n",
      "_________________________________________________________________\n"
     ]
    }
   ],
   "source": [
    "import tensorflow as tf\n",
    "from tensorflow import keras\n",
    "\n",
    "vocab_size = 10000 \n",
    "word_vector_dim = 200\n",
    "\n",
    "lstm_model = tf.keras.Sequential()\n",
    "lstm_model.add(tf.keras.layers.Embedding(vocab_size, word_vector_dim, input_shape=(None,)))\n",
    "lstm_model.add(tf.keras.layers.LSTM(128)) \n",
    "lstm_model.add(tf.keras.layers.Dense(64, activation='relu'))\n",
    "lstm_model.add(tf.keras.layers.Dense(46, activation='sigmoid'))\n",
    "\n",
    "lstm_model.summary()\n"
   ]
  },
  {
   "cell_type": "markdown",
   "id": "a28e007b",
   "metadata": {},
   "source": [
    "[f1score 함수 출처](https://m.blog.naver.com/wideeyed/221226716255)"
   ]
  },
  {
   "cell_type": "code",
   "execution_count": 61,
   "id": "e2c41758",
   "metadata": {},
   "outputs": [],
   "source": [
    "from keras import backend as K\n",
    "def recall(y_target, y_pred):\n",
    "    # clip(t, clip_value_min, clip_value_max) : clip_value_min~clip_value_max 이외 가장자리를 깎아 낸다\n",
    "    # round : 반올림한다\n",
    "    y_target_yn = K.round(K.clip(y_target, 0, 1)) # 실제값을 0(Negative) 또는 1(Positive)로 설정한다\n",
    "    y_pred_yn = K.round(K.clip(y_pred, 0, 1)) # 예측값을 0(Negative) 또는 1(Positive)로 설정한다\n",
    "\n",
    "    # True Positive는 실제 값과 예측 값이 모두 1(Positive)인 경우이다\n",
    "    count_true_positive = K.sum(y_target_yn * y_pred_yn) \n",
    "\n",
    "    # (True Positive + False Negative) = 실제 값이 1(Positive) 전체\n",
    "    count_true_positive_false_negative = K.sum(y_target_yn)\n",
    "\n",
    "    # Recall =  (True Positive) / (True Positive + False Negative)\n",
    "    # K.epsilon()는 'divide by zero error' 예방차원에서 작은 수를 더한다\n",
    "    recall = count_true_positive / (count_true_positive_false_negative + K.epsilon())\n",
    "\n",
    "    # return a single tensor value\n",
    "    return recall\n",
    "\n",
    "\n",
    "def precision(y_target, y_pred):\n",
    "    # clip(t, clip_value_min, clip_value_max) : clip_value_min~clip_value_max 이외 가장자리를 깎아 낸다\n",
    "    # round : 반올림한다\n",
    "    y_pred_yn = K.round(K.clip(y_pred, 0, 1)) # 예측값을 0(Negative) 또는 1(Positive)로 설정한다\n",
    "    y_target_yn = K.round(K.clip(y_target, 0, 1)) # 실제값을 0(Negative) 또는 1(Positive)로 설정한다\n",
    "\n",
    "    # True Positive는 실제 값과 예측 값이 모두 1(Positive)인 경우이다\n",
    "    count_true_positive = K.sum(y_target_yn * y_pred_yn) \n",
    "\n",
    "    # (True Positive + False Positive) = 예측 값이 1(Positive) 전체\n",
    "    count_true_positive_false_positive = K.sum(y_pred_yn)\n",
    "\n",
    "    # Precision = (True Positive) / (True Positive + False Positive)\n",
    "    # K.epsilon()는 'divide by zero error' 예방차원에서 작은 수를 더한다\n",
    "    precision = count_true_positive / (count_true_positive_false_positive + K.epsilon())\n",
    "\n",
    "    # return a single tensor value\n",
    "    return precision\n",
    "def f1score(y_target, y_pred):\n",
    "    _recall = recall(y_target, y_pred)\n",
    "    _precision = precision(y_target, y_pred)\n",
    "    # K.epsilon()는 'divide by zero error' 예방차원에서 작은 수를 더한다\n",
    "    _f1score = ( 2 * _recall * _precision) / (_recall + _precision+ K.epsilon())\n",
    "    \n",
    "    # return a single tensor value\n",
    "    return _f1score"
   ]
  },
  {
   "cell_type": "code",
   "execution_count": 62,
   "id": "db11e8f5",
   "metadata": {
    "scrolled": false
   },
   "outputs": [
    {
     "name": "stdout",
     "output_type": "stream",
     "text": [
      "Epoch 1/10\n",
      "281/281 [==============================] - 178s 618ms/step - loss: 0.1058 - accuracy: 0.3171 - f1score: 0.0023 - val_loss: 0.0726 - val_accuracy: 0.3620 - val_f1score: 0.0000e+00\n",
      "Epoch 2/10\n",
      "281/281 [==============================] - 172s 613ms/step - loss: 0.0697 - accuracy: 0.3852 - f1score: 0.1610 - val_loss: 0.0611 - val_accuracy: 0.4987 - val_f1score: 0.4333\n",
      "Epoch 3/10\n",
      "281/281 [==============================] - 172s 613ms/step - loss: 0.0593 - accuracy: 0.5118 - f1score: 0.4523 - val_loss: 0.0579 - val_accuracy: 0.5316 - val_f1score: 0.4968\n",
      "Epoch 4/10\n",
      "281/281 [==============================] - 171s 610ms/step - loss: 0.0570 - accuracy: 0.5360 - f1score: 0.4799 - val_loss: 0.0569 - val_accuracy: 0.5370 - val_f1score: 0.4982\n",
      "Epoch 5/10\n",
      "281/281 [==============================] - 170s 604ms/step - loss: 0.0561 - accuracy: 0.5461 - f1score: 0.4889 - val_loss: 0.0574 - val_accuracy: 0.5356 - val_f1score: 0.4823\n",
      "Epoch 6/10\n",
      "281/281 [==============================] - 167s 594ms/step - loss: 0.0520 - accuracy: 0.5566 - f1score: 0.5708 - val_loss: 0.0506 - val_accuracy: 0.5503 - val_f1score: 0.6446\n",
      "Epoch 7/10\n",
      "281/281 [==============================] - 168s 596ms/step - loss: 0.0465 - accuracy: 0.5951 - f1score: 0.6748 - val_loss: 0.0498 - val_accuracy: 0.5748 - val_f1score: 0.6490\n",
      "Epoch 8/10\n",
      "281/281 [==============================] - 167s 594ms/step - loss: 0.0446 - accuracy: 0.6222 - f1score: 0.6834 - val_loss: 0.0486 - val_accuracy: 0.6060 - val_f1score: 0.6476\n",
      "Epoch 9/10\n",
      "281/281 [==============================] - 168s 600ms/step - loss: 0.0420 - accuracy: 0.6552 - f1score: 0.6889 - val_loss: 0.0470 - val_accuracy: 0.6153 - val_f1score: 0.6583\n",
      "Epoch 10/10\n",
      "281/281 [==============================] - 169s 602ms/step - loss: 0.0378 - accuracy: 0.6986 - f1score: 0.7161 - val_loss: 0.0444 - val_accuracy: 0.6447 - val_f1score: 0.6753\n"
     ]
    }
   ],
   "source": [
    "lstm_model.compile(optimizer='adam',\n",
    "              loss='binary_crossentropy',\n",
    "              metrics=['accuracy', f1score])\n",
    "              \n",
    "epochs=10\n",
    "\n",
    "lstm_history = lstm_model.fit(x_train,\n",
    "                    y_train,\n",
    "                    epochs=epochs,\n",
    "                    batch_size=32,\n",
    "                    validation_data=(x_test, y_test),\n",
    "                    verbose=1)"
   ]
  },
  {
   "cell_type": "code",
   "execution_count": 63,
   "id": "bd6cda87",
   "metadata": {},
   "outputs": [
    {
     "name": "stdout",
     "output_type": "stream",
     "text": [
      "71/71 [==============================] - 10s 147ms/step - loss: 0.0444 - accuracy: 0.6447 - f1score: 0.6753\n"
     ]
    }
   ],
   "source": [
    "_loss, _accuracy, _f1_score = lstm_model.evaluate(x_test, y_test)"
   ]
  },
  {
   "cell_type": "code",
   "execution_count": 64,
   "id": "8f218a45",
   "metadata": {},
   "outputs": [],
   "source": [
    "as_5000 = pd.Series(accuracy_5000)\n",
    "as_10000 = pd.Series(accuracy_10000)\n",
    "as_none = pd.Series(accuracy_none)"
   ]
  },
  {
   "cell_type": "code",
   "execution_count": 66,
   "id": "811a532a",
   "metadata": {},
   "outputs": [],
   "source": [
    "as_total = pd.concat([as_5000, as_10000, as_none], axis=1)"
   ]
  },
  {
   "cell_type": "code",
   "execution_count": 67,
   "id": "2a83e221",
   "metadata": {},
   "outputs": [],
   "source": [
    "as_total.rename(columns={0: '5000', 1: '10000', 2:'None'}, inplace=True)"
   ]
  },
  {
   "cell_type": "code",
   "execution_count": 68,
   "id": "d435b7a3",
   "metadata": {},
   "outputs": [
    {
     "data": {
      "text/html": [
       "<div>\n",
       "<style scoped>\n",
       "    .dataframe tbody tr th:only-of-type {\n",
       "        vertical-align: middle;\n",
       "    }\n",
       "\n",
       "    .dataframe tbody tr th {\n",
       "        vertical-align: top;\n",
       "    }\n",
       "\n",
       "    .dataframe thead th {\n",
       "        text-align: right;\n",
       "    }\n",
       "</style>\n",
       "<table border=\"1\" class=\"dataframe\">\n",
       "  <thead>\n",
       "    <tr style=\"text-align: right;\">\n",
       "      <th></th>\n",
       "      <th>5000</th>\n",
       "      <th>10000</th>\n",
       "      <th>None</th>\n",
       "    </tr>\n",
       "  </thead>\n",
       "  <tbody>\n",
       "    <tr>\n",
       "      <th>Multinomial Naive Bayes Classifier</th>\n",
       "      <td>0.673197</td>\n",
       "      <td>0.656723</td>\n",
       "      <td>0.599733</td>\n",
       "    </tr>\n",
       "    <tr>\n",
       "      <th>Complement Naive Bayes Classifier</th>\n",
       "      <td>0.770703</td>\n",
       "      <td>0.770703</td>\n",
       "      <td>0.764915</td>\n",
       "    </tr>\n",
       "    <tr>\n",
       "      <th>Logistic Regression</th>\n",
       "      <td>0.805877</td>\n",
       "      <td>0.807658</td>\n",
       "      <td>0.813446</td>\n",
       "    </tr>\n",
       "    <tr>\n",
       "      <th>Linear Support Vector Machine</th>\n",
       "      <td>0.771149</td>\n",
       "      <td>0.771149</td>\n",
       "      <td>0.783170</td>\n",
       "    </tr>\n",
       "    <tr>\n",
       "      <th>Decision Tree</th>\n",
       "      <td>0.617988</td>\n",
       "      <td>0.620214</td>\n",
       "      <td>0.621104</td>\n",
       "    </tr>\n",
       "    <tr>\n",
       "      <th>Random Forest</th>\n",
       "      <td>0.701247</td>\n",
       "      <td>0.674087</td>\n",
       "      <td>0.654497</td>\n",
       "    </tr>\n",
       "    <tr>\n",
       "      <th>GradientBoostingClassifier</th>\n",
       "      <td>0.767587</td>\n",
       "      <td>0.766251</td>\n",
       "      <td>0.770258</td>\n",
       "    </tr>\n",
       "    <tr>\n",
       "      <th>Voting</th>\n",
       "      <td>0.816118</td>\n",
       "      <td>0.811665</td>\n",
       "      <td>0.818789</td>\n",
       "    </tr>\n",
       "  </tbody>\n",
       "</table>\n",
       "</div>"
      ],
      "text/plain": [
       "                                        5000     10000      None\n",
       "Multinomial Naive Bayes Classifier  0.673197  0.656723  0.599733\n",
       "Complement Naive Bayes Classifier   0.770703  0.770703  0.764915\n",
       "Logistic Regression                 0.805877  0.807658  0.813446\n",
       "Linear Support Vector Machine       0.771149  0.771149  0.783170\n",
       "Decision Tree                       0.617988  0.620214  0.621104\n",
       "Random Forest                       0.701247  0.674087  0.654497\n",
       "GradientBoostingClassifier          0.767587  0.766251  0.770258\n",
       "Voting                              0.816118  0.811665  0.818789"
      ]
     },
     "execution_count": 68,
     "metadata": {},
     "output_type": "execute_result"
    }
   ],
   "source": [
    "as_total"
   ]
  },
  {
   "cell_type": "code",
   "execution_count": 70,
   "id": "be2425b1",
   "metadata": {
    "scrolled": true
   },
   "outputs": [
    {
     "data": {
      "text/html": [
       "<div>\n",
       "<style scoped>\n",
       "    .dataframe tbody tr th:only-of-type {\n",
       "        vertical-align: middle;\n",
       "    }\n",
       "\n",
       "    .dataframe tbody tr th {\n",
       "        vertical-align: top;\n",
       "    }\n",
       "\n",
       "    .dataframe thead th {\n",
       "        text-align: right;\n",
       "    }\n",
       "</style>\n",
       "<table border=\"1\" class=\"dataframe\">\n",
       "  <thead>\n",
       "    <tr style=\"text-align: right;\">\n",
       "      <th></th>\n",
       "      <th>5000</th>\n",
       "      <th>10000</th>\n",
       "      <th>None</th>\n",
       "    </tr>\n",
       "  </thead>\n",
       "  <tbody>\n",
       "    <tr>\n",
       "      <th>Multinomial Naive Bayes Classifier</th>\n",
       "      <td>0.673197</td>\n",
       "      <td>0.656723</td>\n",
       "      <td>0.599733</td>\n",
       "    </tr>\n",
       "    <tr>\n",
       "      <th>Complement Naive Bayes Classifier</th>\n",
       "      <td>0.770703</td>\n",
       "      <td>0.770703</td>\n",
       "      <td>0.764915</td>\n",
       "    </tr>\n",
       "    <tr>\n",
       "      <th>Logistic Regression</th>\n",
       "      <td>0.805877</td>\n",
       "      <td>0.807658</td>\n",
       "      <td>0.813446</td>\n",
       "    </tr>\n",
       "    <tr>\n",
       "      <th>Linear Support Vector Machine</th>\n",
       "      <td>0.771149</td>\n",
       "      <td>0.771149</td>\n",
       "      <td>0.783170</td>\n",
       "    </tr>\n",
       "    <tr>\n",
       "      <th>Decision Tree</th>\n",
       "      <td>0.617988</td>\n",
       "      <td>0.620214</td>\n",
       "      <td>0.621104</td>\n",
       "    </tr>\n",
       "    <tr>\n",
       "      <th>Random Forest</th>\n",
       "      <td>0.701247</td>\n",
       "      <td>0.674087</td>\n",
       "      <td>0.654497</td>\n",
       "    </tr>\n",
       "    <tr>\n",
       "      <th>GradientBoostingClassifier</th>\n",
       "      <td>0.767587</td>\n",
       "      <td>0.766251</td>\n",
       "      <td>0.770258</td>\n",
       "    </tr>\n",
       "    <tr>\n",
       "      <th>Voting</th>\n",
       "      <td>0.816118</td>\n",
       "      <td>0.811665</td>\n",
       "      <td>0.818789</td>\n",
       "    </tr>\n",
       "    <tr>\n",
       "      <th>LSTM</th>\n",
       "      <td>0.000000</td>\n",
       "      <td>0.644702</td>\n",
       "      <td>0.000000</td>\n",
       "    </tr>\n",
       "  </tbody>\n",
       "</table>\n",
       "</div>"
      ],
      "text/plain": [
       "                                        5000     10000      None\n",
       "Multinomial Naive Bayes Classifier  0.673197  0.656723  0.599733\n",
       "Complement Naive Bayes Classifier   0.770703  0.770703  0.764915\n",
       "Logistic Regression                 0.805877  0.807658  0.813446\n",
       "Linear Support Vector Machine       0.771149  0.771149  0.783170\n",
       "Decision Tree                       0.617988  0.620214  0.621104\n",
       "Random Forest                       0.701247  0.674087  0.654497\n",
       "GradientBoostingClassifier          0.767587  0.766251  0.770258\n",
       "Voting                              0.816118  0.811665  0.818789\n",
       "LSTM                                0.000000  0.644702  0.000000"
      ]
     },
     "execution_count": 70,
     "metadata": {},
     "output_type": "execute_result"
    }
   ],
   "source": [
    "as_total.append(pd.Series([0, _accuracy, 0], name='LSTM', index=as_total.columns))"
   ]
  },
  {
   "cell_type": "code",
   "execution_count": 71,
   "id": "c85c772d",
   "metadata": {
    "scrolled": false
   },
   "outputs": [
    {
     "name": "stdout",
     "output_type": "stream",
     "text": [
      "5000단어를 사용했을 경우 정확도가 가장 높은 모델: Voting\n",
      "5000단어를 사용했을 경우 정확도가 가장 낮은 모델: Decision Tree\n",
      "\n",
      "10000단어를 사용했을 경우 정확도가 가장 높은 모델: Voting\n",
      "10000단어를 사용했을 경우 정확도가 가장 낮은 모델: Decision Tree\n",
      "\n",
      "모든 단어를 사용했을 경우 정확도가 가장 높은 모델: Voting\n",
      "모든 단어를 사용했을 경우 정확도가 가장 낮은 모델: Multinomial Naive Bayes Classifier\n",
      "\n"
     ]
    }
   ],
   "source": [
    "list_5000 = sorted(accuracy_5000.items(), key=lambda x: x[1], reverse=True)\n",
    "print(f'5000단어를 사용했을 경우 정확도가 가장 높은 모델: {list_5000[0][0]}')\n",
    "print(f'5000단어를 사용했을 경우 정확도가 가장 낮은 모델: {list_5000[-1][0]}')\n",
    "print()\n",
    "list_10000 = sorted(accuracy_10000.items(), key=lambda x: x[1], reverse=True)\n",
    "print(f'10000단어를 사용했을 경우 정확도가 가장 높은 모델: {list_10000[0][0]}')\n",
    "print(f'10000단어를 사용했을 경우 정확도가 가장 낮은 모델: {list_10000[-1][0]}')\n",
    "print()\n",
    "list_none = sorted(accuracy_none.items(), key=lambda x: x[1], reverse=True)\n",
    "print(f'모든 단어를 사용했을 경우 정확도가 가장 높은 모델: {list_none[0][0]}')\n",
    "print(f'모든 단어를 사용했을 경우 정확도가 가장 낮은 모델: {list_none[-1][0]}')\n",
    "print()"
   ]
  },
  {
   "cell_type": "code",
   "execution_count": 72,
   "id": "1b6b32fe",
   "metadata": {},
   "outputs": [],
   "source": [
    "fs_5000 = pd.Series(f1_5000)\n",
    "fs_10000 = pd.Series(f1_10000)\n",
    "fs_none = pd.Series(f1_none)"
   ]
  },
  {
   "cell_type": "code",
   "execution_count": 73,
   "id": "c4d305b9",
   "metadata": {},
   "outputs": [],
   "source": [
    "fs_total = pd.concat([fs_5000, fs_10000, fs_none], axis=1)"
   ]
  },
  {
   "cell_type": "code",
   "execution_count": 74,
   "id": "eb55b48b",
   "metadata": {},
   "outputs": [],
   "source": [
    "fs_total.rename(columns={0: '5000', 1: '10000', 2:'None'}, inplace=True)"
   ]
  },
  {
   "cell_type": "code",
   "execution_count": 75,
   "id": "e3275997",
   "metadata": {},
   "outputs": [
    {
     "data": {
      "text/html": [
       "<div>\n",
       "<style scoped>\n",
       "    .dataframe tbody tr th:only-of-type {\n",
       "        vertical-align: middle;\n",
       "    }\n",
       "\n",
       "    .dataframe tbody tr th {\n",
       "        vertical-align: top;\n",
       "    }\n",
       "\n",
       "    .dataframe thead th {\n",
       "        text-align: right;\n",
       "    }\n",
       "</style>\n",
       "<table border=\"1\" class=\"dataframe\">\n",
       "  <thead>\n",
       "    <tr style=\"text-align: right;\">\n",
       "      <th></th>\n",
       "      <th>5000</th>\n",
       "      <th>10000</th>\n",
       "      <th>None</th>\n",
       "    </tr>\n",
       "  </thead>\n",
       "  <tbody>\n",
       "    <tr>\n",
       "      <th>Multinomial Naive Bayes Classifier</th>\n",
       "      <td>0.601250</td>\n",
       "      <td>0.576447</td>\n",
       "      <td>0.504567</td>\n",
       "    </tr>\n",
       "    <tr>\n",
       "      <th>Complement Naive Bayes Classifier</th>\n",
       "      <td>0.745899</td>\n",
       "      <td>0.745668</td>\n",
       "      <td>0.734653</td>\n",
       "    </tr>\n",
       "    <tr>\n",
       "      <th>Logistic Regression</th>\n",
       "      <td>0.799458</td>\n",
       "      <td>0.801465</td>\n",
       "      <td>0.807935</td>\n",
       "    </tr>\n",
       "    <tr>\n",
       "      <th>Linear Support Vector Machine</th>\n",
       "      <td>0.765669</td>\n",
       "      <td>0.766024</td>\n",
       "      <td>0.777576</td>\n",
       "    </tr>\n",
       "    <tr>\n",
       "      <th>Decision Tree</th>\n",
       "      <td>0.572997</td>\n",
       "      <td>0.577640</td>\n",
       "      <td>0.576928</td>\n",
       "    </tr>\n",
       "    <tr>\n",
       "      <th>Random Forest</th>\n",
       "      <td>0.677022</td>\n",
       "      <td>0.642948</td>\n",
       "      <td>0.622591</td>\n",
       "    </tr>\n",
       "    <tr>\n",
       "      <th>GradientBoostingClassifier</th>\n",
       "      <td>0.766248</td>\n",
       "      <td>0.762225</td>\n",
       "      <td>0.764167</td>\n",
       "    </tr>\n",
       "    <tr>\n",
       "      <th>Voting</th>\n",
       "      <td>0.812671</td>\n",
       "      <td>0.808222</td>\n",
       "      <td>0.814723</td>\n",
       "    </tr>\n",
       "  </tbody>\n",
       "</table>\n",
       "</div>"
      ],
      "text/plain": [
       "                                        5000     10000      None\n",
       "Multinomial Naive Bayes Classifier  0.601250  0.576447  0.504567\n",
       "Complement Naive Bayes Classifier   0.745899  0.745668  0.734653\n",
       "Logistic Regression                 0.799458  0.801465  0.807935\n",
       "Linear Support Vector Machine       0.765669  0.766024  0.777576\n",
       "Decision Tree                       0.572997  0.577640  0.576928\n",
       "Random Forest                       0.677022  0.642948  0.622591\n",
       "GradientBoostingClassifier          0.766248  0.762225  0.764167\n",
       "Voting                              0.812671  0.808222  0.814723"
      ]
     },
     "execution_count": 75,
     "metadata": {},
     "output_type": "execute_result"
    }
   ],
   "source": [
    "fs_total"
   ]
  },
  {
   "cell_type": "code",
   "execution_count": 76,
   "id": "ae1aec9e",
   "metadata": {
    "scrolled": true
   },
   "outputs": [
    {
     "data": {
      "text/html": [
       "<div>\n",
       "<style scoped>\n",
       "    .dataframe tbody tr th:only-of-type {\n",
       "        vertical-align: middle;\n",
       "    }\n",
       "\n",
       "    .dataframe tbody tr th {\n",
       "        vertical-align: top;\n",
       "    }\n",
       "\n",
       "    .dataframe thead th {\n",
       "        text-align: right;\n",
       "    }\n",
       "</style>\n",
       "<table border=\"1\" class=\"dataframe\">\n",
       "  <thead>\n",
       "    <tr style=\"text-align: right;\">\n",
       "      <th></th>\n",
       "      <th>5000</th>\n",
       "      <th>10000</th>\n",
       "      <th>None</th>\n",
       "    </tr>\n",
       "  </thead>\n",
       "  <tbody>\n",
       "    <tr>\n",
       "      <th>Multinomial Naive Bayes Classifier</th>\n",
       "      <td>0.601250</td>\n",
       "      <td>0.576447</td>\n",
       "      <td>0.504567</td>\n",
       "    </tr>\n",
       "    <tr>\n",
       "      <th>Complement Naive Bayes Classifier</th>\n",
       "      <td>0.745899</td>\n",
       "      <td>0.745668</td>\n",
       "      <td>0.734653</td>\n",
       "    </tr>\n",
       "    <tr>\n",
       "      <th>Logistic Regression</th>\n",
       "      <td>0.799458</td>\n",
       "      <td>0.801465</td>\n",
       "      <td>0.807935</td>\n",
       "    </tr>\n",
       "    <tr>\n",
       "      <th>Linear Support Vector Machine</th>\n",
       "      <td>0.765669</td>\n",
       "      <td>0.766024</td>\n",
       "      <td>0.777576</td>\n",
       "    </tr>\n",
       "    <tr>\n",
       "      <th>Decision Tree</th>\n",
       "      <td>0.572997</td>\n",
       "      <td>0.577640</td>\n",
       "      <td>0.576928</td>\n",
       "    </tr>\n",
       "    <tr>\n",
       "      <th>Random Forest</th>\n",
       "      <td>0.677022</td>\n",
       "      <td>0.642948</td>\n",
       "      <td>0.622591</td>\n",
       "    </tr>\n",
       "    <tr>\n",
       "      <th>GradientBoostingClassifier</th>\n",
       "      <td>0.766248</td>\n",
       "      <td>0.762225</td>\n",
       "      <td>0.764167</td>\n",
       "    </tr>\n",
       "    <tr>\n",
       "      <th>Voting</th>\n",
       "      <td>0.812671</td>\n",
       "      <td>0.808222</td>\n",
       "      <td>0.814723</td>\n",
       "    </tr>\n",
       "    <tr>\n",
       "      <th>LSTM</th>\n",
       "      <td>0.000000</td>\n",
       "      <td>0.675323</td>\n",
       "      <td>0.000000</td>\n",
       "    </tr>\n",
       "  </tbody>\n",
       "</table>\n",
       "</div>"
      ],
      "text/plain": [
       "                                        5000     10000      None\n",
       "Multinomial Naive Bayes Classifier  0.601250  0.576447  0.504567\n",
       "Complement Naive Bayes Classifier   0.745899  0.745668  0.734653\n",
       "Logistic Regression                 0.799458  0.801465  0.807935\n",
       "Linear Support Vector Machine       0.765669  0.766024  0.777576\n",
       "Decision Tree                       0.572997  0.577640  0.576928\n",
       "Random Forest                       0.677022  0.642948  0.622591\n",
       "GradientBoostingClassifier          0.766248  0.762225  0.764167\n",
       "Voting                              0.812671  0.808222  0.814723\n",
       "LSTM                                0.000000  0.675323  0.000000"
      ]
     },
     "execution_count": 76,
     "metadata": {},
     "output_type": "execute_result"
    }
   ],
   "source": [
    "fs_total.append(pd.Series([0, _f1_score, 0], name='LSTM', index=fs_total.columns))"
   ]
  },
  {
   "cell_type": "code",
   "execution_count": 78,
   "id": "b462cc45",
   "metadata": {
    "scrolled": true
   },
   "outputs": [
    {
     "name": "stdout",
     "output_type": "stream",
     "text": [
      "5000단어를 사용했을 경우 f1-score가 가장 높은 모델: Voting\n",
      "5000단어를 사용했을 경우 f1-score가 가장 낮은 모델: Decision Tree\n",
      "\n",
      "10000단어를 사용했을 경우 f1-score가 가장 높은 모델: Voting\n",
      "10000단어를 사용했을 경우 f1-score가 가장 낮은 모델: Multinomial Naive Bayes Classifier\n",
      "\n",
      "모든 단어를 사용했을 경우 f1-score가 가장 높은 모델: Voting\n",
      "모든 단어를 사용했을 경우 f1-score가 가장 낮은 모델: Multinomial Naive Bayes Classifier\n",
      "\n"
     ]
    }
   ],
   "source": [
    "list_5000 = sorted(f1_5000.items(), key=lambda x: x[1], reverse=True)\n",
    "print(f'5000단어를 사용했을 경우 f1-score가 가장 높은 모델: {list_5000[0][0]}')\n",
    "print(f'5000단어를 사용했을 경우 f1-score가 가장 낮은 모델: {list_5000[-1][0]}')\n",
    "print()\n",
    "list_10000 = sorted(f1_10000.items(), key=lambda x: x[1], reverse=True)\n",
    "print(f'10000단어를 사용했을 경우 f1-score가 가장 높은 모델: {list_10000[0][0]}')\n",
    "print(f'10000단어를 사용했을 경우 f1-score가 가장 낮은 모델: {list_10000[-1][0]}')\n",
    "print()\n",
    "list_none = sorted(f1_none.items(), key=lambda x: x[1], reverse=True)\n",
    "print(f'모든 단어를 사용했을 경우 f1-score가 가장 높은 모델: {list_none[0][0]}')\n",
    "print(f'모든 단어를 사용했을 경우 f1-score가 가장 낮은 모델: {list_none[-1][0]}')\n",
    "print()"
   ]
  },
  {
   "attachments": {
    "image-2.png": {
     "image/png": "[encoded data removed]"
    },
    "image.png": {
     "image/png": "[encoded data removed]"
    }
   },
   "cell_type": "markdown",
   "id": "4c10fe3d",
   "metadata": {},
   "source": [
    "## 회고\n",
    "|Accuracy|F1-score|\n",
    "|:-:|:-:|\n",
    "|![image-2.png](attachment:image-2.png)|![image.png](attachment:image.png)|"
   ]
  },
  {
   "cell_type": "markdown",
   "id": "b11c3a79",
   "metadata": {},
   "source": [
    "단어의 수를 5000개, 10000개로 제한하거나 모두 사용해 각각의 모델에 학습시켰을 경우 위와 같은 정확도,f1-score를 보이는 것으로 나타났다. 그리고 가장 높은 값과 낮은 값을 정리하면 다음과 같았다.\n",
    "\n",
    "#### Accuracy\n",
    "5000단어를 사용했을 경우 정확도가 가장 높은 모델: Voting\n",
    "5000단어를 사용했을 경우 정확도가 가장 낮은 모델: Decision Tree\n",
    "\n",
    "10000단어를 사용했을 경우 정확도가 가장 높은 모델: Voting\n",
    "10000단어를 사용했을 경우 정확도가 가장 낮은 모델: Decision Tree\n",
    "\n",
    "모든 단어를 사용했을 경우 정확도가 가장 높은 모델: Voting\n",
    "모든 단어를 사용했을 경우 정확도가 가장 낮은 모델: Multinomial Naive Bayes Classifier\n",
    "\n",
    "#### F1-score\n",
    "5000단어를 사용했을 경우 f1-score가 가장 높은 모델: Voting\n",
    "5000단어를 사용했을 경우 f1-score가 가장 낮은 모델: Decision Tree\n",
    "\n",
    "10000단어를 사용했을 경우 f1-score가 가장 높은 모델: Voting\n",
    "10000단어를 사용했을 경우 f1-score가 가장 낮은 모델: Multinomial Naive Bayes Classifier\n",
    "\n",
    "모든 단어를 사용했을 경우 f1-score가 가장 높은 모델: Voting\n",
    "모든 단어를 사용했을 경우 f1-score가 가장 낮은 모델: Multinomial Naive Bayes Classifier\n",
    "\n",
    "---\n",
    " 정확도 측면에서 봤을 때 단어를 특정 수만큼 선별해 사용했을 경우엔 Decision Tree에서 가장 낮은 값을 보였지만, 모두 사용했을 경우엔 나이브 베이즈 분류기에서 가장 성능이 좋지 않았다. 세 경우 모두 Voting이 가장 좋은 성능을 나타냈다. 일반적으로 앙상블 방식이 성능이 좋다고 알려져있는데, 그러한 사실과 부합하는 결과였다. \n",
    " F1-score 측면에서도 비슷한 결과가 나왔다. 5000개의 단어를 사용했을 땐 Voting이 가장 높은 반면 Decision Tree가 가장 낮은 성능을 보였고, 10000개의 단어를 선별했을 경우와 모든 단어를 사용했을 땐 Voting이 가장 높은 반면 나이브 베이즈 분류기가 가장 낮은 성능을 보이는 것으로 나타났다.\n",
    " \n",
    " 결정트리가 가장 낮은 정확도를 보인 이유는 트리의 깊이를 따로 지정하지 않았기 때문이라고 생각한다. 일반적으로 결정트리는 깊이를 얕게 정해 과적합을 피하는데, 이러한 설정을 하지 않았기 때문에 과적합이 일어났다고 생각했다. 나이브 베이즈 분류기 같은 경우는 데이터의 수가 너무 적은 경우 과적합이 일어나 성능이 떨어질 수 있다고 하는데, 위의 경우엔 모든 단어를 사용했을 경우 오히려 정확도가 떨어져 해당되는 경우는 아닌 거 같다.\n",
    "\n",
    "10000개의 단어만을 사용한 경우는 LSTM 모델을 추가해 비교했는데, 이 경우 다른 모델보다 좋은 성능을 보이지 못했다. train set에 대한 정확도도 높지 않게 나왔기 때문에 과적합이 일어나진 않은 것으로 보이며, epoch를 늘려 학습을 더 시켰다면 성능이 조금은 나아지지 않았을까 생각한다.  "
   ]
  }
 ],
 "metadata": {
  "kernelspec": {
   "display_name": "Python 3 (ipykernel)",
   "language": "python",
   "name": "python3"
  },
  "language_info": {
   "codemirror_mode": {
    "name": "ipython",
    "version": 3
   },
   "file_extension": ".py",
   "mimetype": "text/x-python",
   "name": "python",
   "nbconvert_exporter": "python",
   "pygments_lexer": "ipython3",
   "version": "3.9.7"
  }
 },
 "nbformat": 4,
 "nbformat_minor": 5
}
