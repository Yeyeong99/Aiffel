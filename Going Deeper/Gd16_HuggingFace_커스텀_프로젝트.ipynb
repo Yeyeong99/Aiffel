{
  "nbformat": 4,
  "nbformat_minor": 0,
  "metadata": {
    "colab": {
      "name": "Gd16_HuggingFace 커스텀 프로젝트.ipynb",
      "provenance": [],
      "collapsed_sections": [],
      "authorship_tag": "ABX9TyN7CJuJ/0Zm9DgKGnp+6qIF",
      "include_colab_link": true
    },
    "kernelspec": {
      "name": "python3",
      "display_name": "Python 3"
    },
    "language_info": {
      "name": "python"
    }
  },
  "cells": [
    {
      "cell_type": "markdown",
      "metadata": {
        "id": "view-in-github",
        "colab_type": "text"
      },
      "source": [
        "<a href=\"https://colab.research.google.com/github/Yeyeong99/Aiffel/blob/main/Going%20Deeper/Gd16_HuggingFace_%EC%BB%A4%EC%8A%A4%ED%85%80_%ED%94%84%EB%A1%9C%EC%A0%9D%ED%8A%B8.ipynb\" target=\"_parent\"><img src=\"https://colab.research.google.com/assets/colab-badge.svg\" alt=\"Open In Colab\"/></a>"
      ]
    },
    {
      "cell_type": "code",
      "execution_count": null,
      "metadata": {
        "id": "9arv8zij9oU8"
      },
      "outputs": [],
      "source": [
        ""
      ]
    }
  ]
}