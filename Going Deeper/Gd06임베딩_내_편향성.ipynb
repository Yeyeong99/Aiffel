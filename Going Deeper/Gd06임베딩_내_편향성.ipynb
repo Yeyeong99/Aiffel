{
  "nbformat": 4,
  "nbformat_minor": 0,
  "metadata": {
    "colab": {
      "name": "Gd06임베딩 내 편향성.ipynb",
      "provenance": [],
      "collapsed_sections": [],
      "mount_file_id": "1YSGGhCX3JCSvNKKeZi_3uFRfD7uhGY67",
      "authorship_tag": "ABX9TyN3H7lZ+hRwgTpfsP4BpeiX",
      "include_colab_link": true
    },
    "kernelspec": {
      "name": "python3",
      "display_name": "Python 3"
    },
    "language_info": {
      "name": "python"
    }
  },
  "cells": [
    {
      "cell_type": "markdown",
      "metadata": {
        "id": "view-in-github",
        "colab_type": "text"
      },
      "source": [
        "<a href=\"https://colab.research.google.com/github/Yeyeong99/Aiffel/blob/main/Going%20Deeper/Gd06%EC%9E%84%EB%B2%A0%EB%94%A9_%EB%82%B4_%ED%8E%B8%ED%96%A5%EC%84%B1.ipynb\" target=\"_parent\"><img src=\"https://colab.research.google.com/assets/colab-badge.svg\" alt=\"Open In Colab\"/></a>"
      ]
    },
    {
      "cell_type": "code",
      "source": [
        "!pip install konlpy"
      ],
      "metadata": {
        "colab": {
          "base_uri": "https://localhost:8080/"
        },
        "id": "fmCJSIfZZW7M",
        "outputId": "77df65bd-bb58-436d-a670-e4678203b044"
      },
      "execution_count": 1,
      "outputs": [
        {
          "output_type": "stream",
          "name": "stdout",
          "text": [
            "Requirement already satisfied: konlpy in /usr/local/lib/python3.7/dist-packages (0.6.0)\n",
            "Requirement already satisfied: numpy>=1.6 in /usr/local/lib/python3.7/dist-packages (from konlpy) (1.21.5)\n",
            "Requirement already satisfied: lxml>=4.1.0 in /usr/local/lib/python3.7/dist-packages (from konlpy) (4.2.6)\n",
            "Requirement already satisfied: JPype1>=0.7.0 in /usr/local/lib/python3.7/dist-packages (from konlpy) (1.3.0)\n",
            "Requirement already satisfied: typing-extensions in /usr/local/lib/python3.7/dist-packages (from JPype1>=0.7.0->konlpy) (3.10.0.2)\n"
          ]
        }
      ]
    },
    {
      "cell_type": "code",
      "source": [
        "!sudo apt-get install -y fonts-nanum\n",
        "!sudo fc-cache -fv\n",
        "!rm ~/.cache/matplotlib -rf"
      ],
      "metadata": {
        "colab": {
          "base_uri": "https://localhost:8080/"
        },
        "id": "HrPvgEt1yopE",
        "outputId": "b14b5bca-1ecf-41ba-e4f4-df4ab33e3d6f"
      },
      "execution_count": 2,
      "outputs": [
        {
          "output_type": "stream",
          "name": "stdout",
          "text": [
            "Reading package lists... Done\n",
            "Building dependency tree       \n",
            "Reading state information... Done\n",
            "fonts-nanum is already the newest version (20170925-1).\n",
            "0 upgraded, 0 newly installed, 0 to remove and 39 not upgraded.\n",
            "/usr/share/fonts: caching, new cache contents: 0 fonts, 1 dirs\n",
            "/usr/share/fonts/truetype: caching, new cache contents: 0 fonts, 3 dirs\n",
            "/usr/share/fonts/truetype/humor-sans: caching, new cache contents: 1 fonts, 0 dirs\n",
            "/usr/share/fonts/truetype/liberation: caching, new cache contents: 16 fonts, 0 dirs\n",
            "/usr/share/fonts/truetype/nanum: caching, new cache contents: 10 fonts, 0 dirs\n",
            "/usr/local/share/fonts: caching, new cache contents: 0 fonts, 0 dirs\n",
            "/root/.local/share/fonts: skipping, no such directory\n",
            "/root/.fonts: skipping, no such directory\n",
            "/var/cache/fontconfig: cleaning cache directory\n",
            "/root/.cache/fontconfig: not cleaning non-existent cache directory\n",
            "/root/.fontconfig: not cleaning non-existent cache directory\n",
            "fc-cache: succeeded\n"
          ]
        }
      ]
    },
    {
      "cell_type": "code",
      "execution_count": 3,
      "metadata": {
        "id": "1b21Nso5V0TK"
      },
      "outputs": [],
      "source": [
        "import numpy as np\n",
        "import matplotlib.pyplot as plt\n",
        "import os\n",
        "import gensim\n",
        "import sklearn\n",
        "import seaborn\n",
        "import seaborn as sns\n",
        "\n",
        "from sklearn.feature_extraction.text import TfidfVectorizer\n",
        "from konlpy.tag import Okt\n",
        "from gensim.models import KeyedVectors\n",
        "from numpy import dot\n",
        "from numpy.linalg import norm\n",
        "from sklearn.decomposition import PCA"
      ]
    },
    {
      "cell_type": "code",
      "source": [
        "# 코사인 유사도\n",
        "def cos_sim(i, j):\n",
        "    return dot(i, j.T)/(norm(i)*norm(j))\n",
        "\n",
        "# 개별 단어와의 편향성 계산\n",
        "def s(w, A, B):\n",
        "    c_a = cos_sim(w, A) # A set의 단어와 코사인 유사도 계산\n",
        "    c_b = cos_sim(w, B) # B set의 단어와 코사인 유사도 계산\n",
        "    mean_A = np.mean(c_a, axis=-1) # A set과의 계산 결과를 평균냄\n",
        "    mean_B = np.mean(c_b, axis=-1) # B set과의 계산 결과를 평균냄\n",
        "    return mean_A - mean_B #, c_a, c_b # 양수이면 A에 가까움. 음수이면 B에 가까움\n",
        "\n",
        "# WEAT score\n",
        "def weat_score(X, Y, A, B):\n",
        "    \n",
        "    s_X = s(X, A, B)\n",
        "    s_Y = s(Y, A, B)\n",
        "\n",
        "    mean_X = np.mean(s_X)\n",
        "    mean_Y = np.mean(s_Y)\n",
        "    \n",
        "    std_dev = np.std(np.concatenate([s_X, s_Y], axis=0))\n",
        "    \n",
        "    return  (mean_X-mean_Y)/std_dev"
      ],
      "metadata": {
        "id": "7iXNwcmqWntn"
      },
      "execution_count": 4,
      "outputs": []
    },
    {
      "cell_type": "code",
      "source": [
        "data_dir = '/content/drive/MyDrive/aiffel/weat' \n",
        "model_dir = os.path.join(data_dir, 'GoogleNews-vectors-negative300.bin')\n",
        "\n",
        "# 50만개의 단어만 활용합니다. 메모리가 충분하다면 limit 파라미터값을 생략하여 300만개를 모두 활용할 수 있습니다. \n",
        "w2v = KeyedVectors.load_word2vec_format(model_dir, binary=True, limit=500000)"
      ],
      "metadata": {
        "id": "J1ElE9ZZYnjw"
      },
      "execution_count": 5,
      "outputs": []
    },
    {
      "cell_type": "code",
      "source": [
        "with open('/content/drive/MyDrive/aiffel/weat/synopsis.txt', 'r') as file:\n",
        "    for i in range(20):\n",
        "        print(file.readline(), end='')"
      ],
      "metadata": {
        "colab": {
          "base_uri": "https://localhost:8080/"
        },
        "id": "sOlG8lRfY37s",
        "outputId": "27d92cb3-6e0a-42b9-c808-58514f92689a"
      },
      "execution_count": 6,
      "outputs": [
        {
          "output_type": "stream",
          "name": "stdout",
          "text": [
            "사운드 엔지니어 상우(유지태 분)는 치매에 걸린 할머니(백성희 분)와\n",
            " 젊은 시절 상처한 한 아버지(박인환 분), 고모(신신애 분)와 함께 살고 있다.\n",
            " 어느 겨울 그는 지방 방송국 라디오 PD 은수(이영애 분)를 만난다.\n",
            " 자연의 소리를 채집해 틀어주는 라디오 프로그램을 준비하는 은수는 상우와 녹음 여행을 떠난다.\n",
            " 자연스레 가까워지는 두 사람은 어느 날, 은수의 아파트에서 밤을 보낸다.\n",
            " 너무 쉽게 사랑에 빠진 두 사람... 상우는 주체할 수 없을 정도로 그녀에게 빨려든다.\n",
            " 그러나 겨울에 만난 두 사람의 관계는 봄을 지나 여름을 맞이하면서 삐걱거린다.\n",
            " 이혼 경험이 있는 은수는 상우에게 결혼할 생각이 없다며 부담스러운 표정을 내비친다.\n",
            " \"어떻게 사랑이 변하니?...\"라고 묻는 상우에게 은수는 그저 \"헤어져\" 라고 단호하게 말한다.\n",
            " 영원히 변할 것 같지 않던 사랑이 변하고, 그 사실을 받아들이지 못하는 상우는 어찌 할 바를 모른다.\n",
            " 은수를 잊지 못하는 상우는 미련과 집착의 감정을 이기지 못하고 서울과 강릉을 오간다.\n",
            "유사 이래 연령, 성별, 빈부의 차이와 정치적인 입장을 불문하고 일거에 국민을 통합해 온 '애국심'이라는 성역에 일침을 가하는 다큐멘터리. 재작년 전국 민족민주 유가족협의회의 장기농성을 다룬 인상적인 다큐멘터리 <민들레>를 만들었던 독립영화집단 '빨간 눈사람'이 우리 사회 구석구석을 발빠르게 돌아다니며 애국심과 민족주의가 강요되는 현장을 발굴하여 카메라에 담았다. 박홍 서강대 명예총장, 이도형 '한국논단' 발행인, 축구해설자 신문선, 홍세화, 박노해 등 사회 각계의 '스타'들이 등장해 저마다의 확고한 신념을 성토한다. 감독 이경순과 최하동하는 이 작품을 위해 3년간 백여 명을 인터뷰했다고 한다. 2001 올해의 독립영화상 수상.\n",
            " 민족과 국가란 공동체에서 부단히 권력과 부를 얻는 자, 나아가 민족과 국가란 공동체에서 얻은 신분과 부귀를 영원히 그의 자손에게 대물림하려는 자, 그래서 민족과 국가란 공동체를 부단히 유지해야만 하는 자, 따라서 민족과 국가란 공동체의 당위성과 개인의 가치를 초월하는 그 존엄성을 끝도 없이 창조하고 되뇌어야 하는 자, 종국에는 민족과 국가란 공동체에 속해 있다고 태내에서부터 세뇌된 모든 이들의 삶과 행동에서 영원히 자기복제되는 순환의 고리, 영생하는 애국의 원동력은 그 순환의 골에서 온다.\n",
            "엽기적인 살인사건이 발생한 장소를 관광하는 투어팀. 그 팀에서 관광객들은 살인사건과 관련하여 히스테리컬한 반응을 보이는데 과연 이들의 정체는? (Tourists see whrer a murder take place. They respond hysterically to the murder…what are they?)\n",
            " 제46회 발라돌리드 국제영화제 (2001, 스페인)\n",
            "착하지만 엉뚱한 태희(배두나 분), 예쁜 깍쟁이 혜주(이요원 분), 그림을 잘 그리는 지영(옥지영 분), 명랑한 쌍둥이 비류(이은실 분)와 온조(이은주 분)는 단짝친구들. 늘 함께였던 그들이지만 스무 살이 되면서 길이 달라진다. 증권회사에 입사한 혜주는 성공한 커리어우먼의 야심을 키우고 미술에 재능이 있는 지영은 유학을 꿈꾼다. 한편 태희는 봉사활동에서 알게 된 뇌성마비 시인을 좋아하는데...\n",
            "  어느 날 지영이 길 잃은 새끼 고양이 티티를 만남면서 스무 살 그녀들의 삶에 고양이 한 마리가 끼어들게 된다. 혼자 있길 좋아하고, 쉽게 마음을 열지 않는 신비로운 동물 고양이. 고양이를 닮은 스무 살 그녀들. 고양이 티티와 함께 한 시간동안 삶은 예상못한 방향으로 흘러가지만 마침내 그녀들만의 해결책을 찾게 되는데... 사랑스런 몽상가 태희, 아름다운 야심가 혜주, 신비로운 아웃사이더 지영. 마지막으로 고양이를 부탁받은 사람은 누구일까?\n",
            "인도 등 아시아 식민지에 처음 발을 디딘 뒤 여행하고 “경영”한 이들은 과연 누구였을까? 과거의 이미지들은, 이민과 인종 문제, ‘오리엔탈리즘’이 격렬히 충돌하고 있는 현재와 강력하게 공명한다.\n",
            " [제19회 인디다큐페스티발]\n",
            "홀로 살아가는 미국 할머니와 한국 할머니의 이야기. 공원에서 가끔 마주치게 되는 그들은 비록 언어 소통의 어려움을 겪지만 시간이 흘러감에 따라 서로 가까워져 그들의 외로움과 우정을 공유하게 된다. 겨울이 지나고 봄이 왔을 때 길가의 민들레 홀씨는 삶의 이치를 말해주듯 한 할머니의 주위를 맴돈다. (Two elderly widows, an American and a Korean, frequent the same park in Philadelphia and attempt a friendship, though the Korean widow speaks no English. Driven by loneliness and a spark of hope, they persevere within the limits of body language, and the outcome poses a question of life as fundamental as a flower.)\n"
          ]
        }
      ]
    },
    {
      "cell_type": "code",
      "source": [
        "# 명사일 때만 tokenized 에 저장\n",
        "okt = Okt()\n",
        "tokenized = []\n",
        "with open('/content/drive/MyDrive/aiffel/weat/synopsis.txt', 'r') as file:\n",
        "    while True:\n",
        "        line = file.readline()\n",
        "        if not line: break\n",
        "        words = okt.pos(line, stem=True, norm=True)\n",
        "        res = []\n",
        "        for w in words:\n",
        "            if w[1] in [\"Noun\"]:      \n",
        "                res.append(w[0])\n",
        "        tokenized.append(res)"
      ],
      "metadata": {
        "id": "D5PGFSiZZiBw"
      },
      "execution_count": 7,
      "outputs": []
    },
    {
      "cell_type": "code",
      "source": [
        "print(tokenized[0:5])"
      ],
      "metadata": {
        "colab": {
          "base_uri": "https://localhost:8080/"
        },
        "id": "pjQINUDbebze",
        "outputId": "de378abb-d69d-4685-a1d5-264d058db518"
      },
      "execution_count": 8,
      "outputs": [
        {
          "output_type": "stream",
          "name": "stdout",
          "text": [
            "[['사운드', '엔지니어', '상우', '유지태', '분', '치매', '할머니', '백성희', '분'], ['시절', '상처', '아버지', '박인환', '분', '고모', '신신애', '분', '살'], ['겨울', '그', '지방', '방송국', '라디오', '은수', '이영애', '분', '를'], ['자연', '소리', '채집', '라디오', '프로그램', '준비', '은수', '상우', '녹음', '여행'], ['두', '사람', '날', '은수', '아파트', '밤']]\n"
          ]
        }
      ]
    },
    {
      "cell_type": "code",
      "source": [
        "from gensim.models import Word2Vec\n",
        "\n",
        "model = Word2Vec(tokenized, size=100, window=5, min_count=3, sg=0)  \n",
        "model.most_similar(positive=['영화'])"
      ],
      "metadata": {
        "colab": {
          "base_uri": "https://localhost:8080/"
        },
        "id": "OjbQP1ryelD7",
        "outputId": "07f7b21b-553a-44c7-9789-f3ab6c9cb70c"
      },
      "execution_count": 9,
      "outputs": [
        {
          "output_type": "stream",
          "name": "stderr",
          "text": [
            "/usr/local/lib/python3.7/dist-packages/ipykernel_launcher.py:4: DeprecationWarning: Call to deprecated `most_similar` (Method will be removed in 4.0.0, use self.wv.most_similar() instead).\n",
            "  after removing the cwd from sys.path.\n"
          ]
        },
        {
          "output_type": "execute_result",
          "data": {
            "text/plain": [
              "[('작품', 0.8910230398178101),\n",
              " ('드라마', 0.8389294147491455),\n",
              " ('다큐멘터리', 0.8355059623718262),\n",
              " ('영화로', 0.8157464265823364),\n",
              " ('코미디', 0.7947230339050293),\n",
              " ('주제', 0.7931888103485107),\n",
              " ('형식', 0.7931251525878906),\n",
              " ('인터뷰', 0.78022301197052),\n",
              " ('영상', 0.7794443368911743),\n",
              " ('소설', 0.7780922651290894)]"
            ]
          },
          "metadata": {},
          "execution_count": 9
        }
      ]
    },
    {
      "cell_type": "code",
      "source": [
        "model.wv.most_similar(positive=['악당'])"
      ],
      "metadata": {
        "colab": {
          "base_uri": "https://localhost:8080/"
        },
        "id": "xU_BtmSufBU0",
        "outputId": "445b6651-e443-4f94-acfb-d2da0b191b42"
      },
      "execution_count": 10,
      "outputs": [
        {
          "output_type": "execute_result",
          "data": {
            "text/plain": [
              "[('사냥꾼', 0.9089376926422119),\n",
              " ('드래곤', 0.8895502090454102),\n",
              " ('구출', 0.8877002000808716),\n",
              " ('전사', 0.8834946155548096),\n",
              " ('상어', 0.87983238697052),\n",
              " ('외계인', 0.8793989419937134),\n",
              " ('요괴', 0.875404953956604),\n",
              " ('마법사', 0.8723838329315186),\n",
              " ('군단', 0.8699972033500671),\n",
              " ('다이아몬드', 0.8691693544387817)]"
            ]
          },
          "metadata": {},
          "execution_count": 10
        }
      ]
    },
    {
      "cell_type": "code",
      "source": [
        "model.wv.most_similar(positive=['영웅'])"
      ],
      "metadata": {
        "colab": {
          "base_uri": "https://localhost:8080/"
        },
        "id": "tvrJpg5YfEoz",
        "outputId": "3172cc44-9916-408b-ed27-3c8942e7ca50"
      },
      "execution_count": 11,
      "outputs": [
        {
          "output_type": "execute_result",
          "data": {
            "text/plain": [
              "[('멸망', 0.8835775256156921),\n",
              " ('전사', 0.8800326585769653),\n",
              " ('수호', 0.8768161535263062),\n",
              " ('종족', 0.8753900527954102),\n",
              " ('승리', 0.8727526664733887),\n",
              " ('정복', 0.8713594675064087),\n",
              " ('하이페리온', 0.8626484870910645),\n",
              " ('인류', 0.8594745397567749),\n",
              " ('부활', 0.8549432158470154),\n",
              " ('지배', 0.8544169068336487)]"
            ]
          },
          "metadata": {},
          "execution_count": 11
        }
      ]
    },
    {
      "cell_type": "code",
      "source": [
        "def read_token(file_name):\n",
        "    okt = Okt()\n",
        "    result = []\n",
        "    with open('/content/drive/MyDrive/aiffel/weat/'+file_name, 'r') as fread: \n",
        "        print(file_name, '파일을 읽고 있습니다.')\n",
        "        while True:\n",
        "            line = fread.readline() \n",
        "            if not line: break \n",
        "            tokenlist = okt.pos(line, stem=True, norm=True) \n",
        "            for word in tokenlist:\n",
        "                if word[1] in [\"Noun\"]:#, \"Adjective\", \"Verb\"]:\n",
        "                    result.append((word[0])) \n",
        "    return ' '.join(result)"
      ],
      "metadata": {
        "id": "3N8AYo2Nfja6"
      },
      "execution_count": 12,
      "outputs": []
    },
    {
      "cell_type": "code",
      "source": [
        "art_txt = 'synopsis_art.txt'\n",
        "gen_txt = 'synopsis_gen.txt'\n",
        "\n",
        "art = read_token(art_txt)\n",
        "gen = read_token(gen_txt)"
      ],
      "metadata": {
        "colab": {
          "base_uri": "https://localhost:8080/"
        },
        "id": "9XrWO7impTg_",
        "outputId": "f72dcc01-deb8-49ea-e59d-99a6f9fcf26a"
      },
      "execution_count": 13,
      "outputs": [
        {
          "output_type": "stream",
          "name": "stdout",
          "text": [
            "synopsis_art.txt 파일을 읽고 있습니다.\n",
            "synopsis_gen.txt 파일을 읽고 있습니다.\n"
          ]
        }
      ]
    },
    {
      "cell_type": "code",
      "source": [
        "vectorizer_ag = TfidfVectorizer()\n",
        "X = vectorizer_ag.fit_transform([art, gen])\n",
        "\n",
        "print(X.shape)"
      ],
      "metadata": {
        "colab": {
          "base_uri": "https://localhost:8080/"
        },
        "id": "a8Xob3_3uNYF",
        "outputId": "fb7ea405-f5f4-42dc-89ad-fe0b23192104"
      },
      "execution_count": 14,
      "outputs": [
        {
          "output_type": "stream",
          "name": "stdout",
          "text": [
            "(2, 41082)\n"
          ]
        }
      ]
    },
    {
      "cell_type": "code",
      "source": [
        "m1 = X[0].tocoo()   # art를 TF-IDF로 표현한 sparse matrix를 가져옵니다. \n",
        "m2 = X[1].tocoo()   # gen을 TF-IDF로 표현한 sparse matrix를 가져옵니다. \n",
        "\n",
        "w1 = [[i, j] for i, j in zip(m1.col, m1.data)]\n",
        "w2 = [[i, j] for i, j in zip(m2.col, m2.data)]\n",
        "\n",
        "w1.sort(key=lambda x: x[1], reverse=True)   #art를 구성하는 단어들을 TF-IDF가 높은 순으로 정렬합니다. \n",
        "w2.sort(key=lambda x: x[1], reverse=True)   #gen을 구성하는 단어들을 TF-IDF가 높은 순으로 정렬합니다. \n",
        "\n",
        "print('예술영화를 대표하는 단어들:')\n",
        "for i in range(100):\n",
        "    print(vectorizer_ag.get_feature_names()[w1[i][0]], end=', ')\n",
        "\n",
        "print('\\n')\n",
        "    \n",
        "print('일반영화를 대표하는 단어들:')\n",
        "for i in range(100):\n",
        "    print(vectorizer_ag.get_feature_names()[w2[i][0]], end=', ')"
      ],
      "metadata": {
        "colab": {
          "base_uri": "https://localhost:8080/"
        },
        "id": "DE0SDwgNuW2a",
        "outputId": "c66c9a87-25a9-4a7f-83d4-ec0556e1fdd6"
      },
      "execution_count": 15,
      "outputs": [
        {
          "output_type": "stream",
          "name": "stdout",
          "text": [
            "예술영화를 대표하는 단어들:\n",
            "그녀, 자신, 시작, 위해, "
          ]
        },
        {
          "output_type": "stream",
          "name": "stderr",
          "text": [
            "/usr/local/lib/python3.7/dist-packages/sklearn/utils/deprecation.py:87: FutureWarning: Function get_feature_names is deprecated; get_feature_names is deprecated in 1.0 and will be removed in 1.2. Please use get_feature_names_out instead.\n",
            "  warnings.warn(msg, category=FutureWarning)\n"
          ]
        },
        {
          "output_type": "stream",
          "name": "stdout",
          "text": [
            "사랑, 사람, 영화, 친구, 남자, 가족, 이야기, 마을, 사건, 마음, 세상, 아버지, 아이, 엄마, 모든, 여자, 대한, 서로, 과연, 다시, 시간, 아들, 소녀, 아내, 다른, 사이, 영화제, 세계, 사실, 하나, 점점, 남편, 감독, 여행, 인생, 발견, 모두, 순간, 우리, 가장, 마지막, 생활, 아빠, 모습, 통해, 죽음, 기억, 비밀, 학교, 음악, 한편, 소년, 생각, 도시, 명의, 사고, 결혼, 전쟁, 때문, 위기, 이제, 최고, 이자, 과거, 일상, 경찰, 상황, 간다, 미국, 결심, 운명, 현실, 관계, 지금, 단편, 여인, 하루, 이름, 이후, 준비, 인간, 감정, 만난, 국제, 처음, 충격, 살인, 누구, 동안, 존재, 그린, 어머니, 연인, 계속, 동생, 작품, \n",
            "\n",
            "일반영화를 대표하는 단어들:\n",
            "자신, 그녀, 영화제, 위해, 사람, 시작, 국제, 영화, 친구, 사랑, 남자, 이야기, 대한, 서울, 여자, 사건, 남편, 아이, 가족, 아버지, 다른, 마을, 시간, 엄마, 아들, 모든, 단편, 마음, 사실, 다시, 세계, 모습, 작품, 통해, 생각, 서로, 세상, 발견, 감독, 아내, 관계, 소녀, 사이, 하나, 우리, 애니메이션, 때문, 여성, 죽음, 과연, 점점, 인간, 생활, 한편, 결혼, 상황, 모두, 기억, 명의, 소년, 여행, 가장, 간다, 순간, 이제, 도시, 비밀, 학교, 과거, 가지, 이자, 경찰, 마지막, 미국, 동안, 전쟁, 주인공, 대해, 존재, 현실, 연출, 사고, 살인, 일상, 어머니, 계속, 사회, 인생, 다큐멘터리, 부문, 섹스, 최고, 바로, 동생, 의도, 하루, 위기, 계획, 정체, 한국, "
          ]
        }
      ]
    },
    {
      "cell_type": "code",
      "source": [
        "n = 15\n",
        "w1_, w2_ = [], []\n",
        "for i in range(100):\n",
        "    w1_.append(vectorizer_ag.get_feature_names()[w1[i][0]])\n",
        "    w2_.append(vectorizer_ag.get_feature_names()[w2[i][0]])\n",
        "\n",
        "# w1에만 있고 w2에는 없는, 예술영화를 잘 대표하는 단어를 15개 추출한다.\n",
        "target_art, target_gen = [], []\n",
        "for i in range(100):\n",
        "    if (w1_[i] not in w2_) and (w1_[i] in model.wv): target_art.append(w1_[i])\n",
        "    if len(target_art) == n: break \n",
        "\n",
        "# w2에만 있고 w1에는 없는, 일반영화를 잘 대표하는 단어를 15개 추출한다.\n",
        "for i in range(100):\n",
        "    if (w2_[i] not in w1_) and (w2_[i] in model.wv): target_gen.append(w2_[i])\n",
        "    if len(target_gen) == n: break"
      ],
      "metadata": {
        "colab": {
          "base_uri": "https://localhost:8080/"
        },
        "id": "0cM7OqPXufIN",
        "outputId": "8875d922-4a38-4673-f684-447a750db751"
      },
      "execution_count": 16,
      "outputs": [
        {
          "output_type": "stream",
          "name": "stderr",
          "text": [
            "/usr/local/lib/python3.7/dist-packages/sklearn/utils/deprecation.py:87: FutureWarning: Function get_feature_names is deprecated; get_feature_names is deprecated in 1.0 and will be removed in 1.2. Please use get_feature_names_out instead.\n",
            "  warnings.warn(msg, category=FutureWarning)\n"
          ]
        }
      ]
    },
    {
      "cell_type": "code",
      "source": [
        "print(target_art)"
      ],
      "metadata": {
        "colab": {
          "base_uri": "https://localhost:8080/"
        },
        "id": "i1qlcLR8x4nI",
        "outputId": "9c8eb142-93df-4082-b230-db7846ccc081"
      },
      "execution_count": 17,
      "outputs": [
        {
          "output_type": "stream",
          "name": "stdout",
          "text": [
            "['아빠', '음악', '결심', '운명', '지금', '여인', '이름', '이후', '준비', '감정', '만난', '처음', '충격', '누구', '그린']\n"
          ]
        }
      ]
    },
    {
      "cell_type": "code",
      "source": [
        "print(target_gen)"
      ],
      "metadata": {
        "colab": {
          "base_uri": "https://localhost:8080/"
        },
        "id": "O8298xzTx5-3",
        "outputId": "2ed456f4-a514-4540-e85d-8221602d9ee3"
      },
      "execution_count": 18,
      "outputs": [
        {
          "output_type": "stream",
          "name": "stdout",
          "text": [
            "['서울', '애니메이션', '여성', '가지', '주인공', '대해', '연출', '사회', '다큐멘터리', '부문', '섹스', '바로', '의도', '계획', '정체']\n"
          ]
        }
      ]
    },
    {
      "cell_type": "code",
      "source": [
        "genre_txt = ['synopsis_SF.txt', 'synopsis_family.txt', 'synopsis_show.txt', 'synopsis_horror.txt', 'synopsis_etc.txt', \n",
        "             'synopsis_documentary.txt', 'synopsis_drama.txt', 'synopsis_romance.txt', 'synopsis_musical.txt', \n",
        "             'synopsis_mystery.txt', 'synopsis_crime.txt', 'synopsis_historical.txt', 'synopsis_western.txt', \n",
        "             'synopsis_adult.txt', 'synopsis_thriller.txt', 'synopsis_animation.txt', 'synopsis_action.txt', \n",
        "             'synopsis_adventure.txt', 'synopsis_war.txt', 'synopsis_comedy.txt', 'synopsis_fantasy.txt']\n",
        "genre_name = ['SF', '가족', '공연', '공포(호러)', '기타', '다큐멘터리', '드라마', '멜로로맨스', '뮤지컬', '미스터리', '범죄', '사극', '서부극(웨스턴)',\n",
        "         '성인물(에로)', '스릴러', '애니메이션', '액션', '어드벤처', '전쟁', '코미디', '판타지']"
      ],
      "metadata": {
        "id": "7M4Wyk9XfWFh"
      },
      "execution_count": 19,
      "outputs": []
    },
    {
      "cell_type": "code",
      "source": [
        "genre = []\n",
        "for file_name in genre_txt:\n",
        "    genre.append(read_token(file_name))"
      ],
      "metadata": {
        "colab": {
          "base_uri": "https://localhost:8080/"
        },
        "id": "mk6V4yKRfbgU",
        "outputId": "0e1a2b9a-3588-4a8d-eb99-a5ee2528b330"
      },
      "execution_count": 20,
      "outputs": [
        {
          "output_type": "stream",
          "name": "stdout",
          "text": [
            "synopsis_SF.txt 파일을 읽고 있습니다.\n",
            "synopsis_family.txt 파일을 읽고 있습니다.\n",
            "synopsis_show.txt 파일을 읽고 있습니다.\n",
            "synopsis_horror.txt 파일을 읽고 있습니다.\n",
            "synopsis_etc.txt 파일을 읽고 있습니다.\n",
            "synopsis_documentary.txt 파일을 읽고 있습니다.\n",
            "synopsis_drama.txt 파일을 읽고 있습니다.\n",
            "synopsis_romance.txt 파일을 읽고 있습니다.\n",
            "synopsis_musical.txt 파일을 읽고 있습니다.\n",
            "synopsis_mystery.txt 파일을 읽고 있습니다.\n",
            "synopsis_crime.txt 파일을 읽고 있습니다.\n",
            "synopsis_historical.txt 파일을 읽고 있습니다.\n",
            "synopsis_western.txt 파일을 읽고 있습니다.\n",
            "synopsis_adult.txt 파일을 읽고 있습니다.\n",
            "synopsis_thriller.txt 파일을 읽고 있습니다.\n",
            "synopsis_animation.txt 파일을 읽고 있습니다.\n",
            "synopsis_action.txt 파일을 읽고 있습니다.\n",
            "synopsis_adventure.txt 파일을 읽고 있습니다.\n",
            "synopsis_war.txt 파일을 읽고 있습니다.\n",
            "synopsis_comedy.txt 파일을 읽고 있습니다.\n",
            "synopsis_fantasy.txt 파일을 읽고 있습니다.\n"
          ]
        }
      ]
    },
    {
      "cell_type": "code",
      "source": [
        "vectorizer = TfidfVectorizer()\n",
        "X = vectorizer.fit_transform(genre)\n",
        "\n",
        "print(X.shape)"
      ],
      "metadata": {
        "colab": {
          "base_uri": "https://localhost:8080/"
        },
        "id": "LbsfrLQHfyv3",
        "outputId": "e43fb449-6a13-4187-f304-80cd30d2f318"
      },
      "execution_count": 21,
      "outputs": [
        {
          "output_type": "stream",
          "name": "stdout",
          "text": [
            "(21, 42191)\n"
          ]
        }
      ]
    },
    {
      "cell_type": "code",
      "source": [
        "# 각 장르를 TF-IDF로 표현한 sparse matrix를 가져옴\n",
        "m = [X[i].tocoo() for i in range(X.shape[0])]\n",
        "w = [[[i, j] for i, j in zip(_m.col, _m.data)] for _m in m]\n",
        "\n",
        "# 각 장르를 구성하는 단어들을 TF-IDF가 높은 순으로 정렬\n",
        "for i in range(len(w)):\n",
        "    w[i].sort(key=lambda x: x[1], reverse=True)\n",
        "\n",
        "# 각 장르를 대표하는 단어 출력\n",
        "attributes = []\n",
        "for i in range(len(w)):\n",
        "    print(genre_name[i], end=': \\n')\n",
        "    attribute = []\n",
        "    j = 0\n",
        "    while (len(attribute) < 15):\n",
        "        if vectorizer.get_feature_names()[w[i][j][0]] in model.wv:\n",
        "            attribute.append(vectorizer.get_feature_names()[w[i][j][0]])\n",
        "            print(vectorizer.get_feature_names()[w[i][j][0]], end=', ')\n",
        "        j += 1\n",
        "    attributes.append(attribute)\n",
        "    print()"
      ],
      "metadata": {
        "colab": {
          "base_uri": "https://localhost:8080/"
        },
        "id": "3aJ3A3ujlj9b",
        "outputId": "25289c59-285b-494d-9624-0fa5a8e3efc0"
      },
      "execution_count": 22,
      "outputs": [
        {
          "output_type": "stream",
          "name": "stdout",
          "text": [
            "SF: \n",
            "위해, "
          ]
        },
        {
          "output_type": "stream",
          "name": "stderr",
          "text": [
            "/usr/local/lib/python3.7/dist-packages/sklearn/utils/deprecation.py:87: FutureWarning: Function get_feature_names is deprecated; get_feature_names is deprecated in 1.0 and will be removed in 1.2. Please use get_feature_names_out instead.\n",
            "  warnings.warn(msg, category=FutureWarning)\n"
          ]
        },
        {
          "output_type": "stream",
          "name": "stdout",
          "text": [
            "자신, 지구, 시작, 사람, 인류, 인간, 미래, 우주, 그녀, 로봇, 세계, 모든, 박사, 우주선, \n",
            "가족: \n",
            "엄마, 아빠, 가족, 영화제, 자신, 위해, 친구, 아주르, 아버지, 시작, 그녀, 아들, 마을, 국제, 낙타, \n",
            "공연: \n",
            "오페라, 사랑, 토스카, 실황, 올레, 자신, 카바, 그녀, 공연, 오텔로, 리골레토, 백작, 프레, 베르디, 위해, \n",
            "공포(호러): \n",
            "시작, 위해, 사람, 자신, 친구, 그녀, 사건, 공포, 발견, 죽음, 마을, 가족, 악령, 남자, 좀비, \n",
            "기타: \n",
            "영화제, 국제, 서울, 단편, 영화, 자신, 사람, 이야기, 그녀, 남자, 위해, 시작, 사랑, 뉴미디어, 페스티벌, \n",
            "다큐멘터리: \n",
            "영화제, 영화, 다큐, 국제, 다큐멘터리, 사람, 이야기, 대한, 자신, 감독, 위해, 서울, 우리, 시작, 세계, \n",
            "드라마: \n",
            "자신, 영화제, 그녀, 사람, 사랑, 영화, 위해, 시작, 국제, 남자, 친구, 이야기, 엄마, 여자, 아버지, \n",
            "멜로로맨스: \n",
            "그녀, 사랑, 자신, 시작, 남편, 남자, 여자, 사람, 친구, 섹스, 위해, 마음, 결혼, 서로, 아내, \n",
            "뮤지컬: \n",
            "뮤지컬, 사랑, 에스메랄다, 그녀, 음악, 충무로, 모차르트, 영화, 토스카, 자신, 니웨, 카바, 영화제, 바흐, 페뷔스, \n",
            "미스터리: \n",
            "사건, 그녀, 시작, 자신, 위해, 사람, 발견, 사고, 진실, 죽음, 기억, 살인, 친구, 아내, 남자, \n",
            "범죄: \n",
            "사건, 위해, 자신, 경찰, 시작, 그녀, 범죄, 조직, 살인, 사람, 마약, 형사, 남자, 모든, 살해, \n",
            "사극: \n",
            "조선, 위해, 시작, 신기전, 사랑, 자신, 아가멤논, 황제, 그녀, 루안, 최고, 운명, 사람, 하선, 전쟁, \n",
            "서부극(웨스턴): \n",
            "서부, 보안관, 위해, 벌린, 카우보이, 그레이프바인, 헨리, 마을, 자신, 개릿, 아이, 시작, 무법자, 프린트, 마적, \n",
            "성인물(에로): \n",
            "그녀, 남편, 마사지, 자신, 섹스, 관계, 영화, 정사, 남자, 위해, 시작, 여자, 유부녀, 마음, 사랑, \n",
            "스릴러: \n",
            "자신, 그녀, 사건, 시작, 위해, 사람, 살인, 남자, 발견, 아내, 경찰, 친구, 모든, 사실, 살해, \n",
            "애니메이션: \n",
            "애니메이션, 국제, 영화제, 친구, 인디애니페스트, 위해, 자신, 시작, 사람, 페스티벌, 서울, 이야기, 아이, 마을, 소녀, \n",
            "액션: \n",
            "위해, 자신, 시작, 조직, 사건, 사람, 그녀, 경찰, 전쟁, 모든, 목숨, 사실, 친구, 가족, 요원, \n",
            "어드벤처: \n",
            "위해, 자신, 시작, 친구, 마을, 아버지, 영화, 아이, 사람, 여행, 세계, 앤트, 세상, 가족, 모험, \n",
            "전쟁: \n",
            "전쟁, 독일군, 전투, 위해, 작전, 시작, 부대, 윈터스, 독일, 연합군, 미군, 임무, 자신, 사람, 나치, \n",
            "코미디: \n",
            "그녀, 자신, 시작, 위해, 사랑, 사람, 친구, 영화, 남자, 여자, 영화제, 가족, 과연, 마을, 사건, \n",
            "판타지: \n",
            "자신, 그녀, 시작, 위해, 사람, 사랑, 요괴, 영화제, 이야기, 영화, 소녀, 남자, 인간, 세상, 마을, \n"
          ]
        }
      ]
    },
    {
      "cell_type": "code",
      "source": [
        "matrix = [[0 for _ in range(len(genre_name))] for _ in range(len(genre_name))]"
      ],
      "metadata": {
        "id": "UfvK1N7-mdSt"
      },
      "execution_count": 23,
      "outputs": []
    },
    {
      "cell_type": "code",
      "source": [
        "X = np.array([model.wv[word] for word in target_art])\n",
        "Y = np.array([model.wv[word] for word in target_gen])\n",
        "\n",
        "for i in range(len(genre_name)-1):\n",
        "    for j in range(i+1, len(genre_name)):\n",
        "        A = np.array([model.wv[word] for word in attributes[i]])\n",
        "        B = np.array([model.wv[word] for word in attributes[j]])\n",
        "        matrix[i][j] = weat_score(X, Y, A, B)"
      ],
      "metadata": {
        "id": "lxY4NlwXt7KS"
      },
      "execution_count": 24,
      "outputs": []
    },
    {
      "cell_type": "code",
      "source": [
        "for i in range(len(genre_name)-1):\n",
        "    for j in range(i+1, len(genre_name)):\n",
        "        print(genre_name[i], genre_name[j],matrix[i][j])"
      ],
      "metadata": {
        "colab": {
          "base_uri": "https://localhost:8080/"
        },
        "id": "9Vkxf6UCoWMz",
        "outputId": "d17bddc7-894f-40a0-bed6-15b676e943a8"
      },
      "execution_count": 25,
      "outputs": [
        {
          "output_type": "stream",
          "name": "stdout",
          "text": [
            "SF 가족 -0.490586\n",
            "SF 공연 -0.3873085\n",
            "SF 공포(호러) -0.67695343\n",
            "SF 기타 0.34232816\n",
            "SF 다큐멘터리 0.60268044\n",
            "SF 드라마 -0.3656196\n",
            "SF 멜로로맨스 -0.8097714\n",
            "SF 뮤지컬 0.3447502\n",
            "SF 미스터리 -0.6801836\n",
            "SF 범죄 -0.26671448\n",
            "SF 사극 -0.8242478\n",
            "SF 서부극(웨스턴) -0.4087222\n",
            "SF 성인물(에로) -0.60244316\n",
            "SF 스릴러 -0.544707\n",
            "SF 애니메이션 0.3856981\n",
            "SF 액션 -0.45685694\n",
            "SF 어드벤처 -0.75573367\n",
            "SF 전쟁 0.26874724\n",
            "SF 코미디 -0.46024853\n",
            "SF 판타지 -0.16017154\n",
            "가족 공연 0.16348115\n",
            "가족 공포(호러) -0.2094565\n",
            "가족 기타 0.71835744\n",
            "가족 다큐멘터리 0.8104255\n",
            "가족 드라마 0.20047627\n",
            "가족 멜로로맨스 -0.69276106\n",
            "가족 뮤지컬 0.6941846\n",
            "가족 미스터리 -0.33981907\n",
            "가족 범죄 0.16126844\n",
            "가족 사극 -0.08226759\n",
            "가족 서부극(웨스턴) 0.40748233\n",
            "가족 성인물(에로) -0.3877414\n",
            "가족 스릴러 -0.19586153\n",
            "가족 애니메이션 0.84208894\n",
            "가족 액션 0.08868152\n",
            "가족 어드벤처 -0.015262564\n",
            "가족 전쟁 0.6445341\n",
            "가족 코미디 0.16085488\n",
            "가족 판타지 0.43972734\n",
            "공연 공포(호러) -0.26475844\n",
            "공연 기타 0.94290763\n",
            "공연 다큐멘터리 0.93671745\n",
            "공연 드라마 0.031411693\n",
            "공연 멜로로맨스 -0.7236855\n",
            "공연 뮤지컬 0.9128199\n",
            "공연 미스터리 -0.3623702\n",
            "공연 범죄 0.05023642\n",
            "공연 사극 -0.34630758\n",
            "공연 서부극(웨스턴) 0.07148097\n",
            "공연 성인물(에로) -0.51687735\n",
            "공연 스릴러 -0.24633197\n",
            "공연 애니메이션 0.9688882\n",
            "공연 액션 -0.030148882\n",
            "공연 어드벤처 -0.1736162\n",
            "공연 전쟁 0.643474\n",
            "공연 코미디 -0.019760141\n",
            "공연 판타지 0.38975942\n",
            "공포(호러) 기타 0.6396143\n",
            "공포(호러) 다큐멘터리 0.7509035\n",
            "공포(호러) 드라마 0.33295897\n",
            "공포(호러) 멜로로맨스 -0.66455054\n",
            "공포(호러) 뮤지컬 0.626011\n",
            "공포(호러) 미스터리 -0.572269\n",
            "공포(호러) 범죄 0.63942564\n",
            "공포(호러) 사극 0.16842648\n",
            "공포(호러) 서부극(웨스턴) 0.44788906\n",
            "공포(호러) 성인물(에로) -0.2580856\n",
            "공포(호러) 스릴러 -0.053849075\n",
            "공포(호러) 애니메이션 0.67638963\n",
            "공포(호러) 액션 0.59028894\n",
            "공포(호러) 어드벤처 0.2458808\n",
            "공포(호러) 전쟁 0.6676912\n",
            "공포(호러) 코미디 0.43457392\n",
            "공포(호러) 판타지 0.5548173\n",
            "기타 다큐멘터리 0.6115818\n",
            "기타 드라마 -0.87384903\n",
            "기타 멜로로맨스 -0.9036143\n",
            "기타 뮤지컬 -0.0037836966\n",
            "기타 미스터리 -0.65626544\n",
            "기타 범죄 -0.40112764\n",
            "기타 사극 -0.83275205\n",
            "기타 서부극(웨스턴) -0.6017128\n",
            "기타 성인물(에로) -0.837989\n",
            "기타 스릴러 -0.5753633\n",
            "기타 애니메이션 0.025940739\n",
            "기타 액션 -0.47785226\n",
            "기타 어드벤처 -0.7658737\n",
            "기타 전쟁 -0.1949594\n",
            "기타 코미디 -0.7397873\n",
            "기타 판타지 -0.67352384\n",
            "다큐멘터리 드라마 -0.9166188\n",
            "다큐멘터리 멜로로맨스 -0.91445327\n",
            "다큐멘터리 뮤지컬 -0.75455964\n",
            "다큐멘터리 미스터리 -0.7534127\n",
            "다큐멘터리 범죄 -0.52766705\n",
            "다큐멘터리 사극 -0.9202231\n",
            "다큐멘터리 서부극(웨스턴) -0.7228468\n",
            "다큐멘터리 성인물(에로) -0.8582118\n",
            "다큐멘터리 스릴러 -0.67057616\n",
            "다큐멘터리 애니메이션 -0.52421266\n",
            "다큐멘터리 액션 -0.612199\n",
            "다큐멘터리 어드벤처 -0.9229623\n",
            "다큐멘터리 전쟁 -0.42826924\n",
            "다큐멘터리 코미디 -0.83689743\n",
            "다큐멘터리 판타지 -0.8967654\n",
            "드라마 멜로로맨스 -0.8772354\n",
            "드라마 뮤지컬 0.83480144\n",
            "드라마 미스터리 -0.43515557\n",
            "드라마 범죄 0.040125206\n",
            "드라마 사극 -0.33008334\n",
            "드라마 서부극(웨스턴) 0.04517619\n",
            "드라마 성인물(에로) -0.65898216\n",
            "드라마 스릴러 -0.28901988\n",
            "드라마 애니메이션 0.8931788\n",
            "드라마 액션 -0.0450378\n",
            "드라마 어드벤처 -0.24696\n",
            "드라마 전쟁 0.48580077\n",
            "드라마 코미디 -0.0824655\n",
            "드라마 판타지 0.57478416\n",
            "멜로로맨스 뮤지컬 0.8789922\n",
            "멜로로맨스 미스터리 0.48718384\n",
            "멜로로맨스 범죄 0.852289\n",
            "멜로로맨스 사극 0.683495\n",
            "멜로로맨스 서부극(웨스턴) 0.7852433\n",
            "멜로로맨스 성인물(에로) 0.8028006\n",
            "멜로로맨스 스릴러 0.67162526\n",
            "멜로로맨스 애니메이션 0.9015646\n",
            "멜로로맨스 액션 0.7792242\n",
            "멜로로맨스 어드벤처 0.66825104\n",
            "멜로로맨스 전쟁 0.82202584\n",
            "멜로로맨스 코미디 0.93511844\n",
            "멜로로맨스 판타지 0.8732499\n",
            "뮤지컬 미스터리 -0.6467428\n",
            "뮤지컬 범죄 -0.38964814\n",
            "뮤지컬 사극 -0.81561005\n",
            "뮤지컬 서부극(웨스턴) -0.57701975\n",
            "뮤지컬 성인물(에로) -0.813876\n",
            "뮤지컬 스릴러 -0.5630346\n",
            "뮤지컬 애니메이션 0.02317433\n",
            "뮤지컬 액션 -0.46931478\n",
            "뮤지컬 어드벤처 -0.7645533\n",
            "뮤지컬 전쟁 -0.18560682\n",
            "뮤지컬 코미디 -0.71193844\n",
            "뮤지컬 판타지 -0.6659819\n",
            "미스터리 범죄 0.9392004\n",
            "미스터리 사극 0.31462514\n",
            "미스터리 서부극(웨스턴) 0.5206039\n",
            "미스터리 성인물(에로) -0.074275605\n",
            "미스터리 스릴러 0.66203547\n",
            "미스터리 애니메이션 0.68028927\n",
            "미스터리 액션 0.77243716\n",
            "미스터리 어드벤처 0.36799008\n",
            "미스터리 전쟁 0.6803965\n",
            "미스터리 코미디 0.5311974\n",
            "미스터리 판타지 0.591227\n",
            "범죄 사극 -0.24666777\n",
            "범죄 서부극(웨스턴) -0.019438036\n",
            "범죄 성인물(에로) -0.5151895\n",
            "범죄 스릴러 -0.93675494\n",
            "범죄 애니메이션 0.42026305\n",
            "범죄 액션 -0.2609327\n",
            "범죄 어드벤처 -0.17076471\n",
            "범죄 전쟁 0.42490375\n",
            "범죄 코미디 -0.07947083\n",
            "범죄 판타지 0.1460705\n",
            "사극 서부극(웨스턴) 0.41428503\n",
            "사극 성인물(에로) -0.3855419\n",
            "사극 스릴러 -0.15322678\n",
            "사극 애니메이션 0.86787\n",
            "사극 액션 0.1808546\n",
            "사극 어드벤처 0.10250465\n",
            "사극 전쟁 0.8981427\n",
            "사극 코미디 0.38911188\n",
            "사극 판타지 0.6903788\n",
            "서부극(웨스턴) 성인물(에로) -0.4980779\n",
            "서부극(웨스턴) 스릴러 -0.38423255\n",
            "서부극(웨스턴) 애니메이션 0.69944346\n",
            "서부극(웨스턴) 액션 -0.11329183\n",
            "서부극(웨스턴) 어드벤처 -0.34028995\n",
            "서부극(웨스턴) 전쟁 0.6718805\n",
            "서부극(웨스턴) 코미디 -0.1025694\n",
            "서부극(웨스턴) 판타지 0.2635532\n",
            "성인물(에로) 스릴러 0.23628248\n",
            "성인물(에로) 애니메이션 0.8053278\n",
            "성인물(에로) 액션 0.4318085\n",
            "성인물(에로) 어드벤처 0.3807619\n",
            "성인물(에로) 전쟁 0.65141547\n",
            "성인물(에로) 코미디 0.65123296\n",
            "성인물(에로) 판타지 0.6992912\n",
            "스릴러 애니메이션 0.599555\n",
            "스릴러 액션 0.584208\n",
            "스릴러 어드벤처 0.19382906\n",
            "스릴러 전쟁 0.60990906\n",
            "스릴러 코미디 0.3442518\n",
            "스릴러 판타지 0.44304097\n",
            "애니메이션 액션 -0.51222754\n",
            "애니메이션 어드벤처 -0.8691818\n",
            "애니메이션 전쟁 -0.22613169\n",
            "애니메이션 코미디 -0.77106965\n",
            "애니메이션 판타지 -0.7115927\n",
            "액션 어드벤처 -0.10610107\n",
            "액션 전쟁 0.56904536\n",
            "액션 코미디 0.028030919\n",
            "액션 판타지 0.25379312\n",
            "어드벤처 전쟁 0.68102086\n",
            "어드벤처 코미디 0.25197423\n",
            "어드벤처 판타지 0.7434678\n",
            "전쟁 코미디 -0.5545883\n",
            "전쟁 판타지 -0.30044377\n",
            "코미디 판타지 0.5850144\n"
          ]
        }
      ]
    },
    {
      "cell_type": "code",
      "source": [
        "np.random.seed(0)\n",
        "\n",
        "# 한글 지원 폰트\n",
        "sns.set(font='NanumGothic')\n",
        "\n",
        "# 마이너스 부호 \n",
        "\n",
        "plt.rcParams['axes.unicode_minus'] = False\n",
        "\n",
        "ax = sns.heatmap(matrix, xticklabels=genre_name, yticklabels=genre_name, annot=False,  cmap='RdYlGn_r')\n",
        "ax"
      ],
      "metadata": {
        "colab": {
          "base_uri": "https://localhost:8080/",
          "height": 347
        },
        "id": "QBB0pmj3yT4N",
        "outputId": "6f66e63e-e183-4aef-e81f-d6d2d78ec12c"
      },
      "execution_count": 26,
      "outputs": [
        {
          "output_type": "execute_result",
          "data": {
            "text/plain": [
              "<matplotlib.axes._subplots.AxesSubplot at 0x7f3e15f1f410>"
            ]
          },
          "metadata": {},
          "execution_count": 26
        },
        {
          "output_type": "display_data",
          "data": {
            "text/plain": [
              "<Figure size 432x288 with 2 Axes>"
            ],
            "image/png": "[encoded data removed]"
          },
          "metadata": {}
        }
      ]
    },
    {
      "cell_type": "markdown",
      "source": [
        "SF 다큐멘터리 0.60268044 공포(호러) 스릴러 -0.053849075 스릴러 코미디 0.3442518 와 같이 납득이 되지 않을 만한 관계성을 보이는 경우도 있었다. 가족의 경우 다른 장르에 비해 관계성이 사람이 생각하는 편향과 상당 부분 일치하게 나온 것 같지만 다른 장르의 경우 전혀 상\n",
        "관이 없는 두 장르가 양의 관계를 보이거나, 보편적으로 관계가 깊다고 판단하는 두 장르의 관계가 음수의 결과를 보이기도 했다. 초반에 데이터를 로드하면서 양을 제한한 점에서 위와 같은 한계가 나올 수 있다고 생각한다."
      ],
      "metadata": {
        "id": "W5NVDyvOAUiT"
      }
    }
  ]
}