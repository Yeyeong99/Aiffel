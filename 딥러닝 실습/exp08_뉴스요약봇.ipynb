{
 "cells": [
  {
   "cell_type": "markdown",
   "id": "0aea3ffd",
   "metadata": {},
   "source": [
    "## 뉴스 요약봇 만들기"
   ]
  },
  {
   "cell_type": "code",
   "execution_count": 2,
   "id": "23a56e0e",
   "metadata": {},
   "outputs": [
    {
     "name": "stdout",
     "output_type": "stream",
     "text": [
      "=3\n"
     ]
    },
    {
     "name": "stderr",
     "output_type": "stream",
     "text": [
      "[nltk_data] Downloading package stopwords to /aiffel/nltk_data...\n",
      "[nltk_data]   Package stopwords is already up-to-date!\n"
     ]
    }
   ],
   "source": [
    "import nltk\n",
    "nltk.download('stopwords')\n",
    "\n",
    "import numpy as np\n",
    "import pandas as pd\n",
    "import os\n",
    "import re\n",
    "import matplotlib.pyplot as plt\n",
    "from nltk.corpus import stopwords\n",
    "from bs4 import BeautifulSoup \n",
    "from tensorflow.keras.preprocessing.text import Tokenizer \n",
    "from tensorflow.keras.preprocessing.sequence import pad_sequences\n",
    "import urllib.request\n",
    "import warnings\n",
    "warnings.filterwarnings(\"ignore\", category=UserWarning, module='bs4')\n",
    "\n",
    "print('=3')"
   ]
  },
  {
   "cell_type": "code",
   "execution_count": 62,
   "id": "4f31e377",
   "metadata": {},
   "outputs": [],
   "source": [
    "urllib.request.urlretrieve(\"https://raw.githubusercontent.com/sunnysai12345/News_Summary/master/news_summary_more.csv\", filename=\"news_summary_more.csv\")\n",
    "data = pd.read_csv('news_summary_more.csv', encoding='iso-8859-1')"
   ]
  },
  {
   "cell_type": "code",
   "execution_count": 63,
   "id": "86b5948b",
   "metadata": {},
   "outputs": [
    {
     "data": {
      "text/html": [
       "<div>\n",
       "<style scoped>\n",
       "    .dataframe tbody tr th:only-of-type {\n",
       "        vertical-align: middle;\n",
       "    }\n",
       "\n",
       "    .dataframe tbody tr th {\n",
       "        vertical-align: top;\n",
       "    }\n",
       "\n",
       "    .dataframe thead th {\n",
       "        text-align: right;\n",
       "    }\n",
       "</style>\n",
       "<table border=\"1\" class=\"dataframe\">\n",
       "  <thead>\n",
       "    <tr style=\"text-align: right;\">\n",
       "      <th></th>\n",
       "      <th>headlines</th>\n",
       "      <th>text</th>\n",
       "    </tr>\n",
       "  </thead>\n",
       "  <tbody>\n",
       "    <tr>\n",
       "      <th>0</th>\n",
       "      <td>upGrad learner switches to career in ML &amp; Al w...</td>\n",
       "      <td>Saurav Kant, an alumnus of upGrad and IIIT-B's...</td>\n",
       "    </tr>\n",
       "    <tr>\n",
       "      <th>1</th>\n",
       "      <td>Delhi techie wins free food from Swiggy for on...</td>\n",
       "      <td>Kunal Shah's credit card bill payment platform...</td>\n",
       "    </tr>\n",
       "    <tr>\n",
       "      <th>2</th>\n",
       "      <td>New Zealand end Rohit Sharma-led India's 12-ma...</td>\n",
       "      <td>New Zealand defeated India by 8 wickets in the...</td>\n",
       "    </tr>\n",
       "    <tr>\n",
       "      <th>3</th>\n",
       "      <td>Aegon life iTerm insurance plan helps customer...</td>\n",
       "      <td>With Aegon Life iTerm Insurance plan, customer...</td>\n",
       "    </tr>\n",
       "    <tr>\n",
       "      <th>4</th>\n",
       "      <td>Have known Hirani for yrs, what if MeToo claim...</td>\n",
       "      <td>Speaking about the sexual harassment allegatio...</td>\n",
       "    </tr>\n",
       "  </tbody>\n",
       "</table>\n",
       "</div>"
      ],
      "text/plain": [
       "                                           headlines  \\\n",
       "0  upGrad learner switches to career in ML & Al w...   \n",
       "1  Delhi techie wins free food from Swiggy for on...   \n",
       "2  New Zealand end Rohit Sharma-led India's 12-ma...   \n",
       "3  Aegon life iTerm insurance plan helps customer...   \n",
       "4  Have known Hirani for yrs, what if MeToo claim...   \n",
       "\n",
       "                                                text  \n",
       "0  Saurav Kant, an alumnus of upGrad and IIIT-B's...  \n",
       "1  Kunal Shah's credit card bill payment platform...  \n",
       "2  New Zealand defeated India by 8 wickets in the...  \n",
       "3  With Aegon Life iTerm Insurance plan, customer...  \n",
       "4  Speaking about the sexual harassment allegatio...  "
      ]
     },
     "execution_count": 63,
     "metadata": {},
     "output_type": "execute_result"
    }
   ],
   "source": [
    "data.head()"
   ]
  },
  {
   "cell_type": "code",
   "execution_count": 66,
   "id": "7c9475fa",
   "metadata": {},
   "outputs": [
    {
     "data": {
      "text/html": [
       "<div>\n",
       "<style scoped>\n",
       "    .dataframe tbody tr th:only-of-type {\n",
       "        vertical-align: middle;\n",
       "    }\n",
       "\n",
       "    .dataframe tbody tr th {\n",
       "        vertical-align: top;\n",
       "    }\n",
       "\n",
       "    .dataframe thead th {\n",
       "        text-align: right;\n",
       "    }\n",
       "</style>\n",
       "<table border=\"1\" class=\"dataframe\">\n",
       "  <thead>\n",
       "    <tr style=\"text-align: right;\">\n",
       "      <th></th>\n",
       "      <th>headlines</th>\n",
       "      <th>text</th>\n",
       "    </tr>\n",
       "  </thead>\n",
       "  <tbody>\n",
       "    <tr>\n",
       "      <th>46161</th>\n",
       "      <td>Sand artist Sudarsan pays tribute to Sridevi w...</td>\n",
       "      <td>Sand artist Sudarsan Pattnaik made a sculpture...</td>\n",
       "    </tr>\n",
       "    <tr>\n",
       "      <th>14004</th>\n",
       "      <td>Arrested DRDO employee leaked info for $30,000...</td>\n",
       "      <td>Nishant Agarwal, the DRDO employee who was arr...</td>\n",
       "    </tr>\n",
       "    <tr>\n",
       "      <th>6322</th>\n",
       "      <td>Kohli's b'day post for Anushka most 'loved': I...</td>\n",
       "      <td>Team India captain Virat Kohli's post on Insta...</td>\n",
       "    </tr>\n",
       "    <tr>\n",
       "      <th>24412</th>\n",
       "      <td>Pak eateries offer free food to motivate peopl...</td>\n",
       "      <td>Several restaurants across Pakistan are offeri...</td>\n",
       "    </tr>\n",
       "    <tr>\n",
       "      <th>40940</th>\n",
       "      <td>Pak thrash WI for 3rd time in 3 days, complete...</td>\n",
       "      <td>Pakistan defeated Windies by 8 wickets in the ...</td>\n",
       "    </tr>\n",
       "    <tr>\n",
       "      <th>84752</th>\n",
       "      <td>33,000 kg of 'sex drug' smuggled into India fr...</td>\n",
       "      <td>Mumbai authorities have seized 33,000 kg of a ...</td>\n",
       "    </tr>\n",
       "    <tr>\n",
       "      <th>217</th>\n",
       "      <td>US magazine calls pranayama cardiac coherence ...</td>\n",
       "      <td>A recent tweet by Scientific American has been...</td>\n",
       "    </tr>\n",
       "    <tr>\n",
       "      <th>12452</th>\n",
       "      <td>Will not contest any polls for next 10 yrs: Pr...</td>\n",
       "      <td>Election strategist-turned-politician and the ...</td>\n",
       "    </tr>\n",
       "    <tr>\n",
       "      <th>57499</th>\n",
       "      <td>11 jailed for life under Maha Black Magic Act ...</td>\n",
       "      <td>In the first ever conviction under Maharashtra...</td>\n",
       "    </tr>\n",
       "    <tr>\n",
       "      <th>35445</th>\n",
       "      <td>Let's not lynch Papon: Raveena on Papon kissin...</td>\n",
       "      <td>Addressing the controversy around singer Papon...</td>\n",
       "    </tr>\n",
       "    <tr>\n",
       "      <th>76140</th>\n",
       "      <td>Divorce proceedings between Angelina, Brad sta...</td>\n",
       "      <td>According to reports, divorce proceedings betw...</td>\n",
       "    </tr>\n",
       "    <tr>\n",
       "      <th>98234</th>\n",
       "      <td>Queen Elizabeth II gives royal assent to Brexi...</td>\n",
       "      <td>British monarch Queen Elizabeth II has granted...</td>\n",
       "    </tr>\n",
       "    <tr>\n",
       "      <th>28903</th>\n",
       "      <td>What's wrong if women use foul language: Sumee...</td>\n",
       "      <td>Speaking about 'Veere Di Wedding' being slamme...</td>\n",
       "    </tr>\n",
       "    <tr>\n",
       "      <th>36769</th>\n",
       "      <td>Defence Ministry website hacked, shows Chinese...</td>\n",
       "      <td>The Ministry of Defence website was hacked on ...</td>\n",
       "    </tr>\n",
       "    <tr>\n",
       "      <th>64054</th>\n",
       "      <td>Nissan to join electric racing series Formula ...</td>\n",
       "      <td>Japanese automaker Nissan has announced that i...</td>\n",
       "    </tr>\n",
       "  </tbody>\n",
       "</table>\n",
       "</div>"
      ],
      "text/plain": [
       "                                               headlines  \\\n",
       "46161  Sand artist Sudarsan pays tribute to Sridevi w...   \n",
       "14004  Arrested DRDO employee leaked info for $30,000...   \n",
       "6322   Kohli's b'day post for Anushka most 'loved': I...   \n",
       "24412  Pak eateries offer free food to motivate peopl...   \n",
       "40940  Pak thrash WI for 3rd time in 3 days, complete...   \n",
       "84752  33,000 kg of 'sex drug' smuggled into India fr...   \n",
       "217    US magazine calls pranayama cardiac coherence ...   \n",
       "12452  Will not contest any polls for next 10 yrs: Pr...   \n",
       "57499  11 jailed for life under Maha Black Magic Act ...   \n",
       "35445  Let's not lynch Papon: Raveena on Papon kissin...   \n",
       "76140  Divorce proceedings between Angelina, Brad sta...   \n",
       "98234  Queen Elizabeth II gives royal assent to Brexi...   \n",
       "28903  What's wrong if women use foul language: Sumee...   \n",
       "36769  Defence Ministry website hacked, shows Chinese...   \n",
       "64054  Nissan to join electric racing series Formula ...   \n",
       "\n",
       "                                                    text  \n",
       "46161  Sand artist Sudarsan Pattnaik made a sculpture...  \n",
       "14004  Nishant Agarwal, the DRDO employee who was arr...  \n",
       "6322   Team India captain Virat Kohli's post on Insta...  \n",
       "24412  Several restaurants across Pakistan are offeri...  \n",
       "40940  Pakistan defeated Windies by 8 wickets in the ...  \n",
       "84752  Mumbai authorities have seized 33,000 kg of a ...  \n",
       "217    A recent tweet by Scientific American has been...  \n",
       "12452  Election strategist-turned-politician and the ...  \n",
       "57499  In the first ever conviction under Maharashtra...  \n",
       "35445  Addressing the controversy around singer Papon...  \n",
       "76140  According to reports, divorce proceedings betw...  \n",
       "98234  British monarch Queen Elizabeth II has granted...  \n",
       "28903  Speaking about 'Veere Di Wedding' being slamme...  \n",
       "36769  The Ministry of Defence website was hacked on ...  \n",
       "64054  Japanese automaker Nissan has announced that i...  "
      ]
     },
     "execution_count": 66,
     "metadata": {},
     "output_type": "execute_result"
    }
   ],
   "source": [
    "data = data[['headlines','text']]\n",
    "data.head()\n",
    "\n",
    "#랜덤한 15개 샘플 출력\n",
    "data.sample(15)"
   ]
  },
  {
   "cell_type": "code",
   "execution_count": 67,
   "id": "665ef412",
   "metadata": {},
   "outputs": [
    {
     "name": "stdout",
     "output_type": "stream",
     "text": [
      "Text 열에서 중복을 배제한 유일한 샘플의 수 : 98360\n",
      "Headlines 열에서 중복을 배제한 유일한 샘플의 수 : 98280\n"
     ]
    }
   ],
   "source": [
    "# 중복 샘플과 NULL 값이 있는 샘플 제거\n",
    "print('Text 열에서 중복을 배제한 유일한 샘플의 수 :', data['text'].nunique())\n",
    "print('Headlines 열에서 중복을 배제한 유일한 샘플의 수 :', data['headlines'].nunique())"
   ]
  },
  {
   "cell_type": "code",
   "execution_count": 68,
   "id": "69adae16",
   "metadata": {},
   "outputs": [
    {
     "name": "stdout",
     "output_type": "stream",
     "text": [
      "전체 샘플수 : 98360\n"
     ]
    }
   ],
   "source": [
    "# inplace=True 를 설정하면 DataFrame 타입 값을 return 하지 않고 data 내부를 직접적으로 바꿉니다\n",
    "data.drop_duplicates(subset = ['text'], inplace=True)\n",
    "print('전체 샘플수 :', (len(data)))"
   ]
  },
  {
   "cell_type": "code",
   "execution_count": 69,
   "id": "46fd3329",
   "metadata": {},
   "outputs": [
    {
     "name": "stdout",
     "output_type": "stream",
     "text": [
      "headlines    0\n",
      "text         0\n",
      "dtype: int64\n"
     ]
    }
   ],
   "source": [
    "# null 값 확인\n",
    "print(data.isnull().sum())"
   ]
  },
  {
   "cell_type": "code",
   "execution_count": 71,
   "id": "dbb9af7f",
   "metadata": {},
   "outputs": [
    {
     "name": "stdout",
     "output_type": "stream",
     "text": [
      "정규화 사전의 수:  120\n"
     ]
    }
   ],
   "source": [
    "# 정규화를 위한 사전 생성\n",
    "contractions = {\"ain't\": \"is not\", \"aren't\": \"are not\",\"can't\": \"cannot\", \"'cause\": \"because\", \"could've\": \"could have\", \"couldn't\": \"could not\",\n",
    "                           \"didn't\": \"did not\",  \"doesn't\": \"does not\", \"don't\": \"do not\", \"hadn't\": \"had not\", \"hasn't\": \"has not\", \"haven't\": \"have not\",\n",
    "                           \"he'd\": \"he would\",\"he'll\": \"he will\", \"he's\": \"he is\", \"how'd\": \"how did\", \"how'd'y\": \"how do you\", \"how'll\": \"how will\", \"how's\": \"how is\",\n",
    "                           \"I'd\": \"I would\", \"I'd've\": \"I would have\", \"I'll\": \"I will\", \"I'll've\": \"I will have\",\"I'm\": \"I am\", \"I've\": \"I have\", \"i'd\": \"i would\",\n",
    "                           \"i'd've\": \"i would have\", \"i'll\": \"i will\",  \"i'll've\": \"i will have\",\"i'm\": \"i am\", \"i've\": \"i have\", \"isn't\": \"is not\", \"it'd\": \"it would\",\n",
    "                           \"it'd've\": \"it would have\", \"it'll\": \"it will\", \"it'll've\": \"it will have\",\"it's\": \"it is\", \"let's\": \"let us\", \"ma'am\": \"madam\",\n",
    "                           \"mayn't\": \"may not\", \"might've\": \"might have\",\"mightn't\": \"might not\",\"mightn't've\": \"might not have\", \"must've\": \"must have\",\n",
    "                           \"mustn't\": \"must not\", \"mustn't've\": \"must not have\", \"needn't\": \"need not\", \"needn't've\": \"need not have\",\"o'clock\": \"of the clock\",\n",
    "                           \"oughtn't\": \"ought not\", \"oughtn't've\": \"ought not have\", \"shan't\": \"shall not\", \"sha'n't\": \"shall not\", \"shan't've\": \"shall not have\",\n",
    "                           \"she'd\": \"she would\", \"she'd've\": \"she would have\", \"she'll\": \"she will\", \"she'll've\": \"she will have\", \"she's\": \"she is\",\n",
    "                           \"should've\": \"should have\", \"shouldn't\": \"should not\", \"shouldn't've\": \"should not have\", \"so've\": \"so have\",\"so's\": \"so as\",\n",
    "                           \"this's\": \"this is\",\"that'd\": \"that would\", \"that'd've\": \"that would have\", \"that's\": \"that is\", \"there'd\": \"there would\",\n",
    "                           \"there'd've\": \"there would have\", \"there's\": \"there is\", \"here's\": \"here is\",\"they'd\": \"they would\", \"they'd've\": \"they would have\",\n",
    "                           \"they'll\": \"they will\", \"they'll've\": \"they will have\", \"they're\": \"they are\", \"they've\": \"they have\", \"to've\": \"to have\",\n",
    "                           \"wasn't\": \"was not\", \"we'd\": \"we would\", \"we'd've\": \"we would have\", \"we'll\": \"we will\", \"we'll've\": \"we will have\", \"we're\": \"we are\",\n",
    "                           \"we've\": \"we have\", \"weren't\": \"were not\", \"what'll\": \"what will\", \"what'll've\": \"what will have\", \"what're\": \"what are\",\n",
    "                           \"what's\": \"what is\", \"what've\": \"what have\", \"when's\": \"when is\", \"when've\": \"when have\", \"where'd\": \"where did\", \"where's\": \"where is\",\n",
    "                           \"where've\": \"where have\", \"who'll\": \"who will\", \"who'll've\": \"who will have\", \"who's\": \"who is\", \"who've\": \"who have\",\n",
    "                           \"why's\": \"why is\", \"why've\": \"why have\", \"will've\": \"will have\", \"won't\": \"will not\", \"won't've\": \"will not have\",\n",
    "                           \"would've\": \"would have\", \"wouldn't\": \"would not\", \"wouldn't've\": \"would not have\", \"y'all\": \"you all\",\n",
    "                           \"y'all'd\": \"you all would\",\"y'all'd've\": \"you all would have\",\"y'all're\": \"you all are\",\"y'all've\": \"you all have\",\n",
    "                           \"you'd\": \"you would\", \"you'd've\": \"you would have\", \"you'll\": \"you will\", \"you'll've\": \"you will have\",\n",
    "                           \"you're\": \"you are\", \"you've\": \"you have\"}\n",
    "\n",
    "print(\"정규화 사전의 수: \", len(contractions))"
   ]
  },
  {
   "cell_type": "code",
   "execution_count": 72,
   "id": "1b0967cd",
   "metadata": {},
   "outputs": [
    {
     "name": "stdout",
     "output_type": "stream",
     "text": [
      "불용어 개수 : 179\n",
      "['i', 'me', 'my', 'myself', 'we', 'our', 'ours', 'ourselves', 'you', \"you're\", \"you've\", \"you'll\", \"you'd\", 'your', 'yours', 'yourself', 'yourselves', 'he', 'him', 'his', 'himself', 'she', \"she's\", 'her', 'hers', 'herself', 'it', \"it's\", 'its', 'itself', 'they', 'them', 'their', 'theirs', 'themselves', 'what', 'which', 'who', 'whom', 'this', 'that', \"that'll\", 'these', 'those', 'am', 'is', 'are', 'was', 'were', 'be', 'been', 'being', 'have', 'has', 'had', 'having', 'do', 'does', 'did', 'doing', 'a', 'an', 'the', 'and', 'but', 'if', 'or', 'because', 'as', 'until', 'while', 'of', 'at', 'by', 'for', 'with', 'about', 'against', 'between', 'into', 'through', 'during', 'before', 'after', 'above', 'below', 'to', 'from', 'up', 'down', 'in', 'out', 'on', 'off', 'over', 'under', 'again', 'further', 'then', 'once', 'here', 'there', 'when', 'where', 'why', 'how', 'all', 'any', 'both', 'each', 'few', 'more', 'most', 'other', 'some', 'such', 'no', 'nor', 'not', 'only', 'own', 'same', 'so', 'than', 'too', 'very', 's', 't', 'can', 'will', 'just', 'don', \"don't\", 'should', \"should've\", 'now', 'd', 'll', 'm', 'o', 're', 've', 'y', 'ain', 'aren', \"aren't\", 'couldn', \"couldn't\", 'didn', \"didn't\", 'doesn', \"doesn't\", 'hadn', \"hadn't\", 'hasn', \"hasn't\", 'haven', \"haven't\", 'isn', \"isn't\", 'ma', 'mightn', \"mightn't\", 'mustn', \"mustn't\", 'needn', \"needn't\", 'shan', \"shan't\", 'shouldn', \"shouldn't\", 'wasn', \"wasn't\", 'weren', \"weren't\", 'won', \"won't\", 'wouldn', \"wouldn't\"]\n"
     ]
    }
   ],
   "source": [
    "print('불용어 개수 :', len(stopwords.words('english') ))\n",
    "print(stopwords.words('english'))"
   ]
  },
  {
   "cell_type": "code",
   "execution_count": 73,
   "id": "2d6f81ad",
   "metadata": {},
   "outputs": [
    {
     "name": "stdout",
     "output_type": "stream",
     "text": [
      "=3\n"
     ]
    }
   ],
   "source": [
    "# 데이터 전처리 함수\n",
    "def preprocess_sentence(sentence, remove_stopwords=True):\n",
    "    sentence = sentence.lower() # 텍스트 소문자화\n",
    "    sentence = BeautifulSoup(sentence, \"lxml\").text # <br />, <a href = ...> 등의 html 태그 제거\n",
    "    sentence = re.sub(r'\\([^)]*\\)', '', sentence) # 괄호로 닫힌 문자열 (...) 제거 Ex) my husband (and myself!) for => my husband for\n",
    "    sentence = re.sub('\"','', sentence) # 쌍따옴표 \" 제거\n",
    "    sentence = ' '.join([contractions[t] if t in contractions else t for t in sentence.split(\" \")]) # 약어 정규화\n",
    "    sentence = re.sub(r\"'s\\b\",\"\", sentence) # 소유격 제거. Ex) roland's -> roland\n",
    "    sentence = re.sub(\"[^a-zA-Z]\", \" \", sentence) # 영어 외 문자(숫자, 특수문자 등) 공백으로 변환\n",
    "    sentence = re.sub('[m]{2,}', 'mm', sentence) # m이 3개 이상이면 2개로 변경. Ex) ummmmmmm yeah -> umm yeah\n",
    "    \n",
    "    # 불용어 제거 (Text)\n",
    "    if remove_stopwords:\n",
    "        tokens = ' '.join(word for word in sentence.split() if not word in stopwords.words('english') if len(word) > 1)\n",
    "    # 불용어 미제거 (Summary)\n",
    "    else:\n",
    "        tokens = ' '.join(word for word in sentence.split() if len(word) > 1)\n",
    "    return tokens\n",
    "print('=3')"
   ]
  },
  {
   "cell_type": "code",
   "execution_count": 74,
   "id": "82a27f30",
   "metadata": {},
   "outputs": [
    {
     "name": "stdout",
     "output_type": "stream",
     "text": [
      "text:  everything bought great infact ordered twice third ordered wasfor mother father\n",
      "summary: great way to start the day\n"
     ]
    }
   ],
   "source": [
    "# 함수 확인\n",
    "temp_text = 'Everything I bought was great, infact I ordered twice and the third ordered was<br />for my mother and father.'\n",
    "temp_summary = 'Great way to start (or finish) the day!!!'\n",
    "\n",
    "print(\"text: \", preprocess_sentence(temp_text))\n",
    "print(\"summary:\", preprocess_sentence(temp_summary, False))  # 불용어를 제거하지 않습니다."
   ]
  },
  {
   "cell_type": "code",
   "execution_count": 76,
   "id": "4f215601",
   "metadata": {},
   "outputs": [
    {
     "name": "stdout",
     "output_type": "stream",
     "text": [
      "Text 전처리 후 결과:  ['saurav kant alumnus upgrad iiit pg program machine learning artificial intelligence sr systems engineer infosys almost years work experience program upgrad degree career support helped transition data scientist tech mahindra salary hike upgrad online power learning powered lakh careers', 'kunal shah credit card bill payment platform cred gave users chance win free food swiggy one year pranav kaushik delhi techie bagged reward spending cred coins users get one cred coin per rupee bill paid used avail rewards brands like ixigo bookmyshow ubereats cult fit', 'new zealand defeated india wickets fourth odi hamilton thursday win first match five match odi series india lost international match rohit sharma captaincy consecutive victories dating back march match witnessed india getting seventh lowest total odi cricket history', 'aegon life iterm insurance plan customers enjoy tax benefits premiums paid save taxes plan provides life cover age years also customers options insure critical illnesses disability accidental death benefit rider life cover age years', 'speaking sexual harassment allegations rajkumar hirani sonam kapoor said known hirani many years true metoo movement get derailed metoo movement always believe woman case need reserve judgment added hirani accused assistant worked sanju']\n"
     ]
    }
   ],
   "source": [
    "# Text의 경우 불용어 제거, Summary의 경우 제거하지 않음\n",
    "clean_text = []\n",
    "# 전체 Text 데이터에 대한 전처리 : 10분 이상 시간이 걸릴 수 있습니다. \n",
    "for s in data['text']:\n",
    "    clean_text.append(preprocess_sentence(s))\n",
    "\n",
    "# 전처리 후 출력\n",
    "print(\"Text 전처리 후 결과: \", clean_text[:5])"
   ]
  },
  {
   "cell_type": "code",
   "execution_count": 78,
   "id": "f0ef5bb9",
   "metadata": {},
   "outputs": [
    {
     "name": "stdout",
     "output_type": "stream",
     "text": [
      "Headline 전처리 후 결과:  ['upgrad learner switches to career in ml al with salary hike', 'delhi techie wins free food from swiggy for one year on cred', 'new zealand end rohit sharma led india match winning streak', 'aegon life iterm insurance plan helps customers save tax', 'have known hirani for yrs what if metoo claims are not true sonam']\n"
     ]
    }
   ],
   "source": [
    "clean_summary = []\n",
    "# 전체 Summary 데이터에 대한 전처리 : 5분 이상 시간이 걸릴 수 있습니다. \n",
    "for s in data['headlines']:\n",
    "    clean_summary.append(preprocess_sentence(s, False))\n",
    "\n",
    "print(\"Headline 전처리 후 결과: \", clean_summary[:5])"
   ]
  },
  {
   "cell_type": "code",
   "execution_count": 79,
   "id": "67f4d71d",
   "metadata": {},
   "outputs": [
    {
     "name": "stdout",
     "output_type": "stream",
     "text": [
      "=3\n"
     ]
    }
   ],
   "source": [
    "data['text'] = clean_text\n",
    "data['headlines'] = clean_summary\n",
    "\n",
    "# 빈 값을 Null 값으로 변환\n",
    "data.replace('', np.nan, inplace=True)\n",
    "print('=3')"
   ]
  },
  {
   "cell_type": "code",
   "execution_count": 17,
   "id": "79a4b70e",
   "metadata": {},
   "outputs": [
    {
     "data": {
      "text/plain": [
       "Text        0\n",
       "Summary    70\n",
       "dtype: int64"
      ]
     },
     "execution_count": 17,
     "metadata": {},
     "output_type": "execute_result"
    }
   ],
   "source": [
    "# 정제 과정에서 생긴 null 값 확인\n",
    "data.isnull().sum()"
   ]
  },
  {
   "cell_type": "code",
   "execution_count": 80,
   "id": "82341e1d",
   "metadata": {},
   "outputs": [
    {
     "name": "stdout",
     "output_type": "stream",
     "text": [
      "텍스트의 최소 길이 : 1\n",
      "텍스트의 최대 길이 : 60\n",
      "텍스트의 평균 길이 : 35.09968483123221\n",
      "요약의 최소 길이 : 1\n",
      "요약의 최대 길이 : 16\n",
      "요약의 평균 길이 : 9.299532330215534\n"
     ]
    },
    {
     "data": {
      "image/png": "[encoded data removed]",
      "text/plain": [
       "<Figure size 432x288 with 2 Axes>"
      ]
     },
     "metadata": {
      "needs_background": "light"
     },
     "output_type": "display_data"
    },
    {
     "data": {
      "image/png": "[encoded data removed]",
      "text/plain": [
       "<Figure size 432x288 with 1 Axes>"
      ]
     },
     "metadata": {
      "needs_background": "light"
     },
     "output_type": "display_data"
    },
    {
     "data": {
      "image/png": "[encoded data removed]",
      "text/plain": [
       "<Figure size 432x288 with 1 Axes>"
      ]
     },
     "metadata": {
      "needs_background": "light"
     },
     "output_type": "display_data"
    }
   ],
   "source": [
    "# 길이 분포 시각화\n",
    "import matplotlib.pyplot as plt\n",
    "\n",
    "text_len = [len(s.split()) for s in data['text']]\n",
    "summary_len = [len(s.split()) for s in data['headlines']]\n",
    "\n",
    "print('텍스트의 최소 길이 : {}'.format(np.min(text_len)))\n",
    "print('텍스트의 최대 길이 : {}'.format(np.max(text_len)))\n",
    "print('텍스트의 평균 길이 : {}'.format(np.mean(text_len)))\n",
    "print('요약의 최소 길이 : {}'.format(np.min(summary_len)))\n",
    "print('요약의 최대 길이 : {}'.format(np.max(summary_len)))\n",
    "print('요약의 평균 길이 : {}'.format(np.mean(summary_len)))\n",
    "\n",
    "plt.subplot(1,2,1)\n",
    "plt.boxplot(text_len)\n",
    "plt.title('Text')\n",
    "plt.subplot(1,2,2)\n",
    "plt.boxplot(summary_len)\n",
    "plt.title('Summary')\n",
    "plt.tight_layout()\n",
    "plt.show()\n",
    "\n",
    "plt.title('Text')\n",
    "plt.hist(text_len, bins = 40)\n",
    "plt.xlabel('length of samples')\n",
    "plt.ylabel('number of samples')\n",
    "plt.show()\n",
    "\n",
    "plt.title('Summary')\n",
    "plt.hist(summary_len, bins = 40)\n",
    "plt.xlabel('length of samples')\n",
    "plt.ylabel('number of samples')\n",
    "plt.show()"
   ]
  },
  {
   "cell_type": "code",
   "execution_count": 88,
   "id": "f306d689",
   "metadata": {},
   "outputs": [
    {
     "name": "stdout",
     "output_type": "stream",
     "text": [
      "=3\n"
     ]
    }
   ],
   "source": [
    "text_max_len = 40\n",
    "summary_max_len = 11\n",
    "print('=3')"
   ]
  },
  {
   "cell_type": "code",
   "execution_count": 89,
   "id": "60aa2694",
   "metadata": {},
   "outputs": [
    {
     "name": "stdout",
     "output_type": "stream",
     "text": [
      "=3\n"
     ]
    }
   ],
   "source": [
    "# 기준을 정했을 때 전체 데이터 샘플 중 포함할 수 있는 데이터 수\n",
    "def below_threshold_len(max_len, nested_list):\n",
    "  cnt = 0\n",
    "  for s in nested_list:\n",
    "    if(len(s.split()) <= max_len):\n",
    "        cnt = cnt + 1\n",
    "  print('전체 샘플 중 길이가 %s 이하인 샘플의 비율: %s'%(max_len, (cnt / len(nested_list))))\n",
    "print('=3')"
   ]
  },
  {
   "cell_type": "code",
   "execution_count": 90,
   "id": "150c3300",
   "metadata": {},
   "outputs": [
    {
     "name": "stdout",
     "output_type": "stream",
     "text": [
      "전체 샘플 중 길이가 40 이하인 샘플의 비율: 0.9238714924766165\n",
      "전체 샘플 중 길이가 11 이하인 샘플의 비율: 0.9449877999186661\n"
     ]
    }
   ],
   "source": [
    "below_threshold_len(text_max_len, data['text'])\n",
    "below_threshold_len(summary_max_len,  data['headlines'])"
   ]
  },
  {
   "cell_type": "code",
   "execution_count": 92,
   "id": "ea120ce1",
   "metadata": {},
   "outputs": [
    {
     "name": "stdout",
     "output_type": "stream",
     "text": [
      "전체 샘플수 : 85843\n"
     ]
    }
   ],
   "source": [
    "# 정해진 길이보다 긴 경우를 제외하는 식으로 데이터 정제\n",
    "data = data[data['text'].apply(lambda x: len(x.split()) <= text_max_len)]\n",
    "data = data[data['headlines'].apply(lambda x: len(x.split()) <= summary_max_len)]\n",
    "print('전체 샘플수 :', (len(data)))"
   ]
  },
  {
   "cell_type": "code",
   "execution_count": 96,
   "id": "9af33938",
   "metadata": {},
   "outputs": [
    {
     "data": {
      "text/html": [
       "<div>\n",
       "<style scoped>\n",
       "    .dataframe tbody tr th:only-of-type {\n",
       "        vertical-align: middle;\n",
       "    }\n",
       "\n",
       "    .dataframe tbody tr th {\n",
       "        vertical-align: top;\n",
       "    }\n",
       "\n",
       "    .dataframe thead th {\n",
       "        text-align: right;\n",
       "    }\n",
       "</style>\n",
       "<table border=\"1\" class=\"dataframe\">\n",
       "  <thead>\n",
       "    <tr style=\"text-align: right;\">\n",
       "      <th></th>\n",
       "      <th>headlines</th>\n",
       "      <th>text</th>\n",
       "      <th>decoder_input</th>\n",
       "      <th>decoder_target</th>\n",
       "    </tr>\n",
       "  </thead>\n",
       "  <tbody>\n",
       "    <tr>\n",
       "      <th>0</th>\n",
       "      <td>upgrad learner switches to career in ml al wit...</td>\n",
       "      <td>saurav kant alumnus upgrad iiit pg program mac...</td>\n",
       "      <td>sostoken upgrad learner switches to career in ...</td>\n",
       "      <td>upgrad learner switches to career in ml al wit...</td>\n",
       "    </tr>\n",
       "    <tr>\n",
       "      <th>2</th>\n",
       "      <td>new zealand end rohit sharma led india match w...</td>\n",
       "      <td>new zealand defeated india wickets fourth odi ...</td>\n",
       "      <td>sostoken new zealand end rohit sharma led indi...</td>\n",
       "      <td>new zealand end rohit sharma led india match w...</td>\n",
       "    </tr>\n",
       "    <tr>\n",
       "      <th>3</th>\n",
       "      <td>aegon life iterm insurance plan helps customer...</td>\n",
       "      <td>aegon life iterm insurance plan customers enjo...</td>\n",
       "      <td>sostoken aegon life iterm insurance plan helps...</td>\n",
       "      <td>aegon life iterm insurance plan helps customer...</td>\n",
       "    </tr>\n",
       "    <tr>\n",
       "      <th>5</th>\n",
       "      <td>rahat fateh ali khan denies getting notice for...</td>\n",
       "      <td>pakistani singer rahat fateh ali khan denied r...</td>\n",
       "      <td>sostoken rahat fateh ali khan denies getting n...</td>\n",
       "      <td>rahat fateh ali khan denies getting notice for...</td>\n",
       "    </tr>\n",
       "    <tr>\n",
       "      <th>7</th>\n",
       "      <td>govt directs alok verma to join work day befor...</td>\n",
       "      <td>weeks ex cbi director alok verma told departme...</td>\n",
       "      <td>sostoken govt directs alok verma to join work ...</td>\n",
       "      <td>govt directs alok verma to join work day befor...</td>\n",
       "    </tr>\n",
       "  </tbody>\n",
       "</table>\n",
       "</div>"
      ],
      "text/plain": [
       "                                           headlines  \\\n",
       "0  upgrad learner switches to career in ml al wit...   \n",
       "2  new zealand end rohit sharma led india match w...   \n",
       "3  aegon life iterm insurance plan helps customer...   \n",
       "5  rahat fateh ali khan denies getting notice for...   \n",
       "7  govt directs alok verma to join work day befor...   \n",
       "\n",
       "                                                text  \\\n",
       "0  saurav kant alumnus upgrad iiit pg program mac...   \n",
       "2  new zealand defeated india wickets fourth odi ...   \n",
       "3  aegon life iterm insurance plan customers enjo...   \n",
       "5  pakistani singer rahat fateh ali khan denied r...   \n",
       "7  weeks ex cbi director alok verma told departme...   \n",
       "\n",
       "                                       decoder_input  \\\n",
       "0  sostoken upgrad learner switches to career in ...   \n",
       "2  sostoken new zealand end rohit sharma led indi...   \n",
       "3  sostoken aegon life iterm insurance plan helps...   \n",
       "5  sostoken rahat fateh ali khan denies getting n...   \n",
       "7  sostoken govt directs alok verma to join work ...   \n",
       "\n",
       "                                      decoder_target  \n",
       "0  upgrad learner switches to career in ml al wit...  \n",
       "2  new zealand end rohit sharma led india match w...  \n",
       "3  aegon life iterm insurance plan helps customer...  \n",
       "5  rahat fateh ali khan denies getting notice for...  \n",
       "7  govt directs alok verma to join work day befor...  "
      ]
     },
     "execution_count": 96,
     "metadata": {},
     "output_type": "execute_result"
    }
   ],
   "source": [
    "# 요약 데이터에는 시작 토큰과 종료 토큰을 추가한다.\n",
    "data['decoder_input'] = data['headlines'].apply(lambda x : 'sostoken '+ x)\n",
    "data['decoder_target'] = data['headlines'].apply(lambda x : x + ' eostoken')\n",
    "data.head()"
   ]
  },
  {
   "cell_type": "code",
   "execution_count": 97,
   "id": "596c1f9f",
   "metadata": {},
   "outputs": [
    {
     "name": "stdout",
     "output_type": "stream",
     "text": [
      "=3\n"
     ]
    }
   ],
   "source": [
    "encoder_input = np.array(data['text']) # 인코더의 입력\n",
    "decoder_input = np.array(data['decoder_input']) # 디코더의 입력\n",
    "decoder_target = np.array(data['decoder_target']) # 디코더의 레이블\n",
    "print('=3')"
   ]
  },
  {
   "cell_type": "code",
   "execution_count": 98,
   "id": "800d2784",
   "metadata": {},
   "outputs": [
    {
     "name": "stdout",
     "output_type": "stream",
     "text": [
      "[66227 74831 48171 ... 31701 65869 46835]\n"
     ]
    }
   ],
   "source": [
    "# indices: encoder_input과 크기, 형태가 같은 랜덤 정수 sequence 생성\n",
    "indices = np.arange(encoder_input.shape[0])\n",
    "np.random.shuffle(indices)\n",
    "print(indices)"
   ]
  },
  {
   "cell_type": "code",
   "execution_count": 99,
   "id": "d67eaa84",
   "metadata": {},
   "outputs": [
    {
     "name": "stdout",
     "output_type": "stream",
     "text": [
      "=3\n"
     ]
    }
   ],
   "source": [
    "# 위의 정수 sequence를 이용해 다시 데이터의 샘플 순서를 정의함\n",
    "encoder_input = encoder_input[indices]\n",
    "decoder_input = decoder_input[indices]\n",
    "decoder_target = decoder_target[indices]\n",
    "print('=3')"
   ]
  },
  {
   "cell_type": "code",
   "execution_count": 100,
   "id": "dcd12351",
   "metadata": {},
   "outputs": [
    {
     "name": "stdout",
     "output_type": "stream",
     "text": [
      "테스트 데이터의 수 : 17168\n"
     ]
    }
   ],
   "source": [
    "# 8:2로 나누기 위해 테스트 데이터의 수 정하기\n",
    "n_of_val = int(len(encoder_input)*0.2)\n",
    "print('테스트 데이터의 수 :', n_of_val)"
   ]
  },
  {
   "cell_type": "code",
   "execution_count": 101,
   "id": "c51d4b81",
   "metadata": {},
   "outputs": [
    {
     "name": "stdout",
     "output_type": "stream",
     "text": [
      "훈련 데이터의 개수 : 68675\n",
      "훈련 레이블의 개수 : 68675\n",
      "테스트 데이터의 개수 : 17168\n",
      "테스트 레이블의 개수 : 17168\n"
     ]
    }
   ],
   "source": [
    "encoder_input_train = encoder_input[:-n_of_val]\n",
    "decoder_input_train = decoder_input[:-n_of_val]\n",
    "decoder_target_train = decoder_target[:-n_of_val]\n",
    "\n",
    "encoder_input_test = encoder_input[-n_of_val:]\n",
    "decoder_input_test = decoder_input[-n_of_val:]\n",
    "decoder_target_test = decoder_target[-n_of_val:]\n",
    "\n",
    "print('훈련 데이터의 개수 :', len(encoder_input_train))\n",
    "print('훈련 레이블의 개수 :', len(decoder_input_train))\n",
    "print('테스트 데이터의 개수 :', len(encoder_input_test))\n",
    "print('테스트 레이블의 개수 :', len(decoder_input_test))"
   ]
  },
  {
   "cell_type": "code",
   "execution_count": 102,
   "id": "baa078da",
   "metadata": {},
   "outputs": [
    {
     "name": "stdout",
     "output_type": "stream",
     "text": [
      "=3\n"
     ]
    }
   ],
   "source": [
    "# 단어집합 만들기 - 각 단어에 고유한 정수를 맵핑하는 과정\n",
    "# 토크나이저 설정\n",
    "src_tokenizer = Tokenizer() # 토크나이저 정의\n",
    "src_tokenizer.fit_on_texts(encoder_input_train) # 입력된 데이터로부터 단어 집합 생성\n",
    "print('=3')"
   ]
  },
  {
   "cell_type": "code",
   "execution_count": 103,
   "id": "6f12d0a9",
   "metadata": {},
   "outputs": [
    {
     "name": "stdout",
     "output_type": "stream",
     "text": [
      "단어 집합(vocabulary)의 크기 : 64724\n",
      "등장 빈도가 6번 이하인 희귀 단어의 수: 44199\n",
      "단어 집합에서 희귀 단어를 제외시킬 경우의 단어 집합의 크기 20525\n",
      "단어 집합에서 희귀 단어의 비율: 68.28842469563068\n",
      "전체 등장 빈도에서 희귀 단어 등장 빈도 비율: 3.7916717779579203\n"
     ]
    }
   ],
   "source": [
    "threshold = 7\n",
    "total_cnt = len(src_tokenizer.word_index) # 단어의 수\n",
    "rare_cnt = 0 # 등장 빈도수가 threshold보다 작은 단어의 개수를 카운트\n",
    "total_freq = 0 # 훈련 데이터의 전체 단어 빈도수 총 합\n",
    "rare_freq = 0 # 등장 빈도수가 threshold보다 작은 단어의 등장 빈도수의 총 합\n",
    "\n",
    "# 단어와 빈도수의 쌍(pair)을 key와 value로 받는다.\n",
    "for key, value in src_tokenizer.word_counts.items():\n",
    "    total_freq = total_freq + value\n",
    "\n",
    "    # 단어의 등장 빈도수가 threshold보다 작으면\n",
    "    if(value < threshold):\n",
    "        rare_cnt = rare_cnt + 1\n",
    "        rare_freq = rare_freq + value\n",
    "\n",
    "print('단어 집합(vocabulary)의 크기 :', total_cnt)\n",
    "print('등장 빈도가 %s번 이하인 희귀 단어의 수: %s'%(threshold - 1, rare_cnt))\n",
    "print('단어 집합에서 희귀 단어를 제외시킬 경우의 단어 집합의 크기 %s'%(total_cnt - rare_cnt))\n",
    "print(\"단어 집합에서 희귀 단어의 비율:\", (rare_cnt / total_cnt)*100)\n",
    "print(\"전체 등장 빈도에서 희귀 단어 등장 빈도 비율:\", (rare_freq / total_freq)*100)"
   ]
  },
  {
   "cell_type": "code",
   "execution_count": 104,
   "id": "6af91d8b",
   "metadata": {},
   "outputs": [
    {
     "name": "stdout",
     "output_type": "stream",
     "text": [
      "=3\n"
     ]
    }
   ],
   "source": [
    "src_vocab = 8000\n",
    "src_tokenizer = Tokenizer(num_words=src_vocab) # 단어 집합의 크기를 8,000으로 제한\n",
    "src_tokenizer.fit_on_texts(encoder_input_train) # 단어 집합 재생성\n",
    "print('=3')"
   ]
  },
  {
   "cell_type": "code",
   "execution_count": 105,
   "id": "9b7c1ba5",
   "metadata": {},
   "outputs": [
    {
     "name": "stdout",
     "output_type": "stream",
     "text": [
      "[[1424, 3271, 3086, 241, 18, 84, 95, 3119, 94, 3, 436, 760, 84, 85, 2442, 303, 905, 82, 2843, 535, 4252, 709, 391, 2442, 1933, 1110, 20, 712, 459, 1657, 344, 3086, 206, 35, 95, 94, 84], [3658, 2359, 1, 2681, 1702, 1546, 1244, 253, 419, 2360, 1702, 654, 260, 392, 6233, 3892, 4682, 1, 1781, 344, 1211, 3420, 277, 344, 1, 2359], [4776, 101, 56, 1, 165, 2026, 3797, 995, 5431, 2820, 159, 101, 40, 26, 8, 264, 640, 3719, 1938, 1723, 511, 1285, 159, 2820, 1461, 554, 3749, 689, 437]]\n"
     ]
    }
   ],
   "source": [
    "# 텍스트 시퀀스를 정수 시퀀스로 변환\n",
    "encoder_input_train = src_tokenizer.texts_to_sequences(encoder_input_train) \n",
    "encoder_input_test = src_tokenizer.texts_to_sequences(encoder_input_test)\n",
    "\n",
    "# 잘 진행되었는지 샘플 출력\n",
    "print(encoder_input_train[:3])"
   ]
  },
  {
   "cell_type": "code",
   "execution_count": 106,
   "id": "7363d0dc",
   "metadata": {},
   "outputs": [
    {
     "name": "stdout",
     "output_type": "stream",
     "text": [
      "=3\n"
     ]
    }
   ],
   "source": [
    "tar_tokenizer = Tokenizer()\n",
    "tar_tokenizer.fit_on_texts(decoder_input_train)\n",
    "print('=3')"
   ]
  },
  {
   "cell_type": "code",
   "execution_count": 107,
   "id": "0c5d09a5",
   "metadata": {},
   "outputs": [
    {
     "name": "stdout",
     "output_type": "stream",
     "text": [
      "단어 집합(vocabulary)의 크기 : 28451\n",
      "등장 빈도가 5번 이하인 희귀 단어의 수: 18736\n",
      "단어 집합에서 희귀 단어를 제외시킬 경우의 단어 집합의 크기 9715\n",
      "단어 집합에서 희귀 단어의 비율: 65.85357280939158\n",
      "전체 등장 빈도에서 희귀 단어 등장 빈도 비율: 5.1818115121636845\n"
     ]
    }
   ],
   "source": [
    "threshold = 6\n",
    "total_cnt = len(tar_tokenizer.word_index) # 단어의 수\n",
    "rare_cnt = 0 # 등장 빈도수가 threshold보다 작은 단어의 개수를 카운트\n",
    "total_freq = 0 # 훈련 데이터의 전체 단어 빈도수 총 합\n",
    "rare_freq = 0 # 등장 빈도수가 threshold보다 작은 단어의 등장 빈도수의 총 합\n",
    "\n",
    "# 단어와 빈도수의 쌍(pair)을 key와 value로 받는다.\n",
    "for key, value in tar_tokenizer.word_counts.items():\n",
    "    total_freq = total_freq + value\n",
    "\n",
    "    # 단어의 등장 빈도수가 threshold보다 작으면\n",
    "    if(value < threshold):\n",
    "        rare_cnt = rare_cnt + 1\n",
    "        rare_freq = rare_freq + value\n",
    "\n",
    "print('단어 집합(vocabulary)의 크기 :', total_cnt)\n",
    "print('등장 빈도가 %s번 이하인 희귀 단어의 수: %s'%(threshold - 1, rare_cnt))\n",
    "print('단어 집합에서 희귀 단어를 제외시킬 경우의 단어 집합의 크기 %s'%(total_cnt - rare_cnt))\n",
    "print(\"단어 집합에서 희귀 단어의 비율:\", (rare_cnt / total_cnt)*100)\n",
    "print(\"전체 등장 빈도에서 희귀 단어 등장 빈도 비율:\", (rare_freq / total_freq)*100)"
   ]
  },
  {
   "cell_type": "code",
   "execution_count": 108,
   "id": "ccd8db94",
   "metadata": {},
   "outputs": [
    {
     "name": "stdout",
     "output_type": "stream",
     "text": [
      "input\n",
      "input  [[1, 372, 1271, 4, 3, 134], [1, 800, 293, 7, 79, 82, 1595], [1, 399, 470, 37, 328], [1, 36, 29, 116, 593, 16, 4, 369], [1, 399, 4, 15]]\n",
      "target\n",
      "decoder  [[372, 1271, 4, 3, 134, 2], [800, 293, 7, 79, 82, 1595, 2], [399, 470, 37, 328, 2], [36, 29, 116, 593, 16, 4, 369, 2], [399, 4, 15, 2]]\n"
     ]
    }
   ],
   "source": [
    "tar_vocab = 2000\n",
    "tar_tokenizer = Tokenizer(num_words=tar_vocab) \n",
    "tar_tokenizer.fit_on_texts(decoder_input_train)\n",
    "tar_tokenizer.fit_on_texts(decoder_target_train)\n",
    "\n",
    "# 텍스트 시퀀스를 정수 시퀀스로 변환\n",
    "decoder_input_train = tar_tokenizer.texts_to_sequences(decoder_input_train) \n",
    "decoder_target_train = tar_tokenizer.texts_to_sequences(decoder_target_train)\n",
    "decoder_input_test = tar_tokenizer.texts_to_sequences(decoder_input_test)\n",
    "decoder_target_test = tar_tokenizer.texts_to_sequences(decoder_target_test)\n",
    "\n",
    "# 잘 변환되었는지 확인\n",
    "print('input')\n",
    "print('input ',decoder_input_train[:5])\n",
    "print('target')\n",
    "print('decoder ',decoder_target_train[:5])"
   ]
  },
  {
   "cell_type": "code",
   "execution_count": 109,
   "id": "00a73fa7",
   "metadata": {},
   "outputs": [
    {
     "name": "stdout",
     "output_type": "stream",
     "text": [
      "삭제할 훈련 데이터의 개수 : 12\n",
      "삭제할 테스트 데이터의 개수 : 0\n",
      "훈련 데이터의 개수 : 68663\n",
      "훈련 레이블의 개수 : 68663\n",
      "테스트 데이터의 개수 : 17168\n",
      "테스트 레이블의 개수 : 17168\n"
     ]
    }
   ],
   "source": [
    "drop_train = [index for index, sentence in enumerate(decoder_input_train) if len(sentence) == 1]\n",
    "drop_test = [index for index, sentence in enumerate(decoder_input_test) if len(sentence) == 1]\n",
    "\n",
    "print('삭제할 훈련 데이터의 개수 :', len(drop_train))\n",
    "print('삭제할 테스트 데이터의 개수 :', len(drop_test))\n",
    "\n",
    "encoder_input_train = [sentence for index, sentence in enumerate(encoder_input_train) if index not in drop_train]\n",
    "decoder_input_train = [sentence for index, sentence in enumerate(decoder_input_train) if index not in drop_train]\n",
    "decoder_target_train = [sentence for index, sentence in enumerate(decoder_target_train) if index not in drop_train]\n",
    "\n",
    "encoder_input_test = [sentence for index, sentence in enumerate(encoder_input_test) if index not in drop_test]\n",
    "decoder_input_test = [sentence for index, sentence in enumerate(decoder_input_test) if index not in drop_test]\n",
    "decoder_target_test = [sentence for index, sentence in enumerate(decoder_target_test) if index not in drop_test]\n",
    "\n",
    "print('훈련 데이터의 개수 :', len(encoder_input_train))\n",
    "print('훈련 레이블의 개수 :', len(decoder_input_train))\n",
    "print('테스트 데이터의 개수 :', len(encoder_input_test))\n",
    "print('테스트 레이블의 개수 :', len(decoder_input_test))"
   ]
  },
  {
   "cell_type": "code",
   "execution_count": 110,
   "id": "c57cc0a1",
   "metadata": {},
   "outputs": [
    {
     "name": "stdout",
     "output_type": "stream",
     "text": [
      "=3\n"
     ]
    }
   ],
   "source": [
    "encoder_input_train = pad_sequences(encoder_input_train, maxlen=text_max_len, padding='post')\n",
    "encoder_input_test = pad_sequences(encoder_input_test, maxlen=text_max_len, padding='post')\n",
    "decoder_input_train = pad_sequences(decoder_input_train, maxlen=summary_max_len, padding='post')\n",
    "decoder_target_train = pad_sequences(decoder_target_train, maxlen=summary_max_len, padding='post')\n",
    "decoder_input_test = pad_sequences(decoder_input_test, maxlen=summary_max_len, padding='post')\n",
    "decoder_target_test = pad_sequences(decoder_target_test, maxlen=summary_max_len, padding='post')\n",
    "print('=3')"
   ]
  },
  {
   "cell_type": "code",
   "execution_count": 111,
   "id": "42b8f984",
   "metadata": {},
   "outputs": [
    {
     "name": "stdout",
     "output_type": "stream",
     "text": [
      "WARNING:tensorflow:Layer lstm_4 will not use cuDNN kernels since it doesn't meet the criteria. It will use a generic GPU kernel as fallback when running on GPU.\n",
      "WARNING:tensorflow:Layer lstm_5 will not use cuDNN kernels since it doesn't meet the criteria. It will use a generic GPU kernel as fallback when running on GPU.\n",
      "WARNING:tensorflow:Layer lstm_6 will not use cuDNN kernels since it doesn't meet the criteria. It will use a generic GPU kernel as fallback when running on GPU.\n"
     ]
    }
   ],
   "source": [
    "# 어텐션 매커니즘 적용\n",
    "from tensorflow.keras.layers import Input, LSTM, Embedding, Dense, Concatenate, TimeDistributed\n",
    "from tensorflow.keras.models import Model\n",
    "from tensorflow.keras.callbacks import EarlyStopping, ModelCheckpoint\n",
    "\n",
    "\n",
    "# 인코더 설계 시작\n",
    "embedding_dim = 128\n",
    "hidden_size = 256\n",
    "\n",
    "# 인코더\n",
    "encoder_inputs = Input(shape=(text_max_len,))\n",
    "\n",
    "# 인코더의 임베딩 층\n",
    "enc_emb = Embedding(src_vocab, embedding_dim)(encoder_inputs)\n",
    "\n",
    "# 인코더의 LSTM 1\n",
    "encoder_lstm1 = LSTM(hidden_size, return_sequences=True, return_state=True ,dropout = 0.4, recurrent_dropout = 0.4)\n",
    "encoder_output1, state_h1, state_c1 = encoder_lstm1(enc_emb)\n",
    "\n",
    "# 인코더의 LSTM 2\n",
    "encoder_lstm2 = LSTM(hidden_size, return_sequences=True, return_state=True, dropout=0.4, recurrent_dropout=0.4)\n",
    "encoder_output2, state_h2, state_c2 = encoder_lstm2(encoder_output1)\n",
    "\n",
    "# 인코더의 LSTM 3\n",
    "encoder_lstm3 = LSTM(hidden_size, return_state=True, return_sequences=True, dropout=0.4, recurrent_dropout=0.4)\n",
    "encoder_outputs, state_h, state_c= encoder_lstm3(encoder_output2)"
   ]
  },
  {
   "cell_type": "code",
   "execution_count": 112,
   "id": "00390d90",
   "metadata": {},
   "outputs": [
    {
     "name": "stdout",
     "output_type": "stream",
     "text": [
      "WARNING:tensorflow:Layer lstm_7 will not use cuDNN kernels since it doesn't meet the criteria. It will use a generic GPU kernel as fallback when running on GPU.\n"
     ]
    }
   ],
   "source": [
    "# 디코더 설계\n",
    "decoder_inputs = Input(shape=(None,))\n",
    "\n",
    "# 디코더의 임베딩 층\n",
    "dec_emb_layer = Embedding(tar_vocab, embedding_dim)\n",
    "dec_emb = dec_emb_layer(decoder_inputs)\n",
    "\n",
    "# 디코더의 LSTM\n",
    "decoder_lstm = LSTM(hidden_size, return_sequences=True, return_state=True, dropout=0.4, recurrent_dropout=0.2)\n",
    "decoder_outputs, _, _ = decoder_lstm(dec_emb, initial_state=[state_h, state_c])"
   ]
  },
  {
   "cell_type": "code",
   "execution_count": 113,
   "id": "a5278ef7",
   "metadata": {},
   "outputs": [
    {
     "name": "stdout",
     "output_type": "stream",
     "text": [
      "Model: \"model_4\"\n",
      "__________________________________________________________________________________________________\n",
      "Layer (type)                    Output Shape         Param #     Connected to                     \n",
      "==================================================================================================\n",
      "input_6 (InputLayer)            [(None, 40)]         0                                            \n",
      "__________________________________________________________________________________________________\n",
      "embedding_2 (Embedding)         (None, 40, 128)      1024000     input_6[0][0]                    \n",
      "__________________________________________________________________________________________________\n",
      "lstm_4 (LSTM)                   [(None, 40, 256), (N 394240      embedding_2[0][0]                \n",
      "__________________________________________________________________________________________________\n",
      "input_7 (InputLayer)            [(None, None)]       0                                            \n",
      "__________________________________________________________________________________________________\n",
      "lstm_5 (LSTM)                   [(None, 40, 256), (N 525312      lstm_4[0][0]                     \n",
      "__________________________________________________________________________________________________\n",
      "embedding_3 (Embedding)         (None, None, 128)    256000      input_7[0][0]                    \n",
      "__________________________________________________________________________________________________\n",
      "lstm_6 (LSTM)                   [(None, 40, 256), (N 525312      lstm_5[0][0]                     \n",
      "__________________________________________________________________________________________________\n",
      "lstm_7 (LSTM)                   [(None, None, 256),  394240      embedding_3[0][0]                \n",
      "                                                                 lstm_6[0][1]                     \n",
      "                                                                 lstm_6[0][2]                     \n",
      "__________________________________________________________________________________________________\n",
      "dense_2 (Dense)                 (None, None, 2000)   514000      lstm_7[0][0]                     \n",
      "==================================================================================================\n",
      "Total params: 3,633,104\n",
      "Trainable params: 3,633,104\n",
      "Non-trainable params: 0\n",
      "__________________________________________________________________________________________________\n"
     ]
    }
   ],
   "source": [
    "# 디코더의 출력층\n",
    "decoder_softmax_layer = Dense(tar_vocab, activation='softmax')\n",
    "decoder_softmax_outputs = decoder_softmax_layer(decoder_outputs) \n",
    "\n",
    "# 모델 정의\n",
    "model = Model([encoder_inputs, decoder_inputs], decoder_softmax_outputs)\n",
    "model.summary()"
   ]
  },
  {
   "cell_type": "code",
   "execution_count": 114,
   "id": "a75ac6dc",
   "metadata": {},
   "outputs": [
    {
     "name": "stdout",
     "output_type": "stream",
     "text": [
      "Model: \"model_5\"\n",
      "__________________________________________________________________________________________________\n",
      "Layer (type)                    Output Shape         Param #     Connected to                     \n",
      "==================================================================================================\n",
      "input_6 (InputLayer)            [(None, 40)]         0                                            \n",
      "__________________________________________________________________________________________________\n",
      "embedding_2 (Embedding)         (None, 40, 128)      1024000     input_6[0][0]                    \n",
      "__________________________________________________________________________________________________\n",
      "lstm_4 (LSTM)                   [(None, 40, 256), (N 394240      embedding_2[0][0]                \n",
      "__________________________________________________________________________________________________\n",
      "input_7 (InputLayer)            [(None, None)]       0                                            \n",
      "__________________________________________________________________________________________________\n",
      "lstm_5 (LSTM)                   [(None, 40, 256), (N 525312      lstm_4[0][0]                     \n",
      "__________________________________________________________________________________________________\n",
      "embedding_3 (Embedding)         (None, None, 128)    256000      input_7[0][0]                    \n",
      "__________________________________________________________________________________________________\n",
      "lstm_6 (LSTM)                   [(None, 40, 256), (N 525312      lstm_5[0][0]                     \n",
      "__________________________________________________________________________________________________\n",
      "lstm_7 (LSTM)                   [(None, None, 256),  394240      embedding_3[0][0]                \n",
      "                                                                 lstm_6[0][1]                     \n",
      "                                                                 lstm_6[0][2]                     \n",
      "__________________________________________________________________________________________________\n",
      "attention_layer (AdditiveAttent (None, None, 256)    256         lstm_7[0][0]                     \n",
      "                                                                 lstm_6[0][0]                     \n",
      "__________________________________________________________________________________________________\n",
      "concat_layer (Concatenate)      (None, None, 512)    0           lstm_7[0][0]                     \n",
      "                                                                 attention_layer[0][0]            \n",
      "__________________________________________________________________________________________________\n",
      "dense_3 (Dense)                 (None, None, 2000)   1026000     concat_layer[0][0]               \n",
      "==================================================================================================\n",
      "Total params: 4,145,360\n",
      "Trainable params: 4,145,360\n",
      "Non-trainable params: 0\n",
      "__________________________________________________________________________________________________\n"
     ]
    }
   ],
   "source": [
    "from tensorflow.keras.layers import AdditiveAttention\n",
    "\n",
    "# 어텐션 층(어텐션 함수)\n",
    "attn_layer = AdditiveAttention(name='attention_layer')\n",
    "\n",
    "# 인코더와 디코더의 모든 time step의 hidden state를 어텐션 층에 전달하고 결과를 리턴\n",
    "attn_out = attn_layer([decoder_outputs, encoder_outputs])\n",
    "\n",
    "\n",
    "# 어텐션의 결과와 디코더의 hidden state들을 연결\n",
    "decoder_concat_input = Concatenate(axis=-1, name='concat_layer')([decoder_outputs, attn_out])\n",
    "\n",
    "# 디코더의 출력층\n",
    "decoder_softmax_layer = Dense(tar_vocab, activation='softmax')\n",
    "decoder_softmax_outputs = decoder_softmax_layer(decoder_concat_input)\n",
    "\n",
    "# 모델 정의\n",
    "model = Model([encoder_inputs, decoder_inputs], decoder_softmax_outputs)\n",
    "model.summary()"
   ]
  },
  {
   "cell_type": "code",
   "execution_count": 115,
   "id": "0fa7cec4",
   "metadata": {},
   "outputs": [
    {
     "name": "stdout",
     "output_type": "stream",
     "text": [
      "Epoch 1/50\n",
      "269/269 [==============================] - 157s 553ms/step - loss: 4.1855 - val_loss: 3.8901\n",
      "Epoch 2/50\n",
      "269/269 [==============================] - 146s 543ms/step - loss: 3.7113 - val_loss: 3.5055\n",
      "Epoch 3/50\n",
      "269/269 [==============================] - 145s 538ms/step - loss: 3.3997 - val_loss: 3.3106\n",
      "Epoch 4/50\n",
      "269/269 [==============================] - 145s 539ms/step - loss: 3.2118 - val_loss: 3.1764\n",
      "Epoch 5/50\n",
      "269/269 [==============================] - 144s 535ms/step - loss: 3.0707 - val_loss: 3.0787\n",
      "Epoch 6/50\n",
      "269/269 [==============================] - 144s 534ms/step - loss: 2.9514 - val_loss: 2.9774\n",
      "Epoch 7/50\n",
      "269/269 [==============================] - 147s 546ms/step - loss: 2.8494 - val_loss: 2.9147\n",
      "Epoch 8/50\n",
      "269/269 [==============================] - 144s 536ms/step - loss: 2.7596 - val_loss: 2.8607\n",
      "Epoch 9/50\n",
      "269/269 [==============================] - 148s 549ms/step - loss: 2.6808 - val_loss: 2.8114\n",
      "Epoch 10/50\n",
      "269/269 [==============================] - 144s 536ms/step - loss: 2.6133 - val_loss: 2.7747\n",
      "Epoch 11/50\n",
      "269/269 [==============================] - 143s 533ms/step - loss: 2.5499 - val_loss: 2.7374\n",
      "Epoch 12/50\n",
      "269/269 [==============================] - 144s 534ms/step - loss: 2.4954 - val_loss: 2.7243\n",
      "Epoch 13/50\n",
      "269/269 [==============================] - 145s 538ms/step - loss: 2.4453 - val_loss: 2.6884\n",
      "Epoch 14/50\n",
      "269/269 [==============================] - 143s 532ms/step - loss: 2.3981 - val_loss: 2.6843\n",
      "Epoch 15/50\n",
      "269/269 [==============================] - 145s 538ms/step - loss: 2.3558 - val_loss: 2.6743\n",
      "Epoch 16/50\n",
      "269/269 [==============================] - 144s 537ms/step - loss: 2.3163 - val_loss: 2.6525\n",
      "Epoch 17/50\n",
      "269/269 [==============================] - 143s 533ms/step - loss: 2.2804 - val_loss: 2.6469\n",
      "Epoch 18/50\n",
      "269/269 [==============================] - 144s 535ms/step - loss: 2.2458 - val_loss: 2.6406\n",
      "Epoch 19/50\n",
      "269/269 [==============================] - 145s 538ms/step - loss: 2.2149 - val_loss: 2.6226\n",
      "Epoch 20/50\n",
      "269/269 [==============================] - 144s 534ms/step - loss: 2.1834 - val_loss: 2.6207\n",
      "Epoch 21/50\n",
      "269/269 [==============================] - 144s 534ms/step - loss: 2.1558 - val_loss: 2.6205\n",
      "Epoch 22/50\n",
      "269/269 [==============================] - 145s 538ms/step - loss: 2.1298 - val_loss: 2.6123\n",
      "Epoch 23/50\n",
      "269/269 [==============================] - 144s 536ms/step - loss: 2.1029 - val_loss: 2.6076\n",
      "Epoch 24/50\n",
      "269/269 [==============================] - 144s 535ms/step - loss: 2.0790 - val_loss: 2.6193\n",
      "Epoch 25/50\n",
      "269/269 [==============================] - 144s 534ms/step - loss: 2.0564 - val_loss: 2.6136\n",
      "Epoch 00025: early stopping\n"
     ]
    }
   ],
   "source": [
    "model.compile(optimizer='rmsprop', loss='sparse_categorical_crossentropy')\n",
    "es = EarlyStopping(monitor='val_loss', patience=2, verbose=1)\n",
    "history = model.fit(x=[encoder_input_train, decoder_input_train], y=decoder_target_train, \\\n",
    "          validation_data=([encoder_input_test, decoder_input_test], decoder_target_test), \\\n",
    "          batch_size=256, callbacks=[es], epochs=50)"
   ]
  },
  {
   "cell_type": "code",
   "execution_count": 116,
   "id": "cf74528f",
   "metadata": {},
   "outputs": [
    {
     "data": {
      "image/png": "[encoded data removed]",
      "text/plain": [
       "<Figure size 432x288 with 1 Axes>"
      ]
     },
     "metadata": {
      "needs_background": "light"
     },
     "output_type": "display_data"
    }
   ],
   "source": [
    "plt.plot(history.history['loss'], label='train')\n",
    "plt.plot(history.history['val_loss'], label='test')\n",
    "plt.legend()\n",
    "plt.show()"
   ]
  },
  {
   "cell_type": "code",
   "execution_count": 117,
   "id": "53a2c570",
   "metadata": {},
   "outputs": [
    {
     "name": "stdout",
     "output_type": "stream",
     "text": [
      "=3\n"
     ]
    }
   ],
   "source": [
    "src_index_to_word = src_tokenizer.index_word # 원문 단어 집합에서 정수 -> 단어를 얻음\n",
    "tar_word_to_index = tar_tokenizer.word_index # 요약 단어 집합에서 단어 -> 정수를 얻음\n",
    "tar_index_to_word = tar_tokenizer.index_word # 요약 단어 집합에서 정수 -> 단어를 얻음\n",
    "\n",
    "print('=3')"
   ]
  },
  {
   "cell_type": "code",
   "execution_count": 118,
   "id": "10994877",
   "metadata": {},
   "outputs": [
    {
     "name": "stdout",
     "output_type": "stream",
     "text": [
      "=3\n"
     ]
    }
   ],
   "source": [
    "# 인코더 설계\n",
    "encoder_model = Model(inputs=encoder_inputs, outputs=[encoder_outputs, state_h, state_c])\n",
    "\n",
    "# 이전 시점의 상태들을 저장하는 텐서\n",
    "decoder_state_input_h = Input(shape=(hidden_size,))\n",
    "decoder_state_input_c = Input(shape=(hidden_size,))\n",
    "\n",
    "dec_emb2 = dec_emb_layer(decoder_inputs)\n",
    "\n",
    "# 문장의 다음 단어를 예측하기 위해서 초기 상태(initial_state)를 이전 시점의 상태로 사용. 이는 뒤의 함수 decode_sequence()에 구현\n",
    "# 훈련 과정에서와 달리 LSTM의 리턴하는 은닉 상태와 셀 상태인 state_h와 state_c를 버리지 않음.\n",
    "decoder_outputs2, state_h2, state_c2 = decoder_lstm(dec_emb2, initial_state=[decoder_state_input_h, decoder_state_input_c])\n",
    "\n",
    "print('=3')"
   ]
  },
  {
   "cell_type": "code",
   "execution_count": 119,
   "id": "7092de78",
   "metadata": {},
   "outputs": [
    {
     "name": "stdout",
     "output_type": "stream",
     "text": [
      "=3\n"
     ]
    }
   ],
   "source": [
    "# 어텐션 함수\n",
    "decoder_hidden_state_input = Input(shape=(text_max_len, hidden_size))\n",
    "attn_out_inf = attn_layer([decoder_outputs2, decoder_hidden_state_input])\n",
    "decoder_inf_concat = Concatenate(axis=-1, name='concat')([decoder_outputs2, attn_out_inf])\n",
    "\n",
    "# 디코더의 출력층\n",
    "decoder_outputs2 = decoder_softmax_layer(decoder_inf_concat) \n",
    "\n",
    "# 최종 디코더 모델\n",
    "decoder_model = Model(\n",
    "    [decoder_inputs] + [decoder_hidden_state_input,decoder_state_input_h, decoder_state_input_c],\n",
    "    [decoder_outputs2] + [state_h2, state_c2])\n",
    "\n",
    "print('=3')"
   ]
  },
  {
   "cell_type": "code",
   "execution_count": 120,
   "id": "26b791d7",
   "metadata": {},
   "outputs": [
    {
     "name": "stdout",
     "output_type": "stream",
     "text": [
      "=3\n"
     ]
    }
   ],
   "source": [
    "def decode_sequence(input_seq):\n",
    "    # 입력으로부터 인코더의 상태를 얻음\n",
    "    e_out, e_h, e_c = encoder_model.predict(input_seq)\n",
    "\n",
    "     # <SOS>에 해당하는 토큰 생성\n",
    "    target_seq = np.zeros((1,1))\n",
    "    target_seq[0, 0] = tar_word_to_index['sostoken']\n",
    "\n",
    "    stop_condition = False\n",
    "    decoded_sentence = ''\n",
    "    while not stop_condition: # stop_condition이 True가 될 때까지 루프 반복\n",
    "\n",
    "        output_tokens, h, c = decoder_model.predict([target_seq] + [e_out, e_h, e_c])\n",
    "        sampled_token_index = np.argmax(output_tokens[0, -1, :])\n",
    "        sampled_token = tar_index_to_word[sampled_token_index]\n",
    "\n",
    "        if (sampled_token!='eostoken'):\n",
    "            decoded_sentence += ' '+sampled_token\n",
    "\n",
    "        #  <eos>에 도달하거나 최대 길이를 넘으면 중단.\n",
    "        if (sampled_token == 'eostoken'  or len(decoded_sentence.split()) >= (summary_max_len-1)):\n",
    "            stop_condition = True\n",
    "\n",
    "        # 길이가 1인 타겟 시퀀스를 업데이트\n",
    "        target_seq = np.zeros((1,1))\n",
    "        target_seq[0, 0] = sampled_token_index\n",
    "\n",
    "        # 상태를 업데이트 합니다.\n",
    "        e_h, e_c = h, c\n",
    "\n",
    "    return decoded_sentence\n",
    "print('=3')"
   ]
  },
  {
   "cell_type": "code",
   "execution_count": 121,
   "id": "b278cabd",
   "metadata": {},
   "outputs": [
    {
     "name": "stdout",
     "output_type": "stream",
     "text": [
      "=3\n"
     ]
    }
   ],
   "source": [
    "# 원문의 정수 시퀀스를 텍스트 시퀀스로 변환\n",
    "def seq2text(input_seq):\n",
    "    temp=''\n",
    "    for i in input_seq:\n",
    "        if (i!=0):\n",
    "            temp = temp + src_index_to_word[i]+' '\n",
    "    return temp\n",
    "\n",
    "# 요약문의 정수 시퀀스를 텍스트 시퀀스로 변환\n",
    "def seq2summary(input_seq):\n",
    "    temp=''\n",
    "    for i in input_seq:\n",
    "        if ((i!=0 and i!=tar_word_to_index['sostoken']) and i!=tar_word_to_index['eostoken']):\n",
    "            temp = temp + tar_index_to_word[i] + ' '\n",
    "    return temp\n",
    "\n",
    "print('=3')"
   ]
  },
  {
   "cell_type": "code",
   "execution_count": 122,
   "id": "fb61c107",
   "metadata": {},
   "outputs": [
    {
     "name": "stdout",
     "output_type": "stream",
     "text": [
      "원문 : hollywood actor ex wwe wrestler dwayne rock johnson revealed carries around gym equipment wherever johnson thanked crew instagram setting gym calls iron every location films johnson posted video last day shooting \n",
      "실제 요약 : with kg of \n",
      "예측 요약 :  once once at once\n",
      "\n",
      "\n",
      "원문 : official handle indian football team shared picture puja west bengal based theme indian world cup squad football becomes religion puja themed wc west bengal boys pictures read caption \n",
      "실제 요약 : india wc squad in \n",
      "예측 요약 :  fan who yoga fan win wc win\n",
      "\n",
      "\n",
      "원문 : argentina football captain lionel messi statue capital knocked second time year photographs posted social media showed sculpture chopped lying january statue cut waist city government \n",
      "실제 요약 : messi statue in home country for nd time this yr \n",
      "예측 요약 :  messi statue in\n",
      "\n",
      "\n",
      "원문 : japanese conglomerate softbank invested million american co working startup wework startup billion earlier reports suggested softbank planning invest total billion wework founded wework offices small businesses people seeking temporary working space \n",
      "실제 요약 : softbank invests mn in co working space startup \n",
      "예측 요약 :  softbank invests mn in startup for mn\n",
      "\n",
      "\n",
      "원문 : became first indian man win asian marathon championship achieved feat th edition event sunday hours minutes seconds clinch gold medal bagged silver medal bronze \n",
      "실제 요약 : st indian man to win asian ship \n",
      "예측 요약 :  wins asiad wins gold at asiad\n",
      "\n",
      "\n",
      "원문 : asked still best person lead facebook company ceo mark zuckerberg answered yes think anyone going perfect life learning mistakes need move forward zuckerberg added statement comes facebook users data exploited \n",
      "실제 요약 : zuckerberg says he is still the best person to lead facebook \n",
      "예측 요약 :  facebook is not facebook ceo\n",
      "\n",
      "\n",
      "원문 : filmmaker ram gopal varma twitter took dig filmmaker anurag kashyap company films queen created various number people company created one single king read one varma tweets comes vikas bahl co founder company accused sexual harassment recently \n",
      "실제 요약 : takes dig at films on twitter \n",
      "예측 요약 :  reveals he is the music\n",
      "\n",
      "\n",
      "원문 : pdp chief mehbooba mufti friday stated despite knowing alliance bjp pdp put everything stake party talks separatists thought modi reach pakistan jammu kashmir people said father wanted political process started vajpayee ji taken forward pm modi added \n",
      "실제 요약 : knew with bjp was yet all \n",
      "예측 요약 :  bjp has interest in india interest in pak bjp\n",
      "\n",
      "\n",
      "원문 : walmart foundation announced invest crore support sustainable indian farmers next five years money used develop knowledge sustainable farming practices business practices access finance markets walmart would also increase direct farmers produce sold stores \n",
      "실제 요약 : walmart to invest crore to support farmers in india \n",
      "예측 요약 :  walmart to invest crore in india in\n",
      "\n",
      "\n",
      "원문 : least girls rescued missing shelter home uttar pradesh one girls escaped home informed police girls treated like servants shelter home director husband arrested home license revoked investigation \n",
      "실제 요약 : girls rescued from up shelter home after \n",
      "예측 요약 :  rescued from shelter home girls in bihar\n",
      "\n",
      "\n",
      "원문 : amazon founder ceo jeff bezos said wednesday plans sell billion worth amazon stock every year fund aerospace startup blue origin bezos currently world second richest person net worth billion bezos aerospace startup aiming ready capsule take tourists space \n",
      "실제 요약 : bezos to sell bn amazon stock year for his space startup \n",
      "예측 요약 :  amazon adds bn to sell value in bezos\n",
      "\n",
      "\n",
      "원문 : actor rana speaking hyderabad drug racket case said actors taking drugs adults worried school children taking drugs youngsters mind drugs added rana said something needs taken seriously \n",
      "실제 요약 : do not if actors take drugs but kids \n",
      "예측 요약 :  drug drug drugs drugs drugs notice to drug abuse\n",
      "\n",
      "\n",
      "원문 : human rights watch called argentina investigate saudi crown prince mohammed bin salman possible war crimes yemen murder journalist jamal khashoggi universal clause constitution argentina war crimes committed crown prince scheduled visit argentina summit week \n",
      "실제 요약 : probe saudi prince for war human rights watch \n",
      "예측 요약 :  saudi arabia prince to isis\n",
      "\n",
      "\n",
      "원문 : man three women kuwait sent back dubai delhi airport monday refusing women faces identification even presence female officials man allegedly drunk initially refused fill immigration forms also tried damage immigration counter deported dubai \n",
      "실제 요약 : passengers to remove sent back to dubai \n",
      "예측 요약 :  man women women at airport airport\n",
      "\n",
      "\n",
      "원문 : pollution led lakh deaths india report stated pollution coal power plants accounted deaths caused pollution industries total lakh deaths recorded country due air pollution year according report \n",
      "실제 요약 : pollution killed across india in study \n",
      "예측 요약 :  air india most cities in cities study\n",
      "\n",
      "\n",
      "원문 : american researchers discovered drug remove toxic build ups protein mice brain reverse affects million people worldwide trials mice disease revealed drug helped improve memory tests reverse related disease \n",
      "실제 요약 : drug loss in study \n",
      "예측 요약 :  scientists develop world first ever\n",
      "\n",
      "\n",
      "원문 : microsoft ceo satya nadella wednesday said technology sector ensure future george novel come true book features government controls citizens technology future going choices developers make nadella added \n",
      "실제 요약 : it is up to us to prevent future like microsoft ceo \n",
      "예측 요약 :  microsoft to get to\n",
      "\n",
      "\n",
      "원문 : leading wicket taker ongoing indian premier league bhuvneshwar kumar termed sunrisers hyderabad captain david warner bowler captain never happened asked particular field given knows us time kumar added \n",
      "실제 요약 : kumar warner as bowler captain \n",
      "예측 요약 :  was not to be\n",
      "\n",
      "\n",
      "원문 : pm narendra modi sunday inaugurated km long elevated section delhi metro green line link capital also known haryana third place haryana brought delhi metro network gurugram trains service section seven stations \n",
      "실제 요약 : pm modi opens metro delhi to to haryana \n",
      "예측 요약 :  pm modi to get metro metro\n",
      "\n",
      "\n",
      "원문 : year old japanese official working bureau suffered half day pay cut taking lunch break around minutes early times seven months worker violated public service law work bureau said even called press conference apologised worker misconduct \n",
      "실제 요약 : japan worker pay cut for taking break minutes early \n",
      "예측 요약 :  japan firm employees to pay for minutes\n",
      "\n",
      "\n",
      "원문 : first screening akshay kumar sonam kapoor radhika apte starrer pad man held school children gujarat tweeting picture gujarat cm vijay rupani state minister also attended screening akshay thanked support film film scheduled release february \n",
      "실제 요약 : man st held for school children in gujarat \n",
      "예측 요약 :  akshay kumar man in toilet as toilet\n",
      "\n",
      "\n",
      "원문 : video sharing platform youtube testing mode android app users access option account picture top right corner app turn available mode switched users activity recorded also remain \n",
      "실제 요약 : youtube tests in android app \n",
      "예측 요약 :  youtube tests app to let users\n",
      "\n",
      "\n",
      "원문 : year old pakistani model saturday found dead husband residence lahore body found hanging ceiling fan mother revealed mental stress scheduled meet cannot confirm stage whether committed suicide murdered said police \n",
      "실제 요약 : year old pakistani model found dead at her \n",
      "예측 요약 :  pak man kills kids to death for killing\n",
      "\n",
      "\n",
      "원문 : actor ranveer singh said big sometimes even formal able control verbal said talking bollywood actors watching football matches added abhishek bachchan arjun kapoor big chelsea fans go back \n",
      "실제 요약 : am to control my ranveer singh \n",
      "예측 요약 :  ranveer me like ranveer\n",
      "\n",
      "\n",
      "원문 : attempt prevent national carrier air india airline unions subsidiaries wearing save air india april revealed notice addressed air india top management earlier several air india employees held lunch hour protest meeting sale airline private players \n",
      "실제 요약 : to wear save air india against \n",
      "예측 요약 :  air india to get business to air india\n",
      "\n",
      "\n",
      "원문 : apple thursday announced investing billion build new campus texas acre campus accommodate initial employees total capacity employees apple also invest billion data centres part five year investment aimed creating jobs us \n",
      "실제 요약 : apple to build new billion in us \n",
      "예측 요약 :  apple to invest billion in us\n",
      "\n",
      "\n",
      "원문 : centre supplied one lakh plastic bullets filled security forces jammu kashmir control violent valley earlier supreme court asked centre consider effective means guns check stone pelting cause extensive injuries \n",
      "실제 요약 : govt sends lakh plastic to \n",
      "예측 요약 :  govt bans use of plastic in\n",
      "\n",
      "\n",
      "원문 : five time world chess champion anand crashed second round chess world cup georgia anand playing first chess world cup years lost canadian tournament thursday anand missed chance directly qualify candidates tournament \n",
      "실제 요약 : five time champion anand out of world cup \n",
      "예측 요약 :  world no player to win world cup title\n",
      "\n",
      "\n",
      "원문 : american singer perry revealed depression failure album witness heart broken last year put much validity reaction public public react way expected added \n",
      "실제 요약 : had of over failure of my \n",
      "예측 요약 :  was told cancer cancer\n",
      "\n",
      "\n",
      "원문 : many congress workers detained friday protesting outside rajkot residence karnataka governor gujarat police said protesting decision inviting bjp prove majority instead inviting congress jd alliance form government karnataka protestors called act democracy \n",
      "실제 요약 : cong workers protest outside taka guv house detained \n",
      "예측 요약 :  congress workers workers demand to take action against cong\n",
      "\n",
      "\n",
      "원문 : congress president rahul gandhi saturday called reservation youths positions party bodies congress already reservation women reservation scheduled castes reports said quota youth would meaning among women sc youth reports added \n",
      "실제 요약 : rahul gandhi calls for for youth in congress \n",
      "예측 요약 :  cong to give to women in lok sabha\n",
      "\n",
      "\n",
      "원문 : punjab cm amarinder singh thursday took twitter share pictures indian woman cricketer harmanpreet kaur first day deputy superintendent police lady done us proud confident continue best wishes cm singh wrote kaur awarded post performance women world cup \n",
      "실제 요약 : indian cricketer joins punjab police as \n",
      "예측 요약 :  punjab cm meets mother on his day\n",
      "\n",
      "\n",
      "원문 : ministry home affairs issued statement saying media reports claiming special police officers jammu kashmir resigned based propaganda elements also said state police confirmed reports motivated earlier day terrorists abducted murdered three shopian district \n",
      "실제 요약 : reports of government \n",
      "예측 요약 :  govt seeks report on info on info on\n",
      "\n",
      "\n",
      "원문 : viral picture justin bieber eating revealed youtube channel yes theory channel hired bieber gave took pictures eat uploaded reddit make viral \n",
      "실제 요약 : pic of eating was with \n",
      "예측 요약 :  picture of with\n",
      "\n",
      "\n",
      "원문 : unicef representative india dr ali said indian government banned advertisements certain time frame condoms adding tv space creating awareness condoms said main question reaching people need \n",
      "실제 요약 : ban on not envoy in india \n",
      "예측 요약 :  malaysia bans ads from social media\n",
      "\n",
      "\n",
      "원문 : least indians sought asylum us last year un refugee agency said revealed annual global trends report us received largest number asylum requests highest number claims filed afghan nationals wars violence led million people globally \n",
      "실제 요약 : indians in the us in un \n",
      "예측 요약 :  us seeks us on list of\n",
      "\n",
      "\n",
      "원문 : harry potter handwritten author stolen uk word long originally sold charity auction please buy offered originally auctioned owner supported writers bidding tweeted \n",
      "실제 요약 : harry story on by stolen \n",
      "예측 요약 :  uk woman wins lakh for lakh\n",
      "\n",
      "\n",
      "원문 : year old spinner ur rahman defended runs last help kings xi punjab defeat delhi daredevils indian premier league monday kxip playing without chris gayle top ipl points table meanwhile delhi daredevils last lost five matches tournament \n",
      "실제 요약 : year old defends off last over to help win \n",
      "예측 요약 :  yr old pacer hits over in balls\n",
      "\n",
      "\n",
      "원문 : condemning recent incidents cross border firing jammu kashmir deputy chief minister singh said killing every innocent pakistan never going succeed added state alert comes jawan killed others injured militants friday \n",
      "실제 요약 : we are every death deputy cm to pak \n",
      "예측 요약 :  we are not in india says cm\n",
      "\n",
      "\n",
      "원문 : china president xi jinping asked country army neither fear death fighting opponents also urged armed forces brave overcome difficulties create powerful force always ready fight sure win chinese leader instructed armed forces strengthen combat training war winning capabilities \n",
      "실제 요약 : china prez asks army not to fear death in \n",
      "예측 요약 :  chinese troops ready to fight israel border\n",
      "\n",
      "\n",
      "원문 : according internal report benefits demonetisation prepared government officials economy lakh crore lesser cash would demonetisation happened means amount cash away citizens come since cash value country economic growth \n",
      "실제 요약 : indian economy has lakh crore less cash after note ban \n",
      "예측 요약 :  govt cuts lakh on note ban on note ban\n",
      "\n",
      "\n",
      "원문 : slamming sangh demanding settlement babri masjid dispute basis aimim chief asaduddin owaisi said matter settled evidence stating case still pending court criticised hindu parishad leaders statements promising construction ram temple next year \n",
      "실제 요약 : dispute can be by evidence not owaisi \n",
      "예측 요약 :  owaisi to owaisi on ayodhya case\n",
      "\n",
      "\n",
      "원문 : three years war china accused indian troops stealing tibetan sikkim border mp atal bihari vajpayee led protest driving chinese embassy delhi china later claimed protest backed congress government \n",
      "실제 요약 : vajpayee once of to chinese embassy \n",
      "예측 요약 :  china releases year old indian war with indian\n",
      "\n",
      "\n",
      "원문 : actor arrested connection abduction malayalam actress granted permission attend father death anniversary september taken home heavy police protection prosecution reportedly argued actor allowed attend claiming take part last year \n",
      "실제 요약 : gets to attend father death anniversary \n",
      "예측 요약 :  arrested for daughter in gurugram\n",
      "\n",
      "\n",
      "원문 : least two people killed four others injured wednesday grenade thrown mosque philippines authorities said unidentified reportedly threw grenade people sleeping comes days explosions roman catholic left people dead injured philippines \n",
      "실제 요약 : into mosque in killed \n",
      "예측 요약 :  killed injured in truck in\n",
      "\n",
      "\n",
      "원문 : man arrested sharing image facebook showing pm sharma head monkey body police said man also posted second photo head naked human body man could face five years jail rupee fine found guilty \n",
      "실제 요약 : man arrested over fb post nepal pm as \n",
      "예측 요약 :  man arrested for sharing pic of pm modi\n",
      "\n",
      "\n",
      "원문 : year old australian trapped nearly week new zealand mount rescued friday reported missing monday winds kmph heavy snow located thursday rescue helicopter spotted \n",
      "실제 요약 : aus trapped on nz rescued after week \n",
      "예측 요약 :  yr old australian footballer dies after fish\n",
      "\n",
      "\n",
      "원문 : technology giant apple facing production delay iphone due problems face id sensor manufacturing process according reports delay relates assembly two key components used project map user face iphone face id allows users unlock device looking \n",
      "실제 요약 : apple iphone faces delay due to face report \n",
      "예측 요약 :  apple to pay apple patent for iphone production report\n",
      "\n",
      "\n",
      "원문 : seven members uttar pradesh football team attacked injured unidentified assailants train district today police said incident took place brawl station local youths tried forcefully enter coach reserved uttar pradesh team returning tournament bihar \n",
      "실제 요약 : up football team attacked on train injured \n",
      "예측 요약 :  up police station after accident\n",
      "\n",
      "\n",
      "원문 : tweeting heavy delhi farhan akhtar wrote hai parineeti chopra sharing picture wearing mask wrote days shooting delhi chest hurting head hurting throat tweeting arjun kapoor wrote people need come together find solution \n",
      "실제 요약 : hai on the in delhi \n",
      "예측 요약 :  arjun arjun arjun arjun arjun over\n",
      "\n",
      "\n"
     ]
    }
   ],
   "source": [
    "for i in range(50, 100):\n",
    "    print(\"원문 :\", seq2text(encoder_input_test[i]))\n",
    "    print(\"실제 요약 :\", seq2summary(decoder_input_test[i]))\n",
    "    print(\"예측 요약 :\", decode_sequence(encoder_input_test[i].reshape(1, text_max_len)))\n",
    "    print(\"\\n\")"
   ]
  },
  {
   "cell_type": "code",
   "execution_count": 129,
   "id": "20d14f88",
   "metadata": {},
   "outputs": [],
   "source": [
    "import requests\n",
    "from summa.summarizer import summarize"
   ]
  },
  {
   "cell_type": "code",
   "execution_count": 154,
   "id": "8bae0099",
   "metadata": {},
   "outputs": [],
   "source": [
    "urllib.request.urlretrieve(\"https://raw.githubusercontent.com/sunnysai12345/News_Summary/master/news_summary_more.csv\", filename=\"news_summary_more.csv\")\n",
    "data = pd.read_csv('news_summary_more.csv', encoding='iso-8859-1')"
   ]
  },
  {
   "cell_type": "code",
   "execution_count": 155,
   "id": "f5f0a201",
   "metadata": {},
   "outputs": [],
   "source": [
    "text = data['text']"
   ]
  },
  {
   "cell_type": "code",
   "execution_count": 156,
   "id": "0a9c8c44",
   "metadata": {},
   "outputs": [
    {
     "name": "stdout",
     "output_type": "stream",
     "text": [
      "0       Saurav Kant, an alumnus of upGrad and IIIT-B's...\n",
      "1       Kunal Shah's credit card bill payment platform...\n",
      "2       New Zealand defeated India by 8 wickets in the...\n",
      "3       With Aegon Life iTerm Insurance plan, customer...\n",
      "4       Speaking about the sexual harassment allegatio...\n",
      "                              ...                        \n",
      "1495    India head coach Ravi Shastri has said that he...\n",
      "1496    Italian tennis player Andreas Seppi ensured hi...\n",
      "1497    World number three Roger Federer was stopped b...\n",
      "1498    A cutout of TMC chief and West Bengal CM Mamat...\n",
      "1499    A Delhi court on Saturday pulled up Delhi Poli...\n",
      "Name: text, Length: 1500, dtype: object\n"
     ]
    }
   ],
   "source": [
    "print(text[:1500])"
   ]
  },
  {
   "cell_type": "code",
   "execution_count": 164,
   "id": "5258636d",
   "metadata": {},
   "outputs": [
    {
     "name": "stdout",
     "output_type": "stream",
     "text": [
      "원문:\n",
      " Delhi Police have paid over Ã¢ÂÂ¹2.5 crore to install CCTV cameras to meet the Independence Day's security needs in the National Capital. A senior police officer said if the Delhi government had installed adequate CCTVs, then there was no need for the department to rent and divert funds. The police have arranged over 600 cameras on rent for two weeks.\n",
      "\n",
      "요약:\n",
      " A senior police officer said if the Delhi government had installed adequate CCTVs, then there was no need for the department to rent and divert funds.\n",
      "\n",
      "--------------------------------------------------\n",
      "\n",
      "원문:\n",
      " Taking a dig at the BJP government in Madhya Pradesh, Congress President Rahul Gandhi on Thursday said his party's victory in the state's Kolaras and Mungaoli bypolls was a 'defeat of misgovernance'. In Mungaoli, Congress candidate Brajendra Singh Yadav defeated BJP candidate Baisahab Yadav by 2,124 votes, while Congress' Mahendra Yadav defeated BJP's Devendra Jain by 8,083 votes in Kolaras.\n",
      "\n",
      "요약:\n",
      " Taking a dig at the BJP government in Madhya Pradesh, Congress President Rahul Gandhi on Thursday said his party's victory in the state's Kolaras and Mungaoli bypolls was a 'defeat of misgovernance'.\n",
      "\n",
      "--------------------------------------------------\n",
      "\n",
      "원문:\n",
      " The video of Ariana Grande's song 'Thank u, next' has been released. In the video, Ariana has re-enacted scenes from films like 'Mean Girls', 'Bring It On',  'Legally Blonde' and '13 Going on 30'. The song, which is about self-love and her ex-boyfriends, also shows a cameo by Kris Jenner. The video reportedly received 1 million views in 35 minutes. \n",
      "\n",
      "요약:\n",
      " The video of Ariana Grande's song 'Thank u, next' has been released.\n",
      "In the video, Ariana has re-enacted scenes from films like 'Mean Girls', 'Bring It On',  'Legally Blonde' and '13 Going on 30'.\n",
      "\n",
      "--------------------------------------------------\n",
      "\n",
      "원문:\n",
      " India restricted Australia at 104/4 in the second innings on the fourth day of the first Test at Adelaide on Sunday, needing another six wickets to win. India set a target of 323 for Australia after being dismissed for 307 in the second innings. Notably, India have never won the first Test of a series in Australia.\n",
      "\n",
      "요약:\n",
      " India restricted Australia at 104/4 in the second innings on the fourth day of the first Test at Adelaide on Sunday, needing another six wickets to win.\n",
      "\n",
      "--------------------------------------------------\n",
      "\n",
      "원문:\n",
      " Juventus' Cristiano Ronaldo became the first player to score 400 goals across the top-five European football leagues after getting on the scoresheet in his side's match against Genoa on Saturday. Daniel Bessa scored in the 67th minute to salvage a 1-1 draw for Genoa. Ronaldo has scored five goals and registered three assists in his last six matches for Juventus.\n",
      "\n",
      "요약:\n",
      " Juventus' Cristiano Ronaldo became the first player to score 400 goals across the top-five European football leagues after getting on the scoresheet in his side's match against Genoa on Saturday.\n",
      "\n",
      "--------------------------------------------------\n",
      "\n",
      "원문:\n",
      " Alibaba-backed online marketplace Paytm Mall is reportedly in talks to acquire a minority stake in online grocer BigBasket for about $200 million (Ã¢ÂÂ¹1,290 crore). In June, BigBasket reportedly signed a 60-day exclusivity deal for a potential acquisition by Amazon. The startup has raised at least $220 million so far from investors including Abraaj Group, Bessemer Venture Partners, and Sands Capital.\n",
      "\n",
      "요약:\n",
      " Alibaba-backed online marketplace Paytm Mall is reportedly in talks to acquire a minority stake in online grocer BigBasket for about $200 million (Ã¢ÂÂ¹1,290 crore).\n",
      "\n",
      "--------------------------------------------------\n",
      "\n",
      "원문:\n",
      " Singapore-based Nupur Saraswat has slammed travel booking platform Goibibo after she was denied accommodation by a Hyderabad hotel, despite having pre-booked a room, as she was a \"single lady\". She questioned why Goibibo asked her gender if not to filter out such hotels. Saraswat also tagged Goibibo's brand ambassador Deepika Padukone on Twitter, urging the startup to change its policies.\n",
      "\n",
      "요약:\n",
      " Singapore-based Nupur Saraswat has slammed travel booking platform Goibibo after she was denied accommodation by a Hyderabad hotel, despite having pre-booked a room, as she was a \"single lady\".\n",
      "\n",
      "--------------------------------------------------\n",
      "\n",
      "원문:\n",
      " 'Black Panther' actor Michael B Jordan is being considered to replace actor Henry Cavill, who portrays Superman in DC films, as per reports. Warner Bros in an official statement said, \"No decisions have been made regarding any upcoming Superman films.\" Further, Cavill's agent denied reports of him quitting and tweeted, \"The cape is still in his closet.\"\n",
      "\n",
      "요약:\n",
      " 'Black Panther' actor Michael B Jordan is being considered to replace actor Henry Cavill, who portrays Superman in DC films, as per reports.\n",
      "\n",
      "--------------------------------------------------\n",
      "\n",
      "원문:\n",
      " Around 26 Chartered Accountants have come under the Institute of Chartered Accountants' scanner over alleged links with shell companies. The reference came from Serious Fraud Investigation Office and details about the CAs are being collected. Notably, ICAI can initiate disciplinary proceedings against members including suspension and cancelling of their registration.\n",
      "\n",
      "요약:\n",
      " Around 26 Chartered Accountants have come under the Institute of Chartered Accountants' scanner over alleged links with shell companies.\n",
      "\n",
      "--------------------------------------------------\n",
      "\n",
      "원문:\n",
      " Six blackbucks died in Sayaji Baug zoo in Gujarat's Vadodara after allegedly being attacked by a pack of stray dogs on Friday, officials said. However, an official said that the postmortem rules out dog bite as the cause of death. \"Blackbucks are..timid animals. They might have died of shock and not because of dog bites,\" the zoo curator said.\n",
      "\n",
      "요약:\n",
      " Six blackbucks died in Sayaji Baug zoo in Gujarat's Vadodara after allegedly being attacked by a pack of stray dogs on Friday, officials said.\n",
      "They might have died of shock and not because of dog bites,\" the zoo curator said.\n",
      "\n",
      "--------------------------------------------------\n",
      "\n",
      "원문:\n",
      " Police used tear gas shells on Monday to disperse a group of female students in J&K who staged a protest against Kashmir University over their \"mass failure\" in the first semester examinations, officials said. The students demanded that their answer papers be returned. However, university authorities have said that the \"poor results\" were due to students not completing required formalities. \n",
      "\n",
      "요약:\n",
      " However, university authorities have said that the \"poor results\" were due to students not completing required formalities.\n",
      "\n",
      "--------------------------------------------------\n",
      "\n",
      "원문:\n",
      " Indian shooter Heena Sidhu took to Twitter to slam people who do not stand up for the national anthem and instead 'carry on eating popcorns, chit-chatting, talking loudly on phone'. Part of Sidhu's tweet read, \"Sometimes I feel so blessed 2 b a sportsperson...We cant even imagine this! Getting a medal wouldnt be half as gud without d Anthem\". \n",
      "\n",
      "요약:\n",
      " Indian shooter Heena Sidhu took to Twitter to slam people who do not stand up for the national anthem and instead 'carry on eating popcorns, chit-chatting, talking loudly on phone'.\n",
      "\n",
      "--------------------------------------------------\n",
      "\n",
      "원문:\n",
      " UK-based scientists have directly observed bacteria living deep inside Arctic and Antarctic ice, an environment once considered sterile. The study revealed that the composition of gases trapped in ice cores may have been affected by bacteria when the snow was compressed into ice. The finding offers new perspectives on whether icy planets in the universe can sustain life, researchers noted.\n",
      "\n",
      "요약:\n",
      " UK-based scientists have directly observed bacteria living deep inside Arctic and Antarctic ice, an environment once considered sterile.\n",
      "\n",
      "--------------------------------------------------\n",
      "\n",
      "원문:\n",
      " Philippine President Rodrigo Duterte on Sunday said the temporary ban on citizens going to work in Kuwait is now permanent. This comes after Kuwait expelled Philippine ambassador Renato Villa amid tensions between the two nations over the treatment of Filipino domestic workers. Duterte had imposed a temporary ban in February following the murder of a Filipino maid in Kuwait.\n",
      "\n",
      "요약:\n",
      " Duterte had imposed a temporary ban in February following the murder of a Filipino maid in Kuwait.\n",
      "\n",
      "--------------------------------------------------\n",
      "\n",
      "원문:\n",
      " Samajwadi Party patriarch Mulayam Singh Yadav has reminded his son Akhilesh Yadav of an unfulfilled \"promise\" of returning the post of party President to him after three months. \"Why don't those in the media ask Akhilesh why he is not keeping his words,\" he added. Akhilesh had taken over as the party's National President weeks ahead of the Assembly polls.\n",
      "\n",
      "요약:\n",
      " Akhilesh had taken over as the party's National President weeks ahead of the Assembly polls.\n",
      "\n",
      "--------------------------------------------------\n",
      "\n"
     ]
    }
   ],
   "source": [
    "for _ in range(15):\n",
    "    rand_num =  np.random.randint(len(text))\n",
    "    print(f'원문:\\n {text[rand_num]}')\n",
    "    print()\n",
    "    print(f'요약:\\n {summarize(text[rand_num], ratio=0.5)}')\n",
    "    print('\\n'+'-'*50+'\\n')"
   ]
  },
  {
   "cell_type": "markdown",
   "id": "bbad75e0",
   "metadata": {},
   "source": [
    "## 회고\n",
    "Abstractive 방식을 활용한 후 실제 헤드 라인과 비교해보니, 키워드를 헤드라인과 거의 유사하게 뽑은 내용이 있는 반면 크게 상관이 없는 단어를 활용한 경우가 보였다. 예를 들어 실제 헤드라인은 'hai on the in delhi'인데 예측 결과는 'arjun arjun arjun arjun arjun over'인 것과 같이 실제 요약에서 전혀 사용되지 않은 단어를 활용한 결과를 볼 수 있었다. 'aus trapped on nz rescued after week'과 같이 실제론 구출되었다는 내용이 중요한데 'yr old australian footballer dies after fish'라고 결과까지 담아내지 못하는 경우도 있었다. \n",
    "Extractive 방식을 활용한 경우에는 기존의 문장을 활용하기 때문에 주제에서 크게 벗어나는 내용을 담는 경우는 없었다. \n",
    "이러한 경우들로 미루어보아 문법적 측면과 요약을 위한 적절한 단어 선택에 있어서 Extractive 방식이 상대적으로 나은 모습을 보였다고 할 수 있다. 하지만 Extractive 방식에서는 글과 유관하지만 세부적인 내용을 그대로 담아내는 경우가 있어 요약이라는 목적을 달성하기엔 부족한 모습도 보였다. "
   ]
  }
 ],
 "metadata": {
  "kernelspec": {
   "display_name": "Python 3 (ipykernel)",
   "language": "python",
   "name": "python3"
  },
  "language_info": {
   "codemirror_mode": {
    "name": "ipython",
    "version": 3
   },
   "file_extension": ".py",
   "mimetype": "text/x-python",
   "name": "python",
   "nbconvert_exporter": "python",
   "pygments_lexer": "ipython3",
   "version": "3.9.7"
  }
 },
 "nbformat": 4,
 "nbformat_minor": 5
}
