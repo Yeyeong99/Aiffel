{
 "cells": [
  {
   "cell_type": "markdown",
   "id": "a927cc16",
   "metadata": {},
   "source": [
    "# 영화감상 텍스트 분석\n",
    "### 1. 순서\n",
    "1. 데이터 준비와 확인\n",
    "2. 데이터 로더 구성\n",
    "3. 모델 구성을 위한 데이터 분석 및 가공\n",
    "4. Validation set 구성\n",
    "5. 모델 구성\n",
    "6. Loss, Accuracy 분석\n",
    "7. Embedding Layer 성능 확인\n",
    "8. Word2Vec 이용하기\n",
    "9. 회고"
   ]
  },
  {
   "cell_type": "code",
   "execution_count": 1,
   "id": "bc3350be",
   "metadata": {},
   "outputs": [],
   "source": [
    "import os\n",
    "import pandas as pd\n",
    "import numpy as np\n",
    "import matplotlib.pyplot as plt\n",
    "import tensorflow as tf\n",
    "from tensorflow import keras\n",
    "\n",
    "from konlpy.tag import Mecab\n",
    "from collections import Counter\n",
    "from gensim.models.keyedvectors import Word2VecKeyedVectors\n",
    "from gensim.models import KeyedVectors, Word2Vec"
   ]
  },
  {
   "cell_type": "markdown",
   "id": "6d4819d9",
   "metadata": {},
   "source": [
    "### 1. 데이터 준비와 확인"
   ]
  },
  {
   "cell_type": "code",
   "execution_count": 2,
   "id": "fb40d9c3",
   "metadata": {},
   "outputs": [
    {
     "data": {
      "text/html": [
       "<div>\n",
       "<style scoped>\n",
       "    .dataframe tbody tr th:only-of-type {\n",
       "        vertical-align: middle;\n",
       "    }\n",
       "\n",
       "    .dataframe tbody tr th {\n",
       "        vertical-align: top;\n",
       "    }\n",
       "\n",
       "    .dataframe thead th {\n",
       "        text-align: right;\n",
       "    }\n",
       "</style>\n",
       "<table border=\"1\" class=\"dataframe\">\n",
       "  <thead>\n",
       "    <tr style=\"text-align: right;\">\n",
       "      <th></th>\n",
       "      <th>id</th>\n",
       "      <th>document</th>\n",
       "      <th>label</th>\n",
       "    </tr>\n",
       "  </thead>\n",
       "  <tbody>\n",
       "    <tr>\n",
       "      <th>0</th>\n",
       "      <td>9976970</td>\n",
       "      <td>아 더빙.. 진짜 짜증나네요 목소리</td>\n",
       "      <td>0</td>\n",
       "    </tr>\n",
       "    <tr>\n",
       "      <th>1</th>\n",
       "      <td>3819312</td>\n",
       "      <td>흠...포스터보고 초딩영화줄....오버연기조차 가볍지 않구나</td>\n",
       "      <td>1</td>\n",
       "    </tr>\n",
       "    <tr>\n",
       "      <th>2</th>\n",
       "      <td>10265843</td>\n",
       "      <td>너무재밓었다그래서보는것을추천한다</td>\n",
       "      <td>0</td>\n",
       "    </tr>\n",
       "    <tr>\n",
       "      <th>3</th>\n",
       "      <td>9045019</td>\n",
       "      <td>교도소 이야기구먼 ..솔직히 재미는 없다..평점 조정</td>\n",
       "      <td>0</td>\n",
       "    </tr>\n",
       "    <tr>\n",
       "      <th>4</th>\n",
       "      <td>6483659</td>\n",
       "      <td>사이몬페그의 익살스런 연기가 돋보였던 영화!스파이더맨에서 늙어보이기만 했던 커스틴 ...</td>\n",
       "      <td>1</td>\n",
       "    </tr>\n",
       "  </tbody>\n",
       "</table>\n",
       "</div>"
      ],
      "text/plain": [
       "         id                                           document  label\n",
       "0   9976970                                아 더빙.. 진짜 짜증나네요 목소리      0\n",
       "1   3819312                  흠...포스터보고 초딩영화줄....오버연기조차 가볍지 않구나      1\n",
       "2  10265843                                  너무재밓었다그래서보는것을추천한다      0\n",
       "3   9045019                      교도소 이야기구먼 ..솔직히 재미는 없다..평점 조정      0\n",
       "4   6483659  사이몬페그의 익살스런 연기가 돋보였던 영화!스파이더맨에서 늙어보이기만 했던 커스틴 ...      1"
      ]
     },
     "execution_count": 2,
     "metadata": {},
     "output_type": "execute_result"
    }
   ],
   "source": [
    "train_data = pd.read_table('~/aiffel/sentiment_classification/data/ratings_train.txt')\n",
    "test_data = pd.read_table('~/aiffel/sentiment_classification/data/ratings_test.txt')\n",
    "\n",
    "train_data.head()"
   ]
  },
  {
   "cell_type": "markdown",
   "id": "3d6c9cf8",
   "metadata": {},
   "source": [
    "### 2. 데이터로더 구성"
   ]
  },
  {
   "cell_type": "code",
   "execution_count": 3,
   "id": "be5271de",
   "metadata": {},
   "outputs": [],
   "source": [
    "tokenizer = Mecab()\n",
    "stopwords = ['의','가','이','은','들','는','좀','잘','걍','과','도','를','으로','자','에','와','한','하다']\n",
    "\n",
    "def load_data(train_data, test_data, num_words=10000):\n",
    "    # train data 데이터 중복 제거\n",
    "    train_data.drop_duplicates(subset=['document'], inplace=True)\n",
    "    # train data NaN 결측치 제거\n",
    "    train_data = train_data.dropna(how='any')\n",
    "    \n",
    "    # test data도 위와 동일하게 처리\n",
    "    test_data.drop_duplicates(subset=['document'], inplace=True)\n",
    "    test_data = test_data.dropna(how = 'any')\n",
    "    \n",
    "    # train data를 한국어 토크나이저로 토큰화\n",
    "    X_train = []\n",
    "    for sentence in train_data['document']:\n",
    "        temp_X = tokenizer.morphs(sentence) # 토큰화\n",
    "        temp_X = [word for word in temp_X if not word in stopwords] #불용어 제거\n",
    "        X_train.append(temp_X)\n",
    "        \n",
    "    # test data에 대해 같게 실행\n",
    "    X_test = []\n",
    "    for sentence in test_data['document']:\n",
    "        temp_X = tokenizer.morphs(sentence) # 토큰화\n",
    "        temp_X = [word for word in temp_X if not word in stopwords] #불용어 제거\n",
    "        X_test.append(temp_X)\n",
    "        \n",
    "    # counter을 쓰기 위해 2차원 리스트인 X_train을 1차원 배열로 변환 뒤 다시 리스트로 변환\n",
    "    words = np.concatenate(X_train).tolist()\n",
    "    counter = Counter(words)\n",
    "    counter = counter.most_common(10000-4)\n",
    "    vocab = ['<PAD>', '<BOS>', '<UNK>','<UNUSED>'] + [key for key, _ in counter]\n",
    "    word_to_index = {word:index for index, word in enumerate(vocab)}\n",
    "    \n",
    "    # 텍스트 스트링을 사전 인덱스 스트링으로 변환\n",
    "    def wordlist_to_indexlist(wordlist):\n",
    "        return [word_to_index[word] if word in word_to_index else word_to_index['<UNK>'] for word in wordlist]\n",
    "    \n",
    "    X_train = list(map(wordlist_to_indexlist, X_train))\n",
    "    X_test = list(map(wordlist_to_indexlist, X_test))\n",
    "    \n",
    "    return X_train, np.array(list(train_data['label'])), X_test, np.array(list(test_data['label'])), word_to_index\n",
    "X_train, y_train, X_test, y_test, word_to_index = load_data(train_data, test_data)"
   ]
  },
  {
   "cell_type": "code",
   "execution_count": 4,
   "id": "388fa148",
   "metadata": {},
   "outputs": [],
   "source": [
    "# word: index의 형태를 index: word의 형태로 바꿔줌\n",
    "index_to_word = {index:word for word, index in word_to_index.items()}"
   ]
  },
  {
   "cell_type": "code",
   "execution_count": 5,
   "id": "dcd8a041",
   "metadata": {},
   "outputs": [],
   "source": [
    "# 문장 1개를 활용할 딕셔너리와 함께 주면, 단어 인덱스 리스트 벡터로 변환해 주는 함수\n",
    "# 단, 모든 문장은 <BOS>로 시작하는 것으로 함\n",
    "def get_encoded_sentence(sentence, word_to_index):\n",
    "    return [word_to_index['<BOS>']]+[word_to_index[word] if word in word_to_index else word_to_index['<UNK>'] for word in sentence.split()]\n",
    "\n",
    "# 여러 개의 문장 리스트를 한꺼번에 단어 인덱스 리스트 벡터로 encode해 주는 함수\n",
    "def get_encoded_sentences(sentences, word_to_index):\n",
    "    return [get_encoded_sentence(sentence, word_to_index) for sentence in sentences]\n",
    "\n",
    "# 숫자 벡터로 encode된 문장을 원래대로 decode하는 함수\n",
    "def get_decoded_sentence(encoded_sentence, index_to_word):\n",
    "    return ' '.join(index_to_word[index] if index in index_to_word else '<UNK>' for index in encoded_sentence[1:])  #[1:]를 통해 <BOS>를 제외\n",
    "\n",
    "# 여러 개의 숫자 벡터로 encode된 문장을 한꺼번에 원래대로 decode하는 함수\n",
    "def get_decoded_sentences(encoded_sentences, index_to_word):\n",
    "    return [get_decoded_sentence(encoded_sentence, index_to_word) for encoded_sentence in encoded_sentences]"
   ]
  },
  {
   "cell_type": "markdown",
   "id": "63f7760c",
   "metadata": {},
   "source": [
    "### 3. 모델 구성을 위한 데이터 분석 및 가공"
   ]
  },
  {
   "cell_type": "code",
   "execution_count": 6,
   "id": "b3c9a726",
   "metadata": {},
   "outputs": [
    {
     "data": {
      "image/png": "[encoded data removed]",
      "text/plain": [
       "<Figure size 432x288 with 1 Axes>"
      ]
     },
     "metadata": {
      "needs_background": "light"
     },
     "output_type": "display_data"
    },
    {
     "name": "stdout",
     "output_type": "stream",
     "text": [
      "문장 길이 평균 :  15.96940191154864\n",
      "문장 길이 최대 :  116\n",
      "전체 문장의 0.9269270345399536%가 maxlen 설정값 이내에 포함됩니다. \n"
     ]
    }
   ],
   "source": [
    "total_data_text = X_train+X_test\n",
    "num_tokens = [len(tokens) for tokens in total_data_text]\n",
    "num_tokens = np.array(num_tokens)\n",
    "plt.hist(num_tokens)\n",
    "plt.title('Sentences Length')\n",
    "plt.xlabel('Length')\n",
    "plt.show()\n",
    "print('문장 길이 평균 : ', np.mean(num_tokens))\n",
    "print('문장 길이 최대 : ', np.max(num_tokens))\n",
    "\n",
    "max_len = 40\n",
    "print('전체 문장의 {}%가 maxlen 설정값 이내에 포함됩니다. '.format(np.sum(num_tokens < max_len) / len(num_tokens)))"
   ]
  },
  {
   "cell_type": "code",
   "execution_count": 7,
   "id": "4c06d872",
   "metadata": {},
   "outputs": [],
   "source": [
    "# 분포에 따라 최대 길이를 40으로 지정\n",
    "# padding = pre로 지정\n",
    "X_train = tf.keras.preprocessing.sequence.pad_sequences(X_train,\n",
    "                                                        value=word_to_index[\"<PAD>\"],\n",
    "                                                        padding='pre',\n",
    "                                                        maxlen=max_len)\n",
    "\n",
    "X_test = tf.keras.preprocessing.sequence.pad_sequences(X_test,\n",
    "                                                       value=word_to_index[\"<PAD>\"],\n",
    "                                                       padding='pre',\n",
    "                                                       maxlen=max_len)"
   ]
  },
  {
   "cell_type": "code",
   "execution_count": 8,
   "id": "c01c5172",
   "metadata": {},
   "outputs": [
    {
     "name": "stdout",
     "output_type": "stream",
     "text": [
      "X_train:\n",
      "[[   0    0    0 ...   20   33  748]\n",
      " [   0    0    0 ...   15   44  391]\n",
      " [   0    0    0 ...   24  205    2]\n",
      " ...\n",
      " [   0    0    0 ... 2710    6   18]\n",
      " [   0    0    0 ...   60  395 8572]\n",
      " [   0    0    0 ...   88 2740    5]]\n",
      "X_train_length: 146182\n",
      "\n",
      "X_test: \n",
      "[[   0    0    0 ...    0  832  130]\n",
      " [   0    0    0 ...    0    0    2]\n",
      " [   0    0    0 ... 3557   73  917]\n",
      " ...\n",
      " [   0    0    0 ...    8   12 3424]\n",
      " [   0    0    0 ...   67  323   43]\n",
      " [   0    0    0 ...  179   63 1058]]\n",
      "X_test_length: 49157\n"
     ]
    }
   ],
   "source": [
    "# 결과 확인\n",
    "print(f\"X_train:\\n{X_train}\\nX_train_length: {len(X_train)}\\n\")\n",
    "print(f\"X_test: \\n{X_test}\\nX_test_length: {len(X_test)}\")"
   ]
  },
  {
   "cell_type": "markdown",
   "id": "9aeb1d23",
   "metadata": {},
   "source": [
    "### 4. Validation set 구성"
   ]
  },
  {
   "cell_type": "code",
   "execution_count": 9,
   "id": "65eea0e7",
   "metadata": {},
   "outputs": [],
   "source": [
    "# validation set 설정\n",
    "X_val = X_train[:10000]\n",
    "y_val = y_train[:10000]\n",
    "\n",
    "# train set 재설정\n",
    "partial_X_train = X_train[10000:]\n",
    "partial_y_train = y_train[10000:]"
   ]
  },
  {
   "cell_type": "markdown",
   "id": "5d60a86d",
   "metadata": {},
   "source": [
    "### 5. 모델 구성\n",
    "##### 1. RNN(LSTM)"
   ]
  },
  {
   "cell_type": "code",
   "execution_count": 10,
   "id": "e4a7acf0",
   "metadata": {},
   "outputs": [
    {
     "name": "stdout",
     "output_type": "stream",
     "text": [
      "Model: \"sequential\"\n",
      "_________________________________________________________________\n",
      "Layer (type)                 Output Shape              Param #   \n",
      "=================================================================\n",
      "embedding (Embedding)        (None, None, 200)         2000000   \n",
      "_________________________________________________________________\n",
      "lstm (LSTM)                  (None, 128)               168448    \n",
      "_________________________________________________________________\n",
      "dense (Dense)                (None, 8)                 1032      \n",
      "_________________________________________________________________\n",
      "dense_1 (Dense)              (None, 1)                 9         \n",
      "=================================================================\n",
      "Total params: 2,169,489\n",
      "Trainable params: 2,169,489\n",
      "Non-trainable params: 0\n",
      "_________________________________________________________________\n"
     ]
    }
   ],
   "source": [
    "vocab_size = 10000 \n",
    "word_vector_dim = 200\n",
    "\n",
    "lstm_model = tf.keras.Sequential()\n",
    "lstm_model.add(tf.keras.layers.Embedding(vocab_size, word_vector_dim, input_shape=(None,)))\n",
    "lstm_model.add(tf.keras.layers.LSTM(128)) \n",
    "lstm_model.add(tf.keras.layers.Dense(8, activation='relu'))\n",
    "lstm_model.add(tf.keras.layers.Dense(1, activation='sigmoid'))\n",
    "\n",
    "lstm_model.summary()"
   ]
  },
  {
   "cell_type": "code",
   "execution_count": 11,
   "id": "4b057b19",
   "metadata": {},
   "outputs": [
    {
     "name": "stdout",
     "output_type": "stream",
     "text": [
      "Epoch 1/3\n",
      "266/266 [==============================] - 7s 14ms/step - loss: 0.3997 - accuracy: 0.8165 - val_loss: 0.3347 - val_accuracy: 0.8514\n",
      "Epoch 2/3\n",
      "266/266 [==============================] - 3s 13ms/step - loss: 0.3107 - accuracy: 0.8664 - val_loss: 0.3224 - val_accuracy: 0.8597\n",
      "Epoch 3/3\n",
      "266/266 [==============================] - 3s 13ms/step - loss: 0.2745 - accuracy: 0.8826 - val_loss: 0.3184 - val_accuracy: 0.8604\n"
     ]
    }
   ],
   "source": [
    "lstm_model.compile(optimizer='adam',\n",
    "              loss='binary_crossentropy',\n",
    "              metrics=['accuracy'])\n",
    "              \n",
    "epochs=3\n",
    "\n",
    "lstm_history = lstm_model.fit(partial_X_train,\n",
    "                    partial_y_train,\n",
    "                    epochs=epochs,\n",
    "                    batch_size=512,\n",
    "                    validation_data=(X_val, y_val),\n",
    "                    verbose=1)"
   ]
  },
  {
   "cell_type": "markdown",
   "id": "0116d9b7",
   "metadata": {},
   "source": [
    "##### 2. CNN"
   ]
  },
  {
   "cell_type": "code",
   "execution_count": 12,
   "id": "b64b644c",
   "metadata": {},
   "outputs": [
    {
     "name": "stdout",
     "output_type": "stream",
     "text": [
      "Model: \"sequential_1\"\n",
      "_________________________________________________________________\n",
      "Layer (type)                 Output Shape              Param #   \n",
      "=================================================================\n",
      "embedding_1 (Embedding)      (None, None, 200)         2000000   \n",
      "_________________________________________________________________\n",
      "conv1d (Conv1D)              (None, None, 16)          22416     \n",
      "_________________________________________________________________\n",
      "max_pooling1d (MaxPooling1D) (None, None, 16)          0         \n",
      "_________________________________________________________________\n",
      "conv1d_1 (Conv1D)            (None, None, 16)          1808      \n",
      "_________________________________________________________________\n",
      "global_max_pooling1d (Global (None, 16)                0         \n",
      "_________________________________________________________________\n",
      "dense_2 (Dense)              (None, 8)                 136       \n",
      "_________________________________________________________________\n",
      "dense_3 (Dense)              (None, 1)                 9         \n",
      "=================================================================\n",
      "Total params: 2,024,369\n",
      "Trainable params: 2,024,369\n",
      "Non-trainable params: 0\n",
      "_________________________________________________________________\n"
     ]
    }
   ],
   "source": [
    "cnn_model = tf.keras.Sequential()\n",
    "cnn_model.add(tf.keras.layers.Embedding(vocab_size, word_vector_dim, input_shape=(None,)))\n",
    "cnn_model.add(tf.keras.layers.Conv1D(16, 7, padding='same', activation='relu'))\n",
    "cnn_model.add(tf.keras.layers.MaxPooling1D(5))\n",
    "cnn_model.add(tf.keras.layers.Conv1D(16, 7, padding='same', activation='relu'))\n",
    "cnn_model.add(tf.keras.layers.GlobalMaxPooling1D())\n",
    "cnn_model.add(tf.keras.layers.Dense(8, activation='relu'))\n",
    "cnn_model.add(tf.keras.layers.Dense(1, activation='sigmoid'))  # 최종 출력은 긍정/부정을 나타내는 1dim\n",
    "\n",
    "cnn_model.summary()"
   ]
  },
  {
   "cell_type": "code",
   "execution_count": 13,
   "id": "e2b38ad4",
   "metadata": {},
   "outputs": [
    {
     "name": "stdout",
     "output_type": "stream",
     "text": [
      "Epoch 1/3\n",
      "266/266 [==============================] - 4s 8ms/step - loss: 0.4143 - accuracy: 0.8109 - val_loss: 0.3253 - val_accuracy: 0.8558\n",
      "Epoch 2/3\n",
      "266/266 [==============================] - 2s 6ms/step - loss: 0.2870 - accuracy: 0.8792 - val_loss: 0.3091 - val_accuracy: 0.8667\n",
      "Epoch 3/3\n",
      "266/266 [==============================] - 2s 6ms/step - loss: 0.2296 - accuracy: 0.9084 - val_loss: 0.3202 - val_accuracy: 0.8674\n"
     ]
    }
   ],
   "source": [
    "cnn_model.compile(optimizer='adam',\n",
    "              loss='binary_crossentropy',\n",
    "              metrics=['accuracy'])\n",
    "              \n",
    "cnn_history = cnn_model.fit(partial_X_train,\n",
    "                    partial_y_train,\n",
    "                    epochs=epochs,\n",
    "                    batch_size=512,\n",
    "                    validation_data=(X_val, y_val),\n",
    "                    verbose=1)"
   ]
  },
  {
   "cell_type": "markdown",
   "id": "640789cf",
   "metadata": {},
   "source": [
    "##### 3. GlobalMax Pooling"
   ]
  },
  {
   "cell_type": "code",
   "execution_count": 14,
   "id": "7d8ba474",
   "metadata": {},
   "outputs": [
    {
     "name": "stdout",
     "output_type": "stream",
     "text": [
      "Model: \"sequential_2\"\n",
      "_________________________________________________________________\n",
      "Layer (type)                 Output Shape              Param #   \n",
      "=================================================================\n",
      "embedding_2 (Embedding)      (None, None, 200)         2000000   \n",
      "_________________________________________________________________\n",
      "global_max_pooling1d_1 (Glob (None, 200)               0         \n",
      "_________________________________________________________________\n",
      "dense_4 (Dense)              (None, 8)                 1608      \n",
      "_________________________________________________________________\n",
      "dense_5 (Dense)              (None, 1)                 9         \n",
      "=================================================================\n",
      "Total params: 2,001,617\n",
      "Trainable params: 2,001,617\n",
      "Non-trainable params: 0\n",
      "_________________________________________________________________\n"
     ]
    }
   ],
   "source": [
    "gm_model = tf.keras.Sequential()\n",
    "gm_model.add(tf.keras.layers.Embedding(vocab_size, word_vector_dim, input_shape=(None,)))\n",
    "gm_model.add(tf.keras.layers.GlobalMaxPooling1D())\n",
    "gm_model.add(tf.keras.layers.Dense(8, activation='relu'))\n",
    "gm_model.add(tf.keras.layers.Dense(1, activation='sigmoid'))  # 최종 출력은 긍정/부정을 나타내는 1dim 입니다.\n",
    "\n",
    "gm_model.summary()"
   ]
  },
  {
   "cell_type": "code",
   "execution_count": 15,
   "id": "06f3be6f",
   "metadata": {},
   "outputs": [
    {
     "name": "stdout",
     "output_type": "stream",
     "text": [
      "Epoch 1/3\n",
      "266/266 [==============================] - 2s 5ms/step - loss: 0.4805 - accuracy: 0.7811 - val_loss: 0.3433 - val_accuracy: 0.8505\n",
      "Epoch 2/3\n",
      "266/266 [==============================] - 1s 4ms/step - loss: 0.3139 - accuracy: 0.8673 - val_loss: 0.3299 - val_accuracy: 0.8555\n",
      "Epoch 3/3\n",
      "266/266 [==============================] - 1s 4ms/step - loss: 0.2683 - accuracy: 0.8908 - val_loss: 0.3357 - val_accuracy: 0.8563\n"
     ]
    }
   ],
   "source": [
    "gm_model.compile(optimizer='adam',\n",
    "              loss='binary_crossentropy',\n",
    "              metrics=['accuracy'])\n",
    "              \n",
    "gm_history = gm_model.fit(partial_X_train,\n",
    "                    partial_y_train,\n",
    "                    epochs=epochs,\n",
    "                    batch_size=512,\n",
    "                    validation_data=(X_val, y_val),\n",
    "                    verbose=1)"
   ]
  },
  {
   "cell_type": "markdown",
   "id": "2f1a4e20",
   "metadata": {},
   "source": [
    "### 6. Loss, Accuracy 분석\n",
    "##### 1. RNN(LSTM)"
   ]
  },
  {
   "cell_type": "code",
   "execution_count": 16,
   "id": "8bd8a95a",
   "metadata": {},
   "outputs": [
    {
     "data": {
      "image/png": "[encoded data removed]",
      "text/plain": [
       "<Figure size 432x288 with 1 Axes>"
      ]
     },
     "metadata": {
      "needs_background": "light"
     },
     "output_type": "display_data"
    },
    {
     "name": "stdout",
     "output_type": "stream",
     "text": [
      "1537/1537 [==============================] - 4s 3ms/step - loss: 0.3305 - accuracy: 0.8553\n"
     ]
    },
    {
     "data": {
      "text/plain": [
       "[0.3304743766784668, 0.8553003668785095]"
      ]
     },
     "execution_count": 16,
     "metadata": {},
     "output_type": "execute_result"
    },
    {
     "data": {
      "image/png": "[encoded data removed]",
      "text/plain": [
       "<Figure size 432x288 with 1 Axes>"
      ]
     },
     "metadata": {
      "needs_background": "light"
     },
     "output_type": "display_data"
    }
   ],
   "source": [
    "lstm_history_dict = lstm_history.history\n",
    "\n",
    "lstm_loss = lstm_history_dict['loss']\n",
    "lstm_val_loss = lstm_history_dict['val_loss']\n",
    "lstm_accuracy = lstm_history_dict['accuracy']\n",
    "lstm_val_accuracy = lstm_history_dict['val_accuracy']\n",
    "epochs = range(1, len(lstm_loss)+1)\n",
    "\n",
    "plt.plot(epochs, lstm_loss, label='train_set loss')\n",
    "plt.plot(epochs, lstm_val_loss, label='val_set loss')\n",
    "plt.title('Loss')\n",
    "plt.xlabel('Epochs')\n",
    "plt.ylabel('Loss')\n",
    "plt.legend()\n",
    "plt.show()\n",
    "\n",
    "plt.plot(epochs, lstm_accuracy, label='train_set accuracy')\n",
    "plt.plot(epochs, lstm_val_accuracy, label='val_set accuracy')\n",
    "plt.title('Accuracy')\n",
    "plt.legend()\n",
    "plt.xlabel('Epochs')\n",
    "plt.ylabel('Accuracy')\n",
    "\n",
    "lstm_model.evaluate(X_test, y_test, verbose=1)"
   ]
  },
  {
   "cell_type": "markdown",
   "id": "a0fb1a00",
   "metadata": {},
   "source": [
    "##### 2. CNN"
   ]
  },
  {
   "cell_type": "code",
   "execution_count": 17,
   "id": "d78a1a67",
   "metadata": {},
   "outputs": [
    {
     "data": {
      "image/png": "[encoded data removed]",
      "text/plain": [
       "<Figure size 432x288 with 1 Axes>"
      ]
     },
     "metadata": {
      "needs_background": "light"
     },
     "output_type": "display_data"
    },
    {
     "name": "stdout",
     "output_type": "stream",
     "text": [
      "1537/1537 [==============================] - 3s 2ms/step - loss: 0.3310 - accuracy: 0.8600\n"
     ]
    },
    {
     "data": {
      "text/plain": [
       "[0.33098894357681274, 0.8600199222564697]"
      ]
     },
     "execution_count": 17,
     "metadata": {},
     "output_type": "execute_result"
    },
    {
     "data": {
      "image/png": "[encoded data removed]",
      "text/plain": [
       "<Figure size 432x288 with 1 Axes>"
      ]
     },
     "metadata": {
      "needs_background": "light"
     },
     "output_type": "display_data"
    }
   ],
   "source": [
    "cnn_history_dict = cnn_history.history\n",
    "\n",
    "cnn_loss = cnn_history_dict['loss']\n",
    "cnn_val_loss = cnn_history_dict['val_loss']\n",
    "cnn_accuracy = cnn_history_dict['accuracy']\n",
    "cnn_val_accuracy = cnn_history_dict['val_accuracy']\n",
    "epochs = range(1, len(cnn_loss)+1)\n",
    "\n",
    "plt.plot(epochs, cnn_loss, label='train_set loss')\n",
    "plt.plot(epochs, cnn_val_loss, label='val_set loss')\n",
    "plt.title('Loss')\n",
    "plt.xlabel('Epochs')\n",
    "plt.ylabel('Loss')\n",
    "plt.legend()\n",
    "plt.show()\n",
    "\n",
    "plt.plot(epochs, cnn_accuracy, label='train_set accuracy')\n",
    "plt.plot(epochs, cnn_val_accuracy, label='val_set accuracy')\n",
    "plt.title('Accuracy')\n",
    "plt.legend()\n",
    "plt.xlabel('Epochs')\n",
    "plt.ylabel('Accuracy')\n",
    "\n",
    "cnn_model.evaluate(X_test, y_test, verbose=1)"
   ]
  },
  {
   "cell_type": "code",
   "execution_count": 18,
   "id": "b2e842cc",
   "metadata": {},
   "outputs": [
    {
     "data": {
      "image/png": "[encoded data removed]",
      "text/plain": [
       "<Figure size 432x288 with 1 Axes>"
      ]
     },
     "metadata": {
      "needs_background": "light"
     },
     "output_type": "display_data"
    },
    {
     "name": "stdout",
     "output_type": "stream",
     "text": [
      "1537/1537 [==============================] - 2s 2ms/step - loss: 0.3484 - accuracy: 0.8516\n"
     ]
    },
    {
     "data": {
      "text/plain": [
       "[0.34841206669807434, 0.8515979647636414]"
      ]
     },
     "execution_count": 18,
     "metadata": {},
     "output_type": "execute_result"
    },
    {
     "data": {
      "image/png": "[encoded data removed]",
      "text/plain": [
       "<Figure size 432x288 with 1 Axes>"
      ]
     },
     "metadata": {
      "needs_background": "light"
     },
     "output_type": "display_data"
    }
   ],
   "source": [
    "gm_history_dict = gm_history.history\n",
    "\n",
    "gm_loss = gm_history_dict['loss']\n",
    "gm_val_loss = gm_history_dict['val_loss']\n",
    "gm_accuracy = gm_history_dict['accuracy']\n",
    "gm_val_accuracy = gm_history_dict['val_accuracy']\n",
    "epochs = range(1, len(gm_loss)+1)\n",
    "\n",
    "plt.plot(epochs, gm_loss, label='train_set loss')\n",
    "plt.plot(epochs, gm_val_loss, label='val_set loss')\n",
    "plt.title('Loss')\n",
    "plt.xlabel('Epochs')\n",
    "plt.ylabel('Loss')\n",
    "plt.legend()\n",
    "plt.show()\n",
    "\n",
    "plt.plot(epochs, gm_accuracy, label='train_set accuracy')\n",
    "plt.plot(epochs, gm_val_accuracy, label='val_set accuracy')\n",
    "plt.title('Accuracy')\n",
    "plt.legend()\n",
    "plt.xlabel('Epochs')\n",
    "plt.ylabel('Accuracy')\n",
    "\n",
    "gm_model.evaluate(X_test, y_test, verbose=1)"
   ]
  },
  {
   "cell_type": "markdown",
   "id": "e803c2a9",
   "metadata": {},
   "source": [
    "### 7. Embedding Layer 성능 확인"
   ]
  },
  {
   "cell_type": "code",
   "execution_count": 19,
   "id": "155833c1",
   "metadata": {},
   "outputs": [],
   "source": [
    "lstm_embedding_layer = lstm_model.layers[0]\n",
    "lstm_weights = lstm_embedding_layer.get_weights()[0]\n",
    "lstm_file_path = os.getenv('HOME')+'/aiffel/sentiment_classification/data/lstm.txt'\n",
    "lstm_f = open(lstm_file_path, 'w')\n",
    "lstm_f.write('{} {}\\n'.format(vocab_size-4, word_vector_dim))\n",
    "\n",
    "lstm_vectors = lstm_model.get_weights()[0]\n",
    "for i in range(4,vocab_size):\n",
    "    lstm_f.write('{} {}\\n'.format(index_to_word[i], ' '.join(map(str, list(lstm_vectors[i, :])))))\n",
    "lstm_f.close()"
   ]
  },
  {
   "cell_type": "code",
   "execution_count": 20,
   "id": "748a3153",
   "metadata": {},
   "outputs": [
    {
     "data": {
      "text/plain": [
       "[('너무', 0.7178363800048828),\n",
       " ('이렇게', 0.7175489068031311),\n",
       " ('이건', 0.7005287408828735),\n",
       " ('완전', 0.6868083477020264),\n",
       " ('기억나', 0.6835588216781616),\n",
       " ('흥미', 0.6803199052810669),\n",
       " ('투입', 0.6714426279067993),\n",
       " ('합리', 0.6579347848892212),\n",
       " ('토끼', 0.6564505100250244),\n",
       " ('몰입', 0.6521011590957642)]"
      ]
     },
     "execution_count": 20,
     "metadata": {},
     "output_type": "execute_result"
    }
   ],
   "source": [
    "word_vectors = Word2VecKeyedVectors.load_word2vec_format(lstm_file_path, binary=False)\n",
    "word_vectors.similar_by_word('재미')"
   ]
  },
  {
   "cell_type": "code",
   "execution_count": 21,
   "id": "d0ea727f",
   "metadata": {},
   "outputs": [],
   "source": [
    "cnn_embedding_layer = cnn_model.layers[0]\n",
    "cnn_weights = cnn_embedding_layer.get_weights()[0]\n",
    "cnn_file_path = os.getenv('HOME')+'/aiffel/sentiment_classification/data/cnn.txt'\n",
    "cnn_f = open(cnn_file_path, 'w')\n",
    "cnn_f.write('{} {}\\n'.format(vocab_size-4, word_vector_dim))\n",
    "\n",
    "cnn_vectors = cnn_model.get_weights()[0]\n",
    "for i in range(4,vocab_size):\n",
    "    cnn_f.write('{} {}\\n'.format(index_to_word[i], ' '.join(map(str, list(cnn_vectors[i, :])))))\n",
    "cnn_f.close()"
   ]
  },
  {
   "cell_type": "code",
   "execution_count": 22,
   "id": "03c0e3b3",
   "metadata": {},
   "outputs": [
    {
     "data": {
      "text/plain": [
       "[('공감', 0.5163542032241821),\n",
       " ('되게', 0.5145019888877869),\n",
       " ('지날수록', 0.5137636065483093),\n",
       " ('매력', 0.5084421634674072),\n",
       " ('다름', 0.491557240486145),\n",
       " ('긴장감', 0.4895498752593994),\n",
       " ('기쁨', 0.48704349994659424),\n",
       " ('잼', 0.48646461963653564),\n",
       " ('세염', 0.4845619797706604),\n",
       " ('존재감', 0.4766695499420166)]"
      ]
     },
     "execution_count": 22,
     "metadata": {},
     "output_type": "execute_result"
    }
   ],
   "source": [
    "word_vectors = Word2VecKeyedVectors.load_word2vec_format(cnn_file_path, binary=False)\n",
    "word_vectors.similar_by_word('재미')"
   ]
  },
  {
   "cell_type": "code",
   "execution_count": 23,
   "id": "043f2f89",
   "metadata": {},
   "outputs": [],
   "source": [
    "gm_embedding_layer = gm_model.layers[0]\n",
    "gm_weights = gm_embedding_layer.get_weights()[0]\n",
    "gm_file_path = os.getenv('HOME')+'/aiffel/sentiment_classification/data/gm.txt'\n",
    "gm_f = open(gm_file_path, 'w')\n",
    "gm_f.write('{} {}\\n'.format(vocab_size-4, word_vector_dim))\n",
    "\n",
    "gm_vectors = gm_model.get_weights()[0]\n",
    "for i in range(4,vocab_size):\n",
    "    gm_f.write('{} {}\\n'.format(index_to_word[i], ' '.join(map(str, list(gm_vectors[i, :])))))\n",
    "gm_f.close()"
   ]
  },
  {
   "cell_type": "code",
   "execution_count": 24,
   "id": "e6605d3a",
   "metadata": {},
   "outputs": [
    {
     "data": {
      "text/plain": [
       "[('되', 0.4770109951496124),\n",
       " ('고', 0.40470728278160095),\n",
       " ('스릴', 0.404150128364563),\n",
       " ('예쁜', 0.39660802483558655),\n",
       " ('것', 0.387149453163147),\n",
       " ('모임', 0.38396942615509033),\n",
       " ('사탕', 0.3621423840522766),\n",
       " ('~', 0.3610564172267914),\n",
       " ('주', 0.3532056510448456),\n",
       " ('아', 0.35183602571487427)]"
      ]
     },
     "execution_count": 24,
     "metadata": {},
     "output_type": "execute_result"
    }
   ],
   "source": [
    "word_vectors = Word2VecKeyedVectors.load_word2vec_format(gm_file_path, binary=False)\n",
    "word_vectors.similar_by_word('재미')"
   ]
  },
  {
   "cell_type": "markdown",
   "id": "958711d7",
   "metadata": {},
   "source": [
    "### 8. Word2Vec 이용하기"
   ]
  },
  {
   "cell_type": "code",
   "execution_count": 25,
   "id": "0999b89b",
   "metadata": {},
   "outputs": [],
   "source": [
    "word2vec_path = os.getenv('HOME') + '/aiffel/sentiment_classification/ko.bin'\n",
    "word2vec = Word2Vec.load(word2vec_path)"
   ]
  },
  {
   "cell_type": "code",
   "execution_count": 26,
   "id": "a28e3dc9",
   "metadata": {},
   "outputs": [
    {
     "name": "stderr",
     "output_type": "stream",
     "text": [
      "/tmp/ipykernel_8664/3642096145.py:1: DeprecationWarning: Call to deprecated `similar_by_word` (Method will be removed in 4.0.0, use self.wv.similar_by_word() instead).\n",
      "  word2vec.similar_by_word('재미')\n"
     ]
    },
    {
     "data": {
      "text/plain": [
       "[('취미', 0.5857348442077637),\n",
       " ('유머', 0.5140613913536072),\n",
       " ('매력', 0.5105490684509277),\n",
       " ('흥미', 0.4988338351249695),\n",
       " ('공짜', 0.4960595667362213),\n",
       " ('일자리', 0.49294644594192505),\n",
       " ('즐거움', 0.48700767755508423),\n",
       " ('비애', 0.4836210310459137),\n",
       " ('관객', 0.48286449909210205),\n",
       " ('향수', 0.4823310971260071)]"
      ]
     },
     "execution_count": 26,
     "metadata": {},
     "output_type": "execute_result"
    }
   ],
   "source": [
    "word2vec.similar_by_word('재미')"
   ]
  },
  {
   "cell_type": "code",
   "execution_count": 27,
   "id": "b7704ca4",
   "metadata": {},
   "outputs": [
    {
     "name": "stderr",
     "output_type": "stream",
     "text": [
      "/tmp/ipykernel_8664/489849284.py:7: DeprecationWarning: Call to deprecated `__contains__` (Method will be removed in 4.0.0, use self.wv.__contains__() instead).\n",
      "  if index_to_word[i] in word2vec:\n",
      "/tmp/ipykernel_8664/489849284.py:8: DeprecationWarning: Call to deprecated `__getitem__` (Method will be removed in 4.0.0, use self.wv.__getitem__() instead).\n",
      "  embedding_matrix[i] = word2vec[index_to_word[i]]\n"
     ]
    }
   ],
   "source": [
    "vocab_size = 10000    \n",
    "word_vector_dim = 200  \n",
    "embedding_matrix = np.random.rand(vocab_size, word_vector_dim)\n",
    "\n",
    "# embedding_matrix에 Word2Vec 워드 벡터를 단어 하나씩마다 차례차례 카피한다.\n",
    "for i in range(4,vocab_size):\n",
    "    if index_to_word[i] in word2vec:\n",
    "        embedding_matrix[i] = word2vec[index_to_word[i]]"
   ]
  },
  {
   "cell_type": "code",
   "execution_count": 28,
   "id": "adc61016",
   "metadata": {},
   "outputs": [
    {
     "name": "stdout",
     "output_type": "stream",
     "text": [
      "Model: \"sequential_3\"\n",
      "_________________________________________________________________\n",
      "Layer (type)                 Output Shape              Param #   \n",
      "=================================================================\n",
      "embedding_3 (Embedding)      (None, 40, 200)           2000000   \n",
      "_________________________________________________________________\n",
      "conv1d_2 (Conv1D)            (None, 40, 16)            22416     \n",
      "_________________________________________________________________\n",
      "max_pooling1d_1 (MaxPooling1 (None, 8, 16)             0         \n",
      "_________________________________________________________________\n",
      "conv1d_3 (Conv1D)            (None, 8, 16)             1808      \n",
      "_________________________________________________________________\n",
      "global_max_pooling1d_2 (Glob (None, 16)                0         \n",
      "_________________________________________________________________\n",
      "dense_6 (Dense)              (None, 8)                 136       \n",
      "_________________________________________________________________\n",
      "dense_7 (Dense)              (None, 1)                 9         \n",
      "=================================================================\n",
      "Total params: 2,024,369\n",
      "Trainable params: 2,024,369\n",
      "Non-trainable params: 0\n",
      "_________________________________________________________________\n"
     ]
    }
   ],
   "source": [
    "from tensorflow.keras.initializers import Constant\n",
    "\n",
    "vocab_size = 10000    \n",
    "word_vector_dim = 200  \n",
    "\n",
    "# 모델 구성\n",
    "model = tf.keras.Sequential()\n",
    "model.add(tf.keras.layers.Embedding(vocab_size, \n",
    "                                 word_vector_dim, \n",
    "                                 embeddings_initializer=Constant(embedding_matrix),  # 카피한 임베딩을 여기서 활용\n",
    "                                 input_length=max_len, \n",
    "                                 trainable=True))   \n",
    "model.add(tf.keras.layers.Conv1D(16, 7, padding='same',activation='relu'))\n",
    "model.add(tf.keras.layers.MaxPooling1D(5))\n",
    "model.add(tf.keras.layers.Conv1D(16, 7, padding='same', activation='relu'))\n",
    "model.add(tf.keras.layers.GlobalMaxPooling1D())\n",
    "model.add(tf.keras.layers.Dense(8, activation='relu'))\n",
    "model.add(tf.keras.layers.Dense(1, activation='sigmoid')) \n",
    "\n",
    "model.summary()"
   ]
  },
  {
   "cell_type": "code",
   "execution_count": 29,
   "id": "33a9449f",
   "metadata": {},
   "outputs": [
    {
     "name": "stdout",
     "output_type": "stream",
     "text": [
      "Epoch 1/3\n",
      "266/266 [==============================] - 2s 7ms/step - loss: 0.5546 - accuracy: 0.7013 - val_loss: 0.4274 - val_accuracy: 0.8039\n",
      "Epoch 2/3\n",
      "266/266 [==============================] - 2s 6ms/step - loss: 0.3794 - accuracy: 0.8319 - val_loss: 0.3598 - val_accuracy: 0.8397\n",
      "Epoch 3/3\n",
      "266/266 [==============================] - 2s 6ms/step - loss: 0.3212 - accuracy: 0.8627 - val_loss: 0.3462 - val_accuracy: 0.8454\n"
     ]
    }
   ],
   "source": [
    "model.compile(optimizer='adam',\n",
    "              loss='binary_crossentropy',\n",
    "              metrics=['accuracy'])\n",
    "              \n",
    "epochs=3 \n",
    "\n",
    "history = model.fit(partial_X_train,\n",
    "                    partial_y_train,\n",
    "                    epochs=epochs,\n",
    "                    batch_size=512,\n",
    "                    validation_data=(X_val, y_val),\n",
    "                    verbose=1)"
   ]
  },
  {
   "cell_type": "code",
   "execution_count": 30,
   "id": "48e5b4df",
   "metadata": {},
   "outputs": [
    {
     "data": {
      "image/png": "[encoded data removed]",
      "text/plain": [
       "<Figure size 432x288 with 1 Axes>"
      ]
     },
     "metadata": {
      "needs_background": "light"
     },
     "output_type": "display_data"
    },
    {
     "name": "stdout",
     "output_type": "stream",
     "text": [
      "1537/1537 [==============================] - 3s 2ms/step - loss: 0.3569 - accuracy: 0.8445\n"
     ]
    },
    {
     "data": {
      "text/plain": [
       "[0.35694628953933716, 0.8445389270782471]"
      ]
     },
     "execution_count": 30,
     "metadata": {},
     "output_type": "execute_result"
    },
    {
     "data": {
      "image/png": "[encoded data removed]",
      "text/plain": [
       "<Figure size 432x288 with 1 Axes>"
      ]
     },
     "metadata": {
      "needs_background": "light"
     },
     "output_type": "display_data"
    }
   ],
   "source": [
    "history_dict = history.history\n",
    "\n",
    "loss = history_dict['loss']\n",
    "val_loss = history_dict['val_loss']\n",
    "accuracy = history_dict['accuracy']\n",
    "val_accuracy = history_dict['val_accuracy']\n",
    "epochs = range(1, len(loss)+1)\n",
    "\n",
    "plt.plot(epochs, loss, label='train_set loss')\n",
    "plt.plot(epochs, val_loss, label='val_set loss')\n",
    "plt.title('Loss')\n",
    "plt.xlabel('Epochs')\n",
    "plt.ylabel('Loss')\n",
    "plt.legend()\n",
    "plt.show()\n",
    "\n",
    "plt.plot(epochs, accuracy, label='train_set accuracy')\n",
    "plt.plot(epochs, val_accuracy, label='val_set accuracy')\n",
    "plt.title('Accuracy')\n",
    "plt.legend()\n",
    "plt.xlabel('Epochs')\n",
    "plt.ylabel('Accuracy')\n",
    "\n",
    "model.evaluate(X_test, y_test, verbose=1)"
   ]
  },
  {
   "cell_type": "markdown",
   "id": "5a9dcefa",
   "metadata": {},
   "source": [
    "### 9. 회고\n",
    "\n",
    " 처음엔 epoch 값을 30으로 두고 학습을 시켰는데, 전반적으로 과적합이 일어난 것으로 보인다. callback을 설정해서 전체 epoch가 끝나기 전 성능 향상이 없는 경우 훈련을 멈추는 식으로 어느 부분이 문제인지 확인해볼 수 있을 것 같다. 전반적으로 0-5 까지는 validation set의 정확도가 향상되다가 그 이후로 줄어드는 경향을 보였다. 그래서 epoch 값을 3으로 설정해 다시 학습을 시켜봤지만, epoch가 30일 때 정확도가 82-84%였다면 3으로 조정하고 나서는 85%-86% 정도로, 큰 변화를 보이진 않았다.\n",
    " 한편 Word2Vec을 이용할 경우 similar_by_word의 결과값에서 유사도가 가장 높았지만, 모델의 정확성 측면에선 다른 모델보다 높지 않은 것으로 나왔다. 다양한 값을 조절해봤지만 큰 향상은 되지 않아 이유를 더 찾아봐야할 것 같다. "
   ]
  }
 ],
 "metadata": {
  "kernelspec": {
   "display_name": "Python 3 (ipykernel)",
   "language": "python",
   "name": "python3"
  },
  "language_info": {
   "codemirror_mode": {
    "name": "ipython",
    "version": 3
   },
   "file_extension": ".py",
   "mimetype": "text/x-python",
   "name": "python",
   "nbconvert_exporter": "python",
   "pygments_lexer": "ipython3",
   "version": "3.9.7"
  }
 },
 "nbformat": 4,
 "nbformat_minor": 5
}
