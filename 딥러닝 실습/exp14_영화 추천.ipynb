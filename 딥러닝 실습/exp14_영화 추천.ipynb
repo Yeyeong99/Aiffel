{
 "cells": [
  {
   "cell_type": "markdown",
   "id": "8cbff695",
   "metadata": {},
   "source": [
    "# Movielens 영화 추천 실습\n",
    "\n",
    "## 가정\n",
    "1. 유저가 평가한 별점을 시청횟수로 해석할 것\n",
    "2. 3점 미만으로 준 데이터는 선호하지 않는다고 가정해 제외\n",
    "\n",
    "## 순서\n",
    "1. 데이터 준비와 전처리\n",
    "2. 데이터 분석\n",
    "3. 5개의 선호 영화 예시 선별\n",
    "4. CSR matrix 생성\n",
    "5. 모델 구성 및 훈련\n",
    "6. 3의 영화 외의 영화 하나를 선별해 선호도 예측\n",
    "7. 3의 영화와 비슷한 영화 추천하기\n",
    "8. 가장 선호할 만한 영화 추천"
   ]
  },
  {
   "cell_type": "markdown",
   "id": "11104fbb",
   "metadata": {},
   "source": [
    "### 1. 데이터 준비와 전처리"
   ]
  },
  {
   "cell_type": "code",
   "execution_count": 1,
   "id": "04a02a85",
   "metadata": {},
   "outputs": [],
   "source": [
    "import os\n",
    "import pandas as pd"
   ]
  },
  {
   "cell_type": "code",
   "execution_count": 2,
   "id": "438ac6bf",
   "metadata": {},
   "outputs": [
    {
     "data": {
      "text/html": [
       "<div>\n",
       "<style scoped>\n",
       "    .dataframe tbody tr th:only-of-type {\n",
       "        vertical-align: middle;\n",
       "    }\n",
       "\n",
       "    .dataframe tbody tr th {\n",
       "        vertical-align: top;\n",
       "    }\n",
       "\n",
       "    .dataframe thead th {\n",
       "        text-align: right;\n",
       "    }\n",
       "</style>\n",
       "<table border=\"1\" class=\"dataframe\">\n",
       "  <thead>\n",
       "    <tr style=\"text-align: right;\">\n",
       "      <th></th>\n",
       "      <th>user_id</th>\n",
       "      <th>movie_id</th>\n",
       "      <th>ratings</th>\n",
       "      <th>timestamp</th>\n",
       "    </tr>\n",
       "  </thead>\n",
       "  <tbody>\n",
       "    <tr>\n",
       "      <th>0</th>\n",
       "      <td>1</td>\n",
       "      <td>1193</td>\n",
       "      <td>5</td>\n",
       "      <td>978300760</td>\n",
       "    </tr>\n",
       "    <tr>\n",
       "      <th>1</th>\n",
       "      <td>1</td>\n",
       "      <td>661</td>\n",
       "      <td>3</td>\n",
       "      <td>978302109</td>\n",
       "    </tr>\n",
       "    <tr>\n",
       "      <th>2</th>\n",
       "      <td>1</td>\n",
       "      <td>914</td>\n",
       "      <td>3</td>\n",
       "      <td>978301968</td>\n",
       "    </tr>\n",
       "    <tr>\n",
       "      <th>3</th>\n",
       "      <td>1</td>\n",
       "      <td>3408</td>\n",
       "      <td>4</td>\n",
       "      <td>978300275</td>\n",
       "    </tr>\n",
       "    <tr>\n",
       "      <th>4</th>\n",
       "      <td>1</td>\n",
       "      <td>2355</td>\n",
       "      <td>5</td>\n",
       "      <td>978824291</td>\n",
       "    </tr>\n",
       "  </tbody>\n",
       "</table>\n",
       "</div>"
      ],
      "text/plain": [
       "   user_id  movie_id  ratings  timestamp\n",
       "0        1      1193        5  978300760\n",
       "1        1       661        3  978302109\n",
       "2        1       914        3  978301968\n",
       "3        1      3408        4  978300275\n",
       "4        1      2355        5  978824291"
      ]
     },
     "execution_count": 2,
     "metadata": {},
     "output_type": "execute_result"
    }
   ],
   "source": [
    "rating_file_path=os.getenv('HOME') + '/aiffel/recommendata_iu/data/ml-1m/ratings.dat'\n",
    "ratings_cols = ['user_id', 'movie_id', 'ratings', 'timestamp']\n",
    "ratings = pd.read_csv(rating_file_path, sep='::', names=ratings_cols, engine='python', encoding = \"ISO-8859-1\")\n",
    "orginal_data_size = len(ratings)\n",
    "ratings.head()"
   ]
  },
  {
   "cell_type": "code",
   "execution_count": 3,
   "id": "8c1aeadc",
   "metadata": {},
   "outputs": [
    {
     "name": "stdout",
     "output_type": "stream",
     "text": [
      "orginal_data_size: 1000209, filtered_data_size: 836478\n",
      "Ratio of Remaining Data is 83.63%\n"
     ]
    }
   ],
   "source": [
    "# 3점 미만을 받은 데이터는 제외\n",
    "ratings = ratings[ratings['ratings']>=3]\n",
    "filtered_data_size = len(ratings)\n",
    "\n",
    "print(f'orginal_data_size: {orginal_data_size}, filtered_data_size: {filtered_data_size}')\n",
    "print(f'Ratio of Remaining Data is {filtered_data_size / orginal_data_size:.2%}')"
   ]
  },
  {
   "cell_type": "code",
   "execution_count": 4,
   "id": "dea452d7",
   "metadata": {},
   "outputs": [],
   "source": [
    "# ratings의 열 이름을 counts로 바꿈\n",
    "ratings.rename(columns={'ratings':'counts'}, inplace=True)"
   ]
  },
  {
   "cell_type": "code",
   "execution_count": 5,
   "id": "be372613",
   "metadata": {},
   "outputs": [
    {
     "data": {
      "text/plain": [
       "0          5\n",
       "1          3\n",
       "2          3\n",
       "3          4\n",
       "4          5\n",
       "          ..\n",
       "1000203    3\n",
       "1000205    5\n",
       "1000206    5\n",
       "1000207    4\n",
       "1000208    4\n",
       "Name: counts, Length: 836478, dtype: int64"
      ]
     },
     "execution_count": 5,
     "metadata": {},
     "output_type": "execute_result"
    }
   ],
   "source": [
    "ratings['counts']"
   ]
  },
  {
   "cell_type": "code",
   "execution_count": 6,
   "id": "7739dcdb",
   "metadata": {},
   "outputs": [
    {
     "data": {
      "text/html": [
       "<div>\n",
       "<style scoped>\n",
       "    .dataframe tbody tr th:only-of-type {\n",
       "        vertical-align: middle;\n",
       "    }\n",
       "\n",
       "    .dataframe tbody tr th {\n",
       "        vertical-align: top;\n",
       "    }\n",
       "\n",
       "    .dataframe thead th {\n",
       "        text-align: right;\n",
       "    }\n",
       "</style>\n",
       "<table border=\"1\" class=\"dataframe\">\n",
       "  <thead>\n",
       "    <tr style=\"text-align: right;\">\n",
       "      <th></th>\n",
       "      <th>movie_id</th>\n",
       "      <th>title</th>\n",
       "      <th>genre</th>\n",
       "    </tr>\n",
       "  </thead>\n",
       "  <tbody>\n",
       "    <tr>\n",
       "      <th>0</th>\n",
       "      <td>1</td>\n",
       "      <td>Toy Story (1995)</td>\n",
       "      <td>Animation|Children's|Comedy</td>\n",
       "    </tr>\n",
       "    <tr>\n",
       "      <th>1</th>\n",
       "      <td>2</td>\n",
       "      <td>Jumanji (1995)</td>\n",
       "      <td>Adventure|Children's|Fantasy</td>\n",
       "    </tr>\n",
       "    <tr>\n",
       "      <th>2</th>\n",
       "      <td>3</td>\n",
       "      <td>Grumpier Old Men (1995)</td>\n",
       "      <td>Comedy|Romance</td>\n",
       "    </tr>\n",
       "    <tr>\n",
       "      <th>3</th>\n",
       "      <td>4</td>\n",
       "      <td>Waiting to Exhale (1995)</td>\n",
       "      <td>Comedy|Drama</td>\n",
       "    </tr>\n",
       "    <tr>\n",
       "      <th>4</th>\n",
       "      <td>5</td>\n",
       "      <td>Father of the Bride Part II (1995)</td>\n",
       "      <td>Comedy</td>\n",
       "    </tr>\n",
       "  </tbody>\n",
       "</table>\n",
       "</div>"
      ],
      "text/plain": [
       "   movie_id                               title                         genre\n",
       "0         1                    Toy Story (1995)   Animation|Children's|Comedy\n",
       "1         2                      Jumanji (1995)  Adventure|Children's|Fantasy\n",
       "2         3             Grumpier Old Men (1995)                Comedy|Romance\n",
       "3         4            Waiting to Exhale (1995)                  Comedy|Drama\n",
       "4         5  Father of the Bride Part II (1995)                        Comedy"
      ]
     },
     "execution_count": 6,
     "metadata": {},
     "output_type": "execute_result"
    }
   ],
   "source": [
    "# 영화 제목을 확인하기 위해 메타 데이터를 읽어옴\n",
    "movie_file_path=os.getenv('HOME') + '/aiffel/recommendata_iu/data/ml-1m/movies.dat'\n",
    "cols = ['movie_id', 'title', 'genre'] \n",
    "movies = pd.read_csv(movie_file_path, sep='::', names=cols, engine='python', encoding='ISO-8859-1')\n",
    "movies.head()"
   ]
  },
  {
   "cell_type": "markdown",
   "id": "215dc74a",
   "metadata": {},
   "source": [
    "영화 제목을 읽어온 데이터 프레임과 평점을 읽어온 데이터 프레임을 합쳐준다. 그리고 사용하지 않을 컬럼은 제거한다."
   ]
  },
  {
   "cell_type": "code",
   "execution_count": 7,
   "id": "4ef19d18",
   "metadata": {},
   "outputs": [],
   "source": [
    "df = ratings.join(movies.set_index('movie_id'), on='movie_id').drop(columns=['timestamp', 'genre'])"
   ]
  },
  {
   "cell_type": "code",
   "execution_count": 8,
   "id": "eb6d173e",
   "metadata": {},
   "outputs": [
    {
     "data": {
      "text/html": [
       "<div>\n",
       "<style scoped>\n",
       "    .dataframe tbody tr th:only-of-type {\n",
       "        vertical-align: middle;\n",
       "    }\n",
       "\n",
       "    .dataframe tbody tr th {\n",
       "        vertical-align: top;\n",
       "    }\n",
       "\n",
       "    .dataframe thead th {\n",
       "        text-align: right;\n",
       "    }\n",
       "</style>\n",
       "<table border=\"1\" class=\"dataframe\">\n",
       "  <thead>\n",
       "    <tr style=\"text-align: right;\">\n",
       "      <th></th>\n",
       "      <th>user_id</th>\n",
       "      <th>movie_id</th>\n",
       "      <th>counts</th>\n",
       "      <th>title</th>\n",
       "    </tr>\n",
       "  </thead>\n",
       "  <tbody>\n",
       "    <tr>\n",
       "      <th>0</th>\n",
       "      <td>1</td>\n",
       "      <td>1193</td>\n",
       "      <td>5</td>\n",
       "      <td>One Flew Over the Cuckoo's Nest (1975)</td>\n",
       "    </tr>\n",
       "    <tr>\n",
       "      <th>1</th>\n",
       "      <td>1</td>\n",
       "      <td>661</td>\n",
       "      <td>3</td>\n",
       "      <td>James and the Giant Peach (1996)</td>\n",
       "    </tr>\n",
       "    <tr>\n",
       "      <th>2</th>\n",
       "      <td>1</td>\n",
       "      <td>914</td>\n",
       "      <td>3</td>\n",
       "      <td>My Fair Lady (1964)</td>\n",
       "    </tr>\n",
       "    <tr>\n",
       "      <th>3</th>\n",
       "      <td>1</td>\n",
       "      <td>3408</td>\n",
       "      <td>4</td>\n",
       "      <td>Erin Brockovich (2000)</td>\n",
       "    </tr>\n",
       "    <tr>\n",
       "      <th>4</th>\n",
       "      <td>1</td>\n",
       "      <td>2355</td>\n",
       "      <td>5</td>\n",
       "      <td>Bug's Life, A (1998)</td>\n",
       "    </tr>\n",
       "  </tbody>\n",
       "</table>\n",
       "</div>"
      ],
      "text/plain": [
       "   user_id  movie_id  counts                                   title\n",
       "0        1      1193       5  One Flew Over the Cuckoo's Nest (1975)\n",
       "1        1       661       3        James and the Giant Peach (1996)\n",
       "2        1       914       3                     My Fair Lady (1964)\n",
       "3        1      3408       4                  Erin Brockovich (2000)\n",
       "4        1      2355       5                    Bug's Life, A (1998)"
      ]
     },
     "execution_count": 8,
     "metadata": {},
     "output_type": "execute_result"
    }
   ],
   "source": [
    "df.head()"
   ]
  },
  {
   "cell_type": "markdown",
   "id": "bc5cb0dc",
   "metadata": {},
   "source": [
    "### 2. 데이터 분석"
   ]
  },
  {
   "cell_type": "code",
   "execution_count": 9,
   "id": "cdcb5402",
   "metadata": {},
   "outputs": [
    {
     "data": {
      "text/plain": [
       "6039"
      ]
     },
     "execution_count": 9,
     "metadata": {},
     "output_type": "execute_result"
    }
   ],
   "source": [
    "df['user_id'].nunique()"
   ]
  },
  {
   "cell_type": "code",
   "execution_count": 10,
   "id": "f81f9dc0",
   "metadata": {},
   "outputs": [
    {
     "data": {
      "text/plain": [
       "3628"
      ]
     },
     "execution_count": 10,
     "metadata": {},
     "output_type": "execute_result"
    }
   ],
   "source": [
    "df['movie_id'].nunique()"
   ]
  },
  {
   "cell_type": "code",
   "execution_count": 11,
   "id": "5be5784c",
   "metadata": {},
   "outputs": [
    {
     "data": {
      "text/plain": [
       "title\n",
       "American Beauty (1999)                                   3211\n",
       "Star Wars: Episode IV - A New Hope (1977)                2910\n",
       "Star Wars: Episode V - The Empire Strikes Back (1980)    2885\n",
       "Star Wars: Episode VI - Return of the Jedi (1983)        2716\n",
       "Saving Private Ryan (1998)                               2561\n",
       "Terminator 2: Judgment Day (1991)                        2509\n",
       "Silence of the Lambs, The (1991)                         2498\n",
       "Raiders of the Lost Ark (1981)                           2473\n",
       "Back to the Future (1985)                                2460\n",
       "Matrix, The (1999)                                       2434\n",
       "Jurassic Park (1993)                                     2413\n",
       "Sixth Sense, The (1999)                                  2385\n",
       "Fargo (1996)                                             2371\n",
       "Braveheart (1995)                                        2314\n",
       "Men in Black (1997)                                      2297\n",
       "Schindler's List (1993)                                  2257\n",
       "Princess Bride, The (1987)                               2252\n",
       "Shakespeare in Love (1998)                               2213\n",
       "L.A. Confidential (1997)                                 2210\n",
       "Shawshank Redemption, The (1994)                         2194\n",
       "Godfather, The (1972)                                    2167\n",
       "Groundhog Day (1993)                                     2121\n",
       "E.T. the Extra-Terrestrial (1982)                        2102\n",
       "Being John Malkovich (1999)                              2066\n",
       "Ghostbusters (1984)                                      2051\n",
       "Pulp Fiction (1994)                                      2030\n",
       "Forrest Gump (1994)                                      2022\n",
       "Terminator, The (1984)                                   2019\n",
       "Toy Story (1995)                                         2000\n",
       "Fugitive, The (1993)                                     1941\n",
       "Alien (1979)                                             1920\n",
       "Gladiator (2000)                                         1798\n",
       "Total Recall (1990)                                      1786\n",
       "Star Wars: Episode I - The Phantom Menace (1999)         1783\n",
       "Usual Suspects, The (1995)                               1744\n",
       "Stand by Me (1986)                                       1728\n",
       "Blade Runner (1982)                                      1722\n",
       "Aliens (1986)                                            1720\n",
       "One Flew Over the Cuckoo's Nest (1975)                   1680\n",
       "Wizard of Oz, The (1939)                                 1650\n",
       "Godfather: Part II, The (1974)                           1624\n",
       "Casablanca (1942)                                        1623\n",
       "Who Framed Roger Rabbit? (1988)                          1605\n",
       "Bug's Life, A (1998)                                     1599\n",
       "Jaws (1975)                                              1598\n",
       "GoodFellas (1990)                                        1595\n",
       "Die Hard (1988)                                          1593\n",
       "Hunt for Red October, The (1990)                         1587\n",
       "Airplane! (1980)                                         1586\n",
       "Babe (1995)                                              1574\n",
       "Name: user_id, dtype: int64"
      ]
     },
     "execution_count": 11,
     "metadata": {},
     "output_type": "execute_result"
    }
   ],
   "source": [
    "# 가장 인기 많은 영화 50 개\n",
    "famous_movie = df.groupby('title')['user_id'].count()\n",
    "famous_movie.sort_values(ascending=False).head(50)"
   ]
  },
  {
   "cell_type": "code",
   "execution_count": 12,
   "id": "26c1e53b",
   "metadata": {},
   "outputs": [
    {
     "data": {
      "text/plain": [
       "count    6039.000000\n",
       "mean      138.512668\n",
       "std       156.241599\n",
       "min         1.000000\n",
       "25%        38.000000\n",
       "50%        81.000000\n",
       "75%       177.000000\n",
       "max      1968.000000\n",
       "Name: movie_id, dtype: float64"
      ]
     },
     "execution_count": 12,
     "metadata": {},
     "output_type": "execute_result"
    }
   ],
   "source": [
    "# user 별 통계\n",
    "user_sta = df.groupby('user_id')['movie_id'].count()\n",
    "user_sta.describe()"
   ]
  },
  {
   "cell_type": "markdown",
   "id": "4b2fffc3",
   "metadata": {},
   "source": [
    "### 3. 5개의 선호 영화 예시 선별\n"
   ]
  },
  {
   "cell_type": "code",
   "execution_count": 13,
   "id": "9cbc14c8",
   "metadata": {},
   "outputs": [
    {
     "data": {
      "text/html": [
       "<div>\n",
       "<style scoped>\n",
       "    .dataframe tbody tr th:only-of-type {\n",
       "        vertical-align: middle;\n",
       "    }\n",
       "\n",
       "    .dataframe tbody tr th {\n",
       "        vertical-align: top;\n",
       "    }\n",
       "\n",
       "    .dataframe thead th {\n",
       "        text-align: right;\n",
       "    }\n",
       "</style>\n",
       "<table border=\"1\" class=\"dataframe\">\n",
       "  <thead>\n",
       "    <tr style=\"text-align: right;\">\n",
       "      <th></th>\n",
       "      <th>movie_id</th>\n",
       "      <th>title</th>\n",
       "      <th>genre</th>\n",
       "    </tr>\n",
       "  </thead>\n",
       "  <tbody>\n",
       "    <tr>\n",
       "      <th>325</th>\n",
       "      <td>329</td>\n",
       "      <td>Star Trek: Generations (1994)</td>\n",
       "      <td>Action|Adventure|Sci-Fi</td>\n",
       "    </tr>\n",
       "    <tr>\n",
       "      <th>1335</th>\n",
       "      <td>1356</td>\n",
       "      <td>Star Trek: First Contact (1996)</td>\n",
       "      <td>Action|Adventure|Sci-Fi</td>\n",
       "    </tr>\n",
       "    <tr>\n",
       "      <th>1350</th>\n",
       "      <td>1371</td>\n",
       "      <td>Star Trek: The Motion Picture (1979)</td>\n",
       "      <td>Action|Adventure|Sci-Fi</td>\n",
       "    </tr>\n",
       "    <tr>\n",
       "      <th>1351</th>\n",
       "      <td>1372</td>\n",
       "      <td>Star Trek VI: The Undiscovered Country (1991)</td>\n",
       "      <td>Action|Adventure|Sci-Fi</td>\n",
       "    </tr>\n",
       "    <tr>\n",
       "      <th>1352</th>\n",
       "      <td>1373</td>\n",
       "      <td>Star Trek V: The Final Frontier (1989)</td>\n",
       "      <td>Action|Adventure|Sci-Fi</td>\n",
       "    </tr>\n",
       "    <tr>\n",
       "      <th>1353</th>\n",
       "      <td>1374</td>\n",
       "      <td>Star Trek: The Wrath of Khan (1982)</td>\n",
       "      <td>Action|Adventure|Sci-Fi</td>\n",
       "    </tr>\n",
       "    <tr>\n",
       "      <th>1354</th>\n",
       "      <td>1375</td>\n",
       "      <td>Star Trek III: The Search for Spock (1984)</td>\n",
       "      <td>Action|Adventure|Sci-Fi</td>\n",
       "    </tr>\n",
       "    <tr>\n",
       "      <th>1355</th>\n",
       "      <td>1376</td>\n",
       "      <td>Star Trek IV: The Voyage Home (1986)</td>\n",
       "      <td>Action|Adventure|Sci-Fi</td>\n",
       "    </tr>\n",
       "    <tr>\n",
       "      <th>2324</th>\n",
       "      <td>2393</td>\n",
       "      <td>Star Trek: Insurrection (1998)</td>\n",
       "      <td>Action|Sci-Fi</td>\n",
       "    </tr>\n",
       "  </tbody>\n",
       "</table>\n",
       "</div>"
      ],
      "text/plain": [
       "      movie_id                                          title  \\\n",
       "325        329                  Star Trek: Generations (1994)   \n",
       "1335      1356                Star Trek: First Contact (1996)   \n",
       "1350      1371           Star Trek: The Motion Picture (1979)   \n",
       "1351      1372  Star Trek VI: The Undiscovered Country (1991)   \n",
       "1352      1373         Star Trek V: The Final Frontier (1989)   \n",
       "1353      1374            Star Trek: The Wrath of Khan (1982)   \n",
       "1354      1375     Star Trek III: The Search for Spock (1984)   \n",
       "1355      1376           Star Trek IV: The Voyage Home (1986)   \n",
       "2324      2393                 Star Trek: Insurrection (1998)   \n",
       "\n",
       "                        genre  \n",
       "325   Action|Adventure|Sci-Fi  \n",
       "1335  Action|Adventure|Sci-Fi  \n",
       "1350  Action|Adventure|Sci-Fi  \n",
       "1351  Action|Adventure|Sci-Fi  \n",
       "1352  Action|Adventure|Sci-Fi  \n",
       "1353  Action|Adventure|Sci-Fi  \n",
       "1354  Action|Adventure|Sci-Fi  \n",
       "1355  Action|Adventure|Sci-Fi  \n",
       "2324            Action|Sci-Fi  "
      ]
     },
     "execution_count": 13,
     "metadata": {},
     "output_type": "execute_result"
    }
   ],
   "source": [
    "movies[movies['title'].str.lower().str.contains('star trek', regex=False)]"
   ]
  },
  {
   "cell_type": "code",
   "execution_count": 14,
   "id": "5c1c5143",
   "metadata": {},
   "outputs": [],
   "source": [
    "example_movies_id = [329, 1356, 1371, 1372, 1374]\n",
    "example_movies_title = [movies[movies['movie_id'] == i]['title'].to_list() for i in example_movies_id]\n",
    "\n",
    "example_movies_title = list(map(lambda x: \" \".join(x),example_movies_title))"
   ]
  },
  {
   "cell_type": "code",
   "execution_count": 15,
   "id": "94fb74eb",
   "metadata": {},
   "outputs": [
    {
     "data": {
      "text/html": [
       "<div>\n",
       "<style scoped>\n",
       "    .dataframe tbody tr th:only-of-type {\n",
       "        vertical-align: middle;\n",
       "    }\n",
       "\n",
       "    .dataframe tbody tr th {\n",
       "        vertical-align: top;\n",
       "    }\n",
       "\n",
       "    .dataframe thead th {\n",
       "        text-align: right;\n",
       "    }\n",
       "</style>\n",
       "<table border=\"1\" class=\"dataframe\">\n",
       "  <thead>\n",
       "    <tr style=\"text-align: right;\">\n",
       "      <th></th>\n",
       "      <th>user_id</th>\n",
       "      <th>movie_id</th>\n",
       "      <th>counts</th>\n",
       "      <th>title</th>\n",
       "    </tr>\n",
       "  </thead>\n",
       "  <tbody>\n",
       "    <tr>\n",
       "      <th>0</th>\n",
       "      <td>sample</td>\n",
       "      <td>329</td>\n",
       "      <td>5</td>\n",
       "      <td>Star Trek: Generations (1994)</td>\n",
       "    </tr>\n",
       "    <tr>\n",
       "      <th>1</th>\n",
       "      <td>sample</td>\n",
       "      <td>1356</td>\n",
       "      <td>5</td>\n",
       "      <td>Star Trek: First Contact (1996)</td>\n",
       "    </tr>\n",
       "    <tr>\n",
       "      <th>2</th>\n",
       "      <td>sample</td>\n",
       "      <td>1371</td>\n",
       "      <td>5</td>\n",
       "      <td>Star Trek: The Motion Picture (1979)</td>\n",
       "    </tr>\n",
       "    <tr>\n",
       "      <th>3</th>\n",
       "      <td>sample</td>\n",
       "      <td>1372</td>\n",
       "      <td>5</td>\n",
       "      <td>Star Trek VI: The Undiscovered Country (1991)</td>\n",
       "    </tr>\n",
       "    <tr>\n",
       "      <th>4</th>\n",
       "      <td>sample</td>\n",
       "      <td>1374</td>\n",
       "      <td>5</td>\n",
       "      <td>Star Trek: The Wrath of Khan (1982)</td>\n",
       "    </tr>\n",
       "  </tbody>\n",
       "</table>\n",
       "</div>"
      ],
      "text/plain": [
       "  user_id  movie_id  counts                                          title\n",
       "0  sample       329       5                  Star Trek: Generations (1994)\n",
       "1  sample      1356       5                Star Trek: First Contact (1996)\n",
       "2  sample      1371       5           Star Trek: The Motion Picture (1979)\n",
       "3  sample      1372       5  Star Trek VI: The Undiscovered Country (1991)\n",
       "4  sample      1374       5            Star Trek: The Wrath of Khan (1982)"
      ]
     },
     "execution_count": 15,
     "metadata": {},
     "output_type": "execute_result"
    }
   ],
   "source": [
    "movie_list = pd.DataFrame({'user_id': ['sample']*5, 'movie_id': example_movies_id, 'counts': [5]*5, 'title': example_movies_title})\n",
    "movie_list"
   ]
  },
  {
   "cell_type": "code",
   "execution_count": 16,
   "id": "e2a40a44",
   "metadata": {},
   "outputs": [
    {
     "data": {
      "text/html": [
       "<div>\n",
       "<style scoped>\n",
       "    .dataframe tbody tr th:only-of-type {\n",
       "        vertical-align: middle;\n",
       "    }\n",
       "\n",
       "    .dataframe tbody tr th {\n",
       "        vertical-align: top;\n",
       "    }\n",
       "\n",
       "    .dataframe thead th {\n",
       "        text-align: right;\n",
       "    }\n",
       "</style>\n",
       "<table border=\"1\" class=\"dataframe\">\n",
       "  <thead>\n",
       "    <tr style=\"text-align: right;\">\n",
       "      <th></th>\n",
       "      <th>user_id</th>\n",
       "      <th>movie_id</th>\n",
       "      <th>counts</th>\n",
       "      <th>title</th>\n",
       "    </tr>\n",
       "  </thead>\n",
       "  <tbody>\n",
       "    <tr>\n",
       "      <th>836473</th>\n",
       "      <td>6040</td>\n",
       "      <td>1090</td>\n",
       "      <td>3</td>\n",
       "      <td>Platoon (1986)</td>\n",
       "    </tr>\n",
       "    <tr>\n",
       "      <th>836474</th>\n",
       "      <td>6040</td>\n",
       "      <td>1094</td>\n",
       "      <td>5</td>\n",
       "      <td>Crying Game, The (1992)</td>\n",
       "    </tr>\n",
       "    <tr>\n",
       "      <th>836475</th>\n",
       "      <td>6040</td>\n",
       "      <td>562</td>\n",
       "      <td>5</td>\n",
       "      <td>Welcome to the Dollhouse (1995)</td>\n",
       "    </tr>\n",
       "    <tr>\n",
       "      <th>836476</th>\n",
       "      <td>6040</td>\n",
       "      <td>1096</td>\n",
       "      <td>4</td>\n",
       "      <td>Sophie's Choice (1982)</td>\n",
       "    </tr>\n",
       "    <tr>\n",
       "      <th>836477</th>\n",
       "      <td>6040</td>\n",
       "      <td>1097</td>\n",
       "      <td>4</td>\n",
       "      <td>E.T. the Extra-Terrestrial (1982)</td>\n",
       "    </tr>\n",
       "    <tr>\n",
       "      <th>836478</th>\n",
       "      <td>sample</td>\n",
       "      <td>329</td>\n",
       "      <td>5</td>\n",
       "      <td>Star Trek: Generations (1994)</td>\n",
       "    </tr>\n",
       "    <tr>\n",
       "      <th>836479</th>\n",
       "      <td>sample</td>\n",
       "      <td>1356</td>\n",
       "      <td>5</td>\n",
       "      <td>Star Trek: First Contact (1996)</td>\n",
       "    </tr>\n",
       "    <tr>\n",
       "      <th>836480</th>\n",
       "      <td>sample</td>\n",
       "      <td>1371</td>\n",
       "      <td>5</td>\n",
       "      <td>Star Trek: The Motion Picture (1979)</td>\n",
       "    </tr>\n",
       "    <tr>\n",
       "      <th>836481</th>\n",
       "      <td>sample</td>\n",
       "      <td>1372</td>\n",
       "      <td>5</td>\n",
       "      <td>Star Trek VI: The Undiscovered Country (1991)</td>\n",
       "    </tr>\n",
       "    <tr>\n",
       "      <th>836482</th>\n",
       "      <td>sample</td>\n",
       "      <td>1374</td>\n",
       "      <td>5</td>\n",
       "      <td>Star Trek: The Wrath of Khan (1982)</td>\n",
       "    </tr>\n",
       "  </tbody>\n",
       "</table>\n",
       "</div>"
      ],
      "text/plain": [
       "       user_id  movie_id  counts  \\\n",
       "836473    6040      1090       3   \n",
       "836474    6040      1094       5   \n",
       "836475    6040       562       5   \n",
       "836476    6040      1096       4   \n",
       "836477    6040      1097       4   \n",
       "836478  sample       329       5   \n",
       "836479  sample      1356       5   \n",
       "836480  sample      1371       5   \n",
       "836481  sample      1372       5   \n",
       "836482  sample      1374       5   \n",
       "\n",
       "                                                title  \n",
       "836473                                 Platoon (1986)  \n",
       "836474                        Crying Game, The (1992)  \n",
       "836475                Welcome to the Dollhouse (1995)  \n",
       "836476                         Sophie's Choice (1982)  \n",
       "836477              E.T. the Extra-Terrestrial (1982)  \n",
       "836478                  Star Trek: Generations (1994)  \n",
       "836479                Star Trek: First Contact (1996)  \n",
       "836480           Star Trek: The Motion Picture (1979)  \n",
       "836481  Star Trek VI: The Undiscovered Country (1991)  \n",
       "836482            Star Trek: The Wrath of Khan (1982)  "
      ]
     },
     "execution_count": 16,
     "metadata": {},
     "output_type": "execute_result"
    }
   ],
   "source": [
    "if not df.isin({'user_id':['sample']})['user_id'].any():  # user_id에 'sample'이라는 데이터가 없다면\n",
    "    df_ap_sample = df.append(movie_list, ignore_index=True)   # 위에 임의로 만든 movie_list 데이터를 추가해 줍니다. \n",
    "\n",
    "df_ap_sample.tail(10)       # 잘 추가되었는지 확인해 봅시다."
   ]
  },
  {
   "cell_type": "markdown",
   "id": "09f921ba",
   "metadata": {},
   "source": [
    "### 4. CSR Matrix 생성"
   ]
  },
  {
   "cell_type": "code",
   "execution_count": 17,
   "id": "06fd92b5",
   "metadata": {},
   "outputs": [],
   "source": [
    "# 고유한 유저와 영화의 개수\n",
    "user_unique = df_ap_sample['user_id'].unique()\n",
    "movie_unique = df_ap_sample['title'].unique()\n",
    "\n",
    "# 고유한 값의 개수만큼 유저 id와 영화 제목을 indexing\n",
    "user_to_idx = {v:k for k,v in enumerate(user_unique)}\n",
    "movie_to_idx = {v:k for k,v in enumerate(movie_unique)}"
   ]
  },
  {
   "cell_type": "code",
   "execution_count": 18,
   "id": "9c52a169",
   "metadata": {},
   "outputs": [
    {
     "name": "stdout",
     "output_type": "stream",
     "text": [
      "user_id column indexing is Done\n",
      "title column indexing is Done\n"
     ]
    },
    {
     "data": {
      "text/html": [
       "<div>\n",
       "<style scoped>\n",
       "    .dataframe tbody tr th:only-of-type {\n",
       "        vertical-align: middle;\n",
       "    }\n",
       "\n",
       "    .dataframe tbody tr th {\n",
       "        vertical-align: top;\n",
       "    }\n",
       "\n",
       "    .dataframe thead th {\n",
       "        text-align: right;\n",
       "    }\n",
       "</style>\n",
       "<table border=\"1\" class=\"dataframe\">\n",
       "  <thead>\n",
       "    <tr style=\"text-align: right;\">\n",
       "      <th></th>\n",
       "      <th>user_id</th>\n",
       "      <th>movie_id</th>\n",
       "      <th>counts</th>\n",
       "      <th>title</th>\n",
       "    </tr>\n",
       "  </thead>\n",
       "  <tbody>\n",
       "    <tr>\n",
       "      <th>0</th>\n",
       "      <td>0</td>\n",
       "      <td>1193</td>\n",
       "      <td>5</td>\n",
       "      <td>0</td>\n",
       "    </tr>\n",
       "    <tr>\n",
       "      <th>1</th>\n",
       "      <td>0</td>\n",
       "      <td>661</td>\n",
       "      <td>3</td>\n",
       "      <td>1</td>\n",
       "    </tr>\n",
       "    <tr>\n",
       "      <th>2</th>\n",
       "      <td>0</td>\n",
       "      <td>914</td>\n",
       "      <td>3</td>\n",
       "      <td>2</td>\n",
       "    </tr>\n",
       "    <tr>\n",
       "      <th>3</th>\n",
       "      <td>0</td>\n",
       "      <td>3408</td>\n",
       "      <td>4</td>\n",
       "      <td>3</td>\n",
       "    </tr>\n",
       "    <tr>\n",
       "      <th>4</th>\n",
       "      <td>0</td>\n",
       "      <td>2355</td>\n",
       "      <td>5</td>\n",
       "      <td>4</td>\n",
       "    </tr>\n",
       "    <tr>\n",
       "      <th>...</th>\n",
       "      <td>...</td>\n",
       "      <td>...</td>\n",
       "      <td>...</td>\n",
       "      <td>...</td>\n",
       "    </tr>\n",
       "    <tr>\n",
       "      <th>836478</th>\n",
       "      <td>6039</td>\n",
       "      <td>329</td>\n",
       "      <td>5</td>\n",
       "      <td>558</td>\n",
       "    </tr>\n",
       "    <tr>\n",
       "      <th>836479</th>\n",
       "      <td>6039</td>\n",
       "      <td>1356</td>\n",
       "      <td>5</td>\n",
       "      <td>471</td>\n",
       "    </tr>\n",
       "    <tr>\n",
       "      <th>836480</th>\n",
       "      <td>6039</td>\n",
       "      <td>1371</td>\n",
       "      <td>5</td>\n",
       "      <td>581</td>\n",
       "    </tr>\n",
       "    <tr>\n",
       "      <th>836481</th>\n",
       "      <td>6039</td>\n",
       "      <td>1372</td>\n",
       "      <td>5</td>\n",
       "      <td>113</td>\n",
       "    </tr>\n",
       "    <tr>\n",
       "      <th>836482</th>\n",
       "      <td>6039</td>\n",
       "      <td>1374</td>\n",
       "      <td>5</td>\n",
       "      <td>583</td>\n",
       "    </tr>\n",
       "  </tbody>\n",
       "</table>\n",
       "<p>836483 rows × 4 columns</p>\n",
       "</div>"
      ],
      "text/plain": [
       "        user_id  movie_id  counts  title\n",
       "0             0      1193       5      0\n",
       "1             0       661       3      1\n",
       "2             0       914       3      2\n",
       "3             0      3408       4      3\n",
       "4             0      2355       5      4\n",
       "...         ...       ...     ...    ...\n",
       "836478     6039       329       5    558\n",
       "836479     6039      1356       5    471\n",
       "836480     6039      1371       5    581\n",
       "836481     6039      1372       5    113\n",
       "836482     6039      1374       5    583\n",
       "\n",
       "[836483 rows x 4 columns]"
      ]
     },
     "execution_count": 18,
     "metadata": {},
     "output_type": "execute_result"
    }
   ],
   "source": [
    "# 정상적으로 인덱싱되지 않은 경우를 제거하기 위해 dropna()\n",
    "temp_user_data = df_ap_sample['user_id'].map(user_to_idx.get).dropna()\n",
    "\n",
    "if len(temp_user_data) == len(df_ap_sample):\n",
    "    print('user_id column indexing is Done')\n",
    "    df_ap_sample['user_id'] = temp_user_data   # data['user_id']을 인덱싱된 Series로 교체해 줍니다. \n",
    "else:\n",
    "    print('user_id column indexing is Failed')\n",
    "\n",
    "# movie_to_idx을 통해 title 컬럼도 동일한 방식으로 인덱싱해 줍니다. \n",
    "temp_movie_data = df_ap_sample['title'].map(movie_to_idx.get).dropna()\n",
    "if len(temp_movie_data) == len(df_ap_sample):\n",
    "    print('title column indexing is Done')\n",
    "    df_ap_sample['title'] = temp_movie_data\n",
    "else:\n",
    "    print('title column indexing is Failed')\n",
    "\n",
    "df_ap_sample"
   ]
  },
  {
   "cell_type": "code",
   "execution_count": 19,
   "id": "956b8724",
   "metadata": {},
   "outputs": [
    {
     "data": {
      "text/plain": [
       "<6040x3628 sparse matrix of type '<class 'numpy.int64'>'\n",
       "\twith 836483 stored elements in Compressed Sparse Row format>"
      ]
     },
     "execution_count": 19,
     "metadata": {},
     "output_type": "execute_result"
    }
   ],
   "source": [
    "from scipy.sparse import csr_matrix\n",
    "\n",
    "# CSR Matrix 생성\n",
    "num_user = df_ap_sample['user_id'].nunique()\n",
    "num_movie = df_ap_sample['title'].nunique()\n",
    "\n",
    "csr_data = csr_matrix((df_ap_sample['counts'], (df_ap_sample.user_id, df_ap_sample.title)), shape= (num_user, num_movie))\n",
    "csr_data"
   ]
  },
  {
   "cell_type": "markdown",
   "id": "ac2baa70",
   "metadata": {},
   "source": [
    "### 5. 모델 학습"
   ]
  },
  {
   "cell_type": "code",
   "execution_count": 20,
   "id": "e2dd9a47",
   "metadata": {},
   "outputs": [],
   "source": [
    "from implicit.als import AlternatingLeastSquares\n",
    "import os\n",
    "import numpy as np\n",
    "\n",
    "os.environ['OPENBLAS_NUM_THREADS']='1'\n",
    "os.environ['KMP_DUPLICATE_LIB_OK']='True'\n",
    "os.environ['MKL_NUM_THREADS']='1'"
   ]
  },
  {
   "cell_type": "code",
   "execution_count": 21,
   "id": "c8b9024a",
   "metadata": {},
   "outputs": [],
   "source": [
    "als_model = AlternatingLeastSquares(factors=100, regularization=0.01, use_gpu=False, iterations=15, dtype=np.float32)"
   ]
  },
  {
   "cell_type": "code",
   "execution_count": 22,
   "id": "6c168c5a",
   "metadata": {},
   "outputs": [
    {
     "data": {
      "text/plain": [
       "<3628x6040 sparse matrix of type '<class 'numpy.int64'>'\n",
       "\twith 836483 stored elements in Compressed Sparse Column format>"
      ]
     },
     "execution_count": 22,
     "metadata": {},
     "output_type": "execute_result"
    }
   ],
   "source": [
    "csr_data_transpose = csr_data.T\n",
    "csr_data_transpose"
   ]
  },
  {
   "cell_type": "code",
   "execution_count": 23,
   "id": "64bdc6b7",
   "metadata": {},
   "outputs": [
    {
     "data": {
      "application/vnd.jupyter.widget-view+json": {
       "model_id": "4cd8bc4ba6494f5d852cb03d0e4afa67",
       "version_major": 2,
       "version_minor": 0
      },
      "text/plain": [
       "  0%|          | 0/15 [00:00<?, ?it/s]"
      ]
     },
     "metadata": {},
     "output_type": "display_data"
    }
   ],
   "source": [
    "als_model.fit(csr_data_transpose)"
   ]
  },
  {
   "cell_type": "markdown",
   "id": "795447a4",
   "metadata": {},
   "source": [
    "### 6. 3의 영화 외의 영화 하나를 선별해 선호도 예측"
   ]
  },
  {
   "cell_type": "code",
   "execution_count": 30,
   "id": "edf1d7ef",
   "metadata": {},
   "outputs": [],
   "source": [
    "sample, star_trek = user_to_idx['sample'], movie_to_idx['Star Trek: Generations (1994)']\n",
    "sample_vector, star_trek_vector = als_model.user_factors[sample], als_model.item_factors[star_trek]"
   ]
  },
  {
   "cell_type": "code",
   "execution_count": 31,
   "id": "cdb4a7f5",
   "metadata": {},
   "outputs": [
    {
     "data": {
      "text/plain": [
       "array([-0.2603937 ,  0.35270202, -0.10767446,  0.09900057,  0.15482993,\n",
       "        0.4536343 , -0.4203353 , -0.1588021 ,  1.8605334 , -0.16041522,\n",
       "        0.11910287, -0.75996387, -0.9672465 , -0.9177159 , -0.5771336 ,\n",
       "        0.67447376, -0.23720528, -0.4189302 ,  0.00991242,  0.5993183 ,\n",
       "       -0.00490461, -0.36086223, -0.19239366,  0.32690135, -0.17601301,\n",
       "       -0.20445374,  0.09453163,  0.15900162, -0.25228274,  0.13202412,\n",
       "        0.4390927 , -0.15848008,  0.16840556, -0.37819847,  0.14031625,\n",
       "       -0.44141498,  0.55389404,  0.5949203 , -1.1472034 , -0.893363  ,\n",
       "        0.62508106, -0.49156106, -0.13525644,  1.073723  ,  0.9080866 ,\n",
       "       -0.158606  ,  0.2817886 ,  0.7845928 ,  0.6120548 , -0.00741457,\n",
       "        0.1146834 ,  0.33680183,  0.00645449,  0.6429351 , -0.5364212 ,\n",
       "        0.04776314,  0.04755144,  0.5300338 , -0.85531574,  0.17751029,\n",
       "       -0.35462734,  0.31785873, -0.35880163,  0.652898  , -0.5208232 ,\n",
       "        0.1904753 ,  0.30793026, -0.04646151, -0.1824187 ,  0.6859235 ,\n",
       "        1.4232988 , -0.52442795, -0.3769253 ,  0.00225749,  0.10279647,\n",
       "        0.35003912,  0.02220041, -0.07095711,  0.36271787,  0.00416241,\n",
       "        0.57443476, -1.0024841 ,  0.20607872, -0.78372484,  0.44906348,\n",
       "        0.78555244, -0.95906615, -0.6403562 , -0.5589302 , -0.24717155,\n",
       "        0.41791105, -1.0096807 ,  0.18380345, -0.18147126, -0.15917863,\n",
       "       -0.2061663 ,  0.47169042,  0.53352094,  0.4480588 , -0.55899537],\n",
       "      dtype=float32)"
      ]
     },
     "execution_count": 31,
     "metadata": {},
     "output_type": "execute_result"
    }
   ],
   "source": [
    "sample_vector"
   ]
  },
  {
   "cell_type": "code",
   "execution_count": 32,
   "id": "319f73c5",
   "metadata": {},
   "outputs": [
    {
     "data": {
      "text/plain": [
       "array([ 7.94233475e-03,  1.08492104e-02,  1.04572596e-02,  2.88640708e-02,\n",
       "        1.23205334e-02,  1.94207858e-02, -9.96464677e-03, -4.55464143e-03,\n",
       "        6.97001964e-02,  1.09767495e-03,  1.49011957e-02, -2.49688253e-02,\n",
       "       -1.11130513e-02, -2.59009562e-02,  9.78771038e-03,  1.00147640e-02,\n",
       "        1.43663436e-02, -1.18797300e-02, -5.87086761e-05,  2.54230201e-02,\n",
       "        6.66650431e-03, -7.98418839e-03, -6.90558599e-03,  9.65539832e-03,\n",
       "        1.39690479e-02,  1.43711884e-02,  5.85344201e-03,  6.43055048e-03,\n",
       "        2.34643905e-03,  1.46619435e-02,  1.81592163e-02, -3.75997275e-03,\n",
       "        1.70574617e-02, -2.76392000e-03,  1.67796630e-02, -2.77439202e-03,\n",
       "        1.33357523e-02,  8.50602891e-03, -2.84978654e-02, -2.65173391e-02,\n",
       "        1.92550905e-02,  4.36815573e-03,  3.98591952e-03,  2.66949162e-02,\n",
       "        2.72740666e-02, -8.75313021e-03,  1.27154002e-02,  2.75768414e-02,\n",
       "        1.31149720e-02,  1.00868167e-02,  9.69123840e-03,  1.75238531e-02,\n",
       "       -1.15444127e-03,  2.88083404e-02, -2.37872023e-02,  6.13060780e-03,\n",
       "        1.52730783e-02,  3.04435799e-03, -1.01035945e-02,  1.14323013e-02,\n",
       "       -7.94208329e-03,  1.49887577e-02, -6.50628377e-03,  3.20351794e-02,\n",
       "       -2.20473707e-02,  1.32092228e-02,  4.48253145e-03,  4.53538960e-03,\n",
       "        1.82283972e-03,  2.42314450e-02,  4.47656438e-02, -6.99565560e-03,\n",
       "       -9.57662240e-03, -3.21115344e-03,  3.65493423e-03, -7.69835524e-03,\n",
       "        6.03318866e-03, -5.17460983e-03, -2.08294252e-03,  4.16227803e-03,\n",
       "        1.89706851e-02, -1.94258653e-02,  2.01083720e-02, -1.09911030e-02,\n",
       "        1.46673620e-02,  2.43388936e-02, -1.52431699e-02, -1.54253505e-02,\n",
       "       -9.86031629e-03, -1.24074174e-02,  2.40109116e-02, -2.96875443e-02,\n",
       "        9.36125591e-03, -4.54102783e-03, -1.23292487e-02, -2.31907889e-03,\n",
       "        1.68056432e-02,  1.24361860e-02,  1.19835678e-02, -1.68212950e-02],\n",
       "      dtype=float32)"
      ]
     },
     "execution_count": 32,
     "metadata": {},
     "output_type": "execute_result"
    }
   ],
   "source": [
    "star_trek_vector"
   ]
  },
  {
   "cell_type": "code",
   "execution_count": 33,
   "id": "953cf711",
   "metadata": {},
   "outputs": [
    {
     "data": {
      "text/plain": [
       "0.76744336"
      ]
     },
     "execution_count": 33,
     "metadata": {},
     "output_type": "execute_result"
    }
   ],
   "source": [
    "np.dot(sample_vector, star_trek_vector)"
   ]
  },
  {
   "cell_type": "code",
   "execution_count": 44,
   "id": "010eb626",
   "metadata": {},
   "outputs": [
    {
     "data": {
      "text/plain": [
       "0.4995144"
      ]
     },
     "execution_count": 44,
     "metadata": {},
     "output_type": "execute_result"
    }
   ],
   "source": [
    "matrix = movie_to_idx['Star Trek V: The Final Frontier (1989)']\n",
    "matrix_vector = als_model.item_factors[matrix]\n",
    "np.dot(sample_vector, matrix_vector)"
   ]
  },
  {
   "cell_type": "markdown",
   "id": "62c434d5",
   "metadata": {},
   "source": [
    "### 7. 3의 영화와 비슷한 영화 추천"
   ]
  },
  {
   "cell_type": "code",
   "execution_count": 35,
   "id": "060ac8f3",
   "metadata": {},
   "outputs": [
    {
     "data": {
      "text/plain": [
       "[(558, 1.0),\n",
       " (113, 0.9266798),\n",
       " (699, 0.92464095),\n",
       " (471, 0.8749975),\n",
       " (584, 0.75683725),\n",
       " (1164, 0.7365231),\n",
       " (581, 0.7351268),\n",
       " (586, 0.7040624),\n",
       " (544, 0.646903),\n",
       " (583, 0.5453185),\n",
       " (1542, 0.47748575),\n",
       " (3589, 0.47629118),\n",
       " (505, 0.468798),\n",
       " (713, 0.45051083),\n",
       " (570, 0.43671912)]"
      ]
     },
     "execution_count": 35,
     "metadata": {},
     "output_type": "execute_result"
    }
   ],
   "source": [
    "favorite_movie = 'Star Trek: Generations (1994)'\n",
    "movie_id = movie_to_idx[favorite_movie]\n",
    "similar_movie = als_model.similar_items(movie_id, N=15)\n",
    "similar_movie "
   ]
  },
  {
   "cell_type": "code",
   "execution_count": 36,
   "id": "f0bc45a8",
   "metadata": {},
   "outputs": [
    {
     "data": {
      "text/plain": [
       "['Star Trek: Generations (1994)',\n",
       " 'Star Trek VI: The Undiscovered Country (1991)',\n",
       " 'Star Trek: Insurrection (1998)',\n",
       " 'Star Trek: First Contact (1996)',\n",
       " 'Star Trek III: The Search for Spock (1984)',\n",
       " 'Star Trek V: The Final Frontier (1989)',\n",
       " 'Star Trek: The Motion Picture (1979)',\n",
       " 'Star Trek IV: The Voyage Home (1986)',\n",
       " 'Stargate (1994)',\n",
       " 'Star Trek: The Wrath of Khan (1982)',\n",
       " 'Timecop (1994)',\n",
       " 'Soft Toilet Seats (1999)',\n",
       " 'Lost in Space (1998)',\n",
       " 'Starship Troopers (1997)',\n",
       " 'Rocketeer, The (1991)']"
      ]
     },
     "execution_count": 36,
     "metadata": {},
     "output_type": "execute_result"
    }
   ],
   "source": [
    "idx_to_movie = {v:k for k,v in movie_to_idx.items()}\n",
    "[idx_to_movie[i[0]] for i in similar_movie]"
   ]
  },
  {
   "cell_type": "code",
   "execution_count": 37,
   "id": "1bcaa120",
   "metadata": {},
   "outputs": [
    {
     "data": {
      "text/plain": [
       "['Star Trek: Generations (1994)',\n",
       " 'Star Trek: First Contact (1996)',\n",
       " 'Star Trek: The Motion Picture (1979)',\n",
       " 'Star Trek VI: The Undiscovered Country (1991)',\n",
       " 'Star Trek: The Wrath of Khan (1982)']"
      ]
     },
     "execution_count": 37,
     "metadata": {},
     "output_type": "execute_result"
    }
   ],
   "source": [
    "example_movies_title"
   ]
  },
  {
   "cell_type": "markdown",
   "id": "d863da09",
   "metadata": {},
   "source": [
    "리스트에 없던 Star Trek 시리즈도 추천해주는 것을 확인할 수 있었다."
   ]
  },
  {
   "cell_type": "code",
   "execution_count": 38,
   "id": "b55059b8",
   "metadata": {},
   "outputs": [],
   "source": [
    "# 비슷한 영화를 알려주는 함수\n",
    "def get_similar_movie(movie_title: str):\n",
    "    movie_id = movie_to_idx[movie_title]\n",
    "    similar_movie = als_model.similar_items(movie_id)\n",
    "    similar_movie = [idx_to_movie[i[0]] for i in similar_movie]\n",
    "    return similar_movie"
   ]
  },
  {
   "cell_type": "code",
   "execution_count": 39,
   "id": "b433b0fb",
   "metadata": {},
   "outputs": [
    {
     "data": {
      "text/plain": [
       "['Toy Story (1995)',\n",
       " 'Toy Story 2 (1999)',\n",
       " 'Babe (1995)',\n",
       " \"Bug's Life, A (1998)\",\n",
       " 'Aladdin (1992)',\n",
       " 'Groundhog Day (1993)',\n",
       " 'Lion King, The (1994)',\n",
       " 'Beauty and the Beast (1991)',\n",
       " 'Pleasantville (1998)',\n",
       " \"There's Something About Mary (1998)\"]"
      ]
     },
     "execution_count": 39,
     "metadata": {},
     "output_type": "execute_result"
    }
   ],
   "source": [
    "get_similar_movie('Toy Story (1995)')"
   ]
  },
  {
   "cell_type": "markdown",
   "id": "f9239107",
   "metadata": {},
   "source": [
    "### 8. 가장 선호할 만한 영화 추천"
   ]
  },
  {
   "cell_type": "code",
   "execution_count": 40,
   "id": "b2c3595f",
   "metadata": {},
   "outputs": [],
   "source": [
    "user = user_to_idx['sample']\n",
    "movie_recommended = als_model.recommend(user, csr_data, N=20, filter_already_liked_items=True)"
   ]
  },
  {
   "cell_type": "code",
   "execution_count": 41,
   "id": "8f79b728",
   "metadata": {},
   "outputs": [
    {
     "data": {
      "text/plain": [
       "[(586, 0.7117504),\n",
       " (699, 0.64760864),\n",
       " (584, 0.64522207),\n",
       " (1164, 0.49951437),\n",
       " (544, 0.28241715),\n",
       " (0, 0.2580798),\n",
       " (763, 0.25086492),\n",
       " (526, 0.22406152),\n",
       " (60, 0.19433272),\n",
       " (713, 0.17975527),\n",
       " (876, 0.16280606),\n",
       " (496, 0.1592593),\n",
       " (670, 0.15246056),\n",
       " (573, 0.13376357),\n",
       " (878, 0.13124123),\n",
       " (693, 0.13114567),\n",
       " (685, 0.12953895),\n",
       " (228, 0.12834066),\n",
       " (62, 0.12771961),\n",
       " (777, 0.12710409)]"
      ]
     },
     "execution_count": 41,
     "metadata": {},
     "output_type": "execute_result"
    }
   ],
   "source": [
    "movie_recommended"
   ]
  },
  {
   "cell_type": "code",
   "execution_count": 42,
   "id": "95442bb9",
   "metadata": {},
   "outputs": [
    {
     "data": {
      "text/plain": [
       "['Star Trek IV: The Voyage Home (1986)',\n",
       " 'Star Trek: Insurrection (1998)',\n",
       " 'Star Trek III: The Search for Spock (1984)',\n",
       " 'Star Trek V: The Final Frontier (1989)',\n",
       " 'Stargate (1994)',\n",
       " \"One Flew Over the Cuckoo's Nest (1975)\",\n",
       " 'Superman II (1980)',\n",
       " 'Superman (1978)',\n",
       " 'Star Wars: Episode I - The Phantom Menace (1999)',\n",
       " 'Starship Troopers (1997)',\n",
       " '2010 (1984)',\n",
       " 'Alien³ (1992)',\n",
       " 'Galaxy Quest (1999)',\n",
       " 'M*A*S*H (1970)',\n",
       " 'Strange Days (1995)',\n",
       " \"Monty Python's Life of Brian (1979)\",\n",
       " 'Planet of the Apes (1968)',\n",
       " 'X-Files: Fight the Future, The (1998)',\n",
       " 'Total Recall (1990)',\n",
       " \"Logan's Run (1976)\"]"
      ]
     },
     "execution_count": 42,
     "metadata": {},
     "output_type": "execute_result"
    }
   ],
   "source": [
    "[idx_to_movie[i[0]] for i in movie_recommended]"
   ]
  },
  {
   "cell_type": "code",
   "execution_count": 45,
   "id": "2935ba01",
   "metadata": {},
   "outputs": [
    {
     "data": {
      "text/plain": [
       "[('Star Trek: The Motion Picture (1979)', 0.08056749513724251),\n",
       " ('Star Trek: The Wrath of Khan (1982)', 0.0653137622253152),\n",
       " ('Star Trek VI: The Undiscovered Country (1991)', 0.042861735401486856),\n",
       " ('Star Trek: Generations (1994)', 0.03364444829481582),\n",
       " ('Star Trek: First Contact (1996)', 0.0227090237283745)]"
      ]
     },
     "execution_count": 45,
     "metadata": {},
     "output_type": "execute_result"
    }
   ],
   "source": [
    "recommended = movie_to_idx['Superman II (1980)']\n",
    "explain = als_model.explain(user, csr_data, itemid=recommended)\n",
    "\n",
    "[(idx_to_movie[i[0]], i[1]) for i in explain[1]]"
   ]
  },
  {
   "cell_type": "markdown",
   "id": "22992023",
   "metadata": {},
   "source": [
    "## 회고\n",
    "\n",
    "데이터 전처리를 하는 과정에서 확인했을 때 영화 제목에 제작년도가 함께 들어가서 정규표현식을 통해 분리를 시도했다. 다만 이후 과정에 있어서 굳이 필요없는 작업이라고 느껴서 초기화한 뒤 생성했던 두 데이터 프레임을 합쳐서 이후 활동에 있어 용이하도록 했다. \n",
    "\n",
    "user_id, movie_id가 따로 있기 때문에 인덱싱을 할 필요없다고 생각했지만 새로 생성한 sample의 경우 id가 숫자로 부여되지 않았기 때문에 user과 title에 대해 다시 인덱싱을 진행했다. \n",
    "\n",
    "선정했던 다섯 개의 예시 영화는 스타트랙 시리즈의 일부였는데, 이렇게 선정했을 경우 비슷한 영화를 추천받는 과정에서 만약 선정되지 않았던 스타트랙 시리즈의 영화가 반환된다면 해당 모델이 유의미하게 생성되었음을 확인할 수 있다고 생각했다. 그래서 Star Trek을 포함하고 있는 영화 9개 중 5개를 선택해 예시 영화 리스트로 만들고 프로젝트를 진행했다. \n",
    "\n",
    "'Star Trek: Generations (1994)'와 사용자 간의 벡터를 내적했을 때, 약 0.77이라는 상대적으로 높은 결과를 기록했고, 예시 영화 리스트에 없는 'Star Trek V: The Final Frontier (1989)'의 경우 약 0.5로 이 또한 상대적으로 높은 값을 기록했다. 비슷한 영화를 추천해주는 결과를 보면 리스트에 포함되어 있던 스타트랙 시리즈 외의 것들도 포함되었음을 확인할 수 있었다.\n",
    "\n",
    "가장 좋아하는 영화로 설정한 경우 예상대로 Star Trek의 다른 시리즈가 포함되어있을 뿐 아니라, Super man과 같이 유사한 장르의 영화를 추천해주는 것을 확인할 수 있었다. 적은 데이터 셋이지만 비교적 유의미한 결과를 반환해준다고 볼 수 있을 것 같다."
   ]
  }
 ],
 "metadata": {
  "kernelspec": {
   "display_name": "Python 3 (ipykernel)",
   "language": "python",
   "name": "python3"
  },
  "language_info": {
   "codemirror_mode": {
    "name": "ipython",
    "version": 3
   },
   "file_extension": ".py",
   "mimetype": "text/x-python",
   "name": "python",
   "nbconvert_exporter": "python",
   "pygments_lexer": "ipython3",
   "version": "3.9.7"
  }
 },
 "nbformat": 4,
 "nbformat_minor": 5
}
