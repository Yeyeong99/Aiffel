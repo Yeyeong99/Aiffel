{
  "cells": [
    {
      "cell_type": "markdown",
      "metadata": {
        "id": "view-in-github",
        "colab_type": "text"
      },
      "source": [
        "<a href=\"https://colab.research.google.com/github/Yeyeong99/Aiffel/blob/main/%EC%8B%A0%EC%9A%A9%EC%B9%B4%EB%93%9C/CatBoost_%ED%99%9C%EC%9A%A9_%EC%8B%A0%EC%9A%A9%EC%B9%B4%EB%93%9C_%EA%B3%A0%EA%B0%9D_%EC%84%B8%EA%B7%B8%EB%A8%BC%ED%8A%B8_%EB%B6%84%EB%A5%98.ipynb\" target=\"_parent\"><img src=\"https://colab.research.google.com/assets/colab-badge.svg\" alt=\"Open In Colab\"/></a>"
      ]
    },
    {
      "cell_type": "markdown",
      "metadata": {
        "id": "7iEoXiGPcCrE"
      },
      "source": [
        "### Import"
      ]
    },
    {
      "cell_type": "code",
      "execution_count": null,
      "metadata": {
        "id": "ZCTTNMKqcCrF"
      },
      "outputs": [],
      "source": [
        "import pandas as pd\n",
        "import numpy as np\n",
        "import gc\n",
        "\n",
        "from sklearn.preprocessing import LabelEncoder"
      ]
    },
    {
      "cell_type": "markdown",
      "metadata": {
        "id": "YQUicBRXcCrF"
      },
      "source": [
        "### Data Load"
      ]
    },
    {
      "cell_type": "code",
      "source": [
        "from google.colab import drive\n",
        "drive.mount('/content/drive')"
      ],
      "metadata": {
        "colab": {
          "base_uri": "https://localhost:8080/"
        },
        "id": "6y3NF58ocZD5",
        "outputId": "0d532280-cb9a-4e3b-d6f0-59f79d1d3015"
      },
      "execution_count": null,
      "outputs": [
        {
          "output_type": "stream",
          "name": "stdout",
          "text": [
            "Mounted at /content/drive\n"
          ]
        }
      ]
    },
    {
      "cell_type": "code",
      "execution_count": null,
      "metadata": {
        "colab": {
          "base_uri": "https://localhost:8080/"
        },
        "id": "NetxR_ZKcCrG",
        "outputId": "4adf3801-9e8a-46ee-f1e1-5ef9704c492b"
      },
      "outputs": [
        {
          "output_type": "stream",
          "name": "stdout",
          "text": [
            "customer_train_07 is loaded from /content/drive/MyDrive/train/1.회원정보/201807_train_회원정보.parquet\n",
            "customer_train_08 is loaded from /content/drive/MyDrive/train/1.회원정보/201808_train_회원정보.parquet\n",
            "customer_train_09 is loaded from /content/drive/MyDrive/train/1.회원정보/201809_train_회원정보.parquet\n",
            "customer_train_10 is loaded from /content/drive/MyDrive/train/1.회원정보/201810_train_회원정보.parquet\n",
            "customer_train_11 is loaded from /content/drive/MyDrive/train/1.회원정보/201811_train_회원정보.parquet\n",
            "customer_train_12 is loaded from /content/drive/MyDrive/train/1.회원정보/201812_train_회원정보.parquet\n",
            "credit_train_07 is loaded from /content/drive/MyDrive/train/2.신용정보/201807_train_신용정보.parquet\n",
            "credit_train_08 is loaded from /content/drive/MyDrive/train/2.신용정보/201808_train_신용정보.parquet\n",
            "credit_train_09 is loaded from /content/drive/MyDrive/train/2.신용정보/201809_train_신용정보.parquet\n",
            "credit_train_10 is loaded from /content/drive/MyDrive/train/2.신용정보/201810_train_신용정보.parquet\n",
            "credit_train_11 is loaded from /content/drive/MyDrive/train/2.신용정보/201811_train_신용정보.parquet\n",
            "credit_train_12 is loaded from /content/drive/MyDrive/train/2.신용정보/201812_train_신용정보.parquet\n",
            "sales_train_07 is loaded from /content/drive/MyDrive/train/3.승인매출정보/201807_train_승인매출정보.parquet\n",
            "sales_train_08 is loaded from /content/drive/MyDrive/train/3.승인매출정보/201808_train_승인매출정보.parquet\n",
            "sales_train_09 is loaded from /content/drive/MyDrive/train/3.승인매출정보/201809_train_승인매출정보.parquet\n",
            "sales_train_10 is loaded from /content/drive/MyDrive/train/3.승인매출정보/201810_train_승인매출정보.parquet\n",
            "sales_train_11 is loaded from /content/drive/MyDrive/train/3.승인매출정보/201811_train_승인매출정보.parquet\n",
            "sales_train_12 is loaded from /content/drive/MyDrive/train/3.승인매출정보/201812_train_승인매출정보.parquet\n",
            "billing_train_07 is loaded from /content/drive/MyDrive/train/4.청구입금정보/201807_train_청구정보.parquet\n",
            "billing_train_08 is loaded from /content/drive/MyDrive/train/4.청구입금정보/201808_train_청구정보.parquet\n",
            "billing_train_09 is loaded from /content/drive/MyDrive/train/4.청구입금정보/201809_train_청구정보.parquet\n",
            "billing_train_10 is loaded from /content/drive/MyDrive/train/4.청구입금정보/201810_train_청구정보.parquet\n",
            "billing_train_11 is loaded from /content/drive/MyDrive/train/4.청구입금정보/201811_train_청구정보.parquet\n",
            "billing_train_12 is loaded from /content/drive/MyDrive/train/4.청구입금정보/201812_train_청구정보.parquet\n",
            "balance_train_07 is loaded from /content/drive/MyDrive/train/5.잔액정보/201807_train_잔액정보.parquet\n",
            "balance_train_08 is loaded from /content/drive/MyDrive/train/5.잔액정보/201808_train_잔액정보.parquet\n",
            "balance_train_09 is loaded from /content/drive/MyDrive/train/5.잔액정보/201809_train_잔액정보.parquet\n",
            "balance_train_10 is loaded from /content/drive/MyDrive/train/5.잔액정보/201810_train_잔액정보.parquet\n",
            "balance_train_11 is loaded from /content/drive/MyDrive/train/5.잔액정보/201811_train_잔액정보.parquet\n",
            "balance_train_12 is loaded from /content/drive/MyDrive/train/5.잔액정보/201812_train_잔액정보.parquet\n",
            "channel_train_07 is loaded from /content/drive/MyDrive/train/6.채널정보/201807_train_채널정보.parquet\n",
            "channel_train_08 is loaded from /content/drive/MyDrive/train/6.채널정보/201808_train_채널정보.parquet\n",
            "channel_train_09 is loaded from /content/drive/MyDrive/train/6.채널정보/201809_train_채널정보.parquet\n",
            "channel_train_10 is loaded from /content/drive/MyDrive/train/6.채널정보/201810_train_채널정보.parquet\n",
            "channel_train_11 is loaded from /content/drive/MyDrive/train/6.채널정보/201811_train_채널정보.parquet\n",
            "channel_train_12 is loaded from /content/drive/MyDrive/train/6.채널정보/201812_train_채널정보.parquet\n",
            "marketing_train_07 is loaded from /content/drive/MyDrive/train/7.마케팅정보/201807_train_마케팅정보.parquet\n",
            "marketing_train_08 is loaded from /content/drive/MyDrive/train/7.마케팅정보/201808_train_마케팅정보.parquet\n",
            "marketing_train_09 is loaded from /content/drive/MyDrive/train/7.마케팅정보/201809_train_마케팅정보.parquet\n",
            "marketing_train_10 is loaded from /content/drive/MyDrive/train/7.마케팅정보/201810_train_마케팅정보.parquet\n",
            "marketing_train_11 is loaded from /content/drive/MyDrive/train/7.마케팅정보/201811_train_마케팅정보.parquet\n",
            "marketing_train_12 is loaded from /content/drive/MyDrive/train/7.마케팅정보/201812_train_마케팅정보.parquet\n",
            "performance_train_07 is loaded from /content/drive/MyDrive/train/8.성과정보/201807_train_성과정보.parquet\n",
            "performance_train_08 is loaded from /content/drive/MyDrive/train/8.성과정보/201808_train_성과정보.parquet\n",
            "performance_train_09 is loaded from /content/drive/MyDrive/train/8.성과정보/201809_train_성과정보.parquet\n",
            "performance_train_10 is loaded from /content/drive/MyDrive/train/8.성과정보/201810_train_성과정보.parquet\n",
            "performance_train_11 is loaded from /content/drive/MyDrive/train/8.성과정보/201811_train_성과정보.parquet\n",
            "performance_train_12 is loaded from /content/drive/MyDrive/train/8.성과정보/201812_train_성과정보.parquet\n",
            "customer_test_07 is loaded from /content/drive/MyDrive/test/1.회원정보/201807_test_회원정보.parquet\n",
            "customer_test_08 is loaded from /content/drive/MyDrive/test/1.회원정보/201808_test_회원정보.parquet\n",
            "customer_test_09 is loaded from /content/drive/MyDrive/test/1.회원정보/201809_test_회원정보.parquet\n",
            "customer_test_10 is loaded from /content/drive/MyDrive/test/1.회원정보/201810_test_회원정보.parquet\n",
            "customer_test_11 is loaded from /content/drive/MyDrive/test/1.회원정보/201811_test_회원정보.parquet\n",
            "customer_test_12 is loaded from /content/drive/MyDrive/test/1.회원정보/201812_test_회원정보.parquet\n",
            "credit_test_07 is loaded from /content/drive/MyDrive/test/2.신용정보/201807_test_신용정보.parquet\n",
            "credit_test_08 is loaded from /content/drive/MyDrive/test/2.신용정보/201808_test_신용정보.parquet\n",
            "credit_test_09 is loaded from /content/drive/MyDrive/test/2.신용정보/201809_test_신용정보.parquet\n",
            "credit_test_10 is loaded from /content/drive/MyDrive/test/2.신용정보/201810_test_신용정보.parquet\n",
            "credit_test_11 is loaded from /content/drive/MyDrive/test/2.신용정보/201811_test_신용정보.parquet\n",
            "credit_test_12 is loaded from /content/drive/MyDrive/test/2.신용정보/201812_test_신용정보.parquet\n",
            "sales_test_07 is loaded from /content/drive/MyDrive/test/3.승인매출정보/201807_test_승인매출정보.parquet\n",
            "sales_test_08 is loaded from /content/drive/MyDrive/test/3.승인매출정보/201808_test_승인매출정보.parquet\n",
            "sales_test_09 is loaded from /content/drive/MyDrive/test/3.승인매출정보/201809_test_승인매출정보.parquet\n",
            "sales_test_10 is loaded from /content/drive/MyDrive/test/3.승인매출정보/201810_test_승인매출정보.parquet\n",
            "sales_test_11 is loaded from /content/drive/MyDrive/test/3.승인매출정보/201811_test_승인매출정보.parquet\n",
            "sales_test_12 is loaded from /content/drive/MyDrive/test/3.승인매출정보/201812_test_승인매출정보.parquet\n",
            "billing_test_07 is loaded from /content/drive/MyDrive/test/4.청구입금정보/201807_test_청구정보.parquet\n",
            "billing_test_08 is loaded from /content/drive/MyDrive/test/4.청구입금정보/201808_test_청구정보.parquet\n",
            "billing_test_09 is loaded from /content/drive/MyDrive/test/4.청구입금정보/201809_test_청구정보.parquet\n",
            "billing_test_10 is loaded from /content/drive/MyDrive/test/4.청구입금정보/201810_test_청구정보.parquet\n",
            "billing_test_11 is loaded from /content/drive/MyDrive/test/4.청구입금정보/201811_test_청구정보.parquet\n",
            "billing_test_12 is loaded from /content/drive/MyDrive/test/4.청구입금정보/201812_test_청구정보.parquet\n",
            "balance_test_07 is loaded from /content/drive/MyDrive/test/5.잔액정보/201807_test_잔액정보.parquet\n",
            "balance_test_08 is loaded from /content/drive/MyDrive/test/5.잔액정보/201808_test_잔액정보.parquet\n",
            "balance_test_09 is loaded from /content/drive/MyDrive/test/5.잔액정보/201809_test_잔액정보.parquet\n",
            "balance_test_10 is loaded from /content/drive/MyDrive/test/5.잔액정보/201810_test_잔액정보.parquet\n",
            "balance_test_11 is loaded from /content/drive/MyDrive/test/5.잔액정보/201811_test_잔액정보.parquet\n",
            "balance_test_12 is loaded from /content/drive/MyDrive/test/5.잔액정보/201812_test_잔액정보.parquet\n",
            "channel_test_07 is loaded from /content/drive/MyDrive/test/6.채널정보/201807_test_채널정보.parquet\n",
            "channel_test_08 is loaded from /content/drive/MyDrive/test/6.채널정보/201808_test_채널정보.parquet\n",
            "channel_test_09 is loaded from /content/drive/MyDrive/test/6.채널정보/201809_test_채널정보.parquet\n",
            "channel_test_10 is loaded from /content/drive/MyDrive/test/6.채널정보/201810_test_채널정보.parquet\n",
            "channel_test_11 is loaded from /content/drive/MyDrive/test/6.채널정보/201811_test_채널정보.parquet\n",
            "channel_test_12 is loaded from /content/drive/MyDrive/test/6.채널정보/201812_test_채널정보.parquet\n",
            "marketing_test_07 is loaded from /content/drive/MyDrive/test/7.마케팅정보/201807_test_마케팅정보.parquet\n",
            "marketing_test_08 is loaded from /content/drive/MyDrive/test/7.마케팅정보/201808_test_마케팅정보.parquet\n",
            "marketing_test_09 is loaded from /content/drive/MyDrive/test/7.마케팅정보/201809_test_마케팅정보.parquet\n",
            "marketing_test_10 is loaded from /content/drive/MyDrive/test/7.마케팅정보/201810_test_마케팅정보.parquet\n",
            "marketing_test_11 is loaded from /content/drive/MyDrive/test/7.마케팅정보/201811_test_마케팅정보.parquet\n",
            "marketing_test_12 is loaded from /content/drive/MyDrive/test/7.마케팅정보/201812_test_마케팅정보.parquet\n",
            "performance_test_07 is loaded from /content/drive/MyDrive/test/8.성과정보/201807_test_성과정보.parquet\n",
            "performance_test_08 is loaded from /content/drive/MyDrive/test/8.성과정보/201808_test_성과정보.parquet\n",
            "performance_test_09 is loaded from /content/drive/MyDrive/test/8.성과정보/201809_test_성과정보.parquet\n",
            "performance_test_10 is loaded from /content/drive/MyDrive/test/8.성과정보/201810_test_성과정보.parquet\n",
            "performance_test_11 is loaded from /content/drive/MyDrive/test/8.성과정보/201811_test_성과정보.parquet\n",
            "performance_test_12 is loaded from /content/drive/MyDrive/test/8.성과정보/201812_test_성과정보.parquet\n"
          ]
        },
        {
          "output_type": "execute_result",
          "data": {
            "text/plain": [
              "0"
            ]
          },
          "metadata": {},
          "execution_count": 4
        }
      ],
      "source": [
        "# 데이터 분할(폴더) 구분\n",
        "data_splits = [\"train\", \"test\"]\n",
        "\n",
        "# 각 데이터 유형별 폴더명, 파일 접미사, 변수 접두어 설정\n",
        "data_categories = {\n",
        "    \"회원정보\": {\"folder\": \"1.회원정보\", \"suffix\": \"회원정보\", \"var_prefix\": \"customer\"},\n",
        "    \"신용정보\": {\"folder\": \"2.신용정보\", \"suffix\": \"신용정보\", \"var_prefix\": \"credit\"},\n",
        "    \"승인매출정보\": {\"folder\": \"3.승인매출정보\", \"suffix\": \"승인매출정보\", \"var_prefix\": \"sales\"},\n",
        "    \"청구정보\": {\"folder\": \"4.청구입금정보\", \"suffix\": \"청구정보\", \"var_prefix\": \"billing\"},\n",
        "    \"잔액정보\": {\"folder\": \"5.잔액정보\", \"suffix\": \"잔액정보\", \"var_prefix\": \"balance\"},\n",
        "    \"채널정보\": {\"folder\": \"6.채널정보\", \"suffix\": \"채널정보\", \"var_prefix\": \"channel\"},\n",
        "    \"마케팅정보\": {\"folder\": \"7.마케팅정보\", \"suffix\": \"마케팅정보\", \"var_prefix\": \"marketing\"},\n",
        "    \"성과정보\": {\"folder\": \"8.성과정보\", \"suffix\": \"성과정보\", \"var_prefix\": \"performance\"}\n",
        "}\n",
        "\n",
        "# 2018년 7월부터 12월까지의 월 리스트\n",
        "months = ['07', '08', '09', '10', '11', '12']\n",
        "\n",
        "for split in data_splits:\n",
        "    for category, info in data_categories.items():\n",
        "        folder = info[\"folder\"]\n",
        "        suffix = info[\"suffix\"]\n",
        "        var_prefix = info[\"var_prefix\"]\n",
        "\n",
        "        for month in months:\n",
        "            #\n",
        "            # 파일명 형식: /content/drive/MyDrive/{split}/2018{month}_{split}_{suffix}.parquet\n",
        "            file_path = f\"/content/drive/MyDrive/{split}/{folder}/2018{month}_{split}_{suffix}.parquet\"\n",
        "            # 변수명 형식: {var_prefix}_{split}_{month}\n",
        "            variable_name = f\"{var_prefix}_{split}_{month}\"\n",
        "            globals()[variable_name] = pd.read_parquet(file_path)\n",
        "            print(f\"{variable_name} is loaded from {file_path}\")\n",
        "\n",
        "gc.collect()"
      ]
    },
    {
      "cell_type": "markdown",
      "metadata": {
        "id": "NTeKwylxcCrG"
      },
      "source": [
        "### Data Preprocessing(1) : Concat & Merge"
      ]
    },
    {
      "cell_type": "code",
      "execution_count": null,
      "metadata": {
        "id": "cx_-W4hGcCrG"
      },
      "outputs": [],
      "source": [
        "# 데이터 유형별 설정\n",
        "info_categories = [\"customer\", \"credit\", \"sales\", \"billing\", \"balance\", \"channel\", \"marketing\", \"performance\"]\n",
        "\n",
        "# 월 설정\n",
        "months = ['07', '08', '09', '10', '11', '12']"
      ]
    },
    {
      "cell_type": "code",
      "execution_count": null,
      "metadata": {
        "id": "IZ2itTH2cCrH",
        "colab": {
          "base_uri": "https://localhost:8080/"
        },
        "outputId": "e30f7c08-3ce8-4d42-bcd8-4d44500b0ce7"
      },
      "outputs": [
        {
          "output_type": "stream",
          "name": "stdout",
          "text": [
            "customer_train_df is created with shape: (2400000, 78)\n",
            "credit_train_df is created with shape: (2400000, 42)\n",
            "sales_train_df is created with shape: (2400000, 406)\n",
            "billing_train_df is created with shape: (2400000, 46)\n",
            "balance_train_df is created with shape: (2400000, 82)\n",
            "channel_train_df is created with shape: (2400000, 105)\n",
            "marketing_train_df is created with shape: (2400000, 64)\n",
            "performance_train_df is created with shape: (2400000, 49)\n"
          ]
        },
        {
          "output_type": "execute_result",
          "data": {
            "text/plain": [
              "0"
            ]
          },
          "metadata": {},
          "execution_count": 6
        }
      ],
      "source": [
        "#### Train ####\n",
        "\n",
        "# 각 유형별로 월별 데이터를 합쳐서 새로운 변수에 저장\n",
        "train_dfs = {}\n",
        "\n",
        "for prefix in info_categories:\n",
        "    # globals()에서 동적 변수명으로 데이터프레임들을 가져와 리스트에 저장\n",
        "    df_list = [globals()[f\"{prefix}_train_{month}\"] for month in months]\n",
        "    train_dfs[f\"{prefix}_train_df\"] = pd.concat(df_list, axis=0)\n",
        "    gc.collect()\n",
        "    print(f\"{prefix}_train_df is created with shape: {train_dfs[f'{prefix}_train_df'].shape}\")\n",
        "\n",
        "\n",
        "customer_train_df = train_dfs[\"customer_train_df\"]\n",
        "credit_train_df   = train_dfs[\"credit_train_df\"]\n",
        "sales_train_df    = train_dfs[\"sales_train_df\"]\n",
        "billing_train_df  = train_dfs[\"billing_train_df\"]\n",
        "balance_train_df  = train_dfs[\"balance_train_df\"]\n",
        "channel_train_df  = train_dfs[\"channel_train_df\"]\n",
        "marketing_train_df= train_dfs[\"marketing_train_df\"]\n",
        "performance_train_df = train_dfs[\"performance_train_df\"]\n",
        "\n",
        "gc.collect()"
      ]
    },
    {
      "cell_type": "code",
      "execution_count": null,
      "metadata": {
        "id": "JngAJ5NwcCrH",
        "colab": {
          "base_uri": "https://localhost:8080/"
        },
        "outputId": "c46e2cf8-0bff-45ff-ab09-40b948a019b0"
      },
      "outputs": [
        {
          "output_type": "stream",
          "name": "stdout",
          "text": [
            "customer_test_df is created with shape: (600000, 77)\n",
            "credit_test_df is created with shape: (600000, 42)\n",
            "sales_test_df is created with shape: (600000, 406)\n",
            "billing_test_df is created with shape: (600000, 46)\n",
            "balance_test_df is created with shape: (600000, 82)\n",
            "channel_test_df is created with shape: (600000, 105)\n",
            "marketing_test_df is created with shape: (600000, 64)\n",
            "performance_test_df is created with shape: (600000, 49)\n"
          ]
        },
        {
          "output_type": "execute_result",
          "data": {
            "text/plain": [
              "0"
            ]
          },
          "metadata": {},
          "execution_count": 7
        }
      ],
      "source": [
        "#### Test ####\n",
        "\n",
        "# test 데이터에 대해 train과 동일한 방법 적용\n",
        "test_dfs = {}\n",
        "\n",
        "for prefix in info_categories:\n",
        "    df_list = [globals()[f\"{prefix}_test_{month}\"] for month in months]\n",
        "    test_dfs[f\"{prefix}_test_df\"] = pd.concat(df_list, axis=0)\n",
        "    gc.collect()\n",
        "    print(f\"{prefix}_test_df is created with shape: {test_dfs[f'{prefix}_test_df'].shape}\")\n",
        "\n",
        "\n",
        "customer_test_df = test_dfs[\"customer_test_df\"]\n",
        "credit_test_df   = test_dfs[\"credit_test_df\"]\n",
        "sales_test_df    = test_dfs[\"sales_test_df\"]\n",
        "billing_test_df  = test_dfs[\"billing_test_df\"]\n",
        "balance_test_df  = test_dfs[\"balance_test_df\"]\n",
        "channel_test_df  = test_dfs[\"channel_test_df\"]\n",
        "marketing_test_df= test_dfs[\"marketing_test_df\"]\n",
        "performance_test_df = test_dfs[\"performance_test_df\"]\n",
        "\n",
        "gc.collect()"
      ]
    },
    {
      "cell_type": "code",
      "execution_count": null,
      "metadata": {
        "id": "lA91P_7VcCrH",
        "colab": {
          "base_uri": "https://localhost:8080/"
        },
        "outputId": "899f9ad5-52b6-4912-aa6f-0d0a102da66f"
      },
      "outputs": [
        {
          "output_type": "stream",
          "name": "stdout",
          "text": [
            "Step1 저장 완료: train_step1, shape: (2400000, 118)\n",
            "Step2 저장 완료: train_Step2, shape: (2400000, 522)\n",
            "Step3 저장 완료: train_Step3, shape: (2400000, 566)\n",
            "Step4 저장 완료: train_Step4, shape: (2400000, 646)\n",
            "Step5 저장 완료: train_Step5, shape: (2400000, 749)\n",
            "Step6 저장 완료: train_Step6, shape: (2400000, 811)\n",
            "최종 저장 완료: train_최종, shape: (2400000, 858)\n"
          ]
        }
      ],
      "source": [
        "#### Train ####\n",
        "\n",
        "train_df = customer_train_df.merge(credit_train_df, on=['기준년월', 'ID'], how='left')\n",
        "print(\"Step1 저장 완료: train_step1, shape:\", train_df.shape)\n",
        "del customer_train_df, credit_train_df\n",
        "gc.collect()\n",
        "\n",
        "# 이후 merge할 데이터프레임 이름과 단계 정보를 리스트에 저장\n",
        "merge_list = [\n",
        "    (\"sales_train_df\",    \"Step2\"),\n",
        "    (\"billing_train_df\",  \"Step3\"),\n",
        "    (\"balance_train_df\",  \"Step4\"),\n",
        "    (\"channel_train_df\",  \"Step5\"),\n",
        "    (\"marketing_train_df\",\"Step6\"),\n",
        "    (\"performance_train_df\", \"최종\")\n",
        "]\n",
        "\n",
        "# 나머지 단계 merge\n",
        "for df_name, step in merge_list:\n",
        "    # globals()로 동적 변수 접근하여 merge 수행\n",
        "    train_df = train_df.merge(globals()[df_name], on=['기준년월', 'ID'], how='left')\n",
        "    print(f\"{step} 저장 완료: train_{step}, shape:\", train_df.shape)\n",
        "    # 사용한 변수는 메모리 해제를 위해 삭제\n",
        "    del globals()[df_name]\n",
        "    gc.collect()"
      ]
    },
    {
      "cell_type": "code",
      "execution_count": null,
      "metadata": {
        "id": "Aiwp5ZHBcCrH",
        "colab": {
          "base_uri": "https://localhost:8080/"
        },
        "outputId": "3b9d6fc3-f202-435f-acbe-fec6eb36ecf6"
      },
      "outputs": [
        {
          "output_type": "stream",
          "name": "stdout",
          "text": [
            "Step1 저장 완료: test_step1, shape: (600000, 117)\n",
            "Step2 저장 완료: test_Step2, shape: (600000, 521)\n",
            "Step3 저장 완료: test_Step3, shape: (600000, 565)\n",
            "Step4 저장 완료: test_Step4, shape: (600000, 645)\n",
            "Step5 저장 완료: test_Step5, shape: (600000, 748)\n",
            "Step6 저장 완료: test_Step6, shape: (600000, 810)\n",
            "최종 저장 완료: test_최종, shape: (600000, 857)\n"
          ]
        }
      ],
      "source": [
        "#### Test ####\n",
        "\n",
        "test_df = customer_test_df.merge(credit_test_df, on=['기준년월', 'ID'], how='left')\n",
        "print(\"Step1 저장 완료: test_step1, shape:\", test_df.shape)\n",
        "del customer_test_df, credit_test_df\n",
        "gc.collect()\n",
        "\n",
        "# 이후 merge할 데이터프레임 이름과 단계 정보를 리스트에 저장\n",
        "merge_list = [\n",
        "    (\"sales_test_df\",    \"Step2\"),\n",
        "    (\"billing_test_df\",  \"Step3\"),\n",
        "    (\"balance_test_df\",  \"Step4\"),\n",
        "    (\"channel_test_df\",  \"Step5\"),\n",
        "    (\"marketing_test_df\",\"Step6\"),\n",
        "    (\"performance_test_df\", \"최종\")\n",
        "]\n",
        "\n",
        "# 나머지 단계 merge\n",
        "for df_name, step in merge_list:\n",
        "    # globals()로 동적 변수 접근하여 merge 수행\n",
        "    test_df = test_df.merge(globals()[df_name], on=['기준년월', 'ID'], how='left')\n",
        "    print(f\"{step} 저장 완료: test_{step}, shape:\", test_df.shape)\n",
        "    # 사용한 변수는 메모리 해제를 위해 삭제\n",
        "    del globals()[df_name]\n",
        "    gc.collect()"
      ]
    },
    {
      "cell_type": "markdown",
      "metadata": {
        "id": "DAr30RwecCrH"
      },
      "source": [
        "### Data Preprocessing(2) : Encoding"
      ]
    },
    {
      "cell_type": "code",
      "execution_count": null,
      "metadata": {
        "id": "8FPStL9acCrI"
      },
      "outputs": [],
      "source": [
        "feature_cols = [col for col in train_df.columns if col not in [\"ID\", \"Segment\"]]\n",
        "\n",
        "X = train_df[feature_cols].copy()\n",
        "y = train_df[\"Segment\"].copy()\n",
        "\n",
        "# 타깃 라벨 인코딩\n",
        "le_target = LabelEncoder()\n",
        "y_encoded = le_target.fit_transform(y)"
      ]
    },
    {
      "cell_type": "code",
      "execution_count": null,
      "metadata": {
        "id": "PSbzbQ_hcCrI"
      },
      "outputs": [],
      "source": [
        "categorical_features = X.select_dtypes(include=['object']).columns.tolist()\n",
        "\n",
        "X_test = test_df.copy()\n",
        "\n",
        "encoders = {}  # 각 컬럼별 encoder 저장\n",
        "\n",
        "for col in categorical_features:\n",
        "    le_train = LabelEncoder()\n",
        "    X[col] = le_train.fit_transform(X[col])\n",
        "    encoders[col] = le_train\n",
        "    unseen_labels_val = set(X_test[col]) - set(le_train.classes_)\n",
        "    if unseen_labels_val:\n",
        "        le_train.classes_ = np.append(le_train.classes_, list(unseen_labels_val))\n",
        "    X_test[col] = le_train.transform(X_test[col])"
      ]
    },
    {
      "cell_type": "code",
      "execution_count": null,
      "metadata": {
        "id": "5vJT5ltQcCrI",
        "colab": {
          "base_uri": "https://localhost:8080/"
        },
        "outputId": "fb6d422a-00a7-46f2-fdd9-870c9b829d6c"
      },
      "outputs": [
        {
          "output_type": "execute_result",
          "data": {
            "text/plain": [
              "0"
            ]
          },
          "metadata": {},
          "execution_count": 12
        }
      ],
      "source": [
        "gc.collect()"
      ]
    },
    {
      "cell_type": "markdown",
      "source": [
        "### Train / Validation Split"
      ],
      "metadata": {
        "id": "rgZAQ_shxAqJ"
      }
    },
    {
      "cell_type": "code",
      "source": [
        "from sklearn.model_selection import train_test_split"
      ],
      "metadata": {
        "id": "z49wtF3pxI2T"
      },
      "execution_count": null,
      "outputs": []
    },
    {
      "cell_type": "code",
      "source": [
        "X_train, X_val, y_train, y_val = train_test_split(\n",
        "    X,\n",
        "    y,\n",
        "    test_size=0.2,\n",
        "    random_state=42\n",
        ")"
      ],
      "metadata": {
        "id": "Z_S-Vn4WxFL1"
      },
      "execution_count": null,
      "outputs": []
    },
    {
      "cell_type": "markdown",
      "metadata": {
        "id": "GrylvcYNcCrI"
      },
      "source": [
        "### Train"
      ]
    },
    {
      "cell_type": "code",
      "source": [
        "pip install catboost"
      ],
      "metadata": {
        "id": "akWIhCCjc63s",
        "colab": {
          "base_uri": "https://localhost:8080/"
        },
        "outputId": "77d87337-62ae-445e-e4df-35074b56b3c1"
      },
      "execution_count": null,
      "outputs": [
        {
          "output_type": "stream",
          "name": "stdout",
          "text": [
            "Collecting catboost\n",
            "  Downloading catboost-1.2.7-cp311-cp311-manylinux2014_x86_64.whl.metadata (1.2 kB)\n",
            "Collecting graphviz (from catboost)\n",
            "  Downloading graphviz-0.20.3-py3-none-any.whl.metadata (12 kB)\n",
            "Requirement already satisfied: matplotlib in /usr/local/lib/python3.11/dist-packages (from catboost) (3.10.0)\n",
            "Requirement already satisfied: numpy<2.0,>=1.16.0 in /usr/local/lib/python3.11/dist-packages (from catboost) (1.26.4)\n",
            "Requirement already satisfied: pandas>=0.24 in /usr/local/lib/python3.11/dist-packages (from catboost) (2.2.2)\n",
            "Requirement already satisfied: scipy in /usr/local/lib/python3.11/dist-packages (from catboost) (1.14.1)\n",
            "Requirement already satisfied: plotly in /usr/local/lib/python3.11/dist-packages (from catboost) (5.24.1)\n",
            "Requirement already satisfied: six in /usr/local/lib/python3.11/dist-packages (from catboost) (1.17.0)\n",
            "Requirement already satisfied: python-dateutil>=2.8.2 in /usr/local/lib/python3.11/dist-packages (from pandas>=0.24->catboost) (2.9.0.post0)\n",
            "Requirement already satisfied: pytz>=2020.1 in /usr/local/lib/python3.11/dist-packages (from pandas>=0.24->catboost) (2025.1)\n",
            "Requirement already satisfied: tzdata>=2022.7 in /usr/local/lib/python3.11/dist-packages (from pandas>=0.24->catboost) (2025.1)\n",
            "Requirement already satisfied: contourpy>=1.0.1 in /usr/local/lib/python3.11/dist-packages (from matplotlib->catboost) (1.3.1)\n",
            "Requirement already satisfied: cycler>=0.10 in /usr/local/lib/python3.11/dist-packages (from matplotlib->catboost) (0.12.1)\n",
            "Requirement already satisfied: fonttools>=4.22.0 in /usr/local/lib/python3.11/dist-packages (from matplotlib->catboost) (4.56.0)\n",
            "Requirement already satisfied: kiwisolver>=1.3.1 in /usr/local/lib/python3.11/dist-packages (from matplotlib->catboost) (1.4.8)\n",
            "Requirement already satisfied: packaging>=20.0 in /usr/local/lib/python3.11/dist-packages (from matplotlib->catboost) (24.2)\n",
            "Requirement already satisfied: pillow>=8 in /usr/local/lib/python3.11/dist-packages (from matplotlib->catboost) (11.1.0)\n",
            "Requirement already satisfied: pyparsing>=2.3.1 in /usr/local/lib/python3.11/dist-packages (from matplotlib->catboost) (3.2.1)\n",
            "Requirement already satisfied: tenacity>=6.2.0 in /usr/local/lib/python3.11/dist-packages (from plotly->catboost) (9.0.0)\n",
            "Downloading catboost-1.2.7-cp311-cp311-manylinux2014_x86_64.whl (98.7 MB)\n",
            "\u001b[2K   \u001b[90m━━━━━━━━━━━━━━━━━━━━━━━━━━━━━━━━━━━━━━━━\u001b[0m \u001b[32m98.7/98.7 MB\u001b[0m \u001b[31m10.0 MB/s\u001b[0m eta \u001b[36m0:00:00\u001b[0m\n",
            "\u001b[?25hDownloading graphviz-0.20.3-py3-none-any.whl (47 kB)\n",
            "\u001b[2K   \u001b[90m━━━━━━━━━━━━━━━━━━━━━━━━━━━━━━━━━━━━━━━━\u001b[0m \u001b[32m47.1/47.1 kB\u001b[0m \u001b[31m3.4 MB/s\u001b[0m eta \u001b[36m0:00:00\u001b[0m\n",
            "\u001b[?25hInstalling collected packages: graphviz, catboost\n",
            "Successfully installed catboost-1.2.7 graphviz-0.20.3\n"
          ]
        }
      ]
    },
    {
      "cell_type": "code",
      "source": [
        "from catboost import CatBoostClassifier\n",
        "cat_model = CatBoostClassifier(iterations=1000,  # 최대 반복 횟수\n",
        "                           learning_rate=0.05,\n",
        "                           depth=6,\n",
        "                           early_stopping_rounds=50,  # 50번 동안 개선 없으면 조기 종료\n",
        "                           verbose=25)"
      ],
      "metadata": {
        "id": "oViYcWpGjb4w"
      },
      "execution_count": null,
      "outputs": []
    },
    {
      "cell_type": "code",
      "source": [
        "cat_model.fit(X_train, y_train,\n",
        "          eval_set=[(X_val, y_val)],\n",
        "          early_stopping_rounds=50,\n",
        "          use_best_model=True)"
      ],
      "metadata": {
        "colab": {
          "base_uri": "https://localhost:8080/",
          "height": 221
        },
        "id": "N6nMiJjPv7TM",
        "outputId": "a8d96d79-43d1-4b9f-abdd-8f7fc2600f8b"
      },
      "execution_count": null,
      "outputs": [
        {
          "output_type": "error",
          "ename": "TypeError",
          "evalue": "CatBoostClassifier.fit() got an unexpected keyword argument 'eval_metric'",
          "traceback": [
            "\u001b[0;31m---------------------------------------------------------------------------\u001b[0m",
            "\u001b[0;31mTypeError\u001b[0m                                 Traceback (most recent call last)",
            "\u001b[0;32m<ipython-input-31-005239904694>\u001b[0m in \u001b[0;36m<cell line: 0>\u001b[0;34m()\u001b[0m\n\u001b[0;32m----> 1\u001b[0;31m cat_model.fit(X_train, y_train, \n\u001b[0m\u001b[1;32m      2\u001b[0m           \u001b[0meval_set\u001b[0m\u001b[0;34m=\u001b[0m\u001b[0;34m[\u001b[0m\u001b[0;34m(\u001b[0m\u001b[0mX_val\u001b[0m\u001b[0;34m,\u001b[0m \u001b[0my_val\u001b[0m\u001b[0;34m)\u001b[0m\u001b[0;34m]\u001b[0m\u001b[0;34m,\u001b[0m\u001b[0;34m\u001b[0m\u001b[0;34m\u001b[0m\u001b[0m\n\u001b[1;32m      3\u001b[0m           \u001b[0mearly_stopping_rounds\u001b[0m\u001b[0;34m=\u001b[0m\u001b[0;36m50\u001b[0m\u001b[0;34m,\u001b[0m\u001b[0;34m\u001b[0m\u001b[0;34m\u001b[0m\u001b[0m\n\u001b[1;32m      4\u001b[0m           \u001b[0meval_metric\u001b[0m\u001b[0;34m=\u001b[0m\u001b[0;34m\"F1-score\"\u001b[0m\u001b[0;34m,\u001b[0m\u001b[0;34m\u001b[0m\u001b[0;34m\u001b[0m\u001b[0m\n\u001b[1;32m      5\u001b[0m           use_best_model=True)\n",
            "\u001b[0;31mTypeError\u001b[0m: CatBoostClassifier.fit() got an unexpected keyword argument 'eval_metric'"
          ]
        }
      ]
    },
    {
      "cell_type": "markdown",
      "metadata": {
        "id": "Ni9kH9uIcCrJ"
      },
      "source": [
        "### Predict"
      ]
    },
    {
      "cell_type": "code",
      "execution_count": null,
      "metadata": {
        "id": "I3LLU0K8cCrJ"
      },
      "outputs": [],
      "source": [
        "X_test.drop(columns=['ID'],inplace=True)"
      ]
    },
    {
      "cell_type": "code",
      "execution_count": null,
      "metadata": {
        "id": "1vd_7UFocCrJ"
      },
      "outputs": [],
      "source": [
        "# row-level 예측 수행\n",
        "y_test_pred = cat_model.predict(X_test)\n",
        "# 예측 결과를 변환\n",
        "y_test_pred_labels = le_target.inverse_transform(y_test_pred)\n",
        "\n",
        "# row 단위 예측 결과를 test_data에 추가\n",
        "test_data = test_df.copy()  # 원본 유지\n",
        "test_data[\"pred_label\"] = y_test_pred_labels"
      ]
    },
    {
      "cell_type": "markdown",
      "metadata": {
        "id": "uSPpB55QcCrJ"
      },
      "source": [
        "### Submission"
      ]
    },
    {
      "cell_type": "code",
      "execution_count": null,
      "metadata": {
        "id": "YJv8rA-BcCrJ"
      },
      "outputs": [],
      "source": [
        "submission = test_data.groupby(\"ID\")[\"pred_label\"] \\\n",
        "    .agg(lambda x: x.value_counts().idxmax()) \\\n",
        "    .reset_index()\n",
        "\n",
        "submission.columns = [\"ID\", \"Segment\"]"
      ]
    },
    {
      "cell_type": "code",
      "execution_count": null,
      "metadata": {
        "id": "KwJXGZsucCrJ"
      },
      "outputs": [],
      "source": [
        "submission.to_csv('./base_submit.csv',index=False)"
      ]
    },
    {
      "cell_type": "code",
      "execution_count": null,
      "metadata": {
        "id": "PZ-CzWwycCrJ"
      },
      "outputs": [],
      "source": []
    }
  ],
  "metadata": {
    "kernelspec": {
      "display_name": "Python 3",
      "name": "python3"
    },
    "language_info": {
      "codemirror_mode": {
        "name": "ipython",
        "version": 3
      },
      "file_extension": ".py",
      "mimetype": "text/x-python",
      "name": "python",
      "nbconvert_exporter": "python",
      "pygments_lexer": "ipython3",
      "version": "3.8.13"
    },
    "colab": {
      "provenance": [],
      "gpuType": "V28",
      "toc_visible": true,
      "include_colab_link": true
    },
    "accelerator": "TPU"
  },
  "nbformat": 4,
  "nbformat_minor": 0
}